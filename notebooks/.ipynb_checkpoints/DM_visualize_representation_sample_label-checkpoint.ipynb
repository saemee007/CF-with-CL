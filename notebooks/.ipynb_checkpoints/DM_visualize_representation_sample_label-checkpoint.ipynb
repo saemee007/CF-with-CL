{
 "cells": [
  {
   "cell_type": "code",
   "execution_count": 1,
   "id": "e6bb71b5",
   "metadata": {},
   "outputs": [],
   "source": [
    "import sys\n",
    "\n",
    "sys.path.append('../../WCL')\n",
    "\n",
    "# sys.path.append('/home/saemeechoi/')\n",
    "\n",
    "# from view import myshow"
   ]
  },
  {
   "cell_type": "code",
   "execution_count": 2,
   "id": "0b9d6693",
   "metadata": {},
   "outputs": [],
   "source": [
    "import os\n",
    "import math\n",
    "import time\n",
    "from math import sqrt\n",
    "import numpy as np\n",
    "\n",
    "import torch\n",
    "import torch.nn as nn\n",
    "import torch.multiprocessing as mp\n",
    "\n",
    "import torchvision.transforms as transforms\n",
    "\n",
    "from data import get_dataset\n",
    "from data.augmentation import *\n",
    "\n",
    "from util.meter import *\n",
    "from util.torch_dist_sum import *\n",
    "from util.accuracy import accuracy\n",
    "from util.LARS import LARS\n",
    "from util.parsing import set_seed\n",
    "from util import parsing\n",
    "from tqdm import tqdm\n",
    "\n",
    "from network.wcl import WCL\n",
    "from torch.distributed import init_process_group, destroy_process_group"
   ]
  },
  {
   "cell_type": "code",
   "execution_count": 3,
   "id": "2d403b2b",
   "metadata": {},
   "outputs": [],
   "source": [
    "from easydict import EasyDict as edict\n",
    "args = edict({\n",
    "    'batch_size':256,\n",
    "    'epochs':100,\n",
    "    'warmup_epochs':10,\n",
    "    'gpu_ids':3,\n",
    "    \n",
    "    'dataset':'task1',\n",
    "    'data_path': './data/dataset',\n",
    "    \n",
    "    'noise_type':'pairflip',\n",
    "    'closeset_ratio':0.4,\n",
    "    'openset_ratio':0.2,\n",
    "    \n",
    "    'ngpus':torch.cuda.device_count(),\n",
    "    'num_workers':4\n",
    "    \n",
    "})"
   ]
  },
  {
   "cell_type": "code",
   "execution_count": 4,
   "id": "70bb047f",
   "metadata": {},
   "outputs": [
    {
     "name": "stderr",
     "output_type": "stream",
     "text": [
      "100%|███████████████████████████████████████████████████████| 53897/53897 [00:43<00:00, 1243.07it/s]\n"
     ]
    }
   ],
   "source": [
    "train_dataset = get_dataset(args)\n",
    "train_loader = torch.utils.data.DataLoader(\n",
    "    train_dataset, batch_size=args.batch_size, shuffle=False,\n",
    "    num_workers=args.num_workers, pin_memory=True, drop_last=True)"
   ]
  },
  {
   "cell_type": "markdown",
   "id": "2c1280bd",
   "metadata": {},
   "source": [
    "# Load Model"
   ]
  },
  {
   "cell_type": "code",
   "execution_count": 5,
   "id": "96e52570",
   "metadata": {},
   "outputs": [
    {
     "data": {
      "text/plain": [
       "WCL(\n",
       "  (net): ProjectionHead(\n",
       "    (linear1): Linear(in_features=27694, out_features=4096, bias=True)\n",
       "    (bn1): BatchNorm1d(4096, eps=1e-05, momentum=0.1, affine=True, track_running_stats=True)\n",
       "    (relu1): ReLU(inplace=True)\n",
       "    (linear2): Linear(in_features=4096, out_features=4096, bias=True)\n",
       "    (bn2): BatchNorm1d(4096, eps=1e-05, momentum=0.1, affine=True, track_running_stats=True)\n",
       "    (relu2): ReLU(inplace=True)\n",
       "    (linear3): Linear(in_features=4096, out_features=4096, bias=True)\n",
       "  )\n",
       "  (head): ProjectionHead(\n",
       "    (linear1): Linear(in_features=4096, out_features=4096, bias=True)\n",
       "    (bn1): BatchNorm1d(4096, eps=1e-05, momentum=0.1, affine=True, track_running_stats=True)\n",
       "    (relu1): ReLU(inplace=True)\n",
       "    (linear2): Linear(in_features=4096, out_features=4096, bias=True)\n",
       "    (bn2): BatchNorm1d(4096, eps=1e-05, momentum=0.1, affine=True, track_running_stats=True)\n",
       "    (relu2): ReLU(inplace=True)\n",
       "    (linear3): Linear(in_features=4096, out_features=256, bias=True)\n",
       "  )\n",
       ")"
      ]
     },
     "execution_count": 5,
     "metadata": {},
     "output_type": "execute_result"
    }
   ],
   "source": [
    "model = WCL(dim_input=len(train_dataset[0][0]))\n",
    "\n",
    "checkpoint_path = '../checkpoints/wcl-100.pth'\n",
    "checkpoint =  torch.load(checkpoint_path, map_location='cpu')\n",
    "model.load_state_dict(checkpoint['model'])\n",
    "model.eval()"
   ]
  },
  {
   "cell_type": "markdown",
   "id": "8c8f7a26",
   "metadata": {},
   "source": [
    "# Inference"
   ]
  },
  {
   "cell_type": "code",
   "execution_count": 6,
   "id": "bc14db21",
   "metadata": {},
   "outputs": [],
   "source": [
    "from scipy.sparse import csr_matrix\n",
    "from scipy.sparse.csgraph import connected_components\n",
    "import torch.nn.functional as F\n",
    "\n",
    "def build_connected_component(dist):\n",
    "    b = dist.size(0)\n",
    "    dist = dist - torch.eye(b, b) * 2\n",
    "    \n",
    "    x = torch.arange(b).unsqueeze(1).repeat(1,1).flatten()\n",
    "    y = torch.topk(dist, 1, dim=1, sorted=False)[1].flatten()\n",
    "    rx = torch.cat([x, y]).numpy()\n",
    "    ry = torch.cat([y, x]).numpy()\n",
    "    \n",
    "    v = np.ones(rx.shape[0])\n",
    "    graph = csr_matrix((v, (rx, ry)), shape=(b,b))\n",
    "    _, labels = connected_components(csgraph=graph, directed=False, return_labels=True)\n",
    "    labels = torch.tensor(labels)\n",
    "    mask = torch.eq(labels.unsqueeze(1), labels.unsqueeze(1).T)\n",
    "    return mask\n",
    "\n",
    "data_dict = {}\n",
    "for i, (data, user_id) in enumerate(train_loader):\n",
    "        x = torch.unsqueeze(data,1)\n",
    "        \n",
    "        b = x.size(0)\n",
    "        x = x.reshape(b, -1).float()\n",
    "        \n",
    "        backbone_feat = model.net(x)\n",
    "        feat = F.normalize(model.head(backbone_feat))\n",
    "        \n",
    "        mask = build_connected_component(feat @ feat.T).float()\n",
    "        label_list = np.unique(np.array(mask), axis=0)\n",
    "        \n",
    "        id2label = {}\n",
    "        for i, m in enumerate(label_list):\n",
    "            for id in np.where(m)[0]:\n",
    "                id2label[id] = i\n",
    "        \n",
    "        for (id, rep) in zip(user_id, backbone_feat):\n",
    "            data_dict[int(id)] = {\n",
    "                'rep': rep.detach(),\n",
    "                'label': id2label[int(id)]\n",
    "            }\n",
    "        break"
   ]
  },
  {
   "cell_type": "code",
   "execution_count": 17,
   "id": "c1b483a7",
   "metadata": {},
   "outputs": [
    {
     "data": {
      "text/plain": [
       "{0: 2,\n",
       " 2: 2,\n",
       " 3: 2,\n",
       " 4: 2,\n",
       " 5: 2,\n",
       " 7: 2,\n",
       " 8: 2,\n",
       " 11: 2,\n",
       " 14: 2,\n",
       " 16: 2,\n",
       " 18: 2,\n",
       " 22: 2,\n",
       " 28: 2,\n",
       " 32: 2,\n",
       " 33: 2,\n",
       " 37: 2,\n",
       " 39: 2,\n",
       " 40: 2,\n",
       " 43: 2,\n",
       " 44: 2,\n",
       " 45: 2,\n",
       " 46: 2,\n",
       " 48: 2,\n",
       " 50: 2,\n",
       " 52: 2,\n",
       " 53: 2,\n",
       " 56: 2,\n",
       " 57: 2,\n",
       " 58: 2,\n",
       " 62: 2,\n",
       " 68: 2,\n",
       " 72: 2,\n",
       " 78: 2,\n",
       " 79: 2,\n",
       " 1: 3,\n",
       " 6: 3,\n",
       " 9: 3,\n",
       " 10: 3,\n",
       " 12: 3,\n",
       " 13: 3,\n",
       " 19: 3,\n",
       " 20: 3,\n",
       " 21: 3,\n",
       " 24: 3,\n",
       " 25: 3,\n",
       " 26: 3,\n",
       " 27: 3,\n",
       " 29: 3,\n",
       " 31: 3,\n",
       " 38: 3,\n",
       " 42: 3,\n",
       " 47: 3,\n",
       " 51: 3,\n",
       " 69: 3,\n",
       " 15: 4,\n",
       " 17: 4,\n",
       " 41: 4,\n",
       " 49: 4,\n",
       " 54: 4,\n",
       " 59: 4,\n",
       " 60: 4,\n",
       " 61: 4,\n",
       " 75: 4,\n",
       " 76: 4,\n",
       " 23: 5,\n",
       " 34: 5,\n",
       " 35: 5,\n",
       " 36: 5,\n",
       " 55: 5,\n",
       " 63: 5,\n",
       " 64: 5,\n",
       " 66: 5,\n",
       " 70: 5,\n",
       " 73: 5,\n",
       " 74: 5,\n",
       " 67: 6,\n",
       " 71: 6,\n",
       " 77: 6,\n",
       " 65: 7,\n",
       " 30: 8}"
      ]
     },
     "execution_count": 17,
     "metadata": {},
     "output_type": "execute_result"
    }
   ],
   "source": [
    "from collections import Counter\n",
    "\n",
    "countdict = Counter(list(id2label.values()))\n",
    "{k: v for k, v in sorted(countdict.items(), key=lambda item: item[1], asc)}"
   ]
  },
  {
   "cell_type": "code",
   "execution_count": 26,
   "id": "b75c3405",
   "metadata": {},
   "outputs": [],
   "source": [
    "representation_list = []\n",
    "label_list = []\n",
    "sampled_label = [23,34,35,36,55,63,64,66,70,73,74,67,71,77,65,30]\n",
    "for id in data_dict.keys():\n",
    "    label = data_dict[id]['label']\n",
    "    if label in sampled_label:\n",
    "        rep = data_dict[id]['rep']\n",
    "\n",
    "        representation_list.append(rep)\n",
    "        label_list.append(label)\n",
    "    \n",
    "representation_tensor = torch.stack(representation_list)"
   ]
  },
  {
   "cell_type": "markdown",
   "id": "076e9efd",
   "metadata": {},
   "source": [
    "### t-SNE"
   ]
  },
  {
   "cell_type": "code",
   "execution_count": 27,
   "id": "988da7c5",
   "metadata": {},
   "outputs": [],
   "source": [
    "from sklearn.manifold import TSNE\n",
    "import matplotlib.pyplot as plt\n",
    "\n",
    "# Assuming your data is stored in a numpy array called 'data'\n",
    "tsne = TSNE(n_components=2, perplexity=30.0)\n",
    "embedded_data = tsne.fit_transform(representation_tensor)"
   ]
  },
  {
   "cell_type": "code",
   "execution_count": 31,
   "id": "4fdb1d5a",
   "metadata": {},
   "outputs": [],
   "source": [
    "label2norm_label = {label:i for i, label in enumerate(sampled_label)}\n",
    "label_list = [label2norm_label[label] for label in label_list]"
   ]
  },
  {
   "cell_type": "code",
   "execution_count": 35,
   "id": "9ccab5bf",
   "metadata": {},
   "outputs": [
    {
     "data": {
      "image/png": "[encoded data removed]",
      "text/plain": [
       "<Figure size 640x480 with 1 Axes>"
      ]
     },
     "metadata": {},
     "output_type": "display_data"
    }
   ],
   "source": [
    "# Plot the embedded data\n",
    "# 10개 sample\n",
    "plt.scatter(embedded_data[:, 0], embedded_data[:, 1], c=label_list,cmap='rainbow')\n",
    "plt.show()"
   ]
  },
  {
   "cell_type": "markdown",
   "id": "f6d7b327",
   "metadata": {},
   "source": [
    "### UMAP"
   ]
  },
  {
   "cell_type": "code",
   "execution_count": null,
   "id": "ee229a6d",
   "metadata": {},
   "outputs": [],
   "source": [
    "import umap.umap_ as umap\n",
    "import numpy as np\n",
    "import matplotlib.pyplot as plt\n",
    "\n",
    "umap_obj = umap.UMAP(n_components=2)\n",
    "\n",
    "# Fit and transform the data using UMAP\n",
    "embedding = umap_obj.fit_transform(representation_tensor)"
   ]
  },
  {
   "cell_type": "code",
   "execution_count": null,
   "id": "a44537da",
   "metadata": {
    "scrolled": false
   },
   "outputs": [],
   "source": [
    "# Plot the results\n",
    "plt.scatter(embedding[:, 0], embedding[:, 1], c=label_list, cmap='viridis',s=8) # , c=clean_target_list\n",
    "plt.show()"
   ]
  },
  {
   "cell_type": "code",
   "execution_count": null,
   "id": "0ca1b52c",
   "metadata": {},
   "outputs": [],
   "source": [
    "# Plot the embedded data\n",
    "from mpl_toolkits.mplot3d import Axes3D\n",
    "\n",
    "# Assuming your data is stored in a numpy array called 'data'\n",
    "umap_obj = umap.UMAP(n_components=3)\n",
    "\n",
    "# Fit and transform the data using UMAP\n",
    "embedded_data = umap_obj.fit_transform(representation_tensor)"
   ]
  },
  {
   "cell_type": "code",
   "execution_count": null,
   "id": "9b249992",
   "metadata": {},
   "outputs": [],
   "source": [
    "fig = plt.figure()\n",
    "ax = fig.add_subplot(111, projection='3d')\n",
    "\n",
    "ax.scatter(embedded_data[:, 0], embedded_data[:, 1], embedded_data[:, 2], c=label_list, cmap='viridis', s=5)\n",
    "\n",
    "# Set the plot labels\n",
    "ax.set_xlabel('X Label')\n",
    "ax.set_ylabel('Y Label')\n",
    "ax.set_zlabel('Z Label')\n",
    "\n",
    "# Show the plot\n",
    "plt.show()"
   ]
  },
  {
   "cell_type": "code",
   "execution_count": null,
   "id": "4b155033",
   "metadata": {},
   "outputs": [],
   "source": [
    "import plotly.express as px\n",
    "import pandas as pd\n",
    "\n",
    "# Create a sample data frame with three variables\n",
    "df = pd.DataFrame(embedded_data, columns=['x','y','z'])\n",
    "df['color'] = label_list\n",
    "\n",
    "# Create the 3D scatter plot using Plotly\n",
    "fig = px.scatter_3d(df, x='x', y='y', z='z', color='color')\n",
    "fig.update_traces(marker=dict(size=2))\n",
    "# Show the plot\n",
    "fig.show()\n"
   ]
  }
 ],
 "metadata": {
  "kernelspec": {
   "display_name": "Python 3 (ipykernel)",
   "language": "python",
   "name": "python3"
  },
  "language_info": {
   "codemirror_mode": {
    "name": "ipython",
    "version": 3
   },
   "file_extension": ".py",
   "mimetype": "text/x-python",
   "name": "python",
   "nbconvert_exporter": "python",
   "pygments_lexer": "ipython3",
   "version": "3.8.15"
  }
 },
 "nbformat": 4,
 "nbformat_minor": 5
}
