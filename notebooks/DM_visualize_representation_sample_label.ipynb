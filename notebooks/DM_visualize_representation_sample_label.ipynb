{
 "cells": [
  {
   "cell_type": "code",
   "execution_count": 1,
   "id": "e6bb71b5",
   "metadata": {},
   "outputs": [],
   "source": [
    "import sys\n",
    "\n",
    "sys.path.append('../../WCL')\n",
    "\n",
    "# sys.path.append('/home/saemeechoi/')\n",
    "\n",
    "# from view import myshow"
   ]
  },
  {
   "cell_type": "code",
   "execution_count": 2,
   "id": "0b9d6693",
   "metadata": {},
   "outputs": [],
   "source": [
    "import os\n",
    "import math\n",
    "import time\n",
    "from math import sqrt\n",
    "import numpy as np\n",
    "\n",
    "import torch\n",
    "import torch.nn as nn\n",
    "import torch.multiprocessing as mp\n",
    "\n",
    "import torchvision.transforms as transforms\n",
    "\n",
    "from data import get_dataset\n",
    "from data.augmentation import *\n",
    "\n",
    "from util.meter import *\n",
    "from util.torch_dist_sum import *\n",
    "from util.accuracy import accuracy\n",
    "from util.LARS import LARS\n",
    "from util.parsing import set_seed\n",
    "from util import parsing\n",
    "from tqdm import tqdm\n",
    "\n",
    "from network.wcl import WCL\n",
    "from torch.distributed import init_process_group, destroy_process_group"
   ]
  },
  {
   "cell_type": "code",
   "execution_count": 3,
   "id": "2d403b2b",
   "metadata": {},
   "outputs": [],
   "source": [
    "from easydict import EasyDict as edict\n",
    "args = edict({\n",
    "    'batch_size':256,\n",
    "    'epochs':100,\n",
    "    'warmup_epochs':10,\n",
    "    'gpu_ids':3,\n",
    "    \n",
    "    'dataset':'task1',\n",
    "    'data_path': './data/dataset',\n",
    "    \n",
    "    'noise_type':'pairflip',\n",
    "    'closeset_ratio':0.4,\n",
    "    'openset_ratio':0.2,\n",
    "    \n",
    "    'ngpus':torch.cuda.device_count(),\n",
    "    'num_workers':4\n",
    "    \n",
    "})"
   ]
  },
  {
   "cell_type": "code",
   "execution_count": 4,
   "id": "70bb047f",
   "metadata": {},
   "outputs": [
    {
     "name": "stderr",
     "output_type": "stream",
     "text": [
      "100%|███████████████████████████████████████████████████████| 53897/53897 [00:43<00:00, 1243.07it/s]\n"
     ]
    }
   ],
   "source": [
    "train_dataset = get_dataset(args)\n",
    "train_loader = torch.utils.data.DataLoader(\n",
    "    train_dataset, batch_size=args.batch_size, shuffle=False,\n",
    "    num_workers=args.num_workers, pin_memory=True, drop_last=True)"
   ]
  },
  {
   "cell_type": "markdown",
   "id": "2c1280bd",
   "metadata": {},
   "source": [
    "# Load Model"
   ]
  },
  {
   "cell_type": "code",
   "execution_count": 5,
   "id": "96e52570",
   "metadata": {},
   "outputs": [
    {
     "data": {
      "text/plain": [
       "WCL(\n",
       "  (net): ProjectionHead(\n",
       "    (linear1): Linear(in_features=27694, out_features=4096, bias=True)\n",
       "    (bn1): BatchNorm1d(4096, eps=1e-05, momentum=0.1, affine=True, track_running_stats=True)\n",
       "    (relu1): ReLU(inplace=True)\n",
       "    (linear2): Linear(in_features=4096, out_features=4096, bias=True)\n",
       "    (bn2): BatchNorm1d(4096, eps=1e-05, momentum=0.1, affine=True, track_running_stats=True)\n",
       "    (relu2): ReLU(inplace=True)\n",
       "    (linear3): Linear(in_features=4096, out_features=4096, bias=True)\n",
       "  )\n",
       "  (head): ProjectionHead(\n",
       "    (linear1): Linear(in_features=4096, out_features=4096, bias=True)\n",
       "    (bn1): BatchNorm1d(4096, eps=1e-05, momentum=0.1, affine=True, track_running_stats=True)\n",
       "    (relu1): ReLU(inplace=True)\n",
       "    (linear2): Linear(in_features=4096, out_features=4096, bias=True)\n",
       "    (bn2): BatchNorm1d(4096, eps=1e-05, momentum=0.1, affine=True, track_running_stats=True)\n",
       "    (relu2): ReLU(inplace=True)\n",
       "    (linear3): Linear(in_features=4096, out_features=256, bias=True)\n",
       "  )\n",
       ")"
      ]
     },
     "execution_count": 5,
     "metadata": {},
     "output_type": "execute_result"
    }
   ],
   "source": [
    "model = WCL(dim_input=len(train_dataset[0][0]))\n",
    "\n",
    "checkpoint_path = '../checkpoints/wcl-100.pth'\n",
    "checkpoint =  torch.load(checkpoint_path, map_location='cpu')\n",
    "model.load_state_dict(checkpoint['model'])\n",
    "model.eval()"
   ]
  },
  {
   "cell_type": "markdown",
   "id": "8c8f7a26",
   "metadata": {},
   "source": [
    "# Inference"
   ]
  },
  {
   "cell_type": "code",
   "execution_count": 6,
   "id": "bc14db21",
   "metadata": {},
   "outputs": [],
   "source": [
    "from scipy.sparse import csr_matrix\n",
    "from scipy.sparse.csgraph import connected_components\n",
    "import torch.nn.functional as F\n",
    "\n",
    "def build_connected_component(dist):\n",
    "    b = dist.size(0)\n",
    "    dist = dist - torch.eye(b, b) * 2\n",
    "    \n",
    "    x = torch.arange(b).unsqueeze(1).repeat(1,1).flatten()\n",
    "    y = torch.topk(dist, 1, dim=1, sorted=False)[1].flatten()\n",
    "    rx = torch.cat([x, y]).numpy()\n",
    "    ry = torch.cat([y, x]).numpy()\n",
    "    \n",
    "    v = np.ones(rx.shape[0])\n",
    "    graph = csr_matrix((v, (rx, ry)), shape=(b,b))\n",
    "    _, labels = connected_components(csgraph=graph, directed=False, return_labels=True)\n",
    "    labels = torch.tensor(labels)\n",
    "    mask = torch.eq(labels.unsqueeze(1), labels.unsqueeze(1).T)\n",
    "    return mask\n",
    "\n",
    "data_dict = {}\n",
    "for i, (data, user_id) in enumerate(train_loader):\n",
    "        x = torch.unsqueeze(data,1)\n",
    "        \n",
    "        b = x.size(0)\n",
    "        x = x.reshape(b, -1).float()\n",
    "        \n",
    "        backbone_feat = model.net(x)\n",
    "        feat = F.normalize(model.head(backbone_feat))\n",
    "        \n",
    "        mask = build_connected_component(feat @ feat.T).float()\n",
    "        label_list = np.unique(np.array(mask), axis=0)\n",
    "        \n",
    "        id2label = {}\n",
    "        for i, m in enumerate(label_list):\n",
    "            for id in np.where(m)[0]:\n",
    "                id2label[id] = i\n",
    "        \n",
    "        for (id, rep) in zip(user_id, backbone_feat):\n",
    "            data_dict[int(id)] = {\n",
    "                'rep': rep.detach(),\n",
    "                'label': id2label[int(id)]\n",
    "            }\n",
    "        break"
   ]
  },
  {
   "cell_type": "code",
   "execution_count": 17,
   "id": "be5a9d87",
   "metadata": {
    "scrolled": true
   },
   "outputs": [
    {
     "data": {
      "text/plain": [
       "{0: 2,\n",
       " 2: 2,\n",
       " 3: 2,\n",
       " 4: 2,\n",
       " 5: 2,\n",
       " 7: 2,\n",
       " 8: 2,\n",
       " 11: 2,\n",
       " 14: 2,\n",
       " 16: 2,\n",
       " 18: 2,\n",
       " 22: 2,\n",
       " 28: 2,\n",
       " 32: 2,\n",
       " 33: 2,\n",
       " 37: 2,\n",
       " 39: 2,\n",
       " 40: 2,\n",
       " 43: 2,\n",
       " 44: 2,\n",
       " 45: 2,\n",
       " 46: 2,\n",
       " 48: 2,\n",
       " 50: 2,\n",
       " 52: 2,\n",
       " 53: 2,\n",
       " 56: 2,\n",
       " 57: 2,\n",
       " 58: 2,\n",
       " 62: 2,\n",
       " 68: 2,\n",
       " 72: 2,\n",
       " 78: 2,\n",
       " 79: 2,\n",
       " 1: 3,\n",
       " 6: 3,\n",
       " 9: 3,\n",
       " 10: 3,\n",
       " 12: 3,\n",
       " 13: 3,\n",
       " 19: 3,\n",
       " 20: 3,\n",
       " 21: 3,\n",
       " 24: 3,\n",
       " 25: 3,\n",
       " 26: 3,\n",
       " 27: 3,\n",
       " 29: 3,\n",
       " 31: 3,\n",
       " 38: 3,\n",
       " 42: 3,\n",
       " 47: 3,\n",
       " 51: 3,\n",
       " 69: 3,\n",
       " 15: 4,\n",
       " 17: 4,\n",
       " 41: 4,\n",
       " 49: 4,\n",
       " 54: 4,\n",
       " 59: 4,\n",
       " 60: 4,\n",
       " 61: 4,\n",
       " 75: 4,\n",
       " 76: 4,\n",
       " 23: 5,\n",
       " 34: 5,\n",
       " 35: 5,\n",
       " 36: 5,\n",
       " 55: 5,\n",
       " 63: 5,\n",
       " 64: 5,\n",
       " 66: 5,\n",
       " 70: 5,\n",
       " 73: 5,\n",
       " 74: 5,\n",
       " 67: 6,\n",
       " 71: 6,\n",
       " 77: 6,\n",
       " 65: 7,\n",
       " 30: 8}"
      ]
     },
     "execution_count": 17,
     "metadata": {},
     "output_type": "execute_result"
    }
   ],
   "source": [
    "from collections import Counter\n",
    "\n",
    "countdict = Counter(list(id2label.values()))\n",
    "{k: v for k, v in sorted(countdict.items(), key=lambda item: item[1], asc)}"
   ]
  },
  {
   "cell_type": "code",
   "execution_count": 26,
   "id": "b75c3405",
   "metadata": {},
   "outputs": [],
   "source": [
    "representation_list = []\n",
    "label_list = []\n",
    "sampled_label = [23,34,35,36,55,63,64,66,70,73,74,67,71,77,65,30]\n",
    "for id in data_dict.keys():\n",
    "    label = data_dict[id]['label']\n",
    "    if label in sampled_label:\n",
    "        rep = data_dict[id]['rep']\n",
    "\n",
    "        representation_list.append(rep)\n",
    "        label_list.append(label)\n",
    "    \n",
    "representation_tensor = torch.stack(representation_list)"
   ]
  },
  {
   "cell_type": "markdown",
   "id": "076e9efd",
   "metadata": {},
   "source": [
    "### t-SNE"
   ]
  },
  {
   "cell_type": "code",
   "execution_count": 27,
   "id": "988da7c5",
   "metadata": {},
   "outputs": [],
   "source": [
    "from sklearn.manifold import TSNE\n",
    "import matplotlib.pyplot as plt\n",
    "\n",
    "# Assuming your data is stored in a numpy array called 'data'\n",
    "tsne = TSNE(n_components=2, perplexity=30.0)\n",
    "embedded_data = tsne.fit_transform(representation_tensor)"
   ]
  },
  {
   "cell_type": "code",
   "execution_count": 31,
   "id": "0ce3b83e",
   "metadata": {},
   "outputs": [],
   "source": [
    "label2norm_label = {label:i for i, label in enumerate(sampled_label)}\n",
    "label_list = [label2norm_label[label] for label in label_list]"
   ]
  },
  {
   "cell_type": "code",
   "execution_count": 35,
   "id": "9ccab5bf",
   "metadata": {},
   "outputs": [
    {
     "data": {
      "image/png": "[encoded data removed]",
      "text/plain": [
       "<Figure size 640x480 with 1 Axes>"
      ]
     },
     "metadata": {},
     "output_type": "display_data"
    }
   ],
   "source": [
    "# Plot the embedded data\n",
    "# 10개 sample\n",
    "plt.scatter(embedded_data[:, 0], embedded_data[:, 1], c=label_list,cmap='rainbow')\n",
    "plt.show()"
   ]
  },
  {
   "cell_type": "markdown",
   "id": "f6d7b327",
   "metadata": {},
   "source": [
    "### UMAP"
   ]
  },
  {
   "cell_type": "code",
   "execution_count": 36,
   "id": "ee229a6d",
   "metadata": {},
   "outputs": [],
   "source": [
    "import umap.umap_ as umap\n",
    "import numpy as np\n",
    "import matplotlib.pyplot as plt\n",
    "\n",
    "umap_obj = umap.UMAP(n_components=2)\n",
    "\n",
    "# Fit and transform the data using UMAP\n",
    "embedding = umap_obj.fit_transform(representation_tensor)"
   ]
  },
  {
   "cell_type": "code",
   "execution_count": 37,
   "id": "a44537da",
   "metadata": {
    "scrolled": false
   },
   "outputs": [
    {
     "data": {
      "image/png": "[encoded data removed]",
      "text/plain": [
       "<Figure size 640x480 with 1 Axes>"
      ]
     },
     "metadata": {},
     "output_type": "display_data"
    }
   ],
   "source": [
    "# Plot the results\n",
    "plt.scatter(embedding[:, 0], embedding[:, 1], c=label_list, cmap='viridis',s=8) # , c=clean_target_list\n",
    "plt.show()"
   ]
  },
  {
   "cell_type": "code",
   "execution_count": 38,
   "id": "0ca1b52c",
   "metadata": {},
   "outputs": [],
   "source": [
    "# Plot the embedded data\n",
    "from mpl_toolkits.mplot3d import Axes3D\n",
    "\n",
    "# Assuming your data is stored in a numpy array called 'data'\n",
    "umap_obj = umap.UMAP(n_components=3)\n",
    "\n",
    "# Fit and transform the data using UMAP\n",
    "embedded_data = umap_obj.fit_transform(representation_tensor)"
   ]
  },
  {
   "cell_type": "code",
   "execution_count": 39,
   "id": "9b249992",
   "metadata": {},
   "outputs": [
    {
     "data": {
      "image/png": "[encoded data removed]",
      "text/plain": [
       "<Figure size 640x480 with 1 Axes>"
      ]
     },
     "metadata": {},
     "output_type": "display_data"
    }
   ],
   "source": [
    "fig = plt.figure()\n",
    "ax = fig.add_subplot(111, projection='3d')\n",
    "\n",
    "ax.scatter(embedded_data[:, 0], embedded_data[:, 1], embedded_data[:, 2], c=label_list, cmap='viridis', s=5)\n",
    "\n",
    "# Set the plot labels\n",
    "ax.set_xlabel('X Label')\n",
    "ax.set_ylabel('Y Label')\n",
    "ax.set_zlabel('Z Label')\n",
    "\n",
    "# Show the plot\n",
    "plt.show()"
   ]
  },
  {
   "cell_type": "code",
   "execution_count": 40,
   "id": "4b155033",
   "metadata": {},
   "outputs": [
    {
     "data": {
      "application/vnd.plotly.v1+json": {
       "config": {
        "plotlyServerURL": "https://plot.ly"
       },
       "data": [
        {
         "hovertemplate": "x=%{x}<br>y=%{y}<br>z=%{z}<br>color=%{marker.color}<extra></extra>",
         "legendgroup": "",
         "marker": {
          "color": [
           13,
           10,
           9,
           12,
           8,
           13,
           9,
           11,
           7,
           14,
           12,
           6,
           5,
           6,
           4,
           12,
           9,
           7,
           8,
           14,
           4,
           7,
           3,
           2,
           1,
           15,
           8,
           2,
           1,
           2,
           15,
           10,
           0,
           14,
           13,
           15,
           10,
           15,
           10,
           15,
           13,
           9,
           5,
           2,
           4,
           3,
           15,
           11,
           11,
           3,
           4,
           14,
           0,
           12,
           1,
           8,
           15,
           3,
           5,
           7,
           3,
           11,
           10,
           0,
           12,
           14,
           0,
           12,
           7,
           1,
           1,
           6,
           6,
           0,
           6,
           5,
           5,
           14,
           15,
           9,
           11,
           13,
           2,
           14,
           13,
           4,
           11,
           8
          ],
          "coloraxis": "coloraxis",
          "size": 2,
          "symbol": "circle"
         },
         "mode": "markers",
         "name": "",
         "scene": "scene",
         "showlegend": false,
         "type": "scatter3d",
         "x": [
          -0.521308958530426,
          8.971344947814941,
          -2.1961841583251953,
          11.629617691040039,
          11.642799377441406,
          -0.7150713205337524,
          -2.0580971240997314,
          -2.8407719135284424,
          6.572828769683838,
          8.24896240234375,
          11.703582763671875,
          11.264938354492188,
          6.192390441894531,
          11.234114646911621,
          11.264718055725098,
          11.50366497039795,
          -1.8195483684539795,
          6.783157825469971,
          11.56159496307373,
          7.820819854736328,
          11.071127891540527,
          6.317291259765625,
          9.187307357788086,
          8.84837818145752,
          7.305558681488037,
          11.152928352355957,
          11.753949165344238,
          8.794798851013184,
          7.501105785369873,
          8.682173728942871,
          10.960570335388184,
          10.56343936920166,
          -1.601026177406311,
          8.038843154907227,
          -0.7912242412567139,
          11.225111961364746,
          10.721555709838867,
          11.266180038452148,
          9.09199333190918,
          11.141420364379883,
          -0.7113057971000671,
          -2.1539859771728516,
          6.403195858001709,
          8.762591361999512,
          10.89098834991455,
          9.27999210357666,
          11.326696395874023,
          -3.1019082069396973,
          -3.017889976501465,
          9.455121994018555,
          11.177459716796875,
          8.06509017944336,
          -1.8982537984848022,
          11.6376314163208,
          7.38331413269043,
          11.834623336791992,
          11.3082857131958,
          9.413630485534668,
          6.083649158477783,
          6.815155029296875,
          9.406449317932129,
          -2.9570319652557373,
          9.281982421875,
          -1.7233022451400757,
          11.72278881072998,
          8.279149055480957,
          -2.1098437309265137,
          11.568589210510254,
          6.1754841804504395,
          7.201404094696045,
          7.060678958892822,
          11.114964485168457,
          11.040793418884277,
          -1.8902103900909424,
          11.194414138793945,
          6.307775497436523,
          6.710346698760986,
          7.754386901855469,
          11.027860641479492,
          -2.0742552280426025,
          -3.143827199935913,
          -0.26677441596984863,
          9.008218765258789,
          8.436453819274902,
          -0.6112008690834045,
          11.322124481201172,
          -2.9162392616271973,
          11.807092666625977
         ],
         "y": [
          1.1662110090255737,
          2.3981523513793945,
          1.3265964984893799,
          6.896123886108398,
          7.520366668701172,
          1.5692048072814941,
          1.4673668146133423,
          3.8984835147857666,
          -0.2445509284734726,
          0.8092630505561829,
          6.678308963775635,
          5.8831706047058105,
          -0.19434762001037598,
          5.353825092315674,
          5.8312883377075195,
          6.369554042816162,
          1.334275245666504,
          -0.17242495715618134,
          7.546435832977295,
          0.5406725406646729,
          5.389362335205078,
          0.039043277502059937,
          2.5645806789398193,
          2.014071464538574,
          0.4536140263080597,
          6.587286472320557,
          7.674646377563477,
          2.2266740798950195,
          0.3036711513996124,
          1.6949739456176758,
          7.265018463134766,
          4.735591411590576,
          1.6914082765579224,
          0.6148366332054138,
          1.3945038318634033,
          7.789341926574707,
          4.865951061248779,
          7.702856540679932,
          2.256394386291504,
          7.441520690917969,
          1.3215519189834595,
          1.4138946533203125,
          0.01842464506626129,
          1.796905755996704,
          5.478372573852539,
          2.402846574783325,
          7.698466777801514,
          3.6712820529937744,
          3.809638261795044,
          2.7238152027130127,
          5.408750534057617,
          0.7374482750892639,
          1.5649254322052002,
          7.1443400382995605,
          0.09219623357057571,
          7.6224684715271,
          7.311285495758057,
          2.446239471435547,
          0.1840023398399353,
          -0.327113538980484,
          2.4626431465148926,
          3.9659533500671387,
          3.005993127822876,
          1.8113399744033813,
          7.127763271331787,
          0.9439237117767334,
          1.7116782665252686,
          6.29118013381958,
          0.09673406928777695,
          0.2839961647987366,
          0.15381066501140594,
          5.698816776275635,
          5.495707988739014,
          1.7091143131256104,
          5.617518424987793,
          0.01582261547446251,
          0.046364735811948776,
          0.576739490032196,
          7.4094109535217285,
          1.2974555492401123,
          3.797487497329712,
          1.6355302333831787,
          1.8912231922149658,
          1.3138095140457153,
          1.431355595588684,
          5.257233619689941,
          3.6818535327911377,
          7.447854518890381
         ],
         "z": [
          3.3154563903808594,
          4.41650390625,
          3.4325742721557617,
          4.7556681632995605,
          5.697761535644531,
          3.6561591625213623,
          3.2691287994384766,
          5.890871524810791,
          2.7293591499328613,
          3.4450159072875977,
          4.668908596038818,
          4.671243667602539,
          3.183072328567505,
          4.820938587188721,
          5.259775161743164,
          4.650951862335205,
          3.478898048400879,
          2.8983819484710693,
          6.0199875831604,
          3.5113906860351562,
          5.040100574493408,
          2.6747965812683105,
          3.9736406803131104,
          4.45084285736084,
          3.0951790809631348,
          5.45119047164917,
          6.218932628631592,
          3.857651710510254,
          3.412257671356201,
          3.952493190765381,
          5.54815673828125,
          4.889910697937012,
          3.816100597381592,
          3.441394805908203,
          3.314922332763672,
          5.838778018951416,
          5.037317752838135,
          5.667359828948975,
          4.350376605987549,
          5.699755668640137,
          3.4101598262786865,
          3.765143394470215,
          3.34791898727417,
          4.201483249664307,
          5.146976470947266,
          3.807586908340454,
          5.7418694496154785,
          5.70670747756958,
          5.795836925506592,
          3.9228601455688477,
          5.343507766723633,
          3.573288917541504,
          3.610046863555908,
          4.954436779022217,
          3.324394941329956,
          6.18855619430542,
          5.427870273590088,
          3.7617948055267334,
          3.0888795852661133,
          3.074394941329956,
          4.138930797576904,
          5.945876598358154,
          4.508402347564697,
          3.924309730529785,
          4.9957170486450195,
          3.7263548374176025,
          3.484851360321045,
          4.565644264221191,
          2.8576366901397705,
          3.198336362838745,
          3.3908674716949463,
          4.734986782073975,
          4.578797817230225,
          3.723736524581909,
          5.006180763244629,
          3.306915044784546,
          3.2023496627807617,
          3.5508368015289307,
          5.852648735046387,
          3.4823203086853027,
          5.7310404777526855,
          3.454899549484253,
          4.005091190338135,
          3.7926928997039795,
          3.481510877609253,
          5.161473274230957,
          5.68165397644043,
          5.921838760375977
         ]
        }
       ],
       "layout": {
        "coloraxis": {
         "colorbar": {
          "title": {
           "text": "color"
          }
         },
         "colorscale": [
          [
           0,
           "#0d0887"
          ],
          [
           0.1111111111111111,
           "#46039f"
          ],
          [
           0.2222222222222222,
           "#7201a8"
          ],
          [
           0.3333333333333333,
           "#9c179e"
          ],
          [
           0.4444444444444444,
           "#bd3786"
          ],
          [
           0.5555555555555556,
           "#d8576b"
          ],
          [
           0.6666666666666666,
           "#ed7953"
          ],
          [
           0.7777777777777778,
           "#fb9f3a"
          ],
          [
           0.8888888888888888,
           "#fdca26"
          ],
          [
           1,
           "#f0f921"
          ]
         ]
        },
        "legend": {
         "tracegroupgap": 0
        },
        "margin": {
         "t": 60
        },
        "scene": {
         "domain": {
          "x": [
           0,
           1
          ],
          "y": [
           0,
           1
          ]
         },
         "xaxis": {
          "title": {
           "text": "x"
          }
         },
         "yaxis": {
          "title": {
           "text": "y"
          }
         },
         "zaxis": {
          "title": {
           "text": "z"
          }
         }
        },
        "template": {
         "data": {
          "bar": [
           {
            "error_x": {
             "color": "#2a3f5f"
            },
            "error_y": {
             "color": "#2a3f5f"
            },
            "marker": {
             "line": {
              "color": "#E5ECF6",
              "width": 0.5
             },
             "pattern": {
              "fillmode": "overlay",
              "size": 10,
              "solidity": 0.2
             }
            },
            "type": "bar"
           }
          ],
          "barpolar": [
           {
            "marker": {
             "line": {
              "color": "#E5ECF6",
              "width": 0.5
             },
             "pattern": {
              "fillmode": "overlay",
              "size": 10,
              "solidity": 0.2
             }
            },
            "type": "barpolar"
           }
          ],
          "carpet": [
           {
            "aaxis": {
             "endlinecolor": "#2a3f5f",
             "gridcolor": "white",
             "linecolor": "white",
             "minorgridcolor": "white",
             "startlinecolor": "#2a3f5f"
            },
            "baxis": {
             "endlinecolor": "#2a3f5f",
             "gridcolor": "white",
             "linecolor": "white",
             "minorgridcolor": "white",
             "startlinecolor": "#2a3f5f"
            },
            "type": "carpet"
           }
          ],
          "choropleth": [
           {
            "colorbar": {
             "outlinewidth": 0,
             "ticks": ""
            },
            "type": "choropleth"
           }
          ],
          "contour": [
           {
            "colorbar": {
             "outlinewidth": 0,
             "ticks": ""
            },
            "colorscale": [
             [
              0,
              "#0d0887"
             ],
             [
              0.1111111111111111,
              "#46039f"
             ],
             [
              0.2222222222222222,
              "#7201a8"
             ],
             [
              0.3333333333333333,
              "#9c179e"
             ],
             [
              0.4444444444444444,
              "#bd3786"
             ],
             [
              0.5555555555555556,
              "#d8576b"
             ],
             [
              0.6666666666666666,
              "#ed7953"
             ],
             [
              0.7777777777777778,
              "#fb9f3a"
             ],
             [
              0.8888888888888888,
              "#fdca26"
             ],
             [
              1,
              "#f0f921"
             ]
            ],
            "type": "contour"
           }
          ],
          "contourcarpet": [
           {
            "colorbar": {
             "outlinewidth": 0,
             "ticks": ""
            },
            "type": "contourcarpet"
           }
          ],
          "heatmap": [
           {
            "colorbar": {
             "outlinewidth": 0,
             "ticks": ""
            },
            "colorscale": [
             [
              0,
              "#0d0887"
             ],
             [
              0.1111111111111111,
              "#46039f"
             ],
             [
              0.2222222222222222,
              "#7201a8"
             ],
             [
              0.3333333333333333,
              "#9c179e"
             ],
             [
              0.4444444444444444,
              "#bd3786"
             ],
             [
              0.5555555555555556,
              "#d8576b"
             ],
             [
              0.6666666666666666,
              "#ed7953"
             ],
             [
              0.7777777777777778,
              "#fb9f3a"
             ],
             [
              0.8888888888888888,
              "#fdca26"
             ],
             [
              1,
              "#f0f921"
             ]
            ],
            "type": "heatmap"
           }
          ],
          "heatmapgl": [
           {
            "colorbar": {
             "outlinewidth": 0,
             "ticks": ""
            },
            "colorscale": [
             [
              0,
              "#0d0887"
             ],
             [
              0.1111111111111111,
              "#46039f"
             ],
             [
              0.2222222222222222,
              "#7201a8"
             ],
             [
              0.3333333333333333,
              "#9c179e"
             ],
             [
              0.4444444444444444,
              "#bd3786"
             ],
             [
              0.5555555555555556,
              "#d8576b"
             ],
             [
              0.6666666666666666,
              "#ed7953"
             ],
             [
              0.7777777777777778,
              "#fb9f3a"
             ],
             [
              0.8888888888888888,
              "#fdca26"
             ],
             [
              1,
              "#f0f921"
             ]
            ],
            "type": "heatmapgl"
           }
          ],
          "histogram": [
           {
            "marker": {
             "pattern": {
              "fillmode": "overlay",
              "size": 10,
              "solidity": 0.2
             }
            },
            "type": "histogram"
           }
          ],
          "histogram2d": [
           {
            "colorbar": {
             "outlinewidth": 0,
             "ticks": ""
            },
            "colorscale": [
             [
              0,
              "#0d0887"
             ],
             [
              0.1111111111111111,
              "#46039f"
             ],
             [
              0.2222222222222222,
              "#7201a8"
             ],
             [
              0.3333333333333333,
              "#9c179e"
             ],
             [
              0.4444444444444444,
              "#bd3786"
             ],
             [
              0.5555555555555556,
              "#d8576b"
             ],
             [
              0.6666666666666666,
              "#ed7953"
             ],
             [
              0.7777777777777778,
              "#fb9f3a"
             ],
             [
              0.8888888888888888,
              "#fdca26"
             ],
             [
              1,
              "#f0f921"
             ]
            ],
            "type": "histogram2d"
           }
          ],
          "histogram2dcontour": [
           {
            "colorbar": {
             "outlinewidth": 0,
             "ticks": ""
            },
            "colorscale": [
             [
              0,
              "#0d0887"
             ],
             [
              0.1111111111111111,
              "#46039f"
             ],
             [
              0.2222222222222222,
              "#7201a8"
             ],
             [
              0.3333333333333333,
              "#9c179e"
             ],
             [
              0.4444444444444444,
              "#bd3786"
             ],
             [
              0.5555555555555556,
              "#d8576b"
             ],
             [
              0.6666666666666666,
              "#ed7953"
             ],
             [
              0.7777777777777778,
              "#fb9f3a"
             ],
             [
              0.8888888888888888,
              "#fdca26"
             ],
             [
              1,
              "#f0f921"
             ]
            ],
            "type": "histogram2dcontour"
           }
          ],
          "mesh3d": [
           {
            "colorbar": {
             "outlinewidth": 0,
             "ticks": ""
            },
            "type": "mesh3d"
           }
          ],
          "parcoords": [
           {
            "line": {
             "colorbar": {
              "outlinewidth": 0,
              "ticks": ""
             }
            },
            "type": "parcoords"
           }
          ],
          "pie": [
           {
            "automargin": true,
            "type": "pie"
           }
          ],
          "scatter": [
           {
            "fillpattern": {
             "fillmode": "overlay",
             "size": 10,
             "solidity": 0.2
            },
            "type": "scatter"
           }
          ],
          "scatter3d": [
           {
            "line": {
             "colorbar": {
              "outlinewidth": 0,
              "ticks": ""
             }
            },
            "marker": {
             "colorbar": {
              "outlinewidth": 0,
              "ticks": ""
             }
            },
            "type": "scatter3d"
           }
          ],
          "scattercarpet": [
           {
            "marker": {
             "colorbar": {
              "outlinewidth": 0,
              "ticks": ""
             }
            },
            "type": "scattercarpet"
           }
          ],
          "scattergeo": [
           {
            "marker": {
             "colorbar": {
              "outlinewidth": 0,
              "ticks": ""
             }
            },
            "type": "scattergeo"
           }
          ],
          "scattergl": [
           {
            "marker": {
             "colorbar": {
              "outlinewidth": 0,
              "ticks": ""
             }
            },
            "type": "scattergl"
           }
          ],
          "scattermapbox": [
           {
            "marker": {
             "colorbar": {
              "outlinewidth": 0,
              "ticks": ""
             }
            },
            "type": "scattermapbox"
           }
          ],
          "scatterpolar": [
           {
            "marker": {
             "colorbar": {
              "outlinewidth": 0,
              "ticks": ""
             }
            },
            "type": "scatterpolar"
           }
          ],
          "scatterpolargl": [
           {
            "marker": {
             "colorbar": {
              "outlinewidth": 0,
              "ticks": ""
             }
            },
            "type": "scatterpolargl"
           }
          ],
          "scatterternary": [
           {
            "marker": {
             "colorbar": {
              "outlinewidth": 0,
              "ticks": ""
             }
            },
            "type": "scatterternary"
           }
          ],
          "surface": [
           {
            "colorbar": {
             "outlinewidth": 0,
             "ticks": ""
            },
            "colorscale": [
             [
              0,
              "#0d0887"
             ],
             [
              0.1111111111111111,
              "#46039f"
             ],
             [
              0.2222222222222222,
              "#7201a8"
             ],
             [
              0.3333333333333333,
              "#9c179e"
             ],
             [
              0.4444444444444444,
              "#bd3786"
             ],
             [
              0.5555555555555556,
              "#d8576b"
             ],
             [
              0.6666666666666666,
              "#ed7953"
             ],
             [
              0.7777777777777778,
              "#fb9f3a"
             ],
             [
              0.8888888888888888,
              "#fdca26"
             ],
             [
              1,
              "#f0f921"
             ]
            ],
            "type": "surface"
           }
          ],
          "table": [
           {
            "cells": {
             "fill": {
              "color": "#EBF0F8"
             },
             "line": {
              "color": "white"
             }
            },
            "header": {
             "fill": {
              "color": "#C8D4E3"
             },
             "line": {
              "color": "white"
             }
            },
            "type": "table"
           }
          ]
         },
         "layout": {
          "annotationdefaults": {
           "arrowcolor": "#2a3f5f",
           "arrowhead": 0,
           "arrowwidth": 1
          },
          "autotypenumbers": "strict",
          "coloraxis": {
           "colorbar": {
            "outlinewidth": 0,
            "ticks": ""
           }
          },
          "colorscale": {
           "diverging": [
            [
             0,
             "#8e0152"
            ],
            [
             0.1,
             "#c51b7d"
            ],
            [
             0.2,
             "#de77ae"
            ],
            [
             0.3,
             "#f1b6da"
            ],
            [
             0.4,
             "#fde0ef"
            ],
            [
             0.5,
             "#f7f7f7"
            ],
            [
             0.6,
             "#e6f5d0"
            ],
            [
             0.7,
             "#b8e186"
            ],
            [
             0.8,
             "#7fbc41"
            ],
            [
             0.9,
             "#4d9221"
            ],
            [
             1,
             "#276419"
            ]
           ],
           "sequential": [
            [
             0,
             "#0d0887"
            ],
            [
             0.1111111111111111,
             "#46039f"
            ],
            [
             0.2222222222222222,
             "#7201a8"
            ],
            [
             0.3333333333333333,
             "#9c179e"
            ],
            [
             0.4444444444444444,
             "#bd3786"
            ],
            [
             0.5555555555555556,
             "#d8576b"
            ],
            [
             0.6666666666666666,
             "#ed7953"
            ],
            [
             0.7777777777777778,
             "#fb9f3a"
            ],
            [
             0.8888888888888888,
             "#fdca26"
            ],
            [
             1,
             "#f0f921"
            ]
           ],
           "sequentialminus": [
            [
             0,
             "#0d0887"
            ],
            [
             0.1111111111111111,
             "#46039f"
            ],
            [
             0.2222222222222222,
             "#7201a8"
            ],
            [
             0.3333333333333333,
             "#9c179e"
            ],
            [
             0.4444444444444444,
             "#bd3786"
            ],
            [
             0.5555555555555556,
             "#d8576b"
            ],
            [
             0.6666666666666666,
             "#ed7953"
            ],
            [
             0.7777777777777778,
             "#fb9f3a"
            ],
            [
             0.8888888888888888,
             "#fdca26"
            ],
            [
             1,
             "#f0f921"
            ]
           ]
          },
          "colorway": [
           "#636efa",
           "#EF553B",
           "#00cc96",
           "#ab63fa",
           "#FFA15A",
           "#19d3f3",
           "#FF6692",
           "#B6E880",
           "#FF97FF",
           "#FECB52"
          ],
          "font": {
           "color": "#2a3f5f"
          },
          "geo": {
           "bgcolor": "white",
           "lakecolor": "white",
           "landcolor": "#E5ECF6",
           "showlakes": true,
           "showland": true,
           "subunitcolor": "white"
          },
          "hoverlabel": {
           "align": "left"
          },
          "hovermode": "closest",
          "mapbox": {
           "style": "light"
          },
          "paper_bgcolor": "white",
          "plot_bgcolor": "#E5ECF6",
          "polar": {
           "angularaxis": {
            "gridcolor": "white",
            "linecolor": "white",
            "ticks": ""
           },
           "bgcolor": "#E5ECF6",
           "radialaxis": {
            "gridcolor": "white",
            "linecolor": "white",
            "ticks": ""
           }
          },
          "scene": {
           "xaxis": {
            "backgroundcolor": "#E5ECF6",
            "gridcolor": "white",
            "gridwidth": 2,
            "linecolor": "white",
            "showbackground": true,
            "ticks": "",
            "zerolinecolor": "white"
           },
           "yaxis": {
            "backgroundcolor": "#E5ECF6",
            "gridcolor": "white",
            "gridwidth": 2,
            "linecolor": "white",
            "showbackground": true,
            "ticks": "",
            "zerolinecolor": "white"
           },
           "zaxis": {
            "backgroundcolor": "#E5ECF6",
            "gridcolor": "white",
            "gridwidth": 2,
            "linecolor": "white",
            "showbackground": true,
            "ticks": "",
            "zerolinecolor": "white"
           }
          },
          "shapedefaults": {
           "line": {
            "color": "#2a3f5f"
           }
          },
          "ternary": {
           "aaxis": {
            "gridcolor": "white",
            "linecolor": "white",
            "ticks": ""
           },
           "baxis": {
            "gridcolor": "white",
            "linecolor": "white",
            "ticks": ""
           },
           "bgcolor": "#E5ECF6",
           "caxis": {
            "gridcolor": "white",
            "linecolor": "white",
            "ticks": ""
           }
          },
          "title": {
           "x": 0.05
          },
          "xaxis": {
           "automargin": true,
           "gridcolor": "white",
           "linecolor": "white",
           "ticks": "",
           "title": {
            "standoff": 15
           },
           "zerolinecolor": "white",
           "zerolinewidth": 2
          },
          "yaxis": {
           "automargin": true,
           "gridcolor": "white",
           "linecolor": "white",
           "ticks": "",
           "title": {
            "standoff": 15
           },
           "zerolinecolor": "white",
           "zerolinewidth": 2
          }
         }
        }
       }
      },
      "text/html": [
       "<div>                            <div id=\"e8a6db53-3859-48af-a7ca-9e7d72395b51\" class=\"plotly-graph-div\" style=\"height:525px; width:100%;\"></div>            <script type=\"text/javascript\">                require([\"plotly\"], function(Plotly) {                    window.PLOTLYENV=window.PLOTLYENV || {};                                    if (document.getElementById(\"e8a6db53-3859-48af-a7ca-9e7d72395b51\")) {                    Plotly.newPlot(                        \"e8a6db53-3859-48af-a7ca-9e7d72395b51\",                        [{\"hovertemplate\":\"x=%{x}<br>y=%{y}<br>z=%{z}<br>color=%{marker.color}<extra></extra>\",\"legendgroup\":\"\",\"marker\":{\"color\":[13,10,9,12,8,13,9,11,7,14,12,6,5,6,4,12,9,7,8,14,4,7,3,2,1,15,8,2,1,2,15,10,0,14,13,15,10,15,10,15,13,9,5,2,4,3,15,11,11,3,4,14,0,12,1,8,15,3,5,7,3,11,10,0,12,14,0,12,7,1,1,6,6,0,6,5,5,14,15,9,11,13,2,14,13,4,11,8],\"coloraxis\":\"coloraxis\",\"symbol\":\"circle\",\"size\":2},\"mode\":\"markers\",\"name\":\"\",\"scene\":\"scene\",\"showlegend\":false,\"x\":[-0.521308958530426,8.971344947814941,-2.1961841583251953,11.629617691040039,11.642799377441406,-0.7150713205337524,-2.0580971240997314,-2.8407719135284424,6.572828769683838,8.24896240234375,11.703582763671875,11.264938354492188,6.192390441894531,11.234114646911621,11.264718055725098,11.50366497039795,-1.8195483684539795,6.783157825469971,11.56159496307373,7.820819854736328,11.071127891540527,6.317291259765625,9.187307357788086,8.84837818145752,7.305558681488037,11.152928352355957,11.753949165344238,8.794798851013184,7.501105785369873,8.682173728942871,10.960570335388184,10.56343936920166,-1.601026177406311,8.038843154907227,-0.7912242412567139,11.225111961364746,10.721555709838867,11.266180038452148,9.09199333190918,11.141420364379883,-0.7113057971000671,-2.1539859771728516,6.403195858001709,8.762591361999512,10.89098834991455,9.27999210357666,11.326696395874023,-3.1019082069396973,-3.017889976501465,9.455121994018555,11.177459716796875,8.06509017944336,-1.8982537984848022,11.6376314163208,7.38331413269043,11.834623336791992,11.3082857131958,9.413630485534668,6.083649158477783,6.815155029296875,9.406449317932129,-2.9570319652557373,9.281982421875,-1.7233022451400757,11.72278881072998,8.279149055480957,-2.1098437309265137,11.568589210510254,6.1754841804504395,7.201404094696045,7.060678958892822,11.114964485168457,11.040793418884277,-1.8902103900909424,11.194414138793945,6.307775497436523,6.710346698760986,7.754386901855469,11.027860641479492,-2.0742552280426025,-3.143827199935913,-0.26677441596984863,9.008218765258789,8.436453819274902,-0.6112008690834045,11.322124481201172,-2.9162392616271973,11.807092666625977],\"y\":[1.1662110090255737,2.3981523513793945,1.3265964984893799,6.896123886108398,7.520366668701172,1.5692048072814941,1.4673668146133423,3.8984835147857666,-0.2445509284734726,0.8092630505561829,6.678308963775635,5.8831706047058105,-0.19434762001037598,5.353825092315674,5.8312883377075195,6.369554042816162,1.334275245666504,-0.17242495715618134,7.546435832977295,0.5406725406646729,5.389362335205078,0.039043277502059937,2.5645806789398193,2.014071464538574,0.4536140263080597,6.587286472320557,7.674646377563477,2.2266740798950195,0.3036711513996124,1.6949739456176758,7.265018463134766,4.735591411590576,1.6914082765579224,0.6148366332054138,1.3945038318634033,7.789341926574707,4.865951061248779,7.702856540679932,2.256394386291504,7.441520690917969,1.3215519189834595,1.4138946533203125,0.01842464506626129,1.796905755996704,5.478372573852539,2.402846574783325,7.698466777801514,3.6712820529937744,3.809638261795044,2.7238152027130127,5.408750534057617,0.7374482750892639,1.5649254322052002,7.1443400382995605,0.09219623357057571,7.6224684715271,7.311285495758057,2.446239471435547,0.1840023398399353,-0.327113538980484,2.4626431465148926,3.9659533500671387,3.005993127822876,1.8113399744033813,7.127763271331787,0.9439237117767334,1.7116782665252686,6.29118013381958,0.09673406928777695,0.2839961647987366,0.15381066501140594,5.698816776275635,5.495707988739014,1.7091143131256104,5.617518424987793,0.01582261547446251,0.046364735811948776,0.576739490032196,7.4094109535217285,1.2974555492401123,3.797487497329712,1.6355302333831787,1.8912231922149658,1.3138095140457153,1.431355595588684,5.257233619689941,3.6818535327911377,7.447854518890381],\"z\":[3.3154563903808594,4.41650390625,3.4325742721557617,4.7556681632995605,5.697761535644531,3.6561591625213623,3.2691287994384766,5.890871524810791,2.7293591499328613,3.4450159072875977,4.668908596038818,4.671243667602539,3.183072328567505,4.820938587188721,5.259775161743164,4.650951862335205,3.478898048400879,2.8983819484710693,6.0199875831604,3.5113906860351562,5.040100574493408,2.6747965812683105,3.9736406803131104,4.45084285736084,3.0951790809631348,5.45119047164917,6.218932628631592,3.857651710510254,3.412257671356201,3.952493190765381,5.54815673828125,4.889910697937012,3.816100597381592,3.441394805908203,3.314922332763672,5.838778018951416,5.037317752838135,5.667359828948975,4.350376605987549,5.699755668640137,3.4101598262786865,3.765143394470215,3.34791898727417,4.201483249664307,5.146976470947266,3.807586908340454,5.7418694496154785,5.70670747756958,5.795836925506592,3.9228601455688477,5.343507766723633,3.573288917541504,3.610046863555908,4.954436779022217,3.324394941329956,6.18855619430542,5.427870273590088,3.7617948055267334,3.0888795852661133,3.074394941329956,4.138930797576904,5.945876598358154,4.508402347564697,3.924309730529785,4.9957170486450195,3.7263548374176025,3.484851360321045,4.565644264221191,2.8576366901397705,3.198336362838745,3.3908674716949463,4.734986782073975,4.578797817230225,3.723736524581909,5.006180763244629,3.306915044784546,3.2023496627807617,3.5508368015289307,5.852648735046387,3.4823203086853027,5.7310404777526855,3.454899549484253,4.005091190338135,3.7926928997039795,3.481510877609253,5.161473274230957,5.68165397644043,5.921838760375977],\"type\":\"scatter3d\"}],                        {\"template\":{\"data\":{\"histogram2dcontour\":[{\"type\":\"histogram2dcontour\",\"colorbar\":{\"outlinewidth\":0,\"ticks\":\"\"},\"colorscale\":[[0.0,\"#0d0887\"],[0.1111111111111111,\"#46039f\"],[0.2222222222222222,\"#7201a8\"],[0.3333333333333333,\"#9c179e\"],[0.4444444444444444,\"#bd3786\"],[0.5555555555555556,\"#d8576b\"],[0.6666666666666666,\"#ed7953\"],[0.7777777777777778,\"#fb9f3a\"],[0.8888888888888888,\"#fdca26\"],[1.0,\"#f0f921\"]]}],\"choropleth\":[{\"type\":\"choropleth\",\"colorbar\":{\"outlinewidth\":0,\"ticks\":\"\"}}],\"histogram2d\":[{\"type\":\"histogram2d\",\"colorbar\":{\"outlinewidth\":0,\"ticks\":\"\"},\"colorscale\":[[0.0,\"#0d0887\"],[0.1111111111111111,\"#46039f\"],[0.2222222222222222,\"#7201a8\"],[0.3333333333333333,\"#9c179e\"],[0.4444444444444444,\"#bd3786\"],[0.5555555555555556,\"#d8576b\"],[0.6666666666666666,\"#ed7953\"],[0.7777777777777778,\"#fb9f3a\"],[0.8888888888888888,\"#fdca26\"],[1.0,\"#f0f921\"]]}],\"heatmap\":[{\"type\":\"heatmap\",\"colorbar\":{\"outlinewidth\":0,\"ticks\":\"\"},\"colorscale\":[[0.0,\"#0d0887\"],[0.1111111111111111,\"#46039f\"],[0.2222222222222222,\"#7201a8\"],[0.3333333333333333,\"#9c179e\"],[0.4444444444444444,\"#bd3786\"],[0.5555555555555556,\"#d8576b\"],[0.6666666666666666,\"#ed7953\"],[0.7777777777777778,\"#fb9f3a\"],[0.8888888888888888,\"#fdca26\"],[1.0,\"#f0f921\"]]}],\"heatmapgl\":[{\"type\":\"heatmapgl\",\"colorbar\":{\"outlinewidth\":0,\"ticks\":\"\"},\"colorscale\":[[0.0,\"#0d0887\"],[0.1111111111111111,\"#46039f\"],[0.2222222222222222,\"#7201a8\"],[0.3333333333333333,\"#9c179e\"],[0.4444444444444444,\"#bd3786\"],[0.5555555555555556,\"#d8576b\"],[0.6666666666666666,\"#ed7953\"],[0.7777777777777778,\"#fb9f3a\"],[0.8888888888888888,\"#fdca26\"],[1.0,\"#f0f921\"]]}],\"contourcarpet\":[{\"type\":\"contourcarpet\",\"colorbar\":{\"outlinewidth\":0,\"ticks\":\"\"}}],\"contour\":[{\"type\":\"contour\",\"colorbar\":{\"outlinewidth\":0,\"ticks\":\"\"},\"colorscale\":[[0.0,\"#0d0887\"],[0.1111111111111111,\"#46039f\"],[0.2222222222222222,\"#7201a8\"],[0.3333333333333333,\"#9c179e\"],[0.4444444444444444,\"#bd3786\"],[0.5555555555555556,\"#d8576b\"],[0.6666666666666666,\"#ed7953\"],[0.7777777777777778,\"#fb9f3a\"],[0.8888888888888888,\"#fdca26\"],[1.0,\"#f0f921\"]]}],\"surface\":[{\"type\":\"surface\",\"colorbar\":{\"outlinewidth\":0,\"ticks\":\"\"},\"colorscale\":[[0.0,\"#0d0887\"],[0.1111111111111111,\"#46039f\"],[0.2222222222222222,\"#7201a8\"],[0.3333333333333333,\"#9c179e\"],[0.4444444444444444,\"#bd3786\"],[0.5555555555555556,\"#d8576b\"],[0.6666666666666666,\"#ed7953\"],[0.7777777777777778,\"#fb9f3a\"],[0.8888888888888888,\"#fdca26\"],[1.0,\"#f0f921\"]]}],\"mesh3d\":[{\"type\":\"mesh3d\",\"colorbar\":{\"outlinewidth\":0,\"ticks\":\"\"}}],\"scatter\":[{\"fillpattern\":{\"fillmode\":\"overlay\",\"size\":10,\"solidity\":0.2},\"type\":\"scatter\"}],\"parcoords\":[{\"type\":\"parcoords\",\"line\":{\"colorbar\":{\"outlinewidth\":0,\"ticks\":\"\"}}}],\"scatterpolargl\":[{\"type\":\"scatterpolargl\",\"marker\":{\"colorbar\":{\"outlinewidth\":0,\"ticks\":\"\"}}}],\"bar\":[{\"error_x\":{\"color\":\"#2a3f5f\"},\"error_y\":{\"color\":\"#2a3f5f\"},\"marker\":{\"line\":{\"color\":\"#E5ECF6\",\"width\":0.5},\"pattern\":{\"fillmode\":\"overlay\",\"size\":10,\"solidity\":0.2}},\"type\":\"bar\"}],\"scattergeo\":[{\"type\":\"scattergeo\",\"marker\":{\"colorbar\":{\"outlinewidth\":0,\"ticks\":\"\"}}}],\"scatterpolar\":[{\"type\":\"scatterpolar\",\"marker\":{\"colorbar\":{\"outlinewidth\":0,\"ticks\":\"\"}}}],\"histogram\":[{\"marker\":{\"pattern\":{\"fillmode\":\"overlay\",\"size\":10,\"solidity\":0.2}},\"type\":\"histogram\"}],\"scattergl\":[{\"type\":\"scattergl\",\"marker\":{\"colorbar\":{\"outlinewidth\":0,\"ticks\":\"\"}}}],\"scatter3d\":[{\"type\":\"scatter3d\",\"line\":{\"colorbar\":{\"outlinewidth\":0,\"ticks\":\"\"}},\"marker\":{\"colorbar\":{\"outlinewidth\":0,\"ticks\":\"\"}}}],\"scattermapbox\":[{\"type\":\"scattermapbox\",\"marker\":{\"colorbar\":{\"outlinewidth\":0,\"ticks\":\"\"}}}],\"scatterternary\":[{\"type\":\"scatterternary\",\"marker\":{\"colorbar\":{\"outlinewidth\":0,\"ticks\":\"\"}}}],\"scattercarpet\":[{\"type\":\"scattercarpet\",\"marker\":{\"colorbar\":{\"outlinewidth\":0,\"ticks\":\"\"}}}],\"carpet\":[{\"aaxis\":{\"endlinecolor\":\"#2a3f5f\",\"gridcolor\":\"white\",\"linecolor\":\"white\",\"minorgridcolor\":\"white\",\"startlinecolor\":\"#2a3f5f\"},\"baxis\":{\"endlinecolor\":\"#2a3f5f\",\"gridcolor\":\"white\",\"linecolor\":\"white\",\"minorgridcolor\":\"white\",\"startlinecolor\":\"#2a3f5f\"},\"type\":\"carpet\"}],\"table\":[{\"cells\":{\"fill\":{\"color\":\"#EBF0F8\"},\"line\":{\"color\":\"white\"}},\"header\":{\"fill\":{\"color\":\"#C8D4E3\"},\"line\":{\"color\":\"white\"}},\"type\":\"table\"}],\"barpolar\":[{\"marker\":{\"line\":{\"color\":\"#E5ECF6\",\"width\":0.5},\"pattern\":{\"fillmode\":\"overlay\",\"size\":10,\"solidity\":0.2}},\"type\":\"barpolar\"}],\"pie\":[{\"automargin\":true,\"type\":\"pie\"}]},\"layout\":{\"autotypenumbers\":\"strict\",\"colorway\":[\"#636efa\",\"#EF553B\",\"#00cc96\",\"#ab63fa\",\"#FFA15A\",\"#19d3f3\",\"#FF6692\",\"#B6E880\",\"#FF97FF\",\"#FECB52\"],\"font\":{\"color\":\"#2a3f5f\"},\"hovermode\":\"closest\",\"hoverlabel\":{\"align\":\"left\"},\"paper_bgcolor\":\"white\",\"plot_bgcolor\":\"#E5ECF6\",\"polar\":{\"bgcolor\":\"#E5ECF6\",\"angularaxis\":{\"gridcolor\":\"white\",\"linecolor\":\"white\",\"ticks\":\"\"},\"radialaxis\":{\"gridcolor\":\"white\",\"linecolor\":\"white\",\"ticks\":\"\"}},\"ternary\":{\"bgcolor\":\"#E5ECF6\",\"aaxis\":{\"gridcolor\":\"white\",\"linecolor\":\"white\",\"ticks\":\"\"},\"baxis\":{\"gridcolor\":\"white\",\"linecolor\":\"white\",\"ticks\":\"\"},\"caxis\":{\"gridcolor\":\"white\",\"linecolor\":\"white\",\"ticks\":\"\"}},\"coloraxis\":{\"colorbar\":{\"outlinewidth\":0,\"ticks\":\"\"}},\"colorscale\":{\"sequential\":[[0.0,\"#0d0887\"],[0.1111111111111111,\"#46039f\"],[0.2222222222222222,\"#7201a8\"],[0.3333333333333333,\"#9c179e\"],[0.4444444444444444,\"#bd3786\"],[0.5555555555555556,\"#d8576b\"],[0.6666666666666666,\"#ed7953\"],[0.7777777777777778,\"#fb9f3a\"],[0.8888888888888888,\"#fdca26\"],[1.0,\"#f0f921\"]],\"sequentialminus\":[[0.0,\"#0d0887\"],[0.1111111111111111,\"#46039f\"],[0.2222222222222222,\"#7201a8\"],[0.3333333333333333,\"#9c179e\"],[0.4444444444444444,\"#bd3786\"],[0.5555555555555556,\"#d8576b\"],[0.6666666666666666,\"#ed7953\"],[0.7777777777777778,\"#fb9f3a\"],[0.8888888888888888,\"#fdca26\"],[1.0,\"#f0f921\"]],\"diverging\":[[0,\"#8e0152\"],[0.1,\"#c51b7d\"],[0.2,\"#de77ae\"],[0.3,\"#f1b6da\"],[0.4,\"#fde0ef\"],[0.5,\"#f7f7f7\"],[0.6,\"#e6f5d0\"],[0.7,\"#b8e186\"],[0.8,\"#7fbc41\"],[0.9,\"#4d9221\"],[1,\"#276419\"]]},\"xaxis\":{\"gridcolor\":\"white\",\"linecolor\":\"white\",\"ticks\":\"\",\"title\":{\"standoff\":15},\"zerolinecolor\":\"white\",\"automargin\":true,\"zerolinewidth\":2},\"yaxis\":{\"gridcolor\":\"white\",\"linecolor\":\"white\",\"ticks\":\"\",\"title\":{\"standoff\":15},\"zerolinecolor\":\"white\",\"automargin\":true,\"zerolinewidth\":2},\"scene\":{\"xaxis\":{\"backgroundcolor\":\"#E5ECF6\",\"gridcolor\":\"white\",\"linecolor\":\"white\",\"showbackground\":true,\"ticks\":\"\",\"zerolinecolor\":\"white\",\"gridwidth\":2},\"yaxis\":{\"backgroundcolor\":\"#E5ECF6\",\"gridcolor\":\"white\",\"linecolor\":\"white\",\"showbackground\":true,\"ticks\":\"\",\"zerolinecolor\":\"white\",\"gridwidth\":2},\"zaxis\":{\"backgroundcolor\":\"#E5ECF6\",\"gridcolor\":\"white\",\"linecolor\":\"white\",\"showbackground\":true,\"ticks\":\"\",\"zerolinecolor\":\"white\",\"gridwidth\":2}},\"shapedefaults\":{\"line\":{\"color\":\"#2a3f5f\"}},\"annotationdefaults\":{\"arrowcolor\":\"#2a3f5f\",\"arrowhead\":0,\"arrowwidth\":1},\"geo\":{\"bgcolor\":\"white\",\"landcolor\":\"#E5ECF6\",\"subunitcolor\":\"white\",\"showland\":true,\"showlakes\":true,\"lakecolor\":\"white\"},\"title\":{\"x\":0.05},\"mapbox\":{\"style\":\"light\"}}},\"scene\":{\"domain\":{\"x\":[0.0,1.0],\"y\":[0.0,1.0]},\"xaxis\":{\"title\":{\"text\":\"x\"}},\"yaxis\":{\"title\":{\"text\":\"y\"}},\"zaxis\":{\"title\":{\"text\":\"z\"}}},\"coloraxis\":{\"colorbar\":{\"title\":{\"text\":\"color\"}},\"colorscale\":[[0.0,\"#0d0887\"],[0.1111111111111111,\"#46039f\"],[0.2222222222222222,\"#7201a8\"],[0.3333333333333333,\"#9c179e\"],[0.4444444444444444,\"#bd3786\"],[0.5555555555555556,\"#d8576b\"],[0.6666666666666666,\"#ed7953\"],[0.7777777777777778,\"#fb9f3a\"],[0.8888888888888888,\"#fdca26\"],[1.0,\"#f0f921\"]]},\"legend\":{\"tracegroupgap\":0},\"margin\":{\"t\":60}},                        {\"responsive\": true}                    ).then(function(){\n",
       "                            \n",
       "var gd = document.getElementById('e8a6db53-3859-48af-a7ca-9e7d72395b51');\n",
       "var x = new MutationObserver(function (mutations, observer) {{\n",
       "        var display = window.getComputedStyle(gd).display;\n",
       "        if (!display || display === 'none') {{\n",
       "            console.log([gd, 'removed!']);\n",
       "            Plotly.purge(gd);\n",
       "            observer.disconnect();\n",
       "        }}\n",
       "}});\n",
       "\n",
       "// Listen for the removal of the full notebook cells\n",
       "var notebookContainer = gd.closest('#notebook-container');\n",
       "if (notebookContainer) {{\n",
       "    x.observe(notebookContainer, {childList: true});\n",
       "}}\n",
       "\n",
       "// Listen for the clearing of the current output cell\n",
       "var outputEl = gd.closest('.output');\n",
       "if (outputEl) {{\n",
       "    x.observe(outputEl, {childList: true});\n",
       "}}\n",
       "\n",
       "                        })                };                });            </script>        </div>"
      ]
     },
     "metadata": {},
     "output_type": "display_data"
    }
   ],
   "source": [
    "import plotly.express as px\n",
    "import pandas as pd\n",
    "\n",
    "# Create a sample data frame with three variables\n",
    "df = pd.DataFrame(embedded_data, columns=['x','y','z'])\n",
    "df['color'] = label_list\n",
    "\n",
    "# Create the 3D scatter plot using Plotly\n",
    "fig = px.scatter_3d(df, x='x', y='y', z='z', color='color')\n",
    "fig.update_traces(marker=dict(size=2))\n",
    "# Show the plot\n",
    "fig.show()\n"
   ]
  }
 ],
 "metadata": {
  "kernelspec": {
   "display_name": "Python 3 (ipykernel)",
   "language": "python",
   "name": "python3"
  },
  "language_info": {
   "codemirror_mode": {
    "name": "ipython",
    "version": 3
   },
   "file_extension": ".py",
   "mimetype": "text/x-python",
   "name": "python",
   "nbconvert_exporter": "python",
   "pygments_lexer": "ipython3",
   "version": "3.8.15"
  }
 },
 "nbformat": 4,
 "nbformat_minor": 5
}
