{
 "cells": [
  {
   "cell_type": "code",
   "execution_count": null,
   "id": "acce9bbe",
   "metadata": {},
   "outputs": [],
   "source": [
    "from tqdm import tqdm\n",
    "import pandas as pd\n",
    "import sys\n",
    "\n",
    "gt_df = pd.read_csv('/home/nas4_user/saemeechoi/course/DataMining/WCL/data/dataset/itemset_item_valid_answer.csv', header=False)\n",
    "\n",
    "# top 100에 itemset_item_valid_query에 있는 item은 빠져야 할 듯\n",
    "pred_df = pd.read_csv('itemset_item_valid_prediction.csv', header=False)"
   ]
  },
  {
   "cell_type": "code",
   "execution_count": null,
   "id": "cf85f14d",
   "metadata": {},
   "outputs": [],
   "source": [
    "def generate_top100(pred_df):\n",
    "    \n",
    "    itemset2top100 = {}\n",
    "    for i in tqdm(range(len(pred_df))):\n",
    "        \n",
    "        itemset_id = str(df.iloc[i, 0].value())\n",
    "        top100 = list(df.iloc[i, 1:].astype(str))\n",
    "        itemset2top100[itemset_id] = top100\n",
    "    \n",
    "    return itemset2top100"
   ]
  },
  {
   "cell_type": "code",
   "execution_count": null,
   "id": "837713fe",
   "metadata": {},
   "outputs": [],
   "source": [
    "itemset2top100 = generate_top100(pred_df)"
   ]
  },
  {
   "cell_type": "code",
   "execution_count": null,
   "id": "cfc6e9ae",
   "metadata": {},
   "outputs": [],
   "source": [
    "correct = 0\n",
    "rank = 0\n",
    "for i in tqdm(range(len(gt_df))):\n",
    "\n",
    "    itemset_id = str(gt_df.iloc[i, 0].value())\n",
    "    item = str(gt_df.iloc[i, 1].value())\n",
    "\n",
    "    if item in itemset2top100[itemset_id]:\n",
    "        correct += 1\n",
    "        rank += (itemset2top100[itemset_id].index(item) + 1)\n",
    "    else:\n",
    "        rank += 101        \n",
    "        \n",
    "avg_acc = correct / len(gt_df)\n",
    "acv_rank  rank / len(valid_answer_df)"
   ]
  }
 ],
 "metadata": {
  "kernelspec": {
   "display_name": "Python 3 (ipykernel)",
   "language": "python",
   "name": "python3"
  },
  "language_info": {
   "codemirror_mode": {
    "name": "ipython",
    "version": 3
   },
   "file_extension": ".py",
   "mimetype": "text/x-python",
   "name": "python",
   "nbconvert_exporter": "python",
   "pygments_lexer": "ipython3",
   "version": "3.8.15"
  }
 },
 "nbformat": 4,
 "nbformat_minor": 5
}
