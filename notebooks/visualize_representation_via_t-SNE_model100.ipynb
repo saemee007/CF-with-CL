{
 "cells": [
  {
   "cell_type": "code",
   "execution_count": 5,
   "id": "e6bb71b5",
   "metadata": {},
   "outputs": [],
   "source": [
    "import sys\n",
    "\n",
    "sys.path.append('/home/saemeechoi/cls_noise/with_WCL/')\n",
    "\n",
    "sys.path.append('/home/saemeechoi/')\n",
    "\n",
    "from view import myshow"
   ]
  },
  {
   "cell_type": "code",
   "execution_count": 6,
   "id": "0b9d6693",
   "metadata": {},
   "outputs": [],
   "source": [
    "import os\n",
    "import math\n",
    "import time\n",
    "from math import sqrt\n",
    "import numpy as np\n",
    "\n",
    "import torch\n",
    "import torch.nn as nn\n",
    "import torch.multiprocessing as mp\n",
    "\n",
    "import torchvision.transforms as transforms\n",
    "\n",
    "from data import get_dataset\n",
    "from data.augmentation import *\n",
    "\n",
    "from util.meter import *\n",
    "from util.torch_dist_sum import *\n",
    "from util.accuracy import accuracy\n",
    "from util.LARS import LARS\n",
    "from util.parsing import set_seed\n",
    "from util import parsing\n",
    "from tqdm import tqdm\n",
    "\n",
    "from network.wcl import WCL\n",
    "from torch.distributed import init_process_group, destroy_process_group"
   ]
  },
  {
   "cell_type": "code",
   "execution_count": 7,
   "id": "2d403b2b",
   "metadata": {},
   "outputs": [],
   "source": [
    "from easydict import EasyDict as edict\n",
    "args = edict({\n",
    "    'batch_size':256,\n",
    "    'epochs':100,\n",
    "    'warmup_epochs':10,\n",
    "    'gpu_ids':0,\n",
    "    \n",
    "    'dataset':'cifar10_cl',\n",
    "    'noise_type':'pairflip',\n",
    "    'closeset_ratio':0.4,\n",
    "    'openset_ratio':0.2,\n",
    "    \n",
    "    'ngpus':torch.cuda.device_count(),\n",
    "    'num_workers':4\n",
    "    \n",
    "})"
   ]
  },
  {
   "cell_type": "code",
   "execution_count": 8,
   "id": "16b14569",
   "metadata": {},
   "outputs": [],
   "source": [
    "aug = transforms.Compose([\n",
    "    transforms.ToTensor(),\n",
    "    transforms.Normalize(mean=[0.485, 0.456, 0.406],\n",
    "                            std=[0.229, 0.224, 0.225])\n",
    "])"
   ]
  },
  {
   "cell_type": "code",
   "execution_count": 9,
   "id": "70bb047f",
   "metadata": {},
   "outputs": [
    {
     "name": "stdout",
     "output_type": "stream",
     "text": [
      "Noise Transition Matrix: \n",
      " [[0.6   0.4   0.    0.    0.    0.    0.    0.    0.    0.   ]\n",
      " [0.    0.6   0.4   0.    0.    0.    0.    0.    0.    0.   ]\n",
      " [0.    0.    0.6   0.4   0.    0.    0.    0.    0.    0.   ]\n",
      " [0.    0.    0.    0.6   0.4   0.    0.    0.    0.    0.   ]\n",
      " [0.    0.    0.    0.    0.6   0.4   0.    0.    0.    0.   ]\n",
      " [0.    0.    0.    0.    0.    0.6   0.4   0.    0.    0.   ]\n",
      " [0.    0.    0.    0.    0.    0.    0.6   0.4   0.    0.   ]\n",
      " [0.4   0.    0.    0.    0.    0.    0.    0.6   0.    0.   ]\n",
      " [0.125 0.125 0.125 0.125 0.125 0.125 0.125 0.125 0.    0.   ]\n",
      " [0.125 0.125 0.125 0.125 0.125 0.125 0.125 0.125 0.    0.   ]]\n",
      "Noise Type: pairflip (close set: 0.4, open set: 0.2)\n",
      "Actual Total Noise Ratio: 0.520\n"
     ]
    }
   ],
   "source": [
    "not_aug_train_dataset = get_dataset(args, aug=aug, return_label=True)"
   ]
  },
  {
   "cell_type": "code",
   "execution_count": 11,
   "id": "bac5bf4d",
   "metadata": {
    "collapsed": true
   },
   "outputs": [
    {
     "data": {
      "text/plain": [
       "(tensor([[[-1.1075, -1.3815, -1.2617,  ...,  0.5878,  0.4851,  0.4166],\n",
       "          [-1.8439, -2.1179, -1.8097,  ..., -0.0116, -0.0801, -0.0287],\n",
       "          [-1.6898, -1.8439, -1.2788,  ..., -0.0972, -0.0629, -0.2513],\n",
       "          ...,\n",
       "          [ 1.4440,  1.3242,  1.2728,  ...,  0.6221, -1.1589, -1.2103],\n",
       "          [ 0.9646,  0.8447,  1.0673,  ...,  1.0331, -0.4568, -0.6965],\n",
       "          [ 0.9132,  0.7591,  0.9474,  ...,  1.5810,  0.4679, -0.0116]],\n",
       " \n",
       "         [[-0.9503, -1.2304, -1.1954,  ...,  0.2752,  0.1527,  0.1352],\n",
       "          [-1.6856, -2.0357, -1.8957,  ..., -0.4951, -0.5826, -0.5126],\n",
       "          [-1.6155, -1.9132, -1.5630,  ..., -0.5651, -0.5651, -0.7577],\n",
       "          ...,\n",
       "          [ 0.9405,  0.6429,  0.7829,  ...,  0.2927, -1.4930, -1.4405],\n",
       "          [ 0.3978,  0.1176,  0.4853,  ...,  0.5553, -0.9503, -1.1078],\n",
       "          [ 0.4853,  0.2227,  0.4503,  ...,  1.1856,  0.0301, -0.4251]],\n",
       " \n",
       "         [[-0.7064, -1.0201, -1.0550,  ...,  0.0779, -0.0267, -0.0092],\n",
       "          [-1.4559, -1.8044, -1.8044,  ..., -0.8458, -0.9330, -0.8110],\n",
       "          [-1.4384, -1.8044, -1.6650,  ..., -0.9330, -0.9330, -1.0724],\n",
       "          ...,\n",
       "          [-0.1312, -1.2119, -1.3513,  ..., -0.5844, -1.6824, -1.4559],\n",
       "          [-0.1312, -1.0724, -1.2816,  ..., -0.1661, -1.2119, -1.2119],\n",
       "          [ 0.2173, -0.1661, -0.2881,  ...,  0.6356, -0.3404, -0.5495]]]),\n",
       " 6,\n",
       " 6)"
      ]
     },
     "execution_count": 11,
     "metadata": {},
     "output_type": "execute_result"
    }
   ],
   "source": [
    "not_aug_train_dataset[0] # img, noisy_target, clean_target"
   ]
  },
  {
   "cell_type": "markdown",
   "id": "2c1280bd",
   "metadata": {},
   "source": [
    "# Model 100"
   ]
  },
  {
   "cell_type": "code",
   "execution_count": 11,
   "id": "96e52570",
   "metadata": {},
   "outputs": [
    {
     "data": {
      "text/plain": [
       "WCL(\n",
       "  (net): ResNet(\n",
       "    (conv1): Conv2d(3, 64, kernel_size=(7, 7), stride=(2, 2), padding=(3, 3), bias=False)\n",
       "    (bn1): BatchNorm2d(64, eps=1e-05, momentum=0.1, affine=True, track_running_stats=True)\n",
       "    (relu): ReLU(inplace=True)\n",
       "    (maxpool): MaxPool2d(kernel_size=3, stride=2, padding=1, dilation=1, ceil_mode=False)\n",
       "    (layer1): Sequential(\n",
       "      (0): Bottleneck(\n",
       "        (conv1): Conv2d(64, 64, kernel_size=(1, 1), stride=(1, 1), bias=False)\n",
       "        (bn1): BatchNorm2d(64, eps=1e-05, momentum=0.1, affine=True, track_running_stats=True)\n",
       "        (conv2): Conv2d(64, 64, kernel_size=(3, 3), stride=(1, 1), padding=(1, 1), bias=False)\n",
       "        (bn2): BatchNorm2d(64, eps=1e-05, momentum=0.1, affine=True, track_running_stats=True)\n",
       "        (conv3): Conv2d(64, 256, kernel_size=(1, 1), stride=(1, 1), bias=False)\n",
       "        (bn3): BatchNorm2d(256, eps=1e-05, momentum=0.1, affine=True, track_running_stats=True)\n",
       "        (relu): ReLU(inplace=True)\n",
       "        (downsample): Sequential(\n",
       "          (0): Conv2d(64, 256, kernel_size=(1, 1), stride=(1, 1), bias=False)\n",
       "          (1): BatchNorm2d(256, eps=1e-05, momentum=0.1, affine=True, track_running_stats=True)\n",
       "        )\n",
       "      )\n",
       "      (1): Bottleneck(\n",
       "        (conv1): Conv2d(256, 64, kernel_size=(1, 1), stride=(1, 1), bias=False)\n",
       "        (bn1): BatchNorm2d(64, eps=1e-05, momentum=0.1, affine=True, track_running_stats=True)\n",
       "        (conv2): Conv2d(64, 64, kernel_size=(3, 3), stride=(1, 1), padding=(1, 1), bias=False)\n",
       "        (bn2): BatchNorm2d(64, eps=1e-05, momentum=0.1, affine=True, track_running_stats=True)\n",
       "        (conv3): Conv2d(64, 256, kernel_size=(1, 1), stride=(1, 1), bias=False)\n",
       "        (bn3): BatchNorm2d(256, eps=1e-05, momentum=0.1, affine=True, track_running_stats=True)\n",
       "        (relu): ReLU(inplace=True)\n",
       "      )\n",
       "      (2): Bottleneck(\n",
       "        (conv1): Conv2d(256, 64, kernel_size=(1, 1), stride=(1, 1), bias=False)\n",
       "        (bn1): BatchNorm2d(64, eps=1e-05, momentum=0.1, affine=True, track_running_stats=True)\n",
       "        (conv2): Conv2d(64, 64, kernel_size=(3, 3), stride=(1, 1), padding=(1, 1), bias=False)\n",
       "        (bn2): BatchNorm2d(64, eps=1e-05, momentum=0.1, affine=True, track_running_stats=True)\n",
       "        (conv3): Conv2d(64, 256, kernel_size=(1, 1), stride=(1, 1), bias=False)\n",
       "        (bn3): BatchNorm2d(256, eps=1e-05, momentum=0.1, affine=True, track_running_stats=True)\n",
       "        (relu): ReLU(inplace=True)\n",
       "      )\n",
       "    )\n",
       "    (layer2): Sequential(\n",
       "      (0): Bottleneck(\n",
       "        (conv1): Conv2d(256, 128, kernel_size=(1, 1), stride=(1, 1), bias=False)\n",
       "        (bn1): BatchNorm2d(128, eps=1e-05, momentum=0.1, affine=True, track_running_stats=True)\n",
       "        (conv2): Conv2d(128, 128, kernel_size=(3, 3), stride=(2, 2), padding=(1, 1), bias=False)\n",
       "        (bn2): BatchNorm2d(128, eps=1e-05, momentum=0.1, affine=True, track_running_stats=True)\n",
       "        (conv3): Conv2d(128, 512, kernel_size=(1, 1), stride=(1, 1), bias=False)\n",
       "        (bn3): BatchNorm2d(512, eps=1e-05, momentum=0.1, affine=True, track_running_stats=True)\n",
       "        (relu): ReLU(inplace=True)\n",
       "        (downsample): Sequential(\n",
       "          (0): Conv2d(256, 512, kernel_size=(1, 1), stride=(2, 2), bias=False)\n",
       "          (1): BatchNorm2d(512, eps=1e-05, momentum=0.1, affine=True, track_running_stats=True)\n",
       "        )\n",
       "      )\n",
       "      (1): Bottleneck(\n",
       "        (conv1): Conv2d(512, 128, kernel_size=(1, 1), stride=(1, 1), bias=False)\n",
       "        (bn1): BatchNorm2d(128, eps=1e-05, momentum=0.1, affine=True, track_running_stats=True)\n",
       "        (conv2): Conv2d(128, 128, kernel_size=(3, 3), stride=(1, 1), padding=(1, 1), bias=False)\n",
       "        (bn2): BatchNorm2d(128, eps=1e-05, momentum=0.1, affine=True, track_running_stats=True)\n",
       "        (conv3): Conv2d(128, 512, kernel_size=(1, 1), stride=(1, 1), bias=False)\n",
       "        (bn3): BatchNorm2d(512, eps=1e-05, momentum=0.1, affine=True, track_running_stats=True)\n",
       "        (relu): ReLU(inplace=True)\n",
       "      )\n",
       "      (2): Bottleneck(\n",
       "        (conv1): Conv2d(512, 128, kernel_size=(1, 1), stride=(1, 1), bias=False)\n",
       "        (bn1): BatchNorm2d(128, eps=1e-05, momentum=0.1, affine=True, track_running_stats=True)\n",
       "        (conv2): Conv2d(128, 128, kernel_size=(3, 3), stride=(1, 1), padding=(1, 1), bias=False)\n",
       "        (bn2): BatchNorm2d(128, eps=1e-05, momentum=0.1, affine=True, track_running_stats=True)\n",
       "        (conv3): Conv2d(128, 512, kernel_size=(1, 1), stride=(1, 1), bias=False)\n",
       "        (bn3): BatchNorm2d(512, eps=1e-05, momentum=0.1, affine=True, track_running_stats=True)\n",
       "        (relu): ReLU(inplace=True)\n",
       "      )\n",
       "      (3): Bottleneck(\n",
       "        (conv1): Conv2d(512, 128, kernel_size=(1, 1), stride=(1, 1), bias=False)\n",
       "        (bn1): BatchNorm2d(128, eps=1e-05, momentum=0.1, affine=True, track_running_stats=True)\n",
       "        (conv2): Conv2d(128, 128, kernel_size=(3, 3), stride=(1, 1), padding=(1, 1), bias=False)\n",
       "        (bn2): BatchNorm2d(128, eps=1e-05, momentum=0.1, affine=True, track_running_stats=True)\n",
       "        (conv3): Conv2d(128, 512, kernel_size=(1, 1), stride=(1, 1), bias=False)\n",
       "        (bn3): BatchNorm2d(512, eps=1e-05, momentum=0.1, affine=True, track_running_stats=True)\n",
       "        (relu): ReLU(inplace=True)\n",
       "      )\n",
       "    )\n",
       "    (layer3): Sequential(\n",
       "      (0): Bottleneck(\n",
       "        (conv1): Conv2d(512, 256, kernel_size=(1, 1), stride=(1, 1), bias=False)\n",
       "        (bn1): BatchNorm2d(256, eps=1e-05, momentum=0.1, affine=True, track_running_stats=True)\n",
       "        (conv2): Conv2d(256, 256, kernel_size=(3, 3), stride=(2, 2), padding=(1, 1), bias=False)\n",
       "        (bn2): BatchNorm2d(256, eps=1e-05, momentum=0.1, affine=True, track_running_stats=True)\n",
       "        (conv3): Conv2d(256, 1024, kernel_size=(1, 1), stride=(1, 1), bias=False)\n",
       "        (bn3): BatchNorm2d(1024, eps=1e-05, momentum=0.1, affine=True, track_running_stats=True)\n",
       "        (relu): ReLU(inplace=True)\n",
       "        (downsample): Sequential(\n",
       "          (0): Conv2d(512, 1024, kernel_size=(1, 1), stride=(2, 2), bias=False)\n",
       "          (1): BatchNorm2d(1024, eps=1e-05, momentum=0.1, affine=True, track_running_stats=True)\n",
       "        )\n",
       "      )\n",
       "      (1): Bottleneck(\n",
       "        (conv1): Conv2d(1024, 256, kernel_size=(1, 1), stride=(1, 1), bias=False)\n",
       "        (bn1): BatchNorm2d(256, eps=1e-05, momentum=0.1, affine=True, track_running_stats=True)\n",
       "        (conv2): Conv2d(256, 256, kernel_size=(3, 3), stride=(1, 1), padding=(1, 1), bias=False)\n",
       "        (bn2): BatchNorm2d(256, eps=1e-05, momentum=0.1, affine=True, track_running_stats=True)\n",
       "        (conv3): Conv2d(256, 1024, kernel_size=(1, 1), stride=(1, 1), bias=False)\n",
       "        (bn3): BatchNorm2d(1024, eps=1e-05, momentum=0.1, affine=True, track_running_stats=True)\n",
       "        (relu): ReLU(inplace=True)\n",
       "      )\n",
       "      (2): Bottleneck(\n",
       "        (conv1): Conv2d(1024, 256, kernel_size=(1, 1), stride=(1, 1), bias=False)\n",
       "        (bn1): BatchNorm2d(256, eps=1e-05, momentum=0.1, affine=True, track_running_stats=True)\n",
       "        (conv2): Conv2d(256, 256, kernel_size=(3, 3), stride=(1, 1), padding=(1, 1), bias=False)\n",
       "        (bn2): BatchNorm2d(256, eps=1e-05, momentum=0.1, affine=True, track_running_stats=True)\n",
       "        (conv3): Conv2d(256, 1024, kernel_size=(1, 1), stride=(1, 1), bias=False)\n",
       "        (bn3): BatchNorm2d(1024, eps=1e-05, momentum=0.1, affine=True, track_running_stats=True)\n",
       "        (relu): ReLU(inplace=True)\n",
       "      )\n",
       "      (3): Bottleneck(\n",
       "        (conv1): Conv2d(1024, 256, kernel_size=(1, 1), stride=(1, 1), bias=False)\n",
       "        (bn1): BatchNorm2d(256, eps=1e-05, momentum=0.1, affine=True, track_running_stats=True)\n",
       "        (conv2): Conv2d(256, 256, kernel_size=(3, 3), stride=(1, 1), padding=(1, 1), bias=False)\n",
       "        (bn2): BatchNorm2d(256, eps=1e-05, momentum=0.1, affine=True, track_running_stats=True)\n",
       "        (conv3): Conv2d(256, 1024, kernel_size=(1, 1), stride=(1, 1), bias=False)\n",
       "        (bn3): BatchNorm2d(1024, eps=1e-05, momentum=0.1, affine=True, track_running_stats=True)\n",
       "        (relu): ReLU(inplace=True)\n",
       "      )\n",
       "      (4): Bottleneck(\n",
       "        (conv1): Conv2d(1024, 256, kernel_size=(1, 1), stride=(1, 1), bias=False)\n",
       "        (bn1): BatchNorm2d(256, eps=1e-05, momentum=0.1, affine=True, track_running_stats=True)\n",
       "        (conv2): Conv2d(256, 256, kernel_size=(3, 3), stride=(1, 1), padding=(1, 1), bias=False)\n",
       "        (bn2): BatchNorm2d(256, eps=1e-05, momentum=0.1, affine=True, track_running_stats=True)\n",
       "        (conv3): Conv2d(256, 1024, kernel_size=(1, 1), stride=(1, 1), bias=False)\n",
       "        (bn3): BatchNorm2d(1024, eps=1e-05, momentum=0.1, affine=True, track_running_stats=True)\n",
       "        (relu): ReLU(inplace=True)\n",
       "      )\n",
       "      (5): Bottleneck(\n",
       "        (conv1): Conv2d(1024, 256, kernel_size=(1, 1), stride=(1, 1), bias=False)\n",
       "        (bn1): BatchNorm2d(256, eps=1e-05, momentum=0.1, affine=True, track_running_stats=True)\n",
       "        (conv2): Conv2d(256, 256, kernel_size=(3, 3), stride=(1, 1), padding=(1, 1), bias=False)\n",
       "        (bn2): BatchNorm2d(256, eps=1e-05, momentum=0.1, affine=True, track_running_stats=True)\n",
       "        (conv3): Conv2d(256, 1024, kernel_size=(1, 1), stride=(1, 1), bias=False)\n",
       "        (bn3): BatchNorm2d(1024, eps=1e-05, momentum=0.1, affine=True, track_running_stats=True)\n",
       "        (relu): ReLU(inplace=True)\n",
       "      )\n",
       "    )\n",
       "    (layer4): Sequential(\n",
       "      (0): Bottleneck(\n",
       "        (conv1): Conv2d(1024, 512, kernel_size=(1, 1), stride=(1, 1), bias=False)\n",
       "        (bn1): BatchNorm2d(512, eps=1e-05, momentum=0.1, affine=True, track_running_stats=True)\n",
       "        (conv2): Conv2d(512, 512, kernel_size=(3, 3), stride=(2, 2), padding=(1, 1), bias=False)\n",
       "        (bn2): BatchNorm2d(512, eps=1e-05, momentum=0.1, affine=True, track_running_stats=True)\n",
       "        (conv3): Conv2d(512, 2048, kernel_size=(1, 1), stride=(1, 1), bias=False)\n",
       "        (bn3): BatchNorm2d(2048, eps=1e-05, momentum=0.1, affine=True, track_running_stats=True)\n",
       "        (relu): ReLU(inplace=True)\n",
       "        (downsample): Sequential(\n",
       "          (0): Conv2d(1024, 2048, kernel_size=(1, 1), stride=(2, 2), bias=False)\n",
       "          (1): BatchNorm2d(2048, eps=1e-05, momentum=0.1, affine=True, track_running_stats=True)\n",
       "        )\n",
       "      )\n",
       "      (1): Bottleneck(\n",
       "        (conv1): Conv2d(2048, 512, kernel_size=(1, 1), stride=(1, 1), bias=False)\n",
       "        (bn1): BatchNorm2d(512, eps=1e-05, momentum=0.1, affine=True, track_running_stats=True)\n",
       "        (conv2): Conv2d(512, 512, kernel_size=(3, 3), stride=(1, 1), padding=(1, 1), bias=False)\n",
       "        (bn2): BatchNorm2d(512, eps=1e-05, momentum=0.1, affine=True, track_running_stats=True)\n",
       "        (conv3): Conv2d(512, 2048, kernel_size=(1, 1), stride=(1, 1), bias=False)\n",
       "        (bn3): BatchNorm2d(2048, eps=1e-05, momentum=0.1, affine=True, track_running_stats=True)\n",
       "        (relu): ReLU(inplace=True)\n",
       "      )\n",
       "      (2): Bottleneck(\n",
       "        (conv1): Conv2d(2048, 512, kernel_size=(1, 1), stride=(1, 1), bias=False)\n",
       "        (bn1): BatchNorm2d(512, eps=1e-05, momentum=0.1, affine=True, track_running_stats=True)\n",
       "        (conv2): Conv2d(512, 512, kernel_size=(3, 3), stride=(1, 1), padding=(1, 1), bias=False)\n",
       "        (bn2): BatchNorm2d(512, eps=1e-05, momentum=0.1, affine=True, track_running_stats=True)\n",
       "        (conv3): Conv2d(512, 2048, kernel_size=(1, 1), stride=(1, 1), bias=False)\n",
       "        (bn3): BatchNorm2d(2048, eps=1e-05, momentum=0.1, affine=True, track_running_stats=True)\n",
       "        (relu): ReLU(inplace=True)\n",
       "      )\n",
       "    )\n",
       "    (avgpool): AdaptiveAvgPool2d(output_size=(1, 1))\n",
       "  )\n",
       "  (head1): ProjectionHead(\n",
       "    (linear1): Linear(in_features=2048, out_features=4096, bias=True)\n",
       "    (bn1): BatchNorm1d(4096, eps=1e-05, momentum=0.1, affine=True, track_running_stats=True)\n",
       "    (relu1): ReLU(inplace=True)\n",
       "    (linear2): Linear(in_features=4096, out_features=4096, bias=True)\n",
       "    (bn2): BatchNorm1d(4096, eps=1e-05, momentum=0.1, affine=True, track_running_stats=True)\n",
       "    (relu2): ReLU(inplace=True)\n",
       "    (linear3): Linear(in_features=4096, out_features=256, bias=True)\n",
       "  )\n",
       "  (head2): ProjectionHead(\n",
       "    (linear1): Linear(in_features=2048, out_features=4096, bias=True)\n",
       "    (bn1): BatchNorm1d(4096, eps=1e-05, momentum=0.1, affine=True, track_running_stats=True)\n",
       "    (relu1): ReLU(inplace=True)\n",
       "    (linear2): Linear(in_features=4096, out_features=4096, bias=True)\n",
       "    (bn2): BatchNorm1d(4096, eps=1e-05, momentum=0.1, affine=True, track_running_stats=True)\n",
       "    (relu2): ReLU(inplace=True)\n",
       "    (linear3): Linear(in_features=4096, out_features=256, bias=True)\n",
       "  )\n",
       ")"
      ]
     },
     "execution_count": 11,
     "metadata": {},
     "output_type": "execute_result"
    }
   ],
   "source": [
    "model = WCL()\n",
    "\n",
    "checkpoint_path = '/home/saemeechoi/cls_noise/with_WCL/checkpoints/wcl-100_1.pth'\n",
    "checkpoint =  torch.load(checkpoint_path, map_location='cpu')\n",
    "model.load_state_dict(checkpoint['model'])\n",
    "model.eval()"
   ]
  },
  {
   "cell_type": "code",
   "execution_count": 14,
   "id": "e4a76b63",
   "metadata": {},
   "outputs": [
    {
     "name": "stderr",
     "output_type": "stream",
     "text": [
      "Clipping input data to the valid range for imshow with RGB data ([0..1] for floats or [0..255] for integers).\n"
     ]
    },
    {
     "data": {
      "image/png": "[encoded data removed]",
      "text/plain": [
       "<Figure size 67.2x67.2 with 1 Axes>"
      ]
     },
     "metadata": {
      "needs_background": "light"
     },
     "output_type": "display_data"
    }
   ],
   "source": [
    "myshow(np.transpose(not_aug_train_dataset[14][0], (1,2,0)))\n",
    "\n",
    "# 오잉 그림이 왜 이따구여 나도 못 알아보겠는디"
   ]
  },
  {
   "cell_type": "markdown",
   "id": "7c6d2885",
   "metadata": {},
   "source": [
    "# Sampling data a few"
   ]
  },
  {
   "cell_type": "code",
   "execution_count": 20,
   "id": "73e3c84a",
   "metadata": {
    "collapsed": true
   },
   "outputs": [
    {
     "name": "stderr",
     "output_type": "stream",
     "text": [
      "  0%|                                                  | 108/50000 [06:30<50:05:06,  3.61s/it]\n"
     ]
    },
    {
     "ename": "KeyboardInterrupt",
     "evalue": "",
     "output_type": "error",
     "traceback": [
      "\u001b[0;31m---------------------------------------------------------------------------\u001b[0m",
      "\u001b[0;31mKeyboardInterrupt\u001b[0m                         Traceback (most recent call last)",
      "Input \u001b[0;32mIn [20]\u001b[0m, in \u001b[0;36m<cell line: 7>\u001b[0;34m()\u001b[0m\n\u001b[1;32m      6\u001b[0m clean_target_list \u001b[38;5;241m=\u001b[39m []\n\u001b[1;32m      7\u001b[0m \u001b[38;5;28;01mfor\u001b[39;00m img, noisy_target, clean_target \u001b[38;5;129;01min\u001b[39;00m tqdm(not_aug_train_dataset):\n\u001b[0;32m----> 8\u001b[0m     representation_list\u001b[38;5;241m.\u001b[39mappend(\u001b[43mmodel\u001b[49m\u001b[38;5;241;43m.\u001b[39;49m\u001b[43mnet\u001b[49m\u001b[43m(\u001b[49m\u001b[43mimg\u001b[49m\u001b[43m[\u001b[49m\u001b[38;5;28;43;01mNone\u001b[39;49;00m\u001b[43m]\u001b[49m\u001b[43m)\u001b[49m\u001b[38;5;241m.\u001b[39mdetach())\n\u001b[1;32m      9\u001b[0m     noisy_target_list\u001b[38;5;241m.\u001b[39mappend(noisy_target)\n\u001b[1;32m     10\u001b[0m     clean_target_list\u001b[38;5;241m.\u001b[39mappend(clean_target)\n",
      "File \u001b[0;32m~/anaconda3/envs/snc/lib/python3.8/site-packages/torch/nn/modules/module.py:1190\u001b[0m, in \u001b[0;36mModule._call_impl\u001b[0;34m(self, *input, **kwargs)\u001b[0m\n\u001b[1;32m   1186\u001b[0m \u001b[38;5;66;03m# If we don't have any hooks, we want to skip the rest of the logic in\u001b[39;00m\n\u001b[1;32m   1187\u001b[0m \u001b[38;5;66;03m# this function, and just call forward.\u001b[39;00m\n\u001b[1;32m   1188\u001b[0m \u001b[38;5;28;01mif\u001b[39;00m \u001b[38;5;129;01mnot\u001b[39;00m (\u001b[38;5;28mself\u001b[39m\u001b[38;5;241m.\u001b[39m_backward_hooks \u001b[38;5;129;01mor\u001b[39;00m \u001b[38;5;28mself\u001b[39m\u001b[38;5;241m.\u001b[39m_forward_hooks \u001b[38;5;129;01mor\u001b[39;00m \u001b[38;5;28mself\u001b[39m\u001b[38;5;241m.\u001b[39m_forward_pre_hooks \u001b[38;5;129;01mor\u001b[39;00m _global_backward_hooks\n\u001b[1;32m   1189\u001b[0m         \u001b[38;5;129;01mor\u001b[39;00m _global_forward_hooks \u001b[38;5;129;01mor\u001b[39;00m _global_forward_pre_hooks):\n\u001b[0;32m-> 1190\u001b[0m     \u001b[38;5;28;01mreturn\u001b[39;00m \u001b[43mforward_call\u001b[49m\u001b[43m(\u001b[49m\u001b[38;5;241;43m*\u001b[39;49m\u001b[38;5;28;43minput\u001b[39;49m\u001b[43m,\u001b[49m\u001b[43m \u001b[49m\u001b[38;5;241;43m*\u001b[39;49m\u001b[38;5;241;43m*\u001b[39;49m\u001b[43mkwargs\u001b[49m\u001b[43m)\u001b[49m\n\u001b[1;32m   1191\u001b[0m \u001b[38;5;66;03m# Do not call functions when jit is used\u001b[39;00m\n\u001b[1;32m   1192\u001b[0m full_backward_hooks, non_full_backward_hooks \u001b[38;5;241m=\u001b[39m [], []\n",
      "File \u001b[0;32m~/cls_noise/with_WCL/network/resnet.py:156\u001b[0m, in \u001b[0;36mResNet.forward\u001b[0;34m(self, x)\u001b[0m\n\u001b[1;32m    153\u001b[0m x \u001b[38;5;241m=\u001b[39m \u001b[38;5;28mself\u001b[39m\u001b[38;5;241m.\u001b[39mmaxpool(x)\n\u001b[1;32m    155\u001b[0m x \u001b[38;5;241m=\u001b[39m \u001b[38;5;28mself\u001b[39m\u001b[38;5;241m.\u001b[39mlayer1(x)\n\u001b[0;32m--> 156\u001b[0m x \u001b[38;5;241m=\u001b[39m \u001b[38;5;28;43mself\u001b[39;49m\u001b[38;5;241;43m.\u001b[39;49m\u001b[43mlayer2\u001b[49m\u001b[43m(\u001b[49m\u001b[43mx\u001b[49m\u001b[43m)\u001b[49m\n\u001b[1;32m    157\u001b[0m x \u001b[38;5;241m=\u001b[39m \u001b[38;5;28mself\u001b[39m\u001b[38;5;241m.\u001b[39mlayer3(x)\n\u001b[1;32m    158\u001b[0m x \u001b[38;5;241m=\u001b[39m \u001b[38;5;28mself\u001b[39m\u001b[38;5;241m.\u001b[39mlayer4(x)\n",
      "File \u001b[0;32m~/anaconda3/envs/snc/lib/python3.8/site-packages/torch/nn/modules/module.py:1190\u001b[0m, in \u001b[0;36mModule._call_impl\u001b[0;34m(self, *input, **kwargs)\u001b[0m\n\u001b[1;32m   1186\u001b[0m \u001b[38;5;66;03m# If we don't have any hooks, we want to skip the rest of the logic in\u001b[39;00m\n\u001b[1;32m   1187\u001b[0m \u001b[38;5;66;03m# this function, and just call forward.\u001b[39;00m\n\u001b[1;32m   1188\u001b[0m \u001b[38;5;28;01mif\u001b[39;00m \u001b[38;5;129;01mnot\u001b[39;00m (\u001b[38;5;28mself\u001b[39m\u001b[38;5;241m.\u001b[39m_backward_hooks \u001b[38;5;129;01mor\u001b[39;00m \u001b[38;5;28mself\u001b[39m\u001b[38;5;241m.\u001b[39m_forward_hooks \u001b[38;5;129;01mor\u001b[39;00m \u001b[38;5;28mself\u001b[39m\u001b[38;5;241m.\u001b[39m_forward_pre_hooks \u001b[38;5;129;01mor\u001b[39;00m _global_backward_hooks\n\u001b[1;32m   1189\u001b[0m         \u001b[38;5;129;01mor\u001b[39;00m _global_forward_hooks \u001b[38;5;129;01mor\u001b[39;00m _global_forward_pre_hooks):\n\u001b[0;32m-> 1190\u001b[0m     \u001b[38;5;28;01mreturn\u001b[39;00m \u001b[43mforward_call\u001b[49m\u001b[43m(\u001b[49m\u001b[38;5;241;43m*\u001b[39;49m\u001b[38;5;28;43minput\u001b[39;49m\u001b[43m,\u001b[49m\u001b[43m \u001b[49m\u001b[38;5;241;43m*\u001b[39;49m\u001b[38;5;241;43m*\u001b[39;49m\u001b[43mkwargs\u001b[49m\u001b[43m)\u001b[49m\n\u001b[1;32m   1191\u001b[0m \u001b[38;5;66;03m# Do not call functions when jit is used\u001b[39;00m\n\u001b[1;32m   1192\u001b[0m full_backward_hooks, non_full_backward_hooks \u001b[38;5;241m=\u001b[39m [], []\n",
      "File \u001b[0;32m~/anaconda3/envs/snc/lib/python3.8/site-packages/torch/nn/modules/container.py:204\u001b[0m, in \u001b[0;36mSequential.forward\u001b[0;34m(self, input)\u001b[0m\n\u001b[1;32m    202\u001b[0m \u001b[38;5;28;01mdef\u001b[39;00m \u001b[38;5;21mforward\u001b[39m(\u001b[38;5;28mself\u001b[39m, \u001b[38;5;28minput\u001b[39m):\n\u001b[1;32m    203\u001b[0m     \u001b[38;5;28;01mfor\u001b[39;00m module \u001b[38;5;129;01min\u001b[39;00m \u001b[38;5;28mself\u001b[39m:\n\u001b[0;32m--> 204\u001b[0m         \u001b[38;5;28minput\u001b[39m \u001b[38;5;241m=\u001b[39m \u001b[43mmodule\u001b[49m\u001b[43m(\u001b[49m\u001b[38;5;28;43minput\u001b[39;49m\u001b[43m)\u001b[49m\n\u001b[1;32m    205\u001b[0m     \u001b[38;5;28;01mreturn\u001b[39;00m \u001b[38;5;28minput\u001b[39m\n",
      "File \u001b[0;32m~/anaconda3/envs/snc/lib/python3.8/site-packages/torch/nn/modules/module.py:1190\u001b[0m, in \u001b[0;36mModule._call_impl\u001b[0;34m(self, *input, **kwargs)\u001b[0m\n\u001b[1;32m   1186\u001b[0m \u001b[38;5;66;03m# If we don't have any hooks, we want to skip the rest of the logic in\u001b[39;00m\n\u001b[1;32m   1187\u001b[0m \u001b[38;5;66;03m# this function, and just call forward.\u001b[39;00m\n\u001b[1;32m   1188\u001b[0m \u001b[38;5;28;01mif\u001b[39;00m \u001b[38;5;129;01mnot\u001b[39;00m (\u001b[38;5;28mself\u001b[39m\u001b[38;5;241m.\u001b[39m_backward_hooks \u001b[38;5;129;01mor\u001b[39;00m \u001b[38;5;28mself\u001b[39m\u001b[38;5;241m.\u001b[39m_forward_hooks \u001b[38;5;129;01mor\u001b[39;00m \u001b[38;5;28mself\u001b[39m\u001b[38;5;241m.\u001b[39m_forward_pre_hooks \u001b[38;5;129;01mor\u001b[39;00m _global_backward_hooks\n\u001b[1;32m   1189\u001b[0m         \u001b[38;5;129;01mor\u001b[39;00m _global_forward_hooks \u001b[38;5;129;01mor\u001b[39;00m _global_forward_pre_hooks):\n\u001b[0;32m-> 1190\u001b[0m     \u001b[38;5;28;01mreturn\u001b[39;00m \u001b[43mforward_call\u001b[49m\u001b[43m(\u001b[49m\u001b[38;5;241;43m*\u001b[39;49m\u001b[38;5;28;43minput\u001b[39;49m\u001b[43m,\u001b[49m\u001b[43m \u001b[49m\u001b[38;5;241;43m*\u001b[39;49m\u001b[38;5;241;43m*\u001b[39;49m\u001b[43mkwargs\u001b[49m\u001b[43m)\u001b[49m\n\u001b[1;32m   1191\u001b[0m \u001b[38;5;66;03m# Do not call functions when jit is used\u001b[39;00m\n\u001b[1;32m   1192\u001b[0m full_backward_hooks, non_full_backward_hooks \u001b[38;5;241m=\u001b[39m [], []\n",
      "File \u001b[0;32m~/cls_noise/with_WCL/network/resnet.py:91\u001b[0m, in \u001b[0;36mBottleneck.forward\u001b[0;34m(self, x)\u001b[0m\n\u001b[1;32m     88\u001b[0m out \u001b[38;5;241m=\u001b[39m \u001b[38;5;28mself\u001b[39m\u001b[38;5;241m.\u001b[39mbn3(out)\n\u001b[1;32m     90\u001b[0m \u001b[38;5;28;01mif\u001b[39;00m \u001b[38;5;28mself\u001b[39m\u001b[38;5;241m.\u001b[39mdownsample \u001b[38;5;129;01mis\u001b[39;00m \u001b[38;5;129;01mnot\u001b[39;00m \u001b[38;5;28;01mNone\u001b[39;00m:\n\u001b[0;32m---> 91\u001b[0m     identity \u001b[38;5;241m=\u001b[39m \u001b[38;5;28;43mself\u001b[39;49m\u001b[38;5;241;43m.\u001b[39;49m\u001b[43mdownsample\u001b[49m\u001b[43m(\u001b[49m\u001b[43mx\u001b[49m\u001b[43m)\u001b[49m\n\u001b[1;32m     93\u001b[0m out \u001b[38;5;241m+\u001b[39m\u001b[38;5;241m=\u001b[39m identity\n\u001b[1;32m     94\u001b[0m out \u001b[38;5;241m=\u001b[39m \u001b[38;5;28mself\u001b[39m\u001b[38;5;241m.\u001b[39mrelu(out)\n",
      "File \u001b[0;32m~/anaconda3/envs/snc/lib/python3.8/site-packages/torch/nn/modules/module.py:1190\u001b[0m, in \u001b[0;36mModule._call_impl\u001b[0;34m(self, *input, **kwargs)\u001b[0m\n\u001b[1;32m   1186\u001b[0m \u001b[38;5;66;03m# If we don't have any hooks, we want to skip the rest of the logic in\u001b[39;00m\n\u001b[1;32m   1187\u001b[0m \u001b[38;5;66;03m# this function, and just call forward.\u001b[39;00m\n\u001b[1;32m   1188\u001b[0m \u001b[38;5;28;01mif\u001b[39;00m \u001b[38;5;129;01mnot\u001b[39;00m (\u001b[38;5;28mself\u001b[39m\u001b[38;5;241m.\u001b[39m_backward_hooks \u001b[38;5;129;01mor\u001b[39;00m \u001b[38;5;28mself\u001b[39m\u001b[38;5;241m.\u001b[39m_forward_hooks \u001b[38;5;129;01mor\u001b[39;00m \u001b[38;5;28mself\u001b[39m\u001b[38;5;241m.\u001b[39m_forward_pre_hooks \u001b[38;5;129;01mor\u001b[39;00m _global_backward_hooks\n\u001b[1;32m   1189\u001b[0m         \u001b[38;5;129;01mor\u001b[39;00m _global_forward_hooks \u001b[38;5;129;01mor\u001b[39;00m _global_forward_pre_hooks):\n\u001b[0;32m-> 1190\u001b[0m     \u001b[38;5;28;01mreturn\u001b[39;00m \u001b[43mforward_call\u001b[49m\u001b[43m(\u001b[49m\u001b[38;5;241;43m*\u001b[39;49m\u001b[38;5;28;43minput\u001b[39;49m\u001b[43m,\u001b[49m\u001b[43m \u001b[49m\u001b[38;5;241;43m*\u001b[39;49m\u001b[38;5;241;43m*\u001b[39;49m\u001b[43mkwargs\u001b[49m\u001b[43m)\u001b[49m\n\u001b[1;32m   1191\u001b[0m \u001b[38;5;66;03m# Do not call functions when jit is used\u001b[39;00m\n\u001b[1;32m   1192\u001b[0m full_backward_hooks, non_full_backward_hooks \u001b[38;5;241m=\u001b[39m [], []\n",
      "File \u001b[0;32m~/anaconda3/envs/snc/lib/python3.8/site-packages/torch/nn/modules/container.py:204\u001b[0m, in \u001b[0;36mSequential.forward\u001b[0;34m(self, input)\u001b[0m\n\u001b[1;32m    202\u001b[0m \u001b[38;5;28;01mdef\u001b[39;00m \u001b[38;5;21mforward\u001b[39m(\u001b[38;5;28mself\u001b[39m, \u001b[38;5;28minput\u001b[39m):\n\u001b[1;32m    203\u001b[0m     \u001b[38;5;28;01mfor\u001b[39;00m module \u001b[38;5;129;01min\u001b[39;00m \u001b[38;5;28mself\u001b[39m:\n\u001b[0;32m--> 204\u001b[0m         \u001b[38;5;28minput\u001b[39m \u001b[38;5;241m=\u001b[39m \u001b[43mmodule\u001b[49m\u001b[43m(\u001b[49m\u001b[38;5;28;43minput\u001b[39;49m\u001b[43m)\u001b[49m\n\u001b[1;32m    205\u001b[0m     \u001b[38;5;28;01mreturn\u001b[39;00m \u001b[38;5;28minput\u001b[39m\n",
      "File \u001b[0;32m~/anaconda3/envs/snc/lib/python3.8/site-packages/torch/nn/modules/module.py:1190\u001b[0m, in \u001b[0;36mModule._call_impl\u001b[0;34m(self, *input, **kwargs)\u001b[0m\n\u001b[1;32m   1186\u001b[0m \u001b[38;5;66;03m# If we don't have any hooks, we want to skip the rest of the logic in\u001b[39;00m\n\u001b[1;32m   1187\u001b[0m \u001b[38;5;66;03m# this function, and just call forward.\u001b[39;00m\n\u001b[1;32m   1188\u001b[0m \u001b[38;5;28;01mif\u001b[39;00m \u001b[38;5;129;01mnot\u001b[39;00m (\u001b[38;5;28mself\u001b[39m\u001b[38;5;241m.\u001b[39m_backward_hooks \u001b[38;5;129;01mor\u001b[39;00m \u001b[38;5;28mself\u001b[39m\u001b[38;5;241m.\u001b[39m_forward_hooks \u001b[38;5;129;01mor\u001b[39;00m \u001b[38;5;28mself\u001b[39m\u001b[38;5;241m.\u001b[39m_forward_pre_hooks \u001b[38;5;129;01mor\u001b[39;00m _global_backward_hooks\n\u001b[1;32m   1189\u001b[0m         \u001b[38;5;129;01mor\u001b[39;00m _global_forward_hooks \u001b[38;5;129;01mor\u001b[39;00m _global_forward_pre_hooks):\n\u001b[0;32m-> 1190\u001b[0m     \u001b[38;5;28;01mreturn\u001b[39;00m \u001b[43mforward_call\u001b[49m\u001b[43m(\u001b[49m\u001b[38;5;241;43m*\u001b[39;49m\u001b[38;5;28;43minput\u001b[39;49m\u001b[43m,\u001b[49m\u001b[43m \u001b[49m\u001b[38;5;241;43m*\u001b[39;49m\u001b[38;5;241;43m*\u001b[39;49m\u001b[43mkwargs\u001b[49m\u001b[43m)\u001b[49m\n\u001b[1;32m   1191\u001b[0m \u001b[38;5;66;03m# Do not call functions when jit is used\u001b[39;00m\n\u001b[1;32m   1192\u001b[0m full_backward_hooks, non_full_backward_hooks \u001b[38;5;241m=\u001b[39m [], []\n",
      "File \u001b[0;32m~/anaconda3/envs/snc/lib/python3.8/site-packages/torch/nn/modules/conv.py:463\u001b[0m, in \u001b[0;36mConv2d.forward\u001b[0;34m(self, input)\u001b[0m\n\u001b[1;32m    462\u001b[0m \u001b[38;5;28;01mdef\u001b[39;00m \u001b[38;5;21mforward\u001b[39m(\u001b[38;5;28mself\u001b[39m, \u001b[38;5;28minput\u001b[39m: Tensor) \u001b[38;5;241m-\u001b[39m\u001b[38;5;241m>\u001b[39m Tensor:\n\u001b[0;32m--> 463\u001b[0m     \u001b[38;5;28;01mreturn\u001b[39;00m \u001b[38;5;28;43mself\u001b[39;49m\u001b[38;5;241;43m.\u001b[39;49m\u001b[43m_conv_forward\u001b[49m\u001b[43m(\u001b[49m\u001b[38;5;28;43minput\u001b[39;49m\u001b[43m,\u001b[49m\u001b[43m \u001b[49m\u001b[38;5;28;43mself\u001b[39;49m\u001b[38;5;241;43m.\u001b[39;49m\u001b[43mweight\u001b[49m\u001b[43m,\u001b[49m\u001b[43m \u001b[49m\u001b[38;5;28;43mself\u001b[39;49m\u001b[38;5;241;43m.\u001b[39;49m\u001b[43mbias\u001b[49m\u001b[43m)\u001b[49m\n",
      "File \u001b[0;32m~/anaconda3/envs/snc/lib/python3.8/site-packages/torch/nn/modules/conv.py:459\u001b[0m, in \u001b[0;36mConv2d._conv_forward\u001b[0;34m(self, input, weight, bias)\u001b[0m\n\u001b[1;32m    455\u001b[0m \u001b[38;5;28;01mif\u001b[39;00m \u001b[38;5;28mself\u001b[39m\u001b[38;5;241m.\u001b[39mpadding_mode \u001b[38;5;241m!=\u001b[39m \u001b[38;5;124m'\u001b[39m\u001b[38;5;124mzeros\u001b[39m\u001b[38;5;124m'\u001b[39m:\n\u001b[1;32m    456\u001b[0m     \u001b[38;5;28;01mreturn\u001b[39;00m F\u001b[38;5;241m.\u001b[39mconv2d(F\u001b[38;5;241m.\u001b[39mpad(\u001b[38;5;28minput\u001b[39m, \u001b[38;5;28mself\u001b[39m\u001b[38;5;241m.\u001b[39m_reversed_padding_repeated_twice, mode\u001b[38;5;241m=\u001b[39m\u001b[38;5;28mself\u001b[39m\u001b[38;5;241m.\u001b[39mpadding_mode),\n\u001b[1;32m    457\u001b[0m                     weight, bias, \u001b[38;5;28mself\u001b[39m\u001b[38;5;241m.\u001b[39mstride,\n\u001b[1;32m    458\u001b[0m                     _pair(\u001b[38;5;241m0\u001b[39m), \u001b[38;5;28mself\u001b[39m\u001b[38;5;241m.\u001b[39mdilation, \u001b[38;5;28mself\u001b[39m\u001b[38;5;241m.\u001b[39mgroups)\n\u001b[0;32m--> 459\u001b[0m \u001b[38;5;28;01mreturn\u001b[39;00m \u001b[43mF\u001b[49m\u001b[38;5;241;43m.\u001b[39;49m\u001b[43mconv2d\u001b[49m\u001b[43m(\u001b[49m\u001b[38;5;28;43minput\u001b[39;49m\u001b[43m,\u001b[49m\u001b[43m \u001b[49m\u001b[43mweight\u001b[49m\u001b[43m,\u001b[49m\u001b[43m \u001b[49m\u001b[43mbias\u001b[49m\u001b[43m,\u001b[49m\u001b[43m \u001b[49m\u001b[38;5;28;43mself\u001b[39;49m\u001b[38;5;241;43m.\u001b[39;49m\u001b[43mstride\u001b[49m\u001b[43m,\u001b[49m\n\u001b[1;32m    460\u001b[0m \u001b[43m                \u001b[49m\u001b[38;5;28;43mself\u001b[39;49m\u001b[38;5;241;43m.\u001b[39;49m\u001b[43mpadding\u001b[49m\u001b[43m,\u001b[49m\u001b[43m \u001b[49m\u001b[38;5;28;43mself\u001b[39;49m\u001b[38;5;241;43m.\u001b[39;49m\u001b[43mdilation\u001b[49m\u001b[43m,\u001b[49m\u001b[43m \u001b[49m\u001b[38;5;28;43mself\u001b[39;49m\u001b[38;5;241;43m.\u001b[39;49m\u001b[43mgroups\u001b[49m\u001b[43m)\u001b[49m\n",
      "\u001b[0;31mKeyboardInterrupt\u001b[0m: "
     ]
    }
   ],
   "source": [
    "from sklearn.manifold import TSNE\n",
    "from tqdm import tqdm\n",
    "\n",
    "representation_list = []\n",
    "noisy_target_list = []\n",
    "clean_target_list = []\n",
    "for img, noisy_target, clean_target in tqdm(not_aug_train_dataset):\n",
    "    representation_list.append(model.net(img[None]).detach())\n",
    "    noisy_target_list.append(noisy_target)\n",
    "    clean_target_list.append(clean_target)\n",
    "torch.cat(representation_list, dim=0)"
   ]
  },
  {
   "cell_type": "code",
   "execution_count": 21,
   "id": "0733db27",
   "metadata": {},
   "outputs": [],
   "source": [
    "representation_tensor = torch.cat(representation_list, dim=0)"
   ]
  },
  {
   "cell_type": "markdown",
   "id": "e27fa3c3",
   "metadata": {},
   "source": [
    "### t-SNE"
   ]
  },
  {
   "cell_type": "code",
   "execution_count": 25,
   "id": "f698fa12",
   "metadata": {},
   "outputs": [
    {
     "name": "stderr",
     "output_type": "stream",
     "text": [
      "/home/saemeechoi/anaconda3/envs/snc/lib/python3.8/site-packages/sklearn/manifold/_t_sne.py:795: FutureWarning: The default initialization in TSNE will change from 'random' to 'pca' in 1.2.\n",
      "  warnings.warn(\n",
      "/home/saemeechoi/anaconda3/envs/snc/lib/python3.8/site-packages/sklearn/manifold/_t_sne.py:805: FutureWarning: The default learning rate in TSNE will change from 200.0 to 'auto' in 1.2.\n",
      "  warnings.warn(\n"
     ]
    },
    {
     "data": {
      "image/png": "[encoded data removed]",
      "text/plain": [
       "<Figure size 432x288 with 1 Axes>"
      ]
     },
     "metadata": {
      "needs_background": "light"
     },
     "output_type": "display_data"
    }
   ],
   "source": [
    "import matplotlib.pyplot as plt\n",
    "\n",
    "# Assuming your data is stored in a numpy array called 'data'\n",
    "tsne = TSNE(n_components=2, perplexity=30.0)\n",
    "embedded_data = tsne.fit_transform(representation_tensor)"
   ]
  },
  {
   "cell_type": "code",
   "execution_count": 28,
   "id": "6bf6558d",
   "metadata": {},
   "outputs": [
    {
     "data": {
      "image/png": "[encoded data removed]",
      "text/plain": [
       "<Figure size 432x288 with 1 Axes>"
      ]
     },
     "metadata": {
      "needs_background": "light"
     },
     "output_type": "display_data"
    }
   ],
   "source": [
    "# Plot the embedded data\n",
    "plt.scatter(embedded_data[:, 0], embedded_data[:, 1], c=clean_target_list,cmap='viridis')\n",
    "plt.show()"
   ]
  },
  {
   "cell_type": "code",
   "execution_count": 29,
   "id": "4c0ddfae",
   "metadata": {},
   "outputs": [
    {
     "data": {
      "image/png": "[encoded data removed]",
      "text/plain": [
       "<Figure size 432x288 with 1 Axes>"
      ]
     },
     "metadata": {
      "needs_background": "light"
     },
     "output_type": "display_data"
    }
   ],
   "source": [
    "# Plot the embedded data\n",
    "plt.scatter(embedded_data[:, 0], embedded_data[:, 1], c=noisy_target_list,cmap='viridis')\n",
    "plt.show()"
   ]
  },
  {
   "cell_type": "code",
   "execution_count": 34,
   "id": "6ca1cfe7",
   "metadata": {},
   "outputs": [
    {
     "name": "stderr",
     "output_type": "stream",
     "text": [
      "/home/saemeechoi/anaconda3/envs/snc/lib/python3.8/site-packages/sklearn/manifold/_t_sne.py:795: FutureWarning: The default initialization in TSNE will change from 'random' to 'pca' in 1.2.\n",
      "  warnings.warn(\n",
      "/home/saemeechoi/anaconda3/envs/snc/lib/python3.8/site-packages/sklearn/manifold/_t_sne.py:805: FutureWarning: The default learning rate in TSNE will change from 200.0 to 'auto' in 1.2.\n",
      "  warnings.warn(\n"
     ]
    }
   ],
   "source": [
    "import matplotlib.pyplot as plt\n",
    "\n",
    "# Assuming your data is stored in a numpy array called 'data'\n",
    "tsne = TSNE(n_components=3, perplexity=30.0)\n",
    "embedded_data = tsne.fit_transform(representation_tensor)"
   ]
  },
  {
   "cell_type": "code",
   "execution_count": 35,
   "id": "8c85c3e7",
   "metadata": {},
   "outputs": [
    {
     "data": {
      "image/png": "[encoded data removed]",
      "text/plain": [
       "<Figure size 432x288 with 1 Axes>"
      ]
     },
     "metadata": {
      "needs_background": "light"
     },
     "output_type": "display_data"
    }
   ],
   "source": [
    "# Plot the embedded data\n",
    "from mpl_toolkits.mplot3d import Axes3D\n",
    "\n",
    "fig = plt.figure()\n",
    "ax = fig.add_subplot(111, projection='3d')\n",
    "\n",
    "ax.scatter(embedded_data[:, 0], embedded_data[:, 1], embedded_data[:, 2], c=clean_target_list, cmap='viridis')\n",
    "\n",
    "# Set the plot labels\n",
    "ax.set_xlabel('X Label')\n",
    "ax.set_ylabel('Y Label')\n",
    "ax.set_zlabel('Z Label')\n",
    "\n",
    "# Show the plot\n",
    "plt.show()"
   ]
  },
  {
   "cell_type": "code",
   "execution_count": 37,
   "id": "bc706c8c",
   "metadata": {},
   "outputs": [
    {
     "data": {
      "image/png": "[encoded data removed]",
      "text/plain": [
       "<Figure size 432x288 with 1 Axes>"
      ]
     },
     "metadata": {
      "needs_background": "light"
     },
     "output_type": "display_data"
    }
   ],
   "source": [
    "# Plot the embedded data\n",
    "fig = plt.figure()\n",
    "ax = fig.add_subplot(111, projection='3d')\n",
    "ax.scatter(embedded_data[:, 0], embedded_data[:, 1], embedded_data[:, 2], c=noisy_target_list, cmap='viridis')\n",
    "\n",
    "plt.show()"
   ]
  },
  {
   "cell_type": "markdown",
   "id": "8c8f7a26",
   "metadata": {},
   "source": [
    "# Sampling data a lot"
   ]
  },
  {
   "cell_type": "code",
   "execution_count": 12,
   "id": "ed0b2687",
   "metadata": {
    "collapsed": true
   },
   "outputs": [
    {
     "name": "stderr",
     "output_type": "stream",
     "text": [
      "  1%|▌                                                  | 550/50000 [23:51<35:44:32,  2.60s/it]\n"
     ]
    },
    {
     "ename": "KeyboardInterrupt",
     "evalue": "",
     "output_type": "error",
     "traceback": [
      "\u001b[0;31m---------------------------------------------------------------------------\u001b[0m",
      "\u001b[0;31mKeyboardInterrupt\u001b[0m                         Traceback (most recent call last)",
      "Input \u001b[0;32mIn [12]\u001b[0m, in \u001b[0;36m<cell line: 7>\u001b[0;34m()\u001b[0m\n\u001b[1;32m      6\u001b[0m clean_target_list \u001b[38;5;241m=\u001b[39m []\n\u001b[1;32m      7\u001b[0m \u001b[38;5;28;01mfor\u001b[39;00m img, noisy_target, clean_target \u001b[38;5;129;01min\u001b[39;00m tqdm(not_aug_train_dataset):\n\u001b[0;32m----> 8\u001b[0m     representation_list\u001b[38;5;241m.\u001b[39mappend(\u001b[43mmodel\u001b[49m\u001b[38;5;241;43m.\u001b[39;49m\u001b[43mnet\u001b[49m\u001b[43m(\u001b[49m\u001b[43mimg\u001b[49m\u001b[43m[\u001b[49m\u001b[38;5;28;43;01mNone\u001b[39;49;00m\u001b[43m]\u001b[49m\u001b[43m)\u001b[49m\u001b[38;5;241m.\u001b[39mdetach())\n\u001b[1;32m      9\u001b[0m     noisy_target_list\u001b[38;5;241m.\u001b[39mappend(noisy_target)\n\u001b[1;32m     10\u001b[0m     clean_target_list\u001b[38;5;241m.\u001b[39mappend(clean_target)\n",
      "File \u001b[0;32m~/anaconda3/envs/snc/lib/python3.8/site-packages/torch/nn/modules/module.py:1190\u001b[0m, in \u001b[0;36mModule._call_impl\u001b[0;34m(self, *input, **kwargs)\u001b[0m\n\u001b[1;32m   1186\u001b[0m \u001b[38;5;66;03m# If we don't have any hooks, we want to skip the rest of the logic in\u001b[39;00m\n\u001b[1;32m   1187\u001b[0m \u001b[38;5;66;03m# this function, and just call forward.\u001b[39;00m\n\u001b[1;32m   1188\u001b[0m \u001b[38;5;28;01mif\u001b[39;00m \u001b[38;5;129;01mnot\u001b[39;00m (\u001b[38;5;28mself\u001b[39m\u001b[38;5;241m.\u001b[39m_backward_hooks \u001b[38;5;129;01mor\u001b[39;00m \u001b[38;5;28mself\u001b[39m\u001b[38;5;241m.\u001b[39m_forward_hooks \u001b[38;5;129;01mor\u001b[39;00m \u001b[38;5;28mself\u001b[39m\u001b[38;5;241m.\u001b[39m_forward_pre_hooks \u001b[38;5;129;01mor\u001b[39;00m _global_backward_hooks\n\u001b[1;32m   1189\u001b[0m         \u001b[38;5;129;01mor\u001b[39;00m _global_forward_hooks \u001b[38;5;129;01mor\u001b[39;00m _global_forward_pre_hooks):\n\u001b[0;32m-> 1190\u001b[0m     \u001b[38;5;28;01mreturn\u001b[39;00m \u001b[43mforward_call\u001b[49m\u001b[43m(\u001b[49m\u001b[38;5;241;43m*\u001b[39;49m\u001b[38;5;28;43minput\u001b[39;49m\u001b[43m,\u001b[49m\u001b[43m \u001b[49m\u001b[38;5;241;43m*\u001b[39;49m\u001b[38;5;241;43m*\u001b[39;49m\u001b[43mkwargs\u001b[49m\u001b[43m)\u001b[49m\n\u001b[1;32m   1191\u001b[0m \u001b[38;5;66;03m# Do not call functions when jit is used\u001b[39;00m\n\u001b[1;32m   1192\u001b[0m full_backward_hooks, non_full_backward_hooks \u001b[38;5;241m=\u001b[39m [], []\n",
      "File \u001b[0;32m~/cls_noise/with_WCL/network/resnet.py:156\u001b[0m, in \u001b[0;36mResNet.forward\u001b[0;34m(self, x)\u001b[0m\n\u001b[1;32m    153\u001b[0m x \u001b[38;5;241m=\u001b[39m \u001b[38;5;28mself\u001b[39m\u001b[38;5;241m.\u001b[39mmaxpool(x)\n\u001b[1;32m    155\u001b[0m x \u001b[38;5;241m=\u001b[39m \u001b[38;5;28mself\u001b[39m\u001b[38;5;241m.\u001b[39mlayer1(x)\n\u001b[0;32m--> 156\u001b[0m x \u001b[38;5;241m=\u001b[39m \u001b[38;5;28;43mself\u001b[39;49m\u001b[38;5;241;43m.\u001b[39;49m\u001b[43mlayer2\u001b[49m\u001b[43m(\u001b[49m\u001b[43mx\u001b[49m\u001b[43m)\u001b[49m\n\u001b[1;32m    157\u001b[0m x \u001b[38;5;241m=\u001b[39m \u001b[38;5;28mself\u001b[39m\u001b[38;5;241m.\u001b[39mlayer3(x)\n\u001b[1;32m    158\u001b[0m x \u001b[38;5;241m=\u001b[39m \u001b[38;5;28mself\u001b[39m\u001b[38;5;241m.\u001b[39mlayer4(x)\n",
      "File \u001b[0;32m~/anaconda3/envs/snc/lib/python3.8/site-packages/torch/nn/modules/module.py:1190\u001b[0m, in \u001b[0;36mModule._call_impl\u001b[0;34m(self, *input, **kwargs)\u001b[0m\n\u001b[1;32m   1186\u001b[0m \u001b[38;5;66;03m# If we don't have any hooks, we want to skip the rest of the logic in\u001b[39;00m\n\u001b[1;32m   1187\u001b[0m \u001b[38;5;66;03m# this function, and just call forward.\u001b[39;00m\n\u001b[1;32m   1188\u001b[0m \u001b[38;5;28;01mif\u001b[39;00m \u001b[38;5;129;01mnot\u001b[39;00m (\u001b[38;5;28mself\u001b[39m\u001b[38;5;241m.\u001b[39m_backward_hooks \u001b[38;5;129;01mor\u001b[39;00m \u001b[38;5;28mself\u001b[39m\u001b[38;5;241m.\u001b[39m_forward_hooks \u001b[38;5;129;01mor\u001b[39;00m \u001b[38;5;28mself\u001b[39m\u001b[38;5;241m.\u001b[39m_forward_pre_hooks \u001b[38;5;129;01mor\u001b[39;00m _global_backward_hooks\n\u001b[1;32m   1189\u001b[0m         \u001b[38;5;129;01mor\u001b[39;00m _global_forward_hooks \u001b[38;5;129;01mor\u001b[39;00m _global_forward_pre_hooks):\n\u001b[0;32m-> 1190\u001b[0m     \u001b[38;5;28;01mreturn\u001b[39;00m \u001b[43mforward_call\u001b[49m\u001b[43m(\u001b[49m\u001b[38;5;241;43m*\u001b[39;49m\u001b[38;5;28;43minput\u001b[39;49m\u001b[43m,\u001b[49m\u001b[43m \u001b[49m\u001b[38;5;241;43m*\u001b[39;49m\u001b[38;5;241;43m*\u001b[39;49m\u001b[43mkwargs\u001b[49m\u001b[43m)\u001b[49m\n\u001b[1;32m   1191\u001b[0m \u001b[38;5;66;03m# Do not call functions when jit is used\u001b[39;00m\n\u001b[1;32m   1192\u001b[0m full_backward_hooks, non_full_backward_hooks \u001b[38;5;241m=\u001b[39m [], []\n",
      "File \u001b[0;32m~/anaconda3/envs/snc/lib/python3.8/site-packages/torch/nn/modules/container.py:204\u001b[0m, in \u001b[0;36mSequential.forward\u001b[0;34m(self, input)\u001b[0m\n\u001b[1;32m    202\u001b[0m \u001b[38;5;28;01mdef\u001b[39;00m \u001b[38;5;21mforward\u001b[39m(\u001b[38;5;28mself\u001b[39m, \u001b[38;5;28minput\u001b[39m):\n\u001b[1;32m    203\u001b[0m     \u001b[38;5;28;01mfor\u001b[39;00m module \u001b[38;5;129;01min\u001b[39;00m \u001b[38;5;28mself\u001b[39m:\n\u001b[0;32m--> 204\u001b[0m         \u001b[38;5;28minput\u001b[39m \u001b[38;5;241m=\u001b[39m \u001b[43mmodule\u001b[49m\u001b[43m(\u001b[49m\u001b[38;5;28;43minput\u001b[39;49m\u001b[43m)\u001b[49m\n\u001b[1;32m    205\u001b[0m     \u001b[38;5;28;01mreturn\u001b[39;00m \u001b[38;5;28minput\u001b[39m\n",
      "File \u001b[0;32m~/anaconda3/envs/snc/lib/python3.8/site-packages/torch/nn/modules/module.py:1190\u001b[0m, in \u001b[0;36mModule._call_impl\u001b[0;34m(self, *input, **kwargs)\u001b[0m\n\u001b[1;32m   1186\u001b[0m \u001b[38;5;66;03m# If we don't have any hooks, we want to skip the rest of the logic in\u001b[39;00m\n\u001b[1;32m   1187\u001b[0m \u001b[38;5;66;03m# this function, and just call forward.\u001b[39;00m\n\u001b[1;32m   1188\u001b[0m \u001b[38;5;28;01mif\u001b[39;00m \u001b[38;5;129;01mnot\u001b[39;00m (\u001b[38;5;28mself\u001b[39m\u001b[38;5;241m.\u001b[39m_backward_hooks \u001b[38;5;129;01mor\u001b[39;00m \u001b[38;5;28mself\u001b[39m\u001b[38;5;241m.\u001b[39m_forward_hooks \u001b[38;5;129;01mor\u001b[39;00m \u001b[38;5;28mself\u001b[39m\u001b[38;5;241m.\u001b[39m_forward_pre_hooks \u001b[38;5;129;01mor\u001b[39;00m _global_backward_hooks\n\u001b[1;32m   1189\u001b[0m         \u001b[38;5;129;01mor\u001b[39;00m _global_forward_hooks \u001b[38;5;129;01mor\u001b[39;00m _global_forward_pre_hooks):\n\u001b[0;32m-> 1190\u001b[0m     \u001b[38;5;28;01mreturn\u001b[39;00m \u001b[43mforward_call\u001b[49m\u001b[43m(\u001b[49m\u001b[38;5;241;43m*\u001b[39;49m\u001b[38;5;28;43minput\u001b[39;49m\u001b[43m,\u001b[49m\u001b[43m \u001b[49m\u001b[38;5;241;43m*\u001b[39;49m\u001b[38;5;241;43m*\u001b[39;49m\u001b[43mkwargs\u001b[49m\u001b[43m)\u001b[49m\n\u001b[1;32m   1191\u001b[0m \u001b[38;5;66;03m# Do not call functions when jit is used\u001b[39;00m\n\u001b[1;32m   1192\u001b[0m full_backward_hooks, non_full_backward_hooks \u001b[38;5;241m=\u001b[39m [], []\n",
      "File \u001b[0;32m~/cls_noise/with_WCL/network/resnet.py:84\u001b[0m, in \u001b[0;36mBottleneck.forward\u001b[0;34m(self, x)\u001b[0m\n\u001b[1;32m     81\u001b[0m out \u001b[38;5;241m=\u001b[39m \u001b[38;5;28mself\u001b[39m\u001b[38;5;241m.\u001b[39mrelu(out)\n\u001b[1;32m     83\u001b[0m out \u001b[38;5;241m=\u001b[39m \u001b[38;5;28mself\u001b[39m\u001b[38;5;241m.\u001b[39mconv2(out)\n\u001b[0;32m---> 84\u001b[0m out \u001b[38;5;241m=\u001b[39m \u001b[38;5;28;43mself\u001b[39;49m\u001b[38;5;241;43m.\u001b[39;49m\u001b[43mbn2\u001b[49m\u001b[43m(\u001b[49m\u001b[43mout\u001b[49m\u001b[43m)\u001b[49m\n\u001b[1;32m     85\u001b[0m out \u001b[38;5;241m=\u001b[39m \u001b[38;5;28mself\u001b[39m\u001b[38;5;241m.\u001b[39mrelu(out)\n\u001b[1;32m     87\u001b[0m out \u001b[38;5;241m=\u001b[39m \u001b[38;5;28mself\u001b[39m\u001b[38;5;241m.\u001b[39mconv3(out)\n",
      "File \u001b[0;32m~/anaconda3/envs/snc/lib/python3.8/site-packages/torch/nn/modules/module.py:1190\u001b[0m, in \u001b[0;36mModule._call_impl\u001b[0;34m(self, *input, **kwargs)\u001b[0m\n\u001b[1;32m   1186\u001b[0m \u001b[38;5;66;03m# If we don't have any hooks, we want to skip the rest of the logic in\u001b[39;00m\n\u001b[1;32m   1187\u001b[0m \u001b[38;5;66;03m# this function, and just call forward.\u001b[39;00m\n\u001b[1;32m   1188\u001b[0m \u001b[38;5;28;01mif\u001b[39;00m \u001b[38;5;129;01mnot\u001b[39;00m (\u001b[38;5;28mself\u001b[39m\u001b[38;5;241m.\u001b[39m_backward_hooks \u001b[38;5;129;01mor\u001b[39;00m \u001b[38;5;28mself\u001b[39m\u001b[38;5;241m.\u001b[39m_forward_hooks \u001b[38;5;129;01mor\u001b[39;00m \u001b[38;5;28mself\u001b[39m\u001b[38;5;241m.\u001b[39m_forward_pre_hooks \u001b[38;5;129;01mor\u001b[39;00m _global_backward_hooks\n\u001b[1;32m   1189\u001b[0m         \u001b[38;5;129;01mor\u001b[39;00m _global_forward_hooks \u001b[38;5;129;01mor\u001b[39;00m _global_forward_pre_hooks):\n\u001b[0;32m-> 1190\u001b[0m     \u001b[38;5;28;01mreturn\u001b[39;00m \u001b[43mforward_call\u001b[49m\u001b[43m(\u001b[49m\u001b[38;5;241;43m*\u001b[39;49m\u001b[38;5;28;43minput\u001b[39;49m\u001b[43m,\u001b[49m\u001b[43m \u001b[49m\u001b[38;5;241;43m*\u001b[39;49m\u001b[38;5;241;43m*\u001b[39;49m\u001b[43mkwargs\u001b[49m\u001b[43m)\u001b[49m\n\u001b[1;32m   1191\u001b[0m \u001b[38;5;66;03m# Do not call functions when jit is used\u001b[39;00m\n\u001b[1;32m   1192\u001b[0m full_backward_hooks, non_full_backward_hooks \u001b[38;5;241m=\u001b[39m [], []\n",
      "File \u001b[0;32m~/anaconda3/envs/snc/lib/python3.8/site-packages/torch/nn/modules/batchnorm.py:171\u001b[0m, in \u001b[0;36m_BatchNorm.forward\u001b[0;34m(self, input)\u001b[0m\n\u001b[1;32m    164\u001b[0m     bn_training \u001b[38;5;241m=\u001b[39m (\u001b[38;5;28mself\u001b[39m\u001b[38;5;241m.\u001b[39mrunning_mean \u001b[38;5;129;01mis\u001b[39;00m \u001b[38;5;28;01mNone\u001b[39;00m) \u001b[38;5;129;01mand\u001b[39;00m (\u001b[38;5;28mself\u001b[39m\u001b[38;5;241m.\u001b[39mrunning_var \u001b[38;5;129;01mis\u001b[39;00m \u001b[38;5;28;01mNone\u001b[39;00m)\n\u001b[1;32m    166\u001b[0m \u001b[38;5;124mr\u001b[39m\u001b[38;5;124;03m\"\"\"\u001b[39;00m\n\u001b[1;32m    167\u001b[0m \u001b[38;5;124;03mBuffers are only updated if they are to be tracked and we are in training mode. Thus they only need to be\u001b[39;00m\n\u001b[1;32m    168\u001b[0m \u001b[38;5;124;03mpassed when the update should occur (i.e. in training mode when they are tracked), or when buffer stats are\u001b[39;00m\n\u001b[1;32m    169\u001b[0m \u001b[38;5;124;03mused for normalization (i.e. in eval mode when buffers are not None).\u001b[39;00m\n\u001b[1;32m    170\u001b[0m \u001b[38;5;124;03m\"\"\"\u001b[39;00m\n\u001b[0;32m--> 171\u001b[0m \u001b[38;5;28;01mreturn\u001b[39;00m \u001b[43mF\u001b[49m\u001b[38;5;241;43m.\u001b[39;49m\u001b[43mbatch_norm\u001b[49m\u001b[43m(\u001b[49m\n\u001b[1;32m    172\u001b[0m \u001b[43m    \u001b[49m\u001b[38;5;28;43minput\u001b[39;49m\u001b[43m,\u001b[49m\n\u001b[1;32m    173\u001b[0m \u001b[43m    \u001b[49m\u001b[38;5;66;43;03m# If buffers are not to be tracked, ensure that they won't be updated\u001b[39;49;00m\n\u001b[1;32m    174\u001b[0m \u001b[43m    \u001b[49m\u001b[38;5;28;43mself\u001b[39;49m\u001b[38;5;241;43m.\u001b[39;49m\u001b[43mrunning_mean\u001b[49m\n\u001b[1;32m    175\u001b[0m \u001b[43m    \u001b[49m\u001b[38;5;28;43;01mif\u001b[39;49;00m\u001b[43m \u001b[49m\u001b[38;5;129;43;01mnot\u001b[39;49;00m\u001b[43m \u001b[49m\u001b[38;5;28;43mself\u001b[39;49m\u001b[38;5;241;43m.\u001b[39;49m\u001b[43mtraining\u001b[49m\u001b[43m \u001b[49m\u001b[38;5;129;43;01mor\u001b[39;49;00m\u001b[43m \u001b[49m\u001b[38;5;28;43mself\u001b[39;49m\u001b[38;5;241;43m.\u001b[39;49m\u001b[43mtrack_running_stats\u001b[49m\n\u001b[1;32m    176\u001b[0m \u001b[43m    \u001b[49m\u001b[38;5;28;43;01melse\u001b[39;49;00m\u001b[43m \u001b[49m\u001b[38;5;28;43;01mNone\u001b[39;49;00m\u001b[43m,\u001b[49m\n\u001b[1;32m    177\u001b[0m \u001b[43m    \u001b[49m\u001b[38;5;28;43mself\u001b[39;49m\u001b[38;5;241;43m.\u001b[39;49m\u001b[43mrunning_var\u001b[49m\u001b[43m \u001b[49m\u001b[38;5;28;43;01mif\u001b[39;49;00m\u001b[43m \u001b[49m\u001b[38;5;129;43;01mnot\u001b[39;49;00m\u001b[43m \u001b[49m\u001b[38;5;28;43mself\u001b[39;49m\u001b[38;5;241;43m.\u001b[39;49m\u001b[43mtraining\u001b[49m\u001b[43m \u001b[49m\u001b[38;5;129;43;01mor\u001b[39;49;00m\u001b[43m \u001b[49m\u001b[38;5;28;43mself\u001b[39;49m\u001b[38;5;241;43m.\u001b[39;49m\u001b[43mtrack_running_stats\u001b[49m\u001b[43m \u001b[49m\u001b[38;5;28;43;01melse\u001b[39;49;00m\u001b[43m \u001b[49m\u001b[38;5;28;43;01mNone\u001b[39;49;00m\u001b[43m,\u001b[49m\n\u001b[1;32m    178\u001b[0m \u001b[43m    \u001b[49m\u001b[38;5;28;43mself\u001b[39;49m\u001b[38;5;241;43m.\u001b[39;49m\u001b[43mweight\u001b[49m\u001b[43m,\u001b[49m\n\u001b[1;32m    179\u001b[0m \u001b[43m    \u001b[49m\u001b[38;5;28;43mself\u001b[39;49m\u001b[38;5;241;43m.\u001b[39;49m\u001b[43mbias\u001b[49m\u001b[43m,\u001b[49m\n\u001b[1;32m    180\u001b[0m \u001b[43m    \u001b[49m\u001b[43mbn_training\u001b[49m\u001b[43m,\u001b[49m\n\u001b[1;32m    181\u001b[0m \u001b[43m    \u001b[49m\u001b[43mexponential_average_factor\u001b[49m\u001b[43m,\u001b[49m\n\u001b[1;32m    182\u001b[0m \u001b[43m    \u001b[49m\u001b[38;5;28;43mself\u001b[39;49m\u001b[38;5;241;43m.\u001b[39;49m\u001b[43meps\u001b[49m\u001b[43m,\u001b[49m\n\u001b[1;32m    183\u001b[0m \u001b[43m\u001b[49m\u001b[43m)\u001b[49m\n",
      "File \u001b[0;32m~/anaconda3/envs/snc/lib/python3.8/site-packages/torch/nn/functional.py:2450\u001b[0m, in \u001b[0;36mbatch_norm\u001b[0;34m(input, running_mean, running_var, weight, bias, training, momentum, eps)\u001b[0m\n\u001b[1;32m   2447\u001b[0m \u001b[38;5;28;01mif\u001b[39;00m training:\n\u001b[1;32m   2448\u001b[0m     _verify_batch_size(\u001b[38;5;28minput\u001b[39m\u001b[38;5;241m.\u001b[39msize())\n\u001b[0;32m-> 2450\u001b[0m \u001b[38;5;28;01mreturn\u001b[39;00m \u001b[43mtorch\u001b[49m\u001b[38;5;241;43m.\u001b[39;49m\u001b[43mbatch_norm\u001b[49m\u001b[43m(\u001b[49m\n\u001b[1;32m   2451\u001b[0m \u001b[43m    \u001b[49m\u001b[38;5;28;43minput\u001b[39;49m\u001b[43m,\u001b[49m\u001b[43m \u001b[49m\u001b[43mweight\u001b[49m\u001b[43m,\u001b[49m\u001b[43m \u001b[49m\u001b[43mbias\u001b[49m\u001b[43m,\u001b[49m\u001b[43m \u001b[49m\u001b[43mrunning_mean\u001b[49m\u001b[43m,\u001b[49m\u001b[43m \u001b[49m\u001b[43mrunning_var\u001b[49m\u001b[43m,\u001b[49m\u001b[43m \u001b[49m\u001b[43mtraining\u001b[49m\u001b[43m,\u001b[49m\u001b[43m \u001b[49m\u001b[43mmomentum\u001b[49m\u001b[43m,\u001b[49m\u001b[43m \u001b[49m\u001b[43meps\u001b[49m\u001b[43m,\u001b[49m\u001b[43m \u001b[49m\u001b[43mtorch\u001b[49m\u001b[38;5;241;43m.\u001b[39;49m\u001b[43mbackends\u001b[49m\u001b[38;5;241;43m.\u001b[39;49m\u001b[43mcudnn\u001b[49m\u001b[38;5;241;43m.\u001b[39;49m\u001b[43menabled\u001b[49m\n\u001b[1;32m   2452\u001b[0m \u001b[43m\u001b[49m\u001b[43m)\u001b[49m\n",
      "\u001b[0;31mKeyboardInterrupt\u001b[0m: "
     ]
    }
   ],
   "source": [
    "from sklearn.manifold import TSNE\n",
    "from tqdm import tqdm\n",
    "\n",
    "representation_list = []\n",
    "noisy_target_list = []\n",
    "clean_target_list = []\n",
    "for img, noisy_target, clean_target in tqdm(not_aug_train_dataset):\n",
    "    representation_list.append(model.net(img[None]).detach())\n",
    "    noisy_target_list.append(noisy_target)\n",
    "    clean_target_list.append(clean_target)\n",
    "torch.cat(representation_list, dim=0)"
   ]
  },
  {
   "cell_type": "code",
   "execution_count": 13,
   "id": "41f51596",
   "metadata": {},
   "outputs": [],
   "source": [
    "representation_tensor = torch.cat(representation_list, dim=0)"
   ]
  },
  {
   "cell_type": "code",
   "execution_count": 14,
   "id": "da8b52f4",
   "metadata": {},
   "outputs": [],
   "source": [
    "torch.save(representation_tensor, 'representation_tensor.pt')\n",
    "torch.save(torch.tensor(noisy_target_list), 'noisy_target_list.pt')\n",
    "torch.save(torch.tensor(clean_target_list), 'clean_target_list.pt')"
   ]
  },
  {
   "cell_type": "markdown",
   "id": "694ae290",
   "metadata": {},
   "source": [
    "### t-SNE"
   ]
  },
  {
   "cell_type": "code",
   "execution_count": 42,
   "id": "bbd5c507",
   "metadata": {
    "collapsed": true
   },
   "outputs": [
    {
     "name": "stderr",
     "output_type": "stream",
     "text": [
      "/home/saemeechoi/anaconda3/envs/snc/lib/python3.8/site-packages/sklearn/manifold/_t_sne.py:795: FutureWarning: The default initialization in TSNE will change from 'random' to 'pca' in 1.2.\n",
      "  warnings.warn(\n",
      "/home/saemeechoi/anaconda3/envs/snc/lib/python3.8/site-packages/sklearn/manifold/_t_sne.py:805: FutureWarning: The default learning rate in TSNE will change from 200.0 to 'auto' in 1.2.\n",
      "  warnings.warn(\n"
     ]
    },
    {
     "data": {
      "image/png": "[encoded data removed]",
      "text/plain": [
       "<Figure size 432x288 with 1 Axes>"
      ]
     },
     "metadata": {
      "needs_background": "light"
     },
     "output_type": "display_data"
    }
   ],
   "source": [
    "import matplotlib.pyplot as plt\n",
    "\n",
    "# Assuming your data is stored in a numpy array called 'data'\n",
    "tsne = TSNE(n_components=2, perplexity=30.0)\n",
    "embedded_data = tsne.fit_transform(representation_tensor)\n",
    "\n",
    "# Plot the embedded data\n",
    "plt.scatter(embedded_data[:, 0], embedded_data[:, 1], c=clean_target_list,cmap='viridis',s=1)\n",
    "plt.show()"
   ]
  },
  {
   "cell_type": "code",
   "execution_count": 55,
   "id": "5677aef8",
   "metadata": {},
   "outputs": [
    {
     "data": {
      "image/png": "[encoded data removed]",
      "text/plain": [
       "<Figure size 432x288 with 1 Axes>"
      ]
     },
     "metadata": {
      "needs_background": "light"
     },
     "output_type": "display_data"
    }
   ],
   "source": [
    "# Plot the embedded data\n",
    "plt.scatter(embedded_data[:, 0], embedded_data[:, 1], c=clean_target_list,cmap='viridis',s=7)\n",
    "plt.show()"
   ]
  },
  {
   "cell_type": "code",
   "execution_count": 43,
   "id": "25882755",
   "metadata": {
    "collapsed": true
   },
   "outputs": [
    {
     "name": "stderr",
     "output_type": "stream",
     "text": [
      "/home/saemeechoi/anaconda3/envs/snc/lib/python3.8/site-packages/sklearn/manifold/_t_sne.py:795: FutureWarning: The default initialization in TSNE will change from 'random' to 'pca' in 1.2.\n",
      "  warnings.warn(\n",
      "/home/saemeechoi/anaconda3/envs/snc/lib/python3.8/site-packages/sklearn/manifold/_t_sne.py:805: FutureWarning: The default learning rate in TSNE will change from 200.0 to 'auto' in 1.2.\n",
      "  warnings.warn(\n"
     ]
    },
    {
     "data": {
      "image/png": "[encoded data removed]",
      "text/plain": [
       "<Figure size 432x288 with 1 Axes>"
      ]
     },
     "metadata": {
      "needs_background": "light"
     },
     "output_type": "display_data"
    }
   ],
   "source": [
    "# Plot the embedded data\n",
    "from mpl_toolkits.mplot3d import Axes3D\n",
    "\n",
    "# Assuming your data is stored in a numpy array called 'data'\n",
    "tsne = TSNE(n_components=3, perplexity=30.0)\n",
    "embedded_data = tsne.fit_transform(representation_tensor)\n",
    "\n"
   ]
  },
  {
   "cell_type": "code",
   "execution_count": 56,
   "id": "dccb0196",
   "metadata": {},
   "outputs": [
    {
     "data": {
      "image/png": "[encoded data removed]",
      "text/plain": [
       "<Figure size 432x288 with 1 Axes>"
      ]
     },
     "metadata": {
      "needs_background": "light"
     },
     "output_type": "display_data"
    }
   ],
   "source": [
    "fig = plt.figure()\n",
    "ax = fig.add_subplot(111, projection='3d')\n",
    "\n",
    "ax.scatter(embedded_data[:, 0], embedded_data[:, 1], embedded_data[:, 2], c=clean_target_list, cmap='viridis',s=5)\n",
    "\n",
    "# Set the plot labels\n",
    "ax.set_xlabel('X Label')\n",
    "ax.set_ylabel('Y Label')\n",
    "ax.set_zlabel('Z Label')\n",
    "\n",
    "# Show the plot\n",
    "plt.show()"
   ]
  },
  {
   "cell_type": "markdown",
   "id": "f6d7b327",
   "metadata": {},
   "source": [
    "### UMAP"
   ]
  },
  {
   "cell_type": "code",
   "execution_count": 15,
   "id": "ee229a6d",
   "metadata": {},
   "outputs": [],
   "source": [
    "import umap\n",
    "import numpy as np\n",
    "import matplotlib.pyplot as plt\n",
    "\n",
    "umap_obj = umap.UMAP(n_components=2)\n",
    "\n",
    "# Fit and transform the data using UMAP\n",
    "embedding = umap_obj.fit_transform(representation_tensor)"
   ]
  },
  {
   "cell_type": "code",
   "execution_count": 17,
   "id": "a44537da",
   "metadata": {
    "scrolled": true
   },
   "outputs": [
    {
     "data": {
      "image/png": "[encoded data removed]",
      "text/plain": [
       "<Figure size 432x288 with 1 Axes>"
      ]
     },
     "metadata": {
      "needs_background": "light"
     },
     "output_type": "display_data"
    }
   ],
   "source": [
    "# Plot the results\n",
    "plt.scatter(embedding[:, 0], embedding[:, 1], c=clean_target_list, cmap='viridis',s=8)\n",
    "plt.show()"
   ]
  },
  {
   "cell_type": "code",
   "execution_count": 20,
   "id": "0ca1b52c",
   "metadata": {},
   "outputs": [],
   "source": [
    "# Plot the embedded data\n",
    "from mpl_toolkits.mplot3d import Axes3D\n",
    "\n",
    "# Assuming your data is stored in a numpy array called 'data'\n",
    "umap_obj = umap.UMAP(n_components=3)\n",
    "\n",
    "# Fit and transform the data using UMAP\n",
    "embedded_data = umap_obj.fit_transform(representation_tensor)"
   ]
  },
  {
   "cell_type": "code",
   "execution_count": 23,
   "id": "9b249992",
   "metadata": {},
   "outputs": [
    {
     "data": {
      "image/png": "[encoded data removed]",
      "text/plain": [
       "<Figure size 432x288 with 1 Axes>"
      ]
     },
     "metadata": {
      "needs_background": "light"
     },
     "output_type": "display_data"
    }
   ],
   "source": [
    "fig = plt.figure()\n",
    "ax = fig.add_subplot(111, projection='3d')\n",
    "\n",
    "ax.scatter(embedded_data[:, 0], embedded_data[:, 1], embedded_data[:, 2], c=clean_target_list, cmap='viridis', s=5)\n",
    "\n",
    "# Set the plot labels\n",
    "ax.set_xlabel('X Label')\n",
    "ax.set_ylabel('Y Label')\n",
    "ax.set_zlabel('Z Label')\n",
    "\n",
    "# Show the plot\n",
    "plt.show()"
   ]
  },
  {
   "cell_type": "code",
   "execution_count": 43,
   "id": "4b155033",
   "metadata": {},
   "outputs": [
    {
     "data": {
      "application/vnd.plotly.v1+json": {
       "config": {
        "plotlyServerURL": "https://plot.ly"
       },
       "data": [
        {
         "hovertemplate": "x=%{x}<br>y=%{y}<br>z=%{z}<br>color=%{marker.color}<extra></extra>",
         "legendgroup": "",
         "marker": {
          "color": [
           6,
           9,
           9,
           4,
           1,
           1,
           2,
           7,
           8,
           3,
           4,
           7,
           7,
           2,
           9,
           9,
           9,
           3,
           2,
           6,
           4,
           3,
           6,
           6,
           2,
           6,
           3,
           5,
           4,
           0,
           0,
           9,
           1,
           3,
           4,
           0,
           3,
           7,
           3,
           3,
           5,
           2,
           2,
           7,
           1,
           1,
           1,
           2,
           2,
           0,
           9,
           5,
           7,
           9,
           2,
           2,
           5,
           2,
           4,
           3,
           1,
           1,
           8,
           2,
           1,
           1,
           4,
           9,
           7,
           8,
           5,
           9,
           6,
           7,
           3,
           1,
           9,
           0,
           3,
           1,
           3,
           5,
           4,
           5,
           7,
           7,
           4,
           7,
           9,
           4,
           2,
           3,
           8,
           0,
           1,
           6,
           1,
           1,
           4,
           1,
           8,
           3,
           9,
           6,
           6,
           1,
           8,
           5,
           2,
           9,
           9,
           8,
           1,
           7,
           7,
           0,
           0,
           6,
           9,
           1,
           2,
           2,
           9,
           2,
           6,
           6,
           1,
           9,
           5,
           0,
           4,
           7,
           6,
           7,
           1,
           8,
           1,
           1,
           2,
           8,
           1,
           3,
           3,
           6,
           2,
           4,
           9,
           9,
           5,
           4,
           3,
           6,
           7,
           4,
           6,
           8,
           5,
           5,
           4,
           3,
           1,
           8,
           4,
           7,
           6,
           0,
           9,
           5,
           1,
           3,
           8,
           2,
           7,
           5,
           3,
           4,
           1,
           5,
           7,
           0,
           4,
           7,
           5,
           5,
           1,
           0,
           9,
           6,
           9,
           0,
           8,
           7,
           8,
           8,
           2,
           5,
           2,
           3,
           5,
           0,
           6,
           1,
           9,
           3,
           6,
           9,
           1,
           3,
           9,
           6,
           6,
           7,
           1,
           0,
           9,
           5,
           8,
           5,
           2,
           9,
           0,
           8,
           8,
           0,
           6,
           9,
           1,
           1,
           6,
           3,
           7,
           6,
           6,
           0,
           6,
           6,
           1,
           7,
           1,
           5,
           8,
           3,
           6,
           6,
           8,
           6,
           8,
           4,
           6,
           6,
           1,
           3,
           8,
           3,
           4,
           1,
           7,
           1,
           3,
           8,
           5,
           1,
           1,
           4,
           0,
           9,
           3,
           7,
           4,
           9,
           9,
           2,
           4,
           9,
           9,
           1,
           0,
           5,
           9,
           0,
           8,
           2,
           1,
           2,
           0,
           5,
           6,
           3,
           2,
           7,
           8,
           8,
           6,
           0,
           7,
           9,
           4,
           5,
           6,
           4,
           2,
           1,
           1,
           2,
           1,
           5,
           9,
           9,
           0,
           8,
           4,
           1,
           1,
           6,
           3,
           3,
           9,
           0,
           7,
           9,
           7,
           7,
           9,
           1,
           5,
           1,
           6,
           6,
           8,
           7,
           1,
           3,
           0,
           3,
           3,
           2,
           4,
           5,
           7,
           5,
           9,
           0,
           3,
           4,
           0,
           4,
           4,
           6,
           0,
           0,
           6,
           6,
           0,
           8,
           1,
           6,
           2,
           9,
           2,
           5,
           9,
           6,
           7,
           4,
           1,
           8,
           7,
           3,
           6,
           9,
           3,
           0,
           4,
           0,
           5,
           1,
           0,
           3,
           4,
           8,
           5,
           4,
           7,
           2,
           3,
           9,
           7,
           6,
           7,
           1,
           4,
           7,
           0,
           1,
           7,
           3,
           1,
           8,
           4,
           4,
           2,
           0,
           2,
           2,
           0,
           0,
           9,
           0,
           9,
           6,
           8,
           2,
           7,
           7,
           4,
           0,
           3,
           0,
           8,
           9,
           4,
           2,
           7,
           2,
           5,
           2,
           5,
           1,
           9,
           4,
           8,
           5,
           1,
           7,
           4,
           4,
           0,
           6,
           9,
           0,
           7,
           8,
           8,
           9,
           9,
           3,
           3,
           4,
           0,
           4,
           5,
           6,
           6,
           0,
           1,
           0,
           8,
           0,
           4,
           8,
           8,
           1,
           5,
           2,
           6,
           8,
           1,
           0,
           0,
           7,
           7,
           5,
           9,
           6,
           2,
           8,
           3,
           4,
           7,
           3,
           9,
           0,
           1,
           2,
           4,
           8,
           1,
           8,
           6,
           4,
           4,
           5,
           7,
           1,
           3,
           9,
           8,
           0,
           1,
           7,
           5,
           8,
           2,
           8,
           0,
           4,
           1,
           8,
           9,
           8,
           2,
           9,
           9,
           2,
           7,
           5,
           7,
           3,
           8,
           8,
           4,
           4,
           2,
           7,
           1,
           6,
           4,
           0,
           4,
           6,
           9,
           7,
           6,
           2,
           5,
           5,
           1,
           7,
           2,
           2,
           2,
           9,
           5,
           4,
           2,
           7,
           8,
           1,
           3,
           4
          ],
          "coloraxis": "coloraxis",
          "size": 2,
          "symbol": "circle"
         },
         "mode": "markers",
         "name": "",
         "scene": "scene",
         "showlegend": false,
         "type": "scatter3d",
         "x": [
          -0.8363197445869446,
          -1.7971104383468628,
          -0.49879154562950134,
          -0.9447120428085327,
          -0.2194976657629013,
          -1.6053930521011353,
          -0.7067738175392151,
          0.7611516714096069,
          0.7540229558944702,
          0.14878910779953003,
          -1.2640351057052612,
          0.581508219242096,
          0.6537659168243408,
          0.5068373084068298,
          -1.2085909843444824,
          -0.3515723645687103,
          -1.0556663274765015,
          -0.8835576176643372,
          -0.6500481367111206,
          -1.5518087148666382,
          1.1088504791259766,
          0.9391849637031555,
          -0.862411618232727,
          -1.2904225587844849,
          -1.7134616374969482,
          -1.0497541427612305,
          -1.082536220550537,
          -0.05958865210413933,
          0.46507835388183594,
          0.41690051555633545,
          0.8833920955657959,
          -0.4822901487350464,
          -1.8245283365249634,
          -0.43541473150253296,
          0.7801832556724548,
          -0.7422357201576233,
          -0.5438898205757141,
          -0.035179976373910904,
          -0.21411167085170746,
          -1.0040111541748047,
          -0.5967383980751038,
          1.0600805282592773,
          1.151633381843567,
          0.6841221451759338,
          -1.9314004182815552,
          -1.659497857093811,
          -1.7249771356582642,
          0.7586331963539124,
          0.39911168813705444,
          -0.32190391421318054,
          0.02825375832617283,
          -0.8109469413757324,
          0.2520286738872528,
          -0.9141395092010498,
          0.9211265444755554,
          -1.402813196182251,
          -0.7039262056350708,
          -1.1014325618743896,
          -0.6809932589530945,
          -0.4458634853363037,
          -1.707959532737732,
          -1.4921602010726929,
          0.4282761216163635,
          -1.0800232887268066,
          -1.877596139907837,
          -1.701797366142273,
          1.0427911281585693,
          -1.1439162492752075,
          -0.6365679502487183,
          0.8964362740516663,
          0.7619476914405823,
          -0.8523193597793579,
          -1.5870280265808105,
          0.6657489538192749,
          -0.09440679103136063,
          -1.8108354806900024,
          -0.45998385548591614,
          0.3690086305141449,
          -0.9652723670005798,
          -0.42717233300209045,
          -0.7376159429550171,
          0.734027087688446,
          -0.9463312029838562,
          0.31580811738967896,
          0.024428339675068855,
          0.6396740674972534,
          0.46793460845947266,
          0.48525410890579224,
          -1.8973948955535889,
          -0.2877153754234314,
          -1.1918843984603882,
          0.48418110609054565,
          -0.592061460018158,
          -0.040826860815286636,
          -1.826918363571167,
          -0.7789023518562317,
          -1.7978366613388062,
          -1.405187964439392,
          -1.6939496994018555,
          -0.636662483215332,
          0.20047524571418762,
          -0.09627838432788849,
          -1.6491045951843262,
          -0.5192499160766602,
          -0.46631357073783875,
          -1.5075180530548096,
          0.8912208080291748,
          -0.5123143196105957,
          0.5777221918106079,
          -0.6303105354309082,
          -0.23498421907424927,
          0.46513819694519043,
          -1.6257688999176025,
          -0.5455398559570312,
          0.545894980430603,
          1.0797691345214844,
          -0.3571989834308624,
          -1.6497095823287964,
          -1.1934456825256348,
          -1.1471951007843018,
          0.5533775091171265,
          0.9903383255004883,
          -1.1649757623672485,
          0.6130415201187134,
          -1.333050012588501,
          -1.023681879043579,
          -0.7462875843048096,
          -1.671057939529419,
          0.4870464503765106,
          1.4731981754302979,
          -1.219158411026001,
          0.38135719299316406,
          -0.3682633936405182,
          0.8912706971168518,
          0.5399415493011475,
          0.8619754910469055,
          -1.8626530170440674,
          -1.8637545108795166,
          0.07824178040027618,
          0.35343602299690247,
          -0.8718631267547607,
          -1.0630309581756592,
          1.0769110918045044,
          -1.5258570909500122,
          0.8533150553703308,
          -0.8770278096199036,
          -1.6046690940856934,
          -0.45282772183418274,
          -0.1764131635427475,
          -1.5073286294937134,
          0.02226608246564865,
          -0.9706130623817444,
          -0.7896634936332703,
          1.0599443912506104,
          -1.7873910665512085,
          -0.07867418974637985,
          -0.1780661642551422,
          -0.2428692877292633,
          0.48335281014442444,
          -1.0782525539398193,
          -1.5614908933639526,
          -0.29607489705085754,
          0.2850361764431,
          -1.0459800958633423,
          -1.3255671262741089,
          -0.5502048134803772,
          -1.6473565101623535,
          -0.14328844845294952,
          -1.3749102354049683,
          -1.735060214996338,
          -0.73280268907547,
          -0.20267267525196075,
          0.7268659472465515,
          -1.1949701309204102,
          -0.7720606327056885,
          0.2957209050655365,
          -1.7656497955322266,
          -0.7848165035247803,
          -0.31122565269470215,
          0.175297811627388,
          0.6466174125671387,
          -0.799927830696106,
          0.7154674530029297,
          -0.22971893846988678,
          -1.8746163845062256,
          -0.22056008875370026,
          -1.4301055669784546,
          -0.6433439254760742,
          -1.1894077062606812,
          0.3754865229129791,
          0.7649527788162231,
          1.1403402090072632,
          -0.34451574087142944,
          0.10168425738811493,
          0.59883052110672,
          0.26158860325813293,
          -0.6023756861686707,
          -0.43203005194664,
          0.8512930274009705,
          0.6911014318466187,
          -1.6278702020645142,
          -1.8259048461914062,
          -1.4558113813400269,
          -0.15069787204265594,
          -1.7366715669631958,
          -1.1588494777679443,
          -1.7900753021240234,
          -1.3029248714447021,
          -1.4346213340759277,
          -1.5062849521636963,
          -1.230532169342041,
          -0.9288628101348877,
          -1.771341323852539,
          1.3356900215148926,
          -1.1526705026626587,
          -1.1912858486175537,
          -0.17635726928710938,
          -0.5990082025527954,
          0.6468003392219543,
          -1.554018497467041,
          0.9440473914146423,
          -0.07092475146055222,
          0.4828813374042511,
          -0.20551705360412598,
          -1.0400091409683228,
          -1.0993602275848389,
          -1.565182089805603,
          -0.0014641074230894446,
          -1.4393588304519653,
          -0.3261484205722809,
          -1.4072887897491455,
          -1.5803128480911255,
          -1.2898547649383545,
          -0.22909386456012726,
          -1.3841397762298584,
          -0.8299536108970642,
          -0.42987698316574097,
          0.8829142451286316,
          -0.8845158219337463,
          0.5162937641143799,
          -0.15202608704566956,
          -1.092046856880188,
          -0.7888326048851013,
          -1.1553200483322144,
          0.9821196794509888,
          -0.4961588978767395,
          0.9746577143669128,
          0.4405224919319153,
          0.39125344157218933,
          0.8633717894554138,
          -0.17043551802635193,
          -1.7409759759902954,
          -0.23787911236286163,
          0.8647529482841492,
          0.16958212852478027,
          -1.4749174118041992,
          0.6360917091369629,
          -1.2560065984725952,
          0.7461757659912109,
          0.03069394640624523,
          0.8083972334861755,
          -1.9657496213912964,
          -0.29815754294395447,
          1.0761611461639404,
          1.2930222749710083,
          -1.762965202331543,
          -0.5229972004890442,
          -0.9000024795532227,
          0.09378551691770554,
          -1.6899631023406982,
          -1.1387197971343994,
          0.9351533055305481,
          -0.3473118245601654,
          -0.8983098864555359,
          -0.9519025087356567,
          -1.6490037441253662,
          1.4510974884033203,
          0.15595273673534393,
          -1.590889811515808,
          0.33649876713752747,
          0.2545374929904938,
          -0.3299115300178528,
          -1.0343847274780273,
          0.2517016530036926,
          0.023519940674304962,
          -0.1637611836194992,
          -1.267155647277832,
          -0.4694356322288513,
          1.0568538904190063,
          0.6987982988357544,
          0.017575182020664215,
          0.20276887714862823,
          -0.681522011756897,
          -0.7150922417640686,
          0.5768634676933289,
          -1.1273789405822754,
          -0.29706937074661255,
          -0.37671223282814026,
          -0.8055180907249451,
          -0.5321092009544373,
          -1.6321640014648438,
          -0.9851130247116089,
          -0.9835413694381714,
          1.3418042659759521,
          -1.4876662492752075,
          -0.05601194500923157,
          -1.8870447874069214,
          -1.1793056726455688,
          0.8634832501411438,
          -0.1997126042842865,
          0.24961218237876892,
          -1.6692819595336914,
          -0.7057033181190491,
          -1.5804945230484009,
          -0.9013586640357971,
          -1.488881230354309,
          -1.3473955392837524,
          1.1370153427124023,
          0.5191362500190735,
          -1.19313383102417,
          0.5443156957626343,
          0.8431307077407837,
          -1.7072547674179077,
          -0.6198089718818665,
          0.6631284356117249,
          -1.5008211135864258,
          -1.1125195026397705,
          -1.1681034564971924,
          0.20415844023227692,
          0.20223285257816315,
          -1.300767421722412,
          -1.0277652740478516,
          -1.7410318851470947,
          -1.4526968002319336,
          0.23938190937042236,
          0.9251892566680908,
          -0.45701441168785095,
          -0.12588712573051453,
          0.08503089100122452,
          0.5253672003746033,
          0.01040710136294365,
          1.0921857357025146,
          -0.5855692625045776,
          0.6644138693809509,
          1.2478138208389282,
          0.2438381016254425,
          -1.1141960620880127,
          -1.238347053527832,
          1.046964406967163,
          1.2029060125350952,
          0.5102171301841736,
          -1.5030876398086548,
          -1.2837430238723755,
          -0.2782103717327118,
          -1.7253012657165527,
          -1.0716171264648438,
          -1.6380006074905396,
          -1.7592891454696655,
          0.7207762598991394,
          -0.10873962193727493,
          -0.6059830784797668,
          -0.7581641674041748,
          -0.03116549924015999,
          0.8013089299201965,
          -1.4613200426101685,
          0.8449099659919739,
          0.38955894112586975,
          -1.4676642417907715,
          -0.6045978665351868,
          -1.3765586614608765,
          0.1328875571489334,
          0.36111101508140564,
          0.3361768126487732,
          1.36278235912323,
          -0.7804383635520935,
          -1.5500162839889526,
          -0.27770185470581055,
          -0.9413893222808838,
          -0.9294440150260925,
          0.7785820960998535,
          0.4179057776927948,
          -0.4039900302886963,
          -0.2863081991672516,
          1.063382625579834,
          -0.2085188329219818,
          -1.295033574104309,
          0.43074461817741394,
          -1.616089940071106,
          -0.15813058614730835,
          -1.5528242588043213,
          0.0879589170217514,
          0.6447063088417053,
          -0.49965301156044006,
          -0.9544104337692261,
          0.8575690984725952,
          -0.8443581461906433,
          -1.300304889678955,
          -1.3170241117477417,
          -1.3364660739898682,
          -0.3834565579891205,
          0.5189704895019531,
          0.8777405023574829,
          0.9416592121124268,
          0.780774712562561,
          -0.39931371808052063,
          1.070766806602478,
          -0.19034893810749054,
          -0.20102395117282867,
          -1.3868293762207031,
          -1.0938547849655151,
          0.39755070209503174,
          -0.9644657373428345,
          0.7143502235412598,
          0.5158982276916504,
          0.05165264382958412,
          -0.22129929065704346,
          0.24242421984672546,
          1.4183388948440552,
          0.1414271891117096,
          -1.5953819751739502,
          -0.5912854075431824,
          0.7766028046607971,
          0.6110316514968872,
          0.6450587511062622,
          0.01928878203034401,
          1.3049285411834717,
          -0.3131575584411621,
          0.025357430800795555,
          -1.517870545387268,
          -0.6848044991493225,
          -0.07426770776510239,
          -0.4664047956466675,
          -1.6148536205291748,
          0.1920221596956253,
          0.43572962284088135,
          -0.9461725950241089,
          0.7609606385231018,
          -1.693740963935852,
          -1.5468086004257202,
          -0.0697428360581398,
          -0.3392833471298218,
          0.8662164211273193,
          -0.25992363691329956,
          -0.8524649143218994,
          -1.1156368255615234,
          -0.8776935935020447,
          0.36178725957870483,
          0.6073395609855652,
          -0.18949373066425323,
          0.12097851932048798,
          -0.6740745902061462,
          -0.40860089659690857,
          -1.4550825357437134,
          -0.5584982633590698,
          -1.7243071794509888,
          0.9980578422546387,
          0.5568406581878662,
          0.9718385338783264,
          -0.7145671248435974,
          0.4911361634731293,
          1.135956048965454,
          -1.5204159021377563,
          -1.0781079530715942,
          -0.04431317746639252,
          -1.2461082935333252,
          0.7279887795448303,
          -1.63418710231781,
          -1.2023097276687622,
          1.0570056438446045,
          -0.08272825181484222,
          -1.2012890577316284,
          -0.5066596865653992,
          -1.1592532396316528,
          -0.8407801985740662,
          0.38199424743652344,
          0.20216892659664154,
          0.6420062780380249,
          -1.8188529014587402,
          -0.8493049740791321,
          0.03547882288694382,
          -1.101110577583313,
          0.7097579836845398,
          -0.6367368102073669,
          -1.8106492757797241,
          0.4849346876144409,
          0.27260133624076843,
          -1.8468010425567627,
          -0.8858771920204163,
          -1.4735726118087769,
          -0.7258870601654053,
          1.0329855680465698,
          0.5019071698188782,
          0.07296497374773026,
          -1.4757746458053589,
          0.746140718460083,
          -0.8013666868209839,
          0.18518909811973572,
          0.8957515358924866,
          -1.4951975345611572,
          -0.2804754674434662,
          -0.7503090500831604,
          -0.6591510772705078,
          0.5375648140907288,
          0.15048617124557495,
          0.8494924902915955,
          -0.3460908830165863,
          -0.20541326701641083,
          0.5599949955940247,
          -1.7414571046829224,
          0.48207637667655945,
          0.4010850489139557,
          -1.2625014781951904,
          -0.489821195602417,
          -0.0822335034608841,
          0.3737424612045288,
          0.06800509244203568,
          0.7179586291313171,
          0.5260497331619263,
          0.07022262364625931,
          0.08027683943510056,
          0.3368802070617676,
          0.2763493061065674,
          -0.08388348668813705,
          0.6635090112686157,
          -0.6244122385978699,
          -1.0641332864761353,
          -0.8316941857337952,
          -1.2931957244873047,
          0.32785719633102417,
          -1.1806268692016602,
          -1.158402681350708,
          0.7930761575698853,
          -1.6726655960083008,
          0.4667651653289795,
          0.588209867477417,
          0.41958799958229065,
          -1.5794233083724976,
          -1.4116345643997192,
          0.5271475315093994,
          0.7936791181564331,
          0.2580392360687256,
          -0.8602406978607178,
          0.6712296009063721,
          -0.7921004891395569,
          -0.4552944004535675,
          -1.3353102207183838,
          -0.8358334302902222,
          -1.205654263496399,
          -0.8992030620574951,
          -1.3418724536895752
         ],
         "y": [
          11.654057502746582,
          10.200939178466797,
          8.263145446777344,
          11.633700370788574,
          10.3626127243042,
          10.646979331970215,
          10.060904502868652,
          8.646154403686523,
          9.953268051147461,
          9.885482788085938,
          10.400569915771484,
          8.220840454101562,
          7.761575698852539,
          10.470734596252441,
          8.747834205627441,
          8.081578254699707,
          8.241504669189453,
          11.3368558883667,
          7.937680244445801,
          9.594654083251953,
          8.393768310546875,
          8.449075698852539,
          11.435112953186035,
          8.979025840759277,
          9.597691535949707,
          8.31613826751709,
          9.589573860168457,
          9.01557445526123,
          8.326698303222656,
          7.761775970458984,
          9.567790031433105,
          8.06670093536377,
          10.661625862121582,
          11.200028419494629,
          8.432116508483887,
          9.328368186950684,
          8.954346656799316,
          8.561603546142578,
          11.257378578186035,
          11.630267143249512,
          10.403958320617676,
          8.300006866455078,
          8.589212417602539,
          8.336908340454102,
          10.599200248718262,
          8.73928451538086,
          10.856992721557617,
          9.445680618286133,
          8.834809303283691,
          8.36553955078125,
          8.369659423828125,
          10.26965618133545,
          9.165958404541016,
          8.262008666992188,
          10.93807601928711,
          9.817337989807129,
          8.494959831237793,
          10.378565788269043,
          11.579733848571777,
          8.45289421081543,
          10.592970848083496,
          8.837814331054688,
          9.847589492797852,
          10.467601776123047,
          10.815910339355469,
          10.27493667602539,
          8.87565803527832,
          8.01521110534668,
          11.623788833618164,
          8.761983871459961,
          8.86433219909668,
          9.430381774902344,
          8.003593444824219,
          10.873991966247559,
          9.643988609313965,
          10.511170387268066,
          8.672791481018066,
          10.775567054748535,
          10.464470863342285,
          8.8605318069458,
          8.295811653137207,
          8.958230972290039,
          11.550053596496582,
          10.516448020935059,
          9.284515380859375,
          11.046699523925781,
          9.6676025390625,
          9.441158294677734,
          9.767362594604492,
          9.487471580505371,
          9.883152961730957,
          10.677101135253906,
          8.834428787231445,
          10.174241065979004,
          10.516759872436523,
          8.598909378051758,
          10.3657865524292,
          10.647470474243164,
          10.306886672973633,
          10.637184143066406,
          7.895199775695801,
          10.81861686706543,
          8.616901397705078,
          11.448040962219238,
          11.484704971313477,
          7.984504222869873,
          8.753849029541016,
          9.80075740814209,
          7.818528652191162,
          8.66188907623291,
          10.04586410522461,
          8.77838134765625,
          9.779484748840332,
          9.27497673034668,
          8.6585693359375,
          8.096287727355957,
          10.136874198913574,
          9.64124870300293,
          7.8268232345581055,
          8.909912109375,
          8.257461547851562,
          8.573715209960938,
          7.875319480895996,
          8.04439926147461,
          9.398040771484375,
          8.063017845153809,
          8.026607513427734,
          9.201020240783691,
          9.529512405395508,
          8.28878116607666,
          11.06450080871582,
          7.753996849060059,
          11.323118209838867,
          8.571516036987305,
          10.281551361083984,
          8.707968711853027,
          10.54151439666748,
          10.315011024475098,
          8.051149368286133,
          8.498809814453125,
          7.9130167961120605,
          11.486847877502441,
          8.344437599182129,
          9.365625381469727,
          7.999232292175293,
          11.463375091552734,
          10.57600212097168,
          10.148197174072266,
          8.69228744506836,
          9.408312797546387,
          9.705026626586914,
          9.14484691619873,
          11.562264442443848,
          8.50400447845459,
          9.685147285461426,
          10.194731712341309,
          8.96512222290039,
          11.440352439880371,
          9.41352653503418,
          8.353060722351074,
          8.641779899597168,
          8.378218650817871,
          10.960165977478027,
          11.420669555664062,
          9.971084594726562,
          8.476690292358398,
          9.909984588623047,
          8.991754531860352,
          10.20734977722168,
          8.425921440124512,
          9.793925285339355,
          10.484915733337402,
          7.896384239196777,
          9.830522537231445,
          8.10106086730957,
          9.470497131347656,
          9.400837898254395,
          11.413811683654785,
          9.468480110168457,
          11.065375328063965,
          9.872004508972168,
          11.573943138122559,
          10.449676513671875,
          10.804012298583984,
          10.624786376953125,
          8.311013221740723,
          9.333849906921387,
          9.657979011535645,
          9.621944427490234,
          8.461179733276367,
          9.193140983581543,
          8.578014373779297,
          9.782256126403809,
          7.929914951324463,
          7.951003551483154,
          11.005592346191406,
          9.338397979736328,
          11.564918518066406,
          10.949908256530762,
          8.92620849609375,
          9.56155776977539,
          10.566506385803223,
          7.9202494621276855,
          8.295238494873047,
          9.777814865112305,
          7.755642414093018,
          10.618267059326172,
          8.276762008666992,
          8.301733016967773,
          9.94651985168457,
          9.776398658752441,
          9.19498348236084,
          9.121986389160156,
          8.24429702758789,
          8.59230899810791,
          8.241990089416504,
          9.842364311218262,
          8.852437019348145,
          8.294340133666992,
          8.129094123840332,
          10.003057479858398,
          8.16778564453125,
          10.281164169311523,
          8.882513046264648,
          11.544416427612305,
          8.675970077514648,
          8.726592063903809,
          10.217621803283691,
          9.2078218460083,
          11.50577163696289,
          10.355072975158691,
          9.969388008117676,
          9.552282333374023,
          9.882872581481934,
          7.755793571472168,
          10.6064453125,
          9.920055389404297,
          8.791154861450195,
          9.834168434143066,
          10.969938278198242,
          9.437312126159668,
          9.278754234313965,
          11.630182266235352,
          11.099130630493164,
          9.540289878845215,
          11.013108253479004,
          10.649181365966797,
          10.094632148742676,
          9.774581909179688,
          9.9351224899292,
          10.282184600830078,
          8.18007755279541,
          8.088183403015137,
          8.221010208129883,
          8.972382545471191,
          10.229394912719727,
          7.851729393005371,
          10.551916122436523,
          10.423731803894043,
          8.970861434936523,
          8.483253479003906,
          10.726524353027344,
          8.109925270080566,
          8.842293739318848,
          8.446345329284668,
          8.538756370544434,
          8.13453197479248,
          11.538010597229004,
          9.018362045288086,
          10.382923126220703,
          8.507367134094238,
          10.83342456817627,
          8.511680603027344,
          8.879745483398438,
          9.132426261901855,
          10.679944038391113,
          8.401043891906738,
          9.985828399658203,
          7.992878437042236,
          11.132132530212402,
          8.171647071838379,
          8.790594100952148,
          10.352924346923828,
          9.95249080657959,
          7.921508312225342,
          10.935842514038086,
          10.703530311584473,
          8.130949974060059,
          8.68805980682373,
          8.142741203308105,
          8.316763877868652,
          10.38490104675293,
          8.500962257385254,
          10.454151153564453,
          8.530411720275879,
          7.882887840270996,
          9.472851753234863,
          9.811164855957031,
          10.681436538696289,
          11.039072036743164,
          9.607995986938477,
          8.42281723022461,
          10.5372953414917,
          8.411558151245117,
          10.728509902954102,
          11.238234519958496,
          9.732367515563965,
          11.073884963989258,
          9.996245384216309,
          8.268914222717285,
          7.939420700073242,
          10.10788631439209,
          11.097148895263672,
          9.531290054321289,
          10.127325057983398,
          8.438941955566406,
          7.912240505218506,
          8.171760559082031,
          8.345060348510742,
          7.897489547729492,
          9.259549140930176,
          10.989068031311035,
          10.304488182067871,
          8.387081146240234,
          10.634777069091797,
          10.32909870147705,
          8.14863109588623,
          11.17180061340332,
          9.927743911743164,
          8.635188102722168,
          9.5946626663208,
          9.835086822509766,
          10.352147102355957,
          9.7954740524292,
          10.372159957885742,
          8.146190643310547,
          9.492668151855469,
          8.412948608398438,
          11.102590560913086,
          8.026796340942383,
          8.5413818359375,
          8.023622512817383,
          11.565875053405762,
          9.708283424377441,
          8.355472564697266,
          10.999300956726074,
          10.054167747497559,
          10.849810600280762,
          8.09461498260498,
          8.252199172973633,
          10.101516723632812,
          10.216658592224121,
          8.890874862670898,
          9.052884101867676,
          10.732931137084961,
          8.764994621276855,
          9.462092399597168,
          10.297321319580078,
          9.92248821258545,
          11.327339172363281,
          8.59431266784668,
          10.258337020874023,
          11.050520896911621,
          9.089449882507324,
          8.578948974609375,
          8.863630294799805,
          8.823874473571777,
          9.446866989135742,
          11.354581832885742,
          10.62124252319336,
          8.007597923278809,
          7.702395439147949,
          9.001900672912598,
          8.188420295715332,
          11.218822479248047,
          8.480913162231445,
          7.998048305511475,
          9.73876667022705,
          10.207759857177734,
          8.551246643066406,
          9.920495986938477,
          8.634064674377441,
          10.410364151000977,
          8.246648788452148,
          11.403252601623535,
          8.610811233520508,
          8.474048614501953,
          9.899307250976562,
          8.138409614562988,
          10.775633811950684,
          7.836640357971191,
          8.8622407913208,
          8.323569297790527,
          9.06521987915039,
          8.585845947265625,
          10.511388778686523,
          10.635747909545898,
          7.775805473327637,
          10.554367065429688,
          10.2175931930542,
          11.04958724975586,
          8.205649375915527,
          8.36374282836914,
          8.481626510620117,
          8.282615661621094,
          9.129952430725098,
          8.44719123840332,
          8.252464294433594,
          9.12919807434082,
          9.565043449401855,
          10.323610305786133,
          9.384117126464844,
          7.918249607086182,
          9.378878593444824,
          8.130257606506348,
          7.963929176330566,
          10.563071250915527,
          8.187272071838379,
          7.861842155456543,
          9.92011547088623,
          10.353667259216309,
          11.02101993560791,
          8.286686897277832,
          10.149931907653809,
          9.389830589294434,
          8.602816581726074,
          9.30944538116455,
          9.389803886413574,
          8.959488868713379,
          11.030444145202637,
          8.133904457092285,
          11.410192489624023,
          10.763925552368164,
          11.185342788696289,
          10.06121826171875,
          8.402495384216309,
          8.940616607666016,
          9.920144081115723,
          8.685685157775879,
          7.908209323883057,
          10.73516845703125,
          8.277365684509277,
          9.81389045715332,
          8.129315376281738,
          9.597769737243652,
          10.404776573181152,
          11.070869445800781,
          8.823034286499023,
          9.38387393951416,
          11.135818481445312,
          9.878458976745605,
          11.209354400634766,
          10.112970352172852,
          8.132826805114746,
          10.717632293701172,
          7.8577656745910645,
          9.41676139831543,
          8.97518253326416,
          10.295971870422363,
          9.733598709106445,
          8.883695602416992,
          7.996222972869873,
          9.476052284240723,
          9.556230545043945,
          10.870932579040527,
          10.065150260925293,
          10.07872486114502,
          8.510382652282715,
          9.10833740234375,
          11.002463340759277,
          10.179609298706055,
          11.140052795410156,
          8.293085098266602,
          9.839360237121582,
          10.878689765930176,
          9.358732223510742,
          10.62321949005127,
          9.970599174499512,
          10.501683235168457,
          7.739156723022461,
          8.224342346191406,
          7.917363166809082,
          10.513483047485352,
          9.75536823272705,
          8.461800575256348,
          8.534170150756836,
          10.463319778442383,
          9.632816314697266,
          9.942097663879395,
          11.501361846923828,
          8.694206237792969,
          10.1753511428833,
          10.56456470489502,
          10.44381046295166,
          10.03431510925293,
          8.028882026672363,
          9.256111145019531,
          8.625460624694824,
          8.761573791503906,
          8.750113487243652,
          8.311089515686035,
          9.821828842163086,
          11.028571128845215,
          8.015851020812988,
          7.766290664672852,
          9.418992042541504,
          10.299500465393066,
          10.266491889953613,
          8.08166217803955,
          10.221981048583984,
          11.064091682434082,
          7.9230451583862305,
          10.048632621765137,
          9.606765747070312,
          8.44922161102295,
          10.832530975341797,
          8.302953720092773,
          10.501063346862793,
          10.136406898498535,
          11.094230651855469,
          10.032029151916504,
          10.303430557250977,
          8.24638557434082,
          8.904767036437988,
          8.119379997253418,
          11.45317268371582,
          10.15381145477295,
          10.214158058166504,
          9.737223625183105,
          10.965274810791016,
          10.232858657836914,
          8.674731254577637,
          9.945158958435059,
          8.74858570098877,
          10.874021530151367,
          7.885764122009277,
          10.220698356628418,
          9.391373634338379,
          8.177433013916016,
          7.8437323570251465,
          8.000123023986816,
          8.179333686828613,
          10.258670806884766,
          9.266128540039062,
          10.328593254089355,
          10.829140663146973,
          9.339276313781738,
          8.898918151855469,
          10.637072563171387,
          8.739813804626465
         ],
         "z": [
          12.043508529663086,
          10.234077453613281,
          9.939681053161621,
          12.23671817779541,
          9.585637092590332,
          10.055015563964844,
          12.024356842041016,
          13.544025421142578,
          10.166390419006348,
          11.388672828674316,
          12.690113067626953,
          12.973283767700195,
          13.0289306640625,
          10.051053047180176,
          11.624659538269043,
          9.496803283691406,
          10.3865327835083,
          11.782175064086914,
          11.92812728881836,
          11.340067863464355,
          12.384588241577148,
          12.33359146118164,
          12.414788246154785,
          12.576745986938477,
          11.822418212890625,
          11.694642066955566,
          11.675265312194824,
          12.995615005493164,
          12.82145881652832,
          11.108081817626953,
          10.071181297302246,
          9.579510688781738,
          9.893121719360352,
          13.013031005859375,
          12.123982429504395,
          10.817669868469238,
          12.512157440185547,
          12.920653343200684,
          12.415970802307129,
          12.326679229736328,
          11.706753730773926,
          11.370489120483398,
          12.536354064941406,
          13.408950805664062,
          10.199277877807617,
          10.605889320373535,
          9.661510467529297,
          10.366886138916016,
          13.437682151794434,
          12.851334571838379,
          11.315199851989746,
          11.795287132263184,
          13.376832008361816,
          9.841537475585938,
          11.57483959197998,
          11.996665954589844,
          12.992793083190918,
          11.520216941833496,
          11.8693208694458,
          10.436450958251953,
          9.66464614868164,
          9.939055442810059,
          9.954431533813477,
          11.777835845947266,
          9.70054817199707,
          9.99384880065918,
          12.955084800720215,
          10.669281005859375,
          11.476059913635254,
          9.579277038574219,
          12.070698738098145,
          10.953763008117676,
          10.699335098266602,
          11.766494750976562,
          12.444795608520508,
          10.11594009399414,
          9.580901145935059,
          10.463651657104492,
          11.938076972961426,
          11.260181427001953,
          12.083808898925781,
          12.578107833862305,
          12.16830825805664,
          11.359480857849121,
          13.340951919555664,
          11.577458381652832,
          13.321861267089844,
          13.482695579528809,
          10.742349624633789,
          10.048913955688477,
          12.015466690063477,
          11.979817390441895,
          11.199257850646973,
          9.543050765991211,
          9.578987121582031,
          12.889019966125488,
          9.697623252868652,
          11.31912612915039,
          11.128861427307129,
          10.105895042419434,
          10.386006355285645,
          12.218975067138672,
          10.63820743560791,
          12.82529067993164,
          12.62228775024414,
          10.471155166625977,
          9.611335754394531,
          12.207216262817383,
          11.551392555236816,
          9.855350494384766,
          9.514222145080566,
          10.861842155456543,
          9.98250961303711,
          10.45643424987793,
          13.35820484161377,
          10.07996654510498,
          11.101523399353027,
          12.581353187561035,
          10.943254470825195,
          9.705879211425781,
          11.777763366699219,
          12.145931243896484,
          10.886775970458984,
          12.306649208068848,
          12.73144245147705,
          12.088541030883789,
          10.099084854125977,
          11.504404067993164,
          12.38794994354248,
          10.558785438537598,
          12.685513496398926,
          12.445615768432617,
          12.537930488586426,
          12.831445693969727,
          9.983990669250488,
          9.57313346862793,
          10.060240745544434,
          10.118474006652832,
          11.86499309539795,
          9.452290534973145,
          11.4052734375,
          12.59422492980957,
          11.444465637207031,
          12.638443946838379,
          13.026464462280273,
          12.461989402770996,
          10.69359016418457,
          9.760351181030273,
          12.704595565795898,
          11.594667434692383,
          12.472643852233887,
          12.455841064453125,
          11.138343811035156,
          12.505570411682129,
          12.208072662353516,
          9.607576370239258,
          13.046298027038574,
          13.023611068725586,
          13.585397720336914,
          11.607175827026367,
          9.914016723632812,
          9.956082344055176,
          10.643442153930664,
          11.17105484008789,
          12.767989158630371,
          9.76206111907959,
          10.55578899383545,
          12.7293119430542,
          10.447184562683105,
          10.712478637695312,
          9.66748046875,
          12.268716812133789,
          13.036022186279297,
          12.208434104919434,
          12.295038223266602,
          13.53605842590332,
          11.293789863586426,
          11.487737655639648,
          10.575748443603516,
          12.657657623291016,
          12.972262382507324,
          11.142250061035156,
          12.292745590209961,
          11.607067108154297,
          9.496529579162598,
          9.473272323608398,
          11.528182983398438,
          12.27975845336914,
          9.584553718566895,
          11.704000473022461,
          10.586783409118652,
          11.575023651123047,
          9.553757667541504,
          10.619678497314453,
          11.42739200592041,
          12.02828598022461,
          12.194692611694336,
          12.99077320098877,
          11.613007545471191,
          9.510919570922852,
          12.481143951416016,
          9.658119201660156,
          10.194087982177734,
          12.549322128295898,
          12.588171005249023,
          10.829790115356445,
          10.042534828186035,
          9.968300819396973,
          11.212859153747559,
          12.64498519897461,
          12.805032730102539,
          10.671211242675781,
          11.017627716064453,
          10.447345733642578,
          10.908517837524414,
          12.24695110321045,
          9.713217735290527,
          12.86567497253418,
          12.236687660217285,
          10.269937515258789,
          10.32085132598877,
          9.573570251464844,
          9.913349151611328,
          10.053250312805176,
          12.492570877075195,
          10.310807228088379,
          9.78696346282959,
          11.156560897827148,
          12.622802734375,
          12.944937705993652,
          9.57576847076416,
          12.751957893371582,
          12.139890670776367,
          9.559242248535156,
          10.064239501953125,
          12.505293846130371,
          9.603141784667969,
          13.435341835021973,
          9.74553394317627,
          12.213494300842285,
          10.006951332092285,
          11.998011589050293,
          12.064657211303711,
          12.789632797241211,
          9.915050506591797,
          12.841912269592285,
          11.598770141601562,
          13.337698936462402,
          12.155779838562012,
          10.282451629638672,
          9.644852638244629,
          10.626777648925781,
          9.449172019958496,
          11.509182929992676,
          13.151412963867188,
          10.156879425048828,
          12.865060806274414,
          9.843401908874512,
          12.221110343933105,
          10.798873901367188,
          12.336259841918945,
          9.989575386047363,
          10.038583755493164,
          12.927745819091797,
          10.318371772766113,
          11.013265609741211,
          12.128911018371582,
          11.167821884155273,
          13.044356346130371,
          9.489505767822266,
          10.894707679748535,
          11.642475128173828,
          12.906471252441406,
          11.094592094421387,
          10.512141227722168,
          9.799232482910156,
          10.444504737854004,
          12.559499740600586,
          10.499566078186035,
          11.592334747314453,
          9.771495819091797,
          11.417150497436523,
          12.330951690673828,
          11.908082962036133,
          10.335060119628906,
          12.217450141906738,
          12.31686019897461,
          12.063472747802734,
          12.268134117126465,
          13.381279945373535,
          9.52170181274414,
          9.882753372192383,
          13.020018577575684,
          11.39610481262207,
          13.474069595336914,
          10.901515007019043,
          10.218563079833984,
          12.574584007263184,
          10.242486000061035,
          12.075196266174316,
          12.34315299987793,
          11.857590675354004,
          11.096675872802734,
          10.793023109436035,
          9.90076732635498,
          11.91890811920166,
          10.74061107635498,
          11.644481658935547,
          10.400065422058105,
          9.405929565429688,
          10.48015308380127,
          9.981339454650879,
          11.414910316467285,
          12.59821891784668,
          12.59717845916748,
          9.914162635803223,
          10.153617858886719,
          10.21019458770752,
          13.587126731872559,
          10.857723236083984,
          13.25434684753418,
          11.50957202911377,
          10.638680458068848,
          9.886137962341309,
          11.851539611816406,
          10.035819053649902,
          12.214380264282227,
          12.779433250427246,
          9.66733455657959,
          11.125449180603027,
          10.566298484802246,
          11.495454788208008,
          10.085785865783691,
          11.97899055480957,
          13.170685768127441,
          12.203211784362793,
          12.492443084716797,
          12.782522201538086,
          11.636923789978027,
          11.827280044555664,
          11.555017471313477,
          10.138395309448242,
          12.867294311523438,
          13.110008239746094,
          10.907180786132812,
          11.993515014648438,
          11.868851661682129,
          12.78041934967041,
          11.167346954345703,
          11.012579917907715,
          13.256011962890625,
          12.205357551574707,
          10.864096641540527,
          10.77994155883789,
          9.718242645263672,
          12.66867446899414,
          12.187593460083008,
          10.404014587402344,
          12.863067626953125,
          12.596324920654297,
          11.25789737701416,
          12.81014633178711,
          11.99166488647461,
          13.144378662109375,
          9.816546440124512,
          9.607478141784668,
          13.135469436645508,
          12.478605270385742,
          12.858382225036621,
          9.888214111328125,
          13.005237579345703,
          12.242140769958496,
          13.363905906677246,
          10.57105541229248,
          11.691628456115723,
          10.049858093261719,
          10.235491752624512,
          11.996567726135254,
          11.734780311584473,
          9.645490646362305,
          12.150723457336426,
          12.824337005615234,
          11.98509693145752,
          11.20821475982666,
          12.951315879821777,
          11.434259414672852,
          13.04749584197998,
          12.376708030700684,
          12.722627639770508,
          10.579462051391602,
          10.552197456359863,
          13.084490776062012,
          12.34721851348877,
          9.725287437438965,
          13.27989387512207,
          12.064556121826172,
          10.02027416229248,
          10.115880012512207,
          12.564573287963867,
          12.701261520385742,
          12.009720802307129,
          9.982930183410645,
          11.26644515991211,
          11.18372917175293,
          10.331512451171875,
          9.746223449707031,
          9.475794792175293,
          10.05285358428955,
          11.10244369506836,
          11.746946334838867,
          9.911173820495605,
          11.471212387084961,
          13.072720527648926,
          13.216521263122559,
          11.221161842346191,
          11.278101921081543,
          12.821395874023438,
          10.376534461975098,
          10.595556259155273,
          10.534266471862793,
          11.860433578491211,
          11.622282981872559,
          13.487109184265137,
          12.180096626281738,
          13.414179801940918,
          10.657706260681152,
          12.852761268615723,
          13.40108585357666,
          11.243073463439941,
          11.704825401306152,
          9.588471412658691,
          12.410101890563965,
          9.737550735473633,
          12.139297485351562,
          13.307411193847656,
          12.164433479309082,
          10.563791275024414,
          12.34557819366455,
          10.454000473022461,
          11.857163429260254,
          11.683280944824219,
          10.090507507324219,
          9.456812858581543,
          9.937071800231934,
          9.637429237365723,
          12.815056800842285,
          12.112138748168945,
          12.46574878692627,
          9.8435697555542,
          11.586746215820312,
          10.8597993850708,
          12.562612533569336,
          12.692047119140625,
          10.058721542358398,
          9.780793190002441,
          10.796683311462402,
          10.13671588897705,
          9.701131820678711,
          11.42630672454834,
          10.120414733886719,
          12.68844223022461,
          10.298043251037598,
          11.362256050109863,
          12.12247371673584,
          12.393235206604004,
          10.645458221435547,
          10.652145385742188,
          9.629663467407227,
          9.775174140930176,
          11.578495979309082,
          11.926641464233398,
          11.64102840423584,
          10.60863208770752,
          11.884160041809082,
          11.286968231201172,
          9.699432373046875,
          11.966062545776367,
          10.784266471862793,
          12.081351280212402,
          11.57534408569336,
          10.49500846862793,
          12.477086067199707,
          9.968239784240723,
          12.33189868927002,
          11.327227592468262,
          9.431288719177246,
          9.484871864318848,
          10.391541481018066,
          12.76850414276123,
          12.1514892578125,
          11.801949501037598,
          12.606207847595215,
          12.876535415649414,
          11.999253273010254,
          12.13805866241455,
          9.650285720825195,
          11.454368591308594,
          11.009275436401367,
          9.713387489318848,
          11.909775733947754,
          12.393478393554688,
          11.027609825134277,
          11.967046737670898,
          10.112220764160156,
          11.107504844665527,
          10.419817924499512,
          9.654220581054688,
          10.87963581085205,
          10.636932373046875,
          10.391510009765625,
          11.453758239746094,
          10.938130378723145,
          10.613296508789062,
          12.097804069519043,
          13.569976806640625,
          12.949295043945312,
          13.485000610351562,
          11.706951141357422,
          9.65067195892334,
          12.52881145477295,
          13.474085807800293,
          13.065530776977539,
          12.907209396362305,
          12.735618591308594,
          10.00393009185791,
          12.5755033493042,
          11.959465026855469,
          9.556297302246094,
          13.598939895629883,
          12.340675354003906,
          9.812018394470215,
          13.41090202331543,
          12.421819686889648,
          11.861946105957031,
          12.34634017944336,
          12.815837860107422,
          9.849433898925781,
          12.334010124206543,
          11.879813194274902,
          11.22429084777832,
          11.794597625732422,
          9.71511459350586,
          12.01659870147705,
          11.590133666992188,
          11.90927791595459,
          10.950501441955566,
          10.351033210754395,
          9.749972343444824,
          11.524543762207031,
          10.067503929138184
         ]
        }
       ],
       "layout": {
        "coloraxis": {
         "colorbar": {
          "title": {
           "text": "color"
          }
         },
         "colorscale": [
          [
           0,
           "#0d0887"
          ],
          [
           0.1111111111111111,
           "#46039f"
          ],
          [
           0.2222222222222222,
           "#7201a8"
          ],
          [
           0.3333333333333333,
           "#9c179e"
          ],
          [
           0.4444444444444444,
           "#bd3786"
          ],
          [
           0.5555555555555556,
           "#d8576b"
          ],
          [
           0.6666666666666666,
           "#ed7953"
          ],
          [
           0.7777777777777778,
           "#fb9f3a"
          ],
          [
           0.8888888888888888,
           "#fdca26"
          ],
          [
           1,
           "#f0f921"
          ]
         ]
        },
        "legend": {
         "tracegroupgap": 0
        },
        "margin": {
         "t": 60
        },
        "scene": {
         "domain": {
          "x": [
           0,
           1
          ],
          "y": [
           0,
           1
          ]
         },
         "xaxis": {
          "title": {
           "text": "x"
          }
         },
         "yaxis": {
          "title": {
           "text": "y"
          }
         },
         "zaxis": {
          "title": {
           "text": "z"
          }
         }
        },
        "template": {
         "data": {
          "bar": [
           {
            "error_x": {
             "color": "#2a3f5f"
            },
            "error_y": {
             "color": "#2a3f5f"
            },
            "marker": {
             "line": {
              "color": "#E5ECF6",
              "width": 0.5
             },
             "pattern": {
              "fillmode": "overlay",
              "size": 10,
              "solidity": 0.2
             }
            },
            "type": "bar"
           }
          ],
          "barpolar": [
           {
            "marker": {
             "line": {
              "color": "#E5ECF6",
              "width": 0.5
             },
             "pattern": {
              "fillmode": "overlay",
              "size": 10,
              "solidity": 0.2
             }
            },
            "type": "barpolar"
           }
          ],
          "carpet": [
           {
            "aaxis": {
             "endlinecolor": "#2a3f5f",
             "gridcolor": "white",
             "linecolor": "white",
             "minorgridcolor": "white",
             "startlinecolor": "#2a3f5f"
            },
            "baxis": {
             "endlinecolor": "#2a3f5f",
             "gridcolor": "white",
             "linecolor": "white",
             "minorgridcolor": "white",
             "startlinecolor": "#2a3f5f"
            },
            "type": "carpet"
           }
          ],
          "choropleth": [
           {
            "colorbar": {
             "outlinewidth": 0,
             "ticks": ""
            },
            "type": "choropleth"
           }
          ],
          "contour": [
           {
            "colorbar": {
             "outlinewidth": 0,
             "ticks": ""
            },
            "colorscale": [
             [
              0,
              "#0d0887"
             ],
             [
              0.1111111111111111,
              "#46039f"
             ],
             [
              0.2222222222222222,
              "#7201a8"
             ],
             [
              0.3333333333333333,
              "#9c179e"
             ],
             [
              0.4444444444444444,
              "#bd3786"
             ],
             [
              0.5555555555555556,
              "#d8576b"
             ],
             [
              0.6666666666666666,
              "#ed7953"
             ],
             [
              0.7777777777777778,
              "#fb9f3a"
             ],
             [
              0.8888888888888888,
              "#fdca26"
             ],
             [
              1,
              "#f0f921"
             ]
            ],
            "type": "contour"
           }
          ],
          "contourcarpet": [
           {
            "colorbar": {
             "outlinewidth": 0,
             "ticks": ""
            },
            "type": "contourcarpet"
           }
          ],
          "heatmap": [
           {
            "colorbar": {
             "outlinewidth": 0,
             "ticks": ""
            },
            "colorscale": [
             [
              0,
              "#0d0887"
             ],
             [
              0.1111111111111111,
              "#46039f"
             ],
             [
              0.2222222222222222,
              "#7201a8"
             ],
             [
              0.3333333333333333,
              "#9c179e"
             ],
             [
              0.4444444444444444,
              "#bd3786"
             ],
             [
              0.5555555555555556,
              "#d8576b"
             ],
             [
              0.6666666666666666,
              "#ed7953"
             ],
             [
              0.7777777777777778,
              "#fb9f3a"
             ],
             [
              0.8888888888888888,
              "#fdca26"
             ],
             [
              1,
              "#f0f921"
             ]
            ],
            "type": "heatmap"
           }
          ],
          "heatmapgl": [
           {
            "colorbar": {
             "outlinewidth": 0,
             "ticks": ""
            },
            "colorscale": [
             [
              0,
              "#0d0887"
             ],
             [
              0.1111111111111111,
              "#46039f"
             ],
             [
              0.2222222222222222,
              "#7201a8"
             ],
             [
              0.3333333333333333,
              "#9c179e"
             ],
             [
              0.4444444444444444,
              "#bd3786"
             ],
             [
              0.5555555555555556,
              "#d8576b"
             ],
             [
              0.6666666666666666,
              "#ed7953"
             ],
             [
              0.7777777777777778,
              "#fb9f3a"
             ],
             [
              0.8888888888888888,
              "#fdca26"
             ],
             [
              1,
              "#f0f921"
             ]
            ],
            "type": "heatmapgl"
           }
          ],
          "histogram": [
           {
            "marker": {
             "pattern": {
              "fillmode": "overlay",
              "size": 10,
              "solidity": 0.2
             }
            },
            "type": "histogram"
           }
          ],
          "histogram2d": [
           {
            "colorbar": {
             "outlinewidth": 0,
             "ticks": ""
            },
            "colorscale": [
             [
              0,
              "#0d0887"
             ],
             [
              0.1111111111111111,
              "#46039f"
             ],
             [
              0.2222222222222222,
              "#7201a8"
             ],
             [
              0.3333333333333333,
              "#9c179e"
             ],
             [
              0.4444444444444444,
              "#bd3786"
             ],
             [
              0.5555555555555556,
              "#d8576b"
             ],
             [
              0.6666666666666666,
              "#ed7953"
             ],
             [
              0.7777777777777778,
              "#fb9f3a"
             ],
             [
              0.8888888888888888,
              "#fdca26"
             ],
             [
              1,
              "#f0f921"
             ]
            ],
            "type": "histogram2d"
           }
          ],
          "histogram2dcontour": [
           {
            "colorbar": {
             "outlinewidth": 0,
             "ticks": ""
            },
            "colorscale": [
             [
              0,
              "#0d0887"
             ],
             [
              0.1111111111111111,
              "#46039f"
             ],
             [
              0.2222222222222222,
              "#7201a8"
             ],
             [
              0.3333333333333333,
              "#9c179e"
             ],
             [
              0.4444444444444444,
              "#bd3786"
             ],
             [
              0.5555555555555556,
              "#d8576b"
             ],
             [
              0.6666666666666666,
              "#ed7953"
             ],
             [
              0.7777777777777778,
              "#fb9f3a"
             ],
             [
              0.8888888888888888,
              "#fdca26"
             ],
             [
              1,
              "#f0f921"
             ]
            ],
            "type": "histogram2dcontour"
           }
          ],
          "mesh3d": [
           {
            "colorbar": {
             "outlinewidth": 0,
             "ticks": ""
            },
            "type": "mesh3d"
           }
          ],
          "parcoords": [
           {
            "line": {
             "colorbar": {
              "outlinewidth": 0,
              "ticks": ""
             }
            },
            "type": "parcoords"
           }
          ],
          "pie": [
           {
            "automargin": true,
            "type": "pie"
           }
          ],
          "scatter": [
           {
            "fillpattern": {
             "fillmode": "overlay",
             "size": 10,
             "solidity": 0.2
            },
            "type": "scatter"
           }
          ],
          "scatter3d": [
           {
            "line": {
             "colorbar": {
              "outlinewidth": 0,
              "ticks": ""
             }
            },
            "marker": {
             "colorbar": {
              "outlinewidth": 0,
              "ticks": ""
             }
            },
            "type": "scatter3d"
           }
          ],
          "scattercarpet": [
           {
            "marker": {
             "colorbar": {
              "outlinewidth": 0,
              "ticks": ""
             }
            },
            "type": "scattercarpet"
           }
          ],
          "scattergeo": [
           {
            "marker": {
             "colorbar": {
              "outlinewidth": 0,
              "ticks": ""
             }
            },
            "type": "scattergeo"
           }
          ],
          "scattergl": [
           {
            "marker": {
             "colorbar": {
              "outlinewidth": 0,
              "ticks": ""
             }
            },
            "type": "scattergl"
           }
          ],
          "scattermapbox": [
           {
            "marker": {
             "colorbar": {
              "outlinewidth": 0,
              "ticks": ""
             }
            },
            "type": "scattermapbox"
           }
          ],
          "scatterpolar": [
           {
            "marker": {
             "colorbar": {
              "outlinewidth": 0,
              "ticks": ""
             }
            },
            "type": "scatterpolar"
           }
          ],
          "scatterpolargl": [
           {
            "marker": {
             "colorbar": {
              "outlinewidth": 0,
              "ticks": ""
             }
            },
            "type": "scatterpolargl"
           }
          ],
          "scatterternary": [
           {
            "marker": {
             "colorbar": {
              "outlinewidth": 0,
              "ticks": ""
             }
            },
            "type": "scatterternary"
           }
          ],
          "surface": [
           {
            "colorbar": {
             "outlinewidth": 0,
             "ticks": ""
            },
            "colorscale": [
             [
              0,
              "#0d0887"
             ],
             [
              0.1111111111111111,
              "#46039f"
             ],
             [
              0.2222222222222222,
              "#7201a8"
             ],
             [
              0.3333333333333333,
              "#9c179e"
             ],
             [
              0.4444444444444444,
              "#bd3786"
             ],
             [
              0.5555555555555556,
              "#d8576b"
             ],
             [
              0.6666666666666666,
              "#ed7953"
             ],
             [
              0.7777777777777778,
              "#fb9f3a"
             ],
             [
              0.8888888888888888,
              "#fdca26"
             ],
             [
              1,
              "#f0f921"
             ]
            ],
            "type": "surface"
           }
          ],
          "table": [
           {
            "cells": {
             "fill": {
              "color": "#EBF0F8"
             },
             "line": {
              "color": "white"
             }
            },
            "header": {
             "fill": {
              "color": "#C8D4E3"
             },
             "line": {
              "color": "white"
             }
            },
            "type": "table"
           }
          ]
         },
         "layout": {
          "annotationdefaults": {
           "arrowcolor": "#2a3f5f",
           "arrowhead": 0,
           "arrowwidth": 1
          },
          "autotypenumbers": "strict",
          "coloraxis": {
           "colorbar": {
            "outlinewidth": 0,
            "ticks": ""
           }
          },
          "colorscale": {
           "diverging": [
            [
             0,
             "#8e0152"
            ],
            [
             0.1,
             "#c51b7d"
            ],
            [
             0.2,
             "#de77ae"
            ],
            [
             0.3,
             "#f1b6da"
            ],
            [
             0.4,
             "#fde0ef"
            ],
            [
             0.5,
             "#f7f7f7"
            ],
            [
             0.6,
             "#e6f5d0"
            ],
            [
             0.7,
             "#b8e186"
            ],
            [
             0.8,
             "#7fbc41"
            ],
            [
             0.9,
             "#4d9221"
            ],
            [
             1,
             "#276419"
            ]
           ],
           "sequential": [
            [
             0,
             "#0d0887"
            ],
            [
             0.1111111111111111,
             "#46039f"
            ],
            [
             0.2222222222222222,
             "#7201a8"
            ],
            [
             0.3333333333333333,
             "#9c179e"
            ],
            [
             0.4444444444444444,
             "#bd3786"
            ],
            [
             0.5555555555555556,
             "#d8576b"
            ],
            [
             0.6666666666666666,
             "#ed7953"
            ],
            [
             0.7777777777777778,
             "#fb9f3a"
            ],
            [
             0.8888888888888888,
             "#fdca26"
            ],
            [
             1,
             "#f0f921"
            ]
           ],
           "sequentialminus": [
            [
             0,
             "#0d0887"
            ],
            [
             0.1111111111111111,
             "#46039f"
            ],
            [
             0.2222222222222222,
             "#7201a8"
            ],
            [
             0.3333333333333333,
             "#9c179e"
            ],
            [
             0.4444444444444444,
             "#bd3786"
            ],
            [
             0.5555555555555556,
             "#d8576b"
            ],
            [
             0.6666666666666666,
             "#ed7953"
            ],
            [
             0.7777777777777778,
             "#fb9f3a"
            ],
            [
             0.8888888888888888,
             "#fdca26"
            ],
            [
             1,
             "#f0f921"
            ]
           ]
          },
          "colorway": [
           "#636efa",
           "#EF553B",
           "#00cc96",
           "#ab63fa",
           "#FFA15A",
           "#19d3f3",
           "#FF6692",
           "#B6E880",
           "#FF97FF",
           "#FECB52"
          ],
          "font": {
           "color": "#2a3f5f"
          },
          "geo": {
           "bgcolor": "white",
           "lakecolor": "white",
           "landcolor": "#E5ECF6",
           "showlakes": true,
           "showland": true,
           "subunitcolor": "white"
          },
          "hoverlabel": {
           "align": "left"
          },
          "hovermode": "closest",
          "mapbox": {
           "style": "light"
          },
          "paper_bgcolor": "white",
          "plot_bgcolor": "#E5ECF6",
          "polar": {
           "angularaxis": {
            "gridcolor": "white",
            "linecolor": "white",
            "ticks": ""
           },
           "bgcolor": "#E5ECF6",
           "radialaxis": {
            "gridcolor": "white",
            "linecolor": "white",
            "ticks": ""
           }
          },
          "scene": {
           "xaxis": {
            "backgroundcolor": "#E5ECF6",
            "gridcolor": "white",
            "gridwidth": 2,
            "linecolor": "white",
            "showbackground": true,
            "ticks": "",
            "zerolinecolor": "white"
           },
           "yaxis": {
            "backgroundcolor": "#E5ECF6",
            "gridcolor": "white",
            "gridwidth": 2,
            "linecolor": "white",
            "showbackground": true,
            "ticks": "",
            "zerolinecolor": "white"
           },
           "zaxis": {
            "backgroundcolor": "#E5ECF6",
            "gridcolor": "white",
            "gridwidth": 2,
            "linecolor": "white",
            "showbackground": true,
            "ticks": "",
            "zerolinecolor": "white"
           }
          },
          "shapedefaults": {
           "line": {
            "color": "#2a3f5f"
           }
          },
          "ternary": {
           "aaxis": {
            "gridcolor": "white",
            "linecolor": "white",
            "ticks": ""
           },
           "baxis": {
            "gridcolor": "white",
            "linecolor": "white",
            "ticks": ""
           },
           "bgcolor": "#E5ECF6",
           "caxis": {
            "gridcolor": "white",
            "linecolor": "white",
            "ticks": ""
           }
          },
          "title": {
           "x": 0.05
          },
          "xaxis": {
           "automargin": true,
           "gridcolor": "white",
           "linecolor": "white",
           "ticks": "",
           "title": {
            "standoff": 15
           },
           "zerolinecolor": "white",
           "zerolinewidth": 2
          },
          "yaxis": {
           "automargin": true,
           "gridcolor": "white",
           "linecolor": "white",
           "ticks": "",
           "title": {
            "standoff": 15
           },
           "zerolinecolor": "white",
           "zerolinewidth": 2
          }
         }
        }
       }
      },
      "text/html": [
       "<div>                            <div id=\"3d8bc449-1e86-4951-b20a-f698cc5961a1\" class=\"plotly-graph-div\" style=\"height:525px; width:100%;\"></div>            <script type=\"text/javascript\">                require([\"plotly\"], function(Plotly) {                    window.PLOTLYENV=window.PLOTLYENV || {};                                    if (document.getElementById(\"3d8bc449-1e86-4951-b20a-f698cc5961a1\")) {                    Plotly.newPlot(                        \"3d8bc449-1e86-4951-b20a-f698cc5961a1\",                        [{\"hovertemplate\":\"x=%{x}<br>y=%{y}<br>z=%{z}<br>color=%{marker.color}<extra></extra>\",\"legendgroup\":\"\",\"marker\":{\"color\":[6,9,9,4,1,1,2,7,8,3,4,7,7,2,9,9,9,3,2,6,4,3,6,6,2,6,3,5,4,0,0,9,1,3,4,0,3,7,3,3,5,2,2,7,1,1,1,2,2,0,9,5,7,9,2,2,5,2,4,3,1,1,8,2,1,1,4,9,7,8,5,9,6,7,3,1,9,0,3,1,3,5,4,5,7,7,4,7,9,4,2,3,8,0,1,6,1,1,4,1,8,3,9,6,6,1,8,5,2,9,9,8,1,7,7,0,0,6,9,1,2,2,9,2,6,6,1,9,5,0,4,7,6,7,1,8,1,1,2,8,1,3,3,6,2,4,9,9,5,4,3,6,7,4,6,8,5,5,4,3,1,8,4,7,6,0,9,5,1,3,8,2,7,5,3,4,1,5,7,0,4,7,5,5,1,0,9,6,9,0,8,7,8,8,2,5,2,3,5,0,6,1,9,3,6,9,1,3,9,6,6,7,1,0,9,5,8,5,2,9,0,8,8,0,6,9,1,1,6,3,7,6,6,0,6,6,1,7,1,5,8,3,6,6,8,6,8,4,6,6,1,3,8,3,4,1,7,1,3,8,5,1,1,4,0,9,3,7,4,9,9,2,4,9,9,1,0,5,9,0,8,2,1,2,0,5,6,3,2,7,8,8,6,0,7,9,4,5,6,4,2,1,1,2,1,5,9,9,0,8,4,1,1,6,3,3,9,0,7,9,7,7,9,1,5,1,6,6,8,7,1,3,0,3,3,2,4,5,7,5,9,0,3,4,0,4,4,6,0,0,6,6,0,8,1,6,2,9,2,5,9,6,7,4,1,8,7,3,6,9,3,0,4,0,5,1,0,3,4,8,5,4,7,2,3,9,7,6,7,1,4,7,0,1,7,3,1,8,4,4,2,0,2,2,0,0,9,0,9,6,8,2,7,7,4,0,3,0,8,9,4,2,7,2,5,2,5,1,9,4,8,5,1,7,4,4,0,6,9,0,7,8,8,9,9,3,3,4,0,4,5,6,6,0,1,0,8,0,4,8,8,1,5,2,6,8,1,0,0,7,7,5,9,6,2,8,3,4,7,3,9,0,1,2,4,8,1,8,6,4,4,5,7,1,3,9,8,0,1,7,5,8,2,8,0,4,1,8,9,8,2,9,9,2,7,5,7,3,8,8,4,4,2,7,1,6,4,0,4,6,9,7,6,2,5,5,1,7,2,2,2,9,5,4,2,7,8,1,3,4],\"coloraxis\":\"coloraxis\",\"symbol\":\"circle\",\"size\":2},\"mode\":\"markers\",\"name\":\"\",\"scene\":\"scene\",\"showlegend\":false,\"x\":[-0.8363197445869446,-1.7971104383468628,-0.49879154562950134,-0.9447120428085327,-0.2194976657629013,-1.6053930521011353,-0.7067738175392151,0.7611516714096069,0.7540229558944702,0.14878910779953003,-1.2640351057052612,0.581508219242096,0.6537659168243408,0.5068373084068298,-1.2085909843444824,-0.3515723645687103,-1.0556663274765015,-0.8835576176643372,-0.6500481367111206,-1.5518087148666382,1.1088504791259766,0.9391849637031555,-0.862411618232727,-1.2904225587844849,-1.7134616374969482,-1.0497541427612305,-1.082536220550537,-0.05958865210413933,0.46507835388183594,0.41690051555633545,0.8833920955657959,-0.4822901487350464,-1.8245283365249634,-0.43541473150253296,0.7801832556724548,-0.7422357201576233,-0.5438898205757141,-0.035179976373910904,-0.21411167085170746,-1.0040111541748047,-0.5967383980751038,1.0600805282592773,1.151633381843567,0.6841221451759338,-1.9314004182815552,-1.659497857093811,-1.7249771356582642,0.7586331963539124,0.39911168813705444,-0.32190391421318054,0.02825375832617283,-0.8109469413757324,0.2520286738872528,-0.9141395092010498,0.9211265444755554,-1.402813196182251,-0.7039262056350708,-1.1014325618743896,-0.6809932589530945,-0.4458634853363037,-1.707959532737732,-1.4921602010726929,0.4282761216163635,-1.0800232887268066,-1.877596139907837,-1.701797366142273,1.0427911281585693,-1.1439162492752075,-0.6365679502487183,0.8964362740516663,0.7619476914405823,-0.8523193597793579,-1.5870280265808105,0.6657489538192749,-0.09440679103136063,-1.8108354806900024,-0.45998385548591614,0.3690086305141449,-0.9652723670005798,-0.42717233300209045,-0.7376159429550171,0.734027087688446,-0.9463312029838562,0.31580811738967896,0.024428339675068855,0.6396740674972534,0.46793460845947266,0.48525410890579224,-1.8973948955535889,-0.2877153754234314,-1.1918843984603882,0.48418110609054565,-0.592061460018158,-0.040826860815286636,-1.826918363571167,-0.7789023518562317,-1.7978366613388062,-1.405187964439392,-1.6939496994018555,-0.636662483215332,0.20047524571418762,-0.09627838432788849,-1.6491045951843262,-0.5192499160766602,-0.46631357073783875,-1.5075180530548096,0.8912208080291748,-0.5123143196105957,0.5777221918106079,-0.6303105354309082,-0.23498421907424927,0.46513819694519043,-1.6257688999176025,-0.5455398559570312,0.545894980430603,1.0797691345214844,-0.3571989834308624,-1.6497095823287964,-1.1934456825256348,-1.1471951007843018,0.5533775091171265,0.9903383255004883,-1.1649757623672485,0.6130415201187134,-1.333050012588501,-1.023681879043579,-0.7462875843048096,-1.671057939529419,0.4870464503765106,1.4731981754302979,-1.219158411026001,0.38135719299316406,-0.3682633936405182,0.8912706971168518,0.5399415493011475,0.8619754910469055,-1.8626530170440674,-1.8637545108795166,0.07824178040027618,0.35343602299690247,-0.8718631267547607,-1.0630309581756592,1.0769110918045044,-1.5258570909500122,0.8533150553703308,-0.8770278096199036,-1.6046690940856934,-0.45282772183418274,-0.1764131635427475,-1.5073286294937134,0.02226608246564865,-0.9706130623817444,-0.7896634936332703,1.0599443912506104,-1.7873910665512085,-0.07867418974637985,-0.1780661642551422,-0.2428692877292633,0.48335281014442444,-1.0782525539398193,-1.5614908933639526,-0.29607489705085754,0.2850361764431,-1.0459800958633423,-1.3255671262741089,-0.5502048134803772,-1.6473565101623535,-0.14328844845294952,-1.3749102354049683,-1.735060214996338,-0.73280268907547,-0.20267267525196075,0.7268659472465515,-1.1949701309204102,-0.7720606327056885,0.2957209050655365,-1.7656497955322266,-0.7848165035247803,-0.31122565269470215,0.175297811627388,0.6466174125671387,-0.799927830696106,0.7154674530029297,-0.22971893846988678,-1.8746163845062256,-0.22056008875370026,-1.4301055669784546,-0.6433439254760742,-1.1894077062606812,0.3754865229129791,0.7649527788162231,1.1403402090072632,-0.34451574087142944,0.10168425738811493,0.59883052110672,0.26158860325813293,-0.6023756861686707,-0.43203005194664,0.8512930274009705,0.6911014318466187,-1.6278702020645142,-1.8259048461914062,-1.4558113813400269,-0.15069787204265594,-1.7366715669631958,-1.1588494777679443,-1.7900753021240234,-1.3029248714447021,-1.4346213340759277,-1.5062849521636963,-1.230532169342041,-0.9288628101348877,-1.771341323852539,1.3356900215148926,-1.1526705026626587,-1.1912858486175537,-0.17635726928710938,-0.5990082025527954,0.6468003392219543,-1.554018497467041,0.9440473914146423,-0.07092475146055222,0.4828813374042511,-0.20551705360412598,-1.0400091409683228,-1.0993602275848389,-1.565182089805603,-0.0014641074230894446,-1.4393588304519653,-0.3261484205722809,-1.4072887897491455,-1.5803128480911255,-1.2898547649383545,-0.22909386456012726,-1.3841397762298584,-0.8299536108970642,-0.42987698316574097,0.8829142451286316,-0.8845158219337463,0.5162937641143799,-0.15202608704566956,-1.092046856880188,-0.7888326048851013,-1.1553200483322144,0.9821196794509888,-0.4961588978767395,0.9746577143669128,0.4405224919319153,0.39125344157218933,0.8633717894554138,-0.17043551802635193,-1.7409759759902954,-0.23787911236286163,0.8647529482841492,0.16958212852478027,-1.4749174118041992,0.6360917091369629,-1.2560065984725952,0.7461757659912109,0.03069394640624523,0.8083972334861755,-1.9657496213912964,-0.29815754294395447,1.0761611461639404,1.2930222749710083,-1.762965202331543,-0.5229972004890442,-0.9000024795532227,0.09378551691770554,-1.6899631023406982,-1.1387197971343994,0.9351533055305481,-0.3473118245601654,-0.8983098864555359,-0.9519025087356567,-1.6490037441253662,1.4510974884033203,0.15595273673534393,-1.590889811515808,0.33649876713752747,0.2545374929904938,-0.3299115300178528,-1.0343847274780273,0.2517016530036926,0.023519940674304962,-0.1637611836194992,-1.267155647277832,-0.4694356322288513,1.0568538904190063,0.6987982988357544,0.017575182020664215,0.20276887714862823,-0.681522011756897,-0.7150922417640686,0.5768634676933289,-1.1273789405822754,-0.29706937074661255,-0.37671223282814026,-0.8055180907249451,-0.5321092009544373,-1.6321640014648438,-0.9851130247116089,-0.9835413694381714,1.3418042659759521,-1.4876662492752075,-0.05601194500923157,-1.8870447874069214,-1.1793056726455688,0.8634832501411438,-0.1997126042842865,0.24961218237876892,-1.6692819595336914,-0.7057033181190491,-1.5804945230484009,-0.9013586640357971,-1.488881230354309,-1.3473955392837524,1.1370153427124023,0.5191362500190735,-1.19313383102417,0.5443156957626343,0.8431307077407837,-1.7072547674179077,-0.6198089718818665,0.6631284356117249,-1.5008211135864258,-1.1125195026397705,-1.1681034564971924,0.20415844023227692,0.20223285257816315,-1.300767421722412,-1.0277652740478516,-1.7410318851470947,-1.4526968002319336,0.23938190937042236,0.9251892566680908,-0.45701441168785095,-0.12588712573051453,0.08503089100122452,0.5253672003746033,0.01040710136294365,1.0921857357025146,-0.5855692625045776,0.6644138693809509,1.2478138208389282,0.2438381016254425,-1.1141960620880127,-1.238347053527832,1.046964406967163,1.2029060125350952,0.5102171301841736,-1.5030876398086548,-1.2837430238723755,-0.2782103717327118,-1.7253012657165527,-1.0716171264648438,-1.6380006074905396,-1.7592891454696655,0.7207762598991394,-0.10873962193727493,-0.6059830784797668,-0.7581641674041748,-0.03116549924015999,0.8013089299201965,-1.4613200426101685,0.8449099659919739,0.38955894112586975,-1.4676642417907715,-0.6045978665351868,-1.3765586614608765,0.1328875571489334,0.36111101508140564,0.3361768126487732,1.36278235912323,-0.7804383635520935,-1.5500162839889526,-0.27770185470581055,-0.9413893222808838,-0.9294440150260925,0.7785820960998535,0.4179057776927948,-0.4039900302886963,-0.2863081991672516,1.063382625579834,-0.2085188329219818,-1.295033574104309,0.43074461817741394,-1.616089940071106,-0.15813058614730835,-1.5528242588043213,0.0879589170217514,0.6447063088417053,-0.49965301156044006,-0.9544104337692261,0.8575690984725952,-0.8443581461906433,-1.300304889678955,-1.3170241117477417,-1.3364660739898682,-0.3834565579891205,0.5189704895019531,0.8777405023574829,0.9416592121124268,0.780774712562561,-0.39931371808052063,1.070766806602478,-0.19034893810749054,-0.20102395117282867,-1.3868293762207031,-1.0938547849655151,0.39755070209503174,-0.9644657373428345,0.7143502235412598,0.5158982276916504,0.05165264382958412,-0.22129929065704346,0.24242421984672546,1.4183388948440552,0.1414271891117096,-1.5953819751739502,-0.5912854075431824,0.7766028046607971,0.6110316514968872,0.6450587511062622,0.01928878203034401,1.3049285411834717,-0.3131575584411621,0.025357430800795555,-1.517870545387268,-0.6848044991493225,-0.07426770776510239,-0.4664047956466675,-1.6148536205291748,0.1920221596956253,0.43572962284088135,-0.9461725950241089,0.7609606385231018,-1.693740963935852,-1.5468086004257202,-0.0697428360581398,-0.3392833471298218,0.8662164211273193,-0.25992363691329956,-0.8524649143218994,-1.1156368255615234,-0.8776935935020447,0.36178725957870483,0.6073395609855652,-0.18949373066425323,0.12097851932048798,-0.6740745902061462,-0.40860089659690857,-1.4550825357437134,-0.5584982633590698,-1.7243071794509888,0.9980578422546387,0.5568406581878662,0.9718385338783264,-0.7145671248435974,0.4911361634731293,1.135956048965454,-1.5204159021377563,-1.0781079530715942,-0.04431317746639252,-1.2461082935333252,0.7279887795448303,-1.63418710231781,-1.2023097276687622,1.0570056438446045,-0.08272825181484222,-1.2012890577316284,-0.5066596865653992,-1.1592532396316528,-0.8407801985740662,0.38199424743652344,0.20216892659664154,0.6420062780380249,-1.8188529014587402,-0.8493049740791321,0.03547882288694382,-1.101110577583313,0.7097579836845398,-0.6367368102073669,-1.8106492757797241,0.4849346876144409,0.27260133624076843,-1.8468010425567627,-0.8858771920204163,-1.4735726118087769,-0.7258870601654053,1.0329855680465698,0.5019071698188782,0.07296497374773026,-1.4757746458053589,0.746140718460083,-0.8013666868209839,0.18518909811973572,0.8957515358924866,-1.4951975345611572,-0.2804754674434662,-0.7503090500831604,-0.6591510772705078,0.5375648140907288,0.15048617124557495,0.8494924902915955,-0.3460908830165863,-0.20541326701641083,0.5599949955940247,-1.7414571046829224,0.48207637667655945,0.4010850489139557,-1.2625014781951904,-0.489821195602417,-0.0822335034608841,0.3737424612045288,0.06800509244203568,0.7179586291313171,0.5260497331619263,0.07022262364625931,0.08027683943510056,0.3368802070617676,0.2763493061065674,-0.08388348668813705,0.6635090112686157,-0.6244122385978699,-1.0641332864761353,-0.8316941857337952,-1.2931957244873047,0.32785719633102417,-1.1806268692016602,-1.158402681350708,0.7930761575698853,-1.6726655960083008,0.4667651653289795,0.588209867477417,0.41958799958229065,-1.5794233083724976,-1.4116345643997192,0.5271475315093994,0.7936791181564331,0.2580392360687256,-0.8602406978607178,0.6712296009063721,-0.7921004891395569,-0.4552944004535675,-1.3353102207183838,-0.8358334302902222,-1.205654263496399,-0.8992030620574951,-1.3418724536895752],\"y\":[11.654057502746582,10.200939178466797,8.263145446777344,11.633700370788574,10.3626127243042,10.646979331970215,10.060904502868652,8.646154403686523,9.953268051147461,9.885482788085938,10.400569915771484,8.220840454101562,7.761575698852539,10.470734596252441,8.747834205627441,8.081578254699707,8.241504669189453,11.3368558883667,7.937680244445801,9.594654083251953,8.393768310546875,8.449075698852539,11.435112953186035,8.979025840759277,9.597691535949707,8.31613826751709,9.589573860168457,9.01557445526123,8.326698303222656,7.761775970458984,9.567790031433105,8.06670093536377,10.661625862121582,11.200028419494629,8.432116508483887,9.328368186950684,8.954346656799316,8.561603546142578,11.257378578186035,11.630267143249512,10.403958320617676,8.300006866455078,8.589212417602539,8.336908340454102,10.599200248718262,8.73928451538086,10.856992721557617,9.445680618286133,8.834809303283691,8.36553955078125,8.369659423828125,10.26965618133545,9.165958404541016,8.262008666992188,10.93807601928711,9.817337989807129,8.494959831237793,10.378565788269043,11.579733848571777,8.45289421081543,10.592970848083496,8.837814331054688,9.847589492797852,10.467601776123047,10.815910339355469,10.27493667602539,8.87565803527832,8.01521110534668,11.623788833618164,8.761983871459961,8.86433219909668,9.430381774902344,8.003593444824219,10.873991966247559,9.643988609313965,10.511170387268066,8.672791481018066,10.775567054748535,10.464470863342285,8.8605318069458,8.295811653137207,8.958230972290039,11.550053596496582,10.516448020935059,9.284515380859375,11.046699523925781,9.6676025390625,9.441158294677734,9.767362594604492,9.487471580505371,9.883152961730957,10.677101135253906,8.834428787231445,10.174241065979004,10.516759872436523,8.598909378051758,10.3657865524292,10.647470474243164,10.306886672973633,10.637184143066406,7.895199775695801,10.81861686706543,8.616901397705078,11.448040962219238,11.484704971313477,7.984504222869873,8.753849029541016,9.80075740814209,7.818528652191162,8.66188907623291,10.04586410522461,8.77838134765625,9.779484748840332,9.27497673034668,8.6585693359375,8.096287727355957,10.136874198913574,9.64124870300293,7.8268232345581055,8.909912109375,8.257461547851562,8.573715209960938,7.875319480895996,8.04439926147461,9.398040771484375,8.063017845153809,8.026607513427734,9.201020240783691,9.529512405395508,8.28878116607666,11.06450080871582,7.753996849060059,11.323118209838867,8.571516036987305,10.281551361083984,8.707968711853027,10.54151439666748,10.315011024475098,8.051149368286133,8.498809814453125,7.9130167961120605,11.486847877502441,8.344437599182129,9.365625381469727,7.999232292175293,11.463375091552734,10.57600212097168,10.148197174072266,8.69228744506836,9.408312797546387,9.705026626586914,9.14484691619873,11.562264442443848,8.50400447845459,9.685147285461426,10.194731712341309,8.96512222290039,11.440352439880371,9.41352653503418,8.353060722351074,8.641779899597168,8.378218650817871,10.960165977478027,11.420669555664062,9.971084594726562,8.476690292358398,9.909984588623047,8.991754531860352,10.20734977722168,8.425921440124512,9.793925285339355,10.484915733337402,7.896384239196777,9.830522537231445,8.10106086730957,9.470497131347656,9.400837898254395,11.413811683654785,9.468480110168457,11.065375328063965,9.872004508972168,11.573943138122559,10.449676513671875,10.804012298583984,10.624786376953125,8.311013221740723,9.333849906921387,9.657979011535645,9.621944427490234,8.461179733276367,9.193140983581543,8.578014373779297,9.782256126403809,7.929914951324463,7.951003551483154,11.005592346191406,9.338397979736328,11.564918518066406,10.949908256530762,8.92620849609375,9.56155776977539,10.566506385803223,7.9202494621276855,8.295238494873047,9.777814865112305,7.755642414093018,10.618267059326172,8.276762008666992,8.301733016967773,9.94651985168457,9.776398658752441,9.19498348236084,9.121986389160156,8.24429702758789,8.59230899810791,8.241990089416504,9.842364311218262,8.852437019348145,8.294340133666992,8.129094123840332,10.003057479858398,8.16778564453125,10.281164169311523,8.882513046264648,11.544416427612305,8.675970077514648,8.726592063903809,10.217621803283691,9.2078218460083,11.50577163696289,10.355072975158691,9.969388008117676,9.552282333374023,9.882872581481934,7.755793571472168,10.6064453125,9.920055389404297,8.791154861450195,9.834168434143066,10.969938278198242,9.437312126159668,9.278754234313965,11.630182266235352,11.099130630493164,9.540289878845215,11.013108253479004,10.649181365966797,10.094632148742676,9.774581909179688,9.9351224899292,10.282184600830078,8.18007755279541,8.088183403015137,8.221010208129883,8.972382545471191,10.229394912719727,7.851729393005371,10.551916122436523,10.423731803894043,8.970861434936523,8.483253479003906,10.726524353027344,8.109925270080566,8.842293739318848,8.446345329284668,8.538756370544434,8.13453197479248,11.538010597229004,9.018362045288086,10.382923126220703,8.507367134094238,10.83342456817627,8.511680603027344,8.879745483398438,9.132426261901855,10.679944038391113,8.401043891906738,9.985828399658203,7.992878437042236,11.132132530212402,8.171647071838379,8.790594100952148,10.352924346923828,9.95249080657959,7.921508312225342,10.935842514038086,10.703530311584473,8.130949974060059,8.68805980682373,8.142741203308105,8.316763877868652,10.38490104675293,8.500962257385254,10.454151153564453,8.530411720275879,7.882887840270996,9.472851753234863,9.811164855957031,10.681436538696289,11.039072036743164,9.607995986938477,8.42281723022461,10.5372953414917,8.411558151245117,10.728509902954102,11.238234519958496,9.732367515563965,11.073884963989258,9.996245384216309,8.268914222717285,7.939420700073242,10.10788631439209,11.097148895263672,9.531290054321289,10.127325057983398,8.438941955566406,7.912240505218506,8.171760559082031,8.345060348510742,7.897489547729492,9.259549140930176,10.989068031311035,10.304488182067871,8.387081146240234,10.634777069091797,10.32909870147705,8.14863109588623,11.17180061340332,9.927743911743164,8.635188102722168,9.5946626663208,9.835086822509766,10.352147102355957,9.7954740524292,10.372159957885742,8.146190643310547,9.492668151855469,8.412948608398438,11.102590560913086,8.026796340942383,8.5413818359375,8.023622512817383,11.565875053405762,9.708283424377441,8.355472564697266,10.999300956726074,10.054167747497559,10.849810600280762,8.09461498260498,8.252199172973633,10.101516723632812,10.216658592224121,8.890874862670898,9.052884101867676,10.732931137084961,8.764994621276855,9.462092399597168,10.297321319580078,9.92248821258545,11.327339172363281,8.59431266784668,10.258337020874023,11.050520896911621,9.089449882507324,8.578948974609375,8.863630294799805,8.823874473571777,9.446866989135742,11.354581832885742,10.62124252319336,8.007597923278809,7.702395439147949,9.001900672912598,8.188420295715332,11.218822479248047,8.480913162231445,7.998048305511475,9.73876667022705,10.207759857177734,8.551246643066406,9.920495986938477,8.634064674377441,10.410364151000977,8.246648788452148,11.403252601623535,8.610811233520508,8.474048614501953,9.899307250976562,8.138409614562988,10.775633811950684,7.836640357971191,8.8622407913208,8.323569297790527,9.06521987915039,8.585845947265625,10.511388778686523,10.635747909545898,7.775805473327637,10.554367065429688,10.2175931930542,11.04958724975586,8.205649375915527,8.36374282836914,8.481626510620117,8.282615661621094,9.129952430725098,8.44719123840332,8.252464294433594,9.12919807434082,9.565043449401855,10.323610305786133,9.384117126464844,7.918249607086182,9.378878593444824,8.130257606506348,7.963929176330566,10.563071250915527,8.187272071838379,7.861842155456543,9.92011547088623,10.353667259216309,11.02101993560791,8.286686897277832,10.149931907653809,9.389830589294434,8.602816581726074,9.30944538116455,9.389803886413574,8.959488868713379,11.030444145202637,8.133904457092285,11.410192489624023,10.763925552368164,11.185342788696289,10.06121826171875,8.402495384216309,8.940616607666016,9.920144081115723,8.685685157775879,7.908209323883057,10.73516845703125,8.277365684509277,9.81389045715332,8.129315376281738,9.597769737243652,10.404776573181152,11.070869445800781,8.823034286499023,9.38387393951416,11.135818481445312,9.878458976745605,11.209354400634766,10.112970352172852,8.132826805114746,10.717632293701172,7.8577656745910645,9.41676139831543,8.97518253326416,10.295971870422363,9.733598709106445,8.883695602416992,7.996222972869873,9.476052284240723,9.556230545043945,10.870932579040527,10.065150260925293,10.07872486114502,8.510382652282715,9.10833740234375,11.002463340759277,10.179609298706055,11.140052795410156,8.293085098266602,9.839360237121582,10.878689765930176,9.358732223510742,10.62321949005127,9.970599174499512,10.501683235168457,7.739156723022461,8.224342346191406,7.917363166809082,10.513483047485352,9.75536823272705,8.461800575256348,8.534170150756836,10.463319778442383,9.632816314697266,9.942097663879395,11.501361846923828,8.694206237792969,10.1753511428833,10.56456470489502,10.44381046295166,10.03431510925293,8.028882026672363,9.256111145019531,8.625460624694824,8.761573791503906,8.750113487243652,8.311089515686035,9.821828842163086,11.028571128845215,8.015851020812988,7.766290664672852,9.418992042541504,10.299500465393066,10.266491889953613,8.08166217803955,10.221981048583984,11.064091682434082,7.9230451583862305,10.048632621765137,9.606765747070312,8.44922161102295,10.832530975341797,8.302953720092773,10.501063346862793,10.136406898498535,11.094230651855469,10.032029151916504,10.303430557250977,8.24638557434082,8.904767036437988,8.119379997253418,11.45317268371582,10.15381145477295,10.214158058166504,9.737223625183105,10.965274810791016,10.232858657836914,8.674731254577637,9.945158958435059,8.74858570098877,10.874021530151367,7.885764122009277,10.220698356628418,9.391373634338379,8.177433013916016,7.8437323570251465,8.000123023986816,8.179333686828613,10.258670806884766,9.266128540039062,10.328593254089355,10.829140663146973,9.339276313781738,8.898918151855469,10.637072563171387,8.739813804626465],\"z\":[12.043508529663086,10.234077453613281,9.939681053161621,12.23671817779541,9.585637092590332,10.055015563964844,12.024356842041016,13.544025421142578,10.166390419006348,11.388672828674316,12.690113067626953,12.973283767700195,13.0289306640625,10.051053047180176,11.624659538269043,9.496803283691406,10.3865327835083,11.782175064086914,11.92812728881836,11.340067863464355,12.384588241577148,12.33359146118164,12.414788246154785,12.576745986938477,11.822418212890625,11.694642066955566,11.675265312194824,12.995615005493164,12.82145881652832,11.108081817626953,10.071181297302246,9.579510688781738,9.893121719360352,13.013031005859375,12.123982429504395,10.817669868469238,12.512157440185547,12.920653343200684,12.415970802307129,12.326679229736328,11.706753730773926,11.370489120483398,12.536354064941406,13.408950805664062,10.199277877807617,10.605889320373535,9.661510467529297,10.366886138916016,13.437682151794434,12.851334571838379,11.315199851989746,11.795287132263184,13.376832008361816,9.841537475585938,11.57483959197998,11.996665954589844,12.992793083190918,11.520216941833496,11.8693208694458,10.436450958251953,9.66464614868164,9.939055442810059,9.954431533813477,11.777835845947266,9.70054817199707,9.99384880065918,12.955084800720215,10.669281005859375,11.476059913635254,9.579277038574219,12.070698738098145,10.953763008117676,10.699335098266602,11.766494750976562,12.444795608520508,10.11594009399414,9.580901145935059,10.463651657104492,11.938076972961426,11.260181427001953,12.083808898925781,12.578107833862305,12.16830825805664,11.359480857849121,13.340951919555664,11.577458381652832,13.321861267089844,13.482695579528809,10.742349624633789,10.048913955688477,12.015466690063477,11.979817390441895,11.199257850646973,9.543050765991211,9.578987121582031,12.889019966125488,9.697623252868652,11.31912612915039,11.128861427307129,10.105895042419434,10.386006355285645,12.218975067138672,10.63820743560791,12.82529067993164,12.62228775024414,10.471155166625977,9.611335754394531,12.207216262817383,11.551392555236816,9.855350494384766,9.514222145080566,10.861842155456543,9.98250961303711,10.45643424987793,13.35820484161377,10.07996654510498,11.101523399353027,12.581353187561035,10.943254470825195,9.705879211425781,11.777763366699219,12.145931243896484,10.886775970458984,12.306649208068848,12.73144245147705,12.088541030883789,10.099084854125977,11.504404067993164,12.38794994354248,10.558785438537598,12.685513496398926,12.445615768432617,12.537930488586426,12.831445693969727,9.983990669250488,9.57313346862793,10.060240745544434,10.118474006652832,11.86499309539795,9.452290534973145,11.4052734375,12.59422492980957,11.444465637207031,12.638443946838379,13.026464462280273,12.461989402770996,10.69359016418457,9.760351181030273,12.704595565795898,11.594667434692383,12.472643852233887,12.455841064453125,11.138343811035156,12.505570411682129,12.208072662353516,9.607576370239258,13.046298027038574,13.023611068725586,13.585397720336914,11.607175827026367,9.914016723632812,9.956082344055176,10.643442153930664,11.17105484008789,12.767989158630371,9.76206111907959,10.55578899383545,12.7293119430542,10.447184562683105,10.712478637695312,9.66748046875,12.268716812133789,13.036022186279297,12.208434104919434,12.295038223266602,13.53605842590332,11.293789863586426,11.487737655639648,10.575748443603516,12.657657623291016,12.972262382507324,11.142250061035156,12.292745590209961,11.607067108154297,9.496529579162598,9.473272323608398,11.528182983398438,12.27975845336914,9.584553718566895,11.704000473022461,10.586783409118652,11.575023651123047,9.553757667541504,10.619678497314453,11.42739200592041,12.02828598022461,12.194692611694336,12.99077320098877,11.613007545471191,9.510919570922852,12.481143951416016,9.658119201660156,10.194087982177734,12.549322128295898,12.588171005249023,10.829790115356445,10.042534828186035,9.968300819396973,11.212859153747559,12.64498519897461,12.805032730102539,10.671211242675781,11.017627716064453,10.447345733642578,10.908517837524414,12.24695110321045,9.713217735290527,12.86567497253418,12.236687660217285,10.269937515258789,10.32085132598877,9.573570251464844,9.913349151611328,10.053250312805176,12.492570877075195,10.310807228088379,9.78696346282959,11.156560897827148,12.622802734375,12.944937705993652,9.57576847076416,12.751957893371582,12.139890670776367,9.559242248535156,10.064239501953125,12.505293846130371,9.603141784667969,13.435341835021973,9.74553394317627,12.213494300842285,10.006951332092285,11.998011589050293,12.064657211303711,12.789632797241211,9.915050506591797,12.841912269592285,11.598770141601562,13.337698936462402,12.155779838562012,10.282451629638672,9.644852638244629,10.626777648925781,9.449172019958496,11.509182929992676,13.151412963867188,10.156879425048828,12.865060806274414,9.843401908874512,12.221110343933105,10.798873901367188,12.336259841918945,9.989575386047363,10.038583755493164,12.927745819091797,10.318371772766113,11.013265609741211,12.128911018371582,11.167821884155273,13.044356346130371,9.489505767822266,10.894707679748535,11.642475128173828,12.906471252441406,11.094592094421387,10.512141227722168,9.799232482910156,10.444504737854004,12.559499740600586,10.499566078186035,11.592334747314453,9.771495819091797,11.417150497436523,12.330951690673828,11.908082962036133,10.335060119628906,12.217450141906738,12.31686019897461,12.063472747802734,12.268134117126465,13.381279945373535,9.52170181274414,9.882753372192383,13.020018577575684,11.39610481262207,13.474069595336914,10.901515007019043,10.218563079833984,12.574584007263184,10.242486000061035,12.075196266174316,12.34315299987793,11.857590675354004,11.096675872802734,10.793023109436035,9.90076732635498,11.91890811920166,10.74061107635498,11.644481658935547,10.400065422058105,9.405929565429688,10.48015308380127,9.981339454650879,11.414910316467285,12.59821891784668,12.59717845916748,9.914162635803223,10.153617858886719,10.21019458770752,13.587126731872559,10.857723236083984,13.25434684753418,11.50957202911377,10.638680458068848,9.886137962341309,11.851539611816406,10.035819053649902,12.214380264282227,12.779433250427246,9.66733455657959,11.125449180603027,10.566298484802246,11.495454788208008,10.085785865783691,11.97899055480957,13.170685768127441,12.203211784362793,12.492443084716797,12.782522201538086,11.636923789978027,11.827280044555664,11.555017471313477,10.138395309448242,12.867294311523438,13.110008239746094,10.907180786132812,11.993515014648438,11.868851661682129,12.78041934967041,11.167346954345703,11.012579917907715,13.256011962890625,12.205357551574707,10.864096641540527,10.77994155883789,9.718242645263672,12.66867446899414,12.187593460083008,10.404014587402344,12.863067626953125,12.596324920654297,11.25789737701416,12.81014633178711,11.99166488647461,13.144378662109375,9.816546440124512,9.607478141784668,13.135469436645508,12.478605270385742,12.858382225036621,9.888214111328125,13.005237579345703,12.242140769958496,13.363905906677246,10.57105541229248,11.691628456115723,10.049858093261719,10.235491752624512,11.996567726135254,11.734780311584473,9.645490646362305,12.150723457336426,12.824337005615234,11.98509693145752,11.20821475982666,12.951315879821777,11.434259414672852,13.04749584197998,12.376708030700684,12.722627639770508,10.579462051391602,10.552197456359863,13.084490776062012,12.34721851348877,9.725287437438965,13.27989387512207,12.064556121826172,10.02027416229248,10.115880012512207,12.564573287963867,12.701261520385742,12.009720802307129,9.982930183410645,11.26644515991211,11.18372917175293,10.331512451171875,9.746223449707031,9.475794792175293,10.05285358428955,11.10244369506836,11.746946334838867,9.911173820495605,11.471212387084961,13.072720527648926,13.216521263122559,11.221161842346191,11.278101921081543,12.821395874023438,10.376534461975098,10.595556259155273,10.534266471862793,11.860433578491211,11.622282981872559,13.487109184265137,12.180096626281738,13.414179801940918,10.657706260681152,12.852761268615723,13.40108585357666,11.243073463439941,11.704825401306152,9.588471412658691,12.410101890563965,9.737550735473633,12.139297485351562,13.307411193847656,12.164433479309082,10.563791275024414,12.34557819366455,10.454000473022461,11.857163429260254,11.683280944824219,10.090507507324219,9.456812858581543,9.937071800231934,9.637429237365723,12.815056800842285,12.112138748168945,12.46574878692627,9.8435697555542,11.586746215820312,10.8597993850708,12.562612533569336,12.692047119140625,10.058721542358398,9.780793190002441,10.796683311462402,10.13671588897705,9.701131820678711,11.42630672454834,10.120414733886719,12.68844223022461,10.298043251037598,11.362256050109863,12.12247371673584,12.393235206604004,10.645458221435547,10.652145385742188,9.629663467407227,9.775174140930176,11.578495979309082,11.926641464233398,11.64102840423584,10.60863208770752,11.884160041809082,11.286968231201172,9.699432373046875,11.966062545776367,10.784266471862793,12.081351280212402,11.57534408569336,10.49500846862793,12.477086067199707,9.968239784240723,12.33189868927002,11.327227592468262,9.431288719177246,9.484871864318848,10.391541481018066,12.76850414276123,12.1514892578125,11.801949501037598,12.606207847595215,12.876535415649414,11.999253273010254,12.13805866241455,9.650285720825195,11.454368591308594,11.009275436401367,9.713387489318848,11.909775733947754,12.393478393554688,11.027609825134277,11.967046737670898,10.112220764160156,11.107504844665527,10.419817924499512,9.654220581054688,10.87963581085205,10.636932373046875,10.391510009765625,11.453758239746094,10.938130378723145,10.613296508789062,12.097804069519043,13.569976806640625,12.949295043945312,13.485000610351562,11.706951141357422,9.65067195892334,12.52881145477295,13.474085807800293,13.065530776977539,12.907209396362305,12.735618591308594,10.00393009185791,12.5755033493042,11.959465026855469,9.556297302246094,13.598939895629883,12.340675354003906,9.812018394470215,13.41090202331543,12.421819686889648,11.861946105957031,12.34634017944336,12.815837860107422,9.849433898925781,12.334010124206543,11.879813194274902,11.22429084777832,11.794597625732422,9.71511459350586,12.01659870147705,11.590133666992188,11.90927791595459,10.950501441955566,10.351033210754395,9.749972343444824,11.524543762207031,10.067503929138184],\"type\":\"scatter3d\"}],                        {\"template\":{\"data\":{\"histogram2dcontour\":[{\"type\":\"histogram2dcontour\",\"colorbar\":{\"outlinewidth\":0,\"ticks\":\"\"},\"colorscale\":[[0.0,\"#0d0887\"],[0.1111111111111111,\"#46039f\"],[0.2222222222222222,\"#7201a8\"],[0.3333333333333333,\"#9c179e\"],[0.4444444444444444,\"#bd3786\"],[0.5555555555555556,\"#d8576b\"],[0.6666666666666666,\"#ed7953\"],[0.7777777777777778,\"#fb9f3a\"],[0.8888888888888888,\"#fdca26\"],[1.0,\"#f0f921\"]]}],\"choropleth\":[{\"type\":\"choropleth\",\"colorbar\":{\"outlinewidth\":0,\"ticks\":\"\"}}],\"histogram2d\":[{\"type\":\"histogram2d\",\"colorbar\":{\"outlinewidth\":0,\"ticks\":\"\"},\"colorscale\":[[0.0,\"#0d0887\"],[0.1111111111111111,\"#46039f\"],[0.2222222222222222,\"#7201a8\"],[0.3333333333333333,\"#9c179e\"],[0.4444444444444444,\"#bd3786\"],[0.5555555555555556,\"#d8576b\"],[0.6666666666666666,\"#ed7953\"],[0.7777777777777778,\"#fb9f3a\"],[0.8888888888888888,\"#fdca26\"],[1.0,\"#f0f921\"]]}],\"heatmap\":[{\"type\":\"heatmap\",\"colorbar\":{\"outlinewidth\":0,\"ticks\":\"\"},\"colorscale\":[[0.0,\"#0d0887\"],[0.1111111111111111,\"#46039f\"],[0.2222222222222222,\"#7201a8\"],[0.3333333333333333,\"#9c179e\"],[0.4444444444444444,\"#bd3786\"],[0.5555555555555556,\"#d8576b\"],[0.6666666666666666,\"#ed7953\"],[0.7777777777777778,\"#fb9f3a\"],[0.8888888888888888,\"#fdca26\"],[1.0,\"#f0f921\"]]}],\"heatmapgl\":[{\"type\":\"heatmapgl\",\"colorbar\":{\"outlinewidth\":0,\"ticks\":\"\"},\"colorscale\":[[0.0,\"#0d0887\"],[0.1111111111111111,\"#46039f\"],[0.2222222222222222,\"#7201a8\"],[0.3333333333333333,\"#9c179e\"],[0.4444444444444444,\"#bd3786\"],[0.5555555555555556,\"#d8576b\"],[0.6666666666666666,\"#ed7953\"],[0.7777777777777778,\"#fb9f3a\"],[0.8888888888888888,\"#fdca26\"],[1.0,\"#f0f921\"]]}],\"contourcarpet\":[{\"type\":\"contourcarpet\",\"colorbar\":{\"outlinewidth\":0,\"ticks\":\"\"}}],\"contour\":[{\"type\":\"contour\",\"colorbar\":{\"outlinewidth\":0,\"ticks\":\"\"},\"colorscale\":[[0.0,\"#0d0887\"],[0.1111111111111111,\"#46039f\"],[0.2222222222222222,\"#7201a8\"],[0.3333333333333333,\"#9c179e\"],[0.4444444444444444,\"#bd3786\"],[0.5555555555555556,\"#d8576b\"],[0.6666666666666666,\"#ed7953\"],[0.7777777777777778,\"#fb9f3a\"],[0.8888888888888888,\"#fdca26\"],[1.0,\"#f0f921\"]]}],\"surface\":[{\"type\":\"surface\",\"colorbar\":{\"outlinewidth\":0,\"ticks\":\"\"},\"colorscale\":[[0.0,\"#0d0887\"],[0.1111111111111111,\"#46039f\"],[0.2222222222222222,\"#7201a8\"],[0.3333333333333333,\"#9c179e\"],[0.4444444444444444,\"#bd3786\"],[0.5555555555555556,\"#d8576b\"],[0.6666666666666666,\"#ed7953\"],[0.7777777777777778,\"#fb9f3a\"],[0.8888888888888888,\"#fdca26\"],[1.0,\"#f0f921\"]]}],\"mesh3d\":[{\"type\":\"mesh3d\",\"colorbar\":{\"outlinewidth\":0,\"ticks\":\"\"}}],\"scatter\":[{\"fillpattern\":{\"fillmode\":\"overlay\",\"size\":10,\"solidity\":0.2},\"type\":\"scatter\"}],\"parcoords\":[{\"type\":\"parcoords\",\"line\":{\"colorbar\":{\"outlinewidth\":0,\"ticks\":\"\"}}}],\"scatterpolargl\":[{\"type\":\"scatterpolargl\",\"marker\":{\"colorbar\":{\"outlinewidth\":0,\"ticks\":\"\"}}}],\"bar\":[{\"error_x\":{\"color\":\"#2a3f5f\"},\"error_y\":{\"color\":\"#2a3f5f\"},\"marker\":{\"line\":{\"color\":\"#E5ECF6\",\"width\":0.5},\"pattern\":{\"fillmode\":\"overlay\",\"size\":10,\"solidity\":0.2}},\"type\":\"bar\"}],\"scattergeo\":[{\"type\":\"scattergeo\",\"marker\":{\"colorbar\":{\"outlinewidth\":0,\"ticks\":\"\"}}}],\"scatterpolar\":[{\"type\":\"scatterpolar\",\"marker\":{\"colorbar\":{\"outlinewidth\":0,\"ticks\":\"\"}}}],\"histogram\":[{\"marker\":{\"pattern\":{\"fillmode\":\"overlay\",\"size\":10,\"solidity\":0.2}},\"type\":\"histogram\"}],\"scattergl\":[{\"type\":\"scattergl\",\"marker\":{\"colorbar\":{\"outlinewidth\":0,\"ticks\":\"\"}}}],\"scatter3d\":[{\"type\":\"scatter3d\",\"line\":{\"colorbar\":{\"outlinewidth\":0,\"ticks\":\"\"}},\"marker\":{\"colorbar\":{\"outlinewidth\":0,\"ticks\":\"\"}}}],\"scattermapbox\":[{\"type\":\"scattermapbox\",\"marker\":{\"colorbar\":{\"outlinewidth\":0,\"ticks\":\"\"}}}],\"scatterternary\":[{\"type\":\"scatterternary\",\"marker\":{\"colorbar\":{\"outlinewidth\":0,\"ticks\":\"\"}}}],\"scattercarpet\":[{\"type\":\"scattercarpet\",\"marker\":{\"colorbar\":{\"outlinewidth\":0,\"ticks\":\"\"}}}],\"carpet\":[{\"aaxis\":{\"endlinecolor\":\"#2a3f5f\",\"gridcolor\":\"white\",\"linecolor\":\"white\",\"minorgridcolor\":\"white\",\"startlinecolor\":\"#2a3f5f\"},\"baxis\":{\"endlinecolor\":\"#2a3f5f\",\"gridcolor\":\"white\",\"linecolor\":\"white\",\"minorgridcolor\":\"white\",\"startlinecolor\":\"#2a3f5f\"},\"type\":\"carpet\"}],\"table\":[{\"cells\":{\"fill\":{\"color\":\"#EBF0F8\"},\"line\":{\"color\":\"white\"}},\"header\":{\"fill\":{\"color\":\"#C8D4E3\"},\"line\":{\"color\":\"white\"}},\"type\":\"table\"}],\"barpolar\":[{\"marker\":{\"line\":{\"color\":\"#E5ECF6\",\"width\":0.5},\"pattern\":{\"fillmode\":\"overlay\",\"size\":10,\"solidity\":0.2}},\"type\":\"barpolar\"}],\"pie\":[{\"automargin\":true,\"type\":\"pie\"}]},\"layout\":{\"autotypenumbers\":\"strict\",\"colorway\":[\"#636efa\",\"#EF553B\",\"#00cc96\",\"#ab63fa\",\"#FFA15A\",\"#19d3f3\",\"#FF6692\",\"#B6E880\",\"#FF97FF\",\"#FECB52\"],\"font\":{\"color\":\"#2a3f5f\"},\"hovermode\":\"closest\",\"hoverlabel\":{\"align\":\"left\"},\"paper_bgcolor\":\"white\",\"plot_bgcolor\":\"#E5ECF6\",\"polar\":{\"bgcolor\":\"#E5ECF6\",\"angularaxis\":{\"gridcolor\":\"white\",\"linecolor\":\"white\",\"ticks\":\"\"},\"radialaxis\":{\"gridcolor\":\"white\",\"linecolor\":\"white\",\"ticks\":\"\"}},\"ternary\":{\"bgcolor\":\"#E5ECF6\",\"aaxis\":{\"gridcolor\":\"white\",\"linecolor\":\"white\",\"ticks\":\"\"},\"baxis\":{\"gridcolor\":\"white\",\"linecolor\":\"white\",\"ticks\":\"\"},\"caxis\":{\"gridcolor\":\"white\",\"linecolor\":\"white\",\"ticks\":\"\"}},\"coloraxis\":{\"colorbar\":{\"outlinewidth\":0,\"ticks\":\"\"}},\"colorscale\":{\"sequential\":[[0.0,\"#0d0887\"],[0.1111111111111111,\"#46039f\"],[0.2222222222222222,\"#7201a8\"],[0.3333333333333333,\"#9c179e\"],[0.4444444444444444,\"#bd3786\"],[0.5555555555555556,\"#d8576b\"],[0.6666666666666666,\"#ed7953\"],[0.7777777777777778,\"#fb9f3a\"],[0.8888888888888888,\"#fdca26\"],[1.0,\"#f0f921\"]],\"sequentialminus\":[[0.0,\"#0d0887\"],[0.1111111111111111,\"#46039f\"],[0.2222222222222222,\"#7201a8\"],[0.3333333333333333,\"#9c179e\"],[0.4444444444444444,\"#bd3786\"],[0.5555555555555556,\"#d8576b\"],[0.6666666666666666,\"#ed7953\"],[0.7777777777777778,\"#fb9f3a\"],[0.8888888888888888,\"#fdca26\"],[1.0,\"#f0f921\"]],\"diverging\":[[0,\"#8e0152\"],[0.1,\"#c51b7d\"],[0.2,\"#de77ae\"],[0.3,\"#f1b6da\"],[0.4,\"#fde0ef\"],[0.5,\"#f7f7f7\"],[0.6,\"#e6f5d0\"],[0.7,\"#b8e186\"],[0.8,\"#7fbc41\"],[0.9,\"#4d9221\"],[1,\"#276419\"]]},\"xaxis\":{\"gridcolor\":\"white\",\"linecolor\":\"white\",\"ticks\":\"\",\"title\":{\"standoff\":15},\"zerolinecolor\":\"white\",\"automargin\":true,\"zerolinewidth\":2},\"yaxis\":{\"gridcolor\":\"white\",\"linecolor\":\"white\",\"ticks\":\"\",\"title\":{\"standoff\":15},\"zerolinecolor\":\"white\",\"automargin\":true,\"zerolinewidth\":2},\"scene\":{\"xaxis\":{\"backgroundcolor\":\"#E5ECF6\",\"gridcolor\":\"white\",\"linecolor\":\"white\",\"showbackground\":true,\"ticks\":\"\",\"zerolinecolor\":\"white\",\"gridwidth\":2},\"yaxis\":{\"backgroundcolor\":\"#E5ECF6\",\"gridcolor\":\"white\",\"linecolor\":\"white\",\"showbackground\":true,\"ticks\":\"\",\"zerolinecolor\":\"white\",\"gridwidth\":2},\"zaxis\":{\"backgroundcolor\":\"#E5ECF6\",\"gridcolor\":\"white\",\"linecolor\":\"white\",\"showbackground\":true,\"ticks\":\"\",\"zerolinecolor\":\"white\",\"gridwidth\":2}},\"shapedefaults\":{\"line\":{\"color\":\"#2a3f5f\"}},\"annotationdefaults\":{\"arrowcolor\":\"#2a3f5f\",\"arrowhead\":0,\"arrowwidth\":1},\"geo\":{\"bgcolor\":\"white\",\"landcolor\":\"#E5ECF6\",\"subunitcolor\":\"white\",\"showland\":true,\"showlakes\":true,\"lakecolor\":\"white\"},\"title\":{\"x\":0.05},\"mapbox\":{\"style\":\"light\"}}},\"scene\":{\"domain\":{\"x\":[0.0,1.0],\"y\":[0.0,1.0]},\"xaxis\":{\"title\":{\"text\":\"x\"}},\"yaxis\":{\"title\":{\"text\":\"y\"}},\"zaxis\":{\"title\":{\"text\":\"z\"}}},\"coloraxis\":{\"colorbar\":{\"title\":{\"text\":\"color\"}},\"colorscale\":[[0.0,\"#0d0887\"],[0.1111111111111111,\"#46039f\"],[0.2222222222222222,\"#7201a8\"],[0.3333333333333333,\"#9c179e\"],[0.4444444444444444,\"#bd3786\"],[0.5555555555555556,\"#d8576b\"],[0.6666666666666666,\"#ed7953\"],[0.7777777777777778,\"#fb9f3a\"],[0.8888888888888888,\"#fdca26\"],[1.0,\"#f0f921\"]]},\"legend\":{\"tracegroupgap\":0},\"margin\":{\"t\":60}},                        {\"responsive\": true}                    ).then(function(){\n",
       "                            \n",
       "var gd = document.getElementById('3d8bc449-1e86-4951-b20a-f698cc5961a1');\n",
       "var x = new MutationObserver(function (mutations, observer) {{\n",
       "        var display = window.getComputedStyle(gd).display;\n",
       "        if (!display || display === 'none') {{\n",
       "            console.log([gd, 'removed!']);\n",
       "            Plotly.purge(gd);\n",
       "            observer.disconnect();\n",
       "        }}\n",
       "}});\n",
       "\n",
       "// Listen for the removal of the full notebook cells\n",
       "var notebookContainer = gd.closest('#notebook-container');\n",
       "if (notebookContainer) {{\n",
       "    x.observe(notebookContainer, {childList: true});\n",
       "}}\n",
       "\n",
       "// Listen for the clearing of the current output cell\n",
       "var outputEl = gd.closest('.output');\n",
       "if (outputEl) {{\n",
       "    x.observe(outputEl, {childList: true});\n",
       "}}\n",
       "\n",
       "                        })                };                });            </script>        </div>"
      ]
     },
     "metadata": {},
     "output_type": "display_data"
    }
   ],
   "source": [
    "import plotly.express as px\n",
    "import pandas as pd\n",
    "\n",
    "# Create a sample data frame with three variables\n",
    "df = pd.DataFrame(embedded_data, columns=['x','y','z'])\n",
    "df['color'] = clean_target_list\n",
    "\n",
    "# Create the 3D scatter plot using Plotly\n",
    "fig = px.scatter_3d(df, x='x', y='y', z='z', color='color')\n",
    "fig.update_traces(marker=dict(size=2))\n",
    "# Show the plot\n",
    "fig.show()\n"
   ]
  },
  {
   "cell_type": "code",
   "execution_count": 49,
   "id": "a0244997",
   "metadata": {},
   "outputs": [
    {
     "name": "stderr",
     "output_type": "stream",
     "text": [
      "Clipping input data to the valid range for imshow with RGB data ([0..1] for floats or [0..255] for integers).\n"
     ]
    },
    {
     "data": {
      "image/png": "[encoded data removed]",
      "text/plain": [
       "<Figure size 67.2x67.2 with 1 Axes>"
      ]
     },
     "metadata": {
      "needs_background": "light"
     },
     "output_type": "display_data"
    }
   ],
   "source": [
    "myshow(not_aug_train_dataset[1][0].permute(1,2,0))\n",
    "\n",
    "# airplane\n",
    "# automobile\n",
    "# bird\n",
    "# cat\n",
    "# deer\n",
    "# dog\n",
    "# frog\n",
    "# horse\n",
    "# ship\n",
    "# truck"
   ]
  },
  {
   "cell_type": "code",
   "execution_count": null,
   "id": "333f00d8",
   "metadata": {},
   "outputs": [],
   "source": []
  },
  {
   "cell_type": "code",
   "execution_count": null,
   "id": "01c05545",
   "metadata": {},
   "outputs": [],
   "source": []
  },
  {
   "cell_type": "code",
   "execution_count": null,
   "id": "a9b1f2e0",
   "metadata": {},
   "outputs": [],
   "source": []
  },
  {
   "cell_type": "code",
   "execution_count": null,
   "id": "737055d8",
   "metadata": {},
   "outputs": [],
   "source": []
  },
  {
   "cell_type": "code",
   "execution_count": null,
   "id": "a69a471d",
   "metadata": {},
   "outputs": [],
   "source": []
  },
  {
   "cell_type": "code",
   "execution_count": null,
   "id": "8033eff3",
   "metadata": {},
   "outputs": [],
   "source": []
  },
  {
   "cell_type": "code",
   "execution_count": null,
   "id": "86223822",
   "metadata": {},
   "outputs": [],
   "source": []
  },
  {
   "cell_type": "code",
   "execution_count": null,
   "id": "ba1c4cbb",
   "metadata": {},
   "outputs": [],
   "source": []
  }
 ],
 "metadata": {
  "kernelspec": {
   "display_name": "Python 3 (ipykernel)",
   "language": "python",
   "name": "python3"
  },
  "language_info": {
   "codemirror_mode": {
    "name": "ipython",
    "version": 3
   },
   "file_extension": ".py",
   "mimetype": "text/x-python",
   "name": "python",
   "nbconvert_exporter": "python",
   "pygments_lexer": "ipython3",
   "version": "3.8.15"
  }
 },
 "nbformat": 4,
 "nbformat_minor": 5
}
