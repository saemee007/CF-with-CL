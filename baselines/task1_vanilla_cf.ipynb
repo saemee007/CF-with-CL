{
 "cells": [
  {
   "cell_type": "code",
   "execution_count": 1,
   "id": "8920e773",
   "metadata": {},
   "outputs": [],
   "source": [
    "import numpy as np\n",
    "from numpy import dot\n",
    "from numpy.linalg import norm\n",
    "import pandas as pd\n",
    "from tqdm import tqdm\n",
    "from itertools import product"
   ]
  },
  {
   "cell_type": "code",
   "execution_count": 2,
   "id": "1615e8f9",
   "metadata": {},
   "outputs": [],
   "source": [
    "NUM_USERS = 53897\n",
    "NUM_ITEMSETS = 27694"
   ]
  },
  {
   "cell_type": "code",
   "execution_count": 3,
   "id": "26ee2f3a",
   "metadata": {},
   "outputs": [],
   "source": [
    "train_df = pd.read_csv('/home/nas3_userL/sohyunjeong/work_dir/etc/23spring/hw2/dataset/user_itemset_training.csv', names=['user_id', 'itemset_id'])\n",
    "valid_df = pd.read_csv('/home/nas3_userL/sohyunjeong/work_dir/etc/23spring/hw2/dataset/user_itemset_valid_query.csv', names=['user_id', 'itemset_id'])\n",
    "valid_ans = pd.read_csv('/home/nas3_userL/sohyunjeong/work_dir/etc/23spring/hw2/dataset/user_itemset_valid_answer.csv', names=['answer'])\n",
    "test_df = pd.read_csv('/home/nas3_userL/sohyunjeong/work_dir/etc/23spring/hw2/dataset/user_itemset_test_query.csv', names=['user_id', 'itemset_id'])"
   ]
  },
  {
   "cell_type": "code",
   "execution_count": 4,
   "id": "ce95b49a",
   "metadata": {},
   "outputs": [
    {
     "name": "stderr",
     "output_type": "stream",
     "text": [
      "100%|██████████| 53897/53897 [00:35<00:00, 1509.25it/s]\n"
     ]
    }
   ],
   "source": [
    "train_users = list(set(train_df['user_id'].tolist()))\n",
    "train_dict = dict()\n",
    "for train_user in tqdm(train_users):\n",
    "    items = train_df[train_df['user_id']==train_user]['itemset_id'].tolist()\n",
    "    train_dict.update({train_user:items})\n",
    "\n",
    "train_user_itemset = np.zeros((NUM_USERS, NUM_ITEMSETS))\n",
    "for i in range(len(train_user_itemset)):\n",
    "    train_user_itemset[i,train_dict[i]] = 1\n",
    "train_itemset_user = train_user_itemset.T"
   ]
  },
  {
   "cell_type": "code",
   "execution_count": 5,
   "id": "e70a6f91",
   "metadata": {},
   "outputs": [],
   "source": [
    "mul_train_itemset_user = train_itemset_user@train_itemset_user.T\n",
    "norm = np.sqrt(np.diag(mul_train_itemset_user))[:,None]@(np.sqrt(np.diag(mul_train_itemset_user))[:,None]).T\n",
    "train_itemset_sim = np.divide(mul_train_itemset_user, norm)\n",
    "train_itemset_sim = train_itemset_sim*(1-np.eye(train_itemset_sim.shape[0],train_itemset_sim.shape[0]))"
   ]
  },
  {
   "cell_type": "code",
   "execution_count": 6,
   "id": "eb3d1db8",
   "metadata": {},
   "outputs": [
    {
     "name": "stderr",
     "output_type": "stream",
     "text": [
      "100%|██████████| 335940/335940 [02:02<00:00, 2733.50it/s]\n"
     ]
    },
    {
     "data": {
      "text/plain": [
       "0.60904328153837"
      ]
     },
     "execution_count": 6,
     "metadata": {},
     "output_type": "execute_result"
    }
   ],
   "source": [
    "results = []\n",
    "for i in tqdm(range(len(valid_df['itemset_id'].tolist()))):\n",
    "\n",
    "    res = np.dot(train_user_itemset[valid_df['user_id'][i]], train_itemset_sim[valid_df['itemset_id'][i]])\n",
    "    results.append(res)\n",
    "\n",
    "results = np.array(results)\n",
    "results[results>0] = 1\n",
    "a = results\n",
    "b = np.array(valid_ans['answer'])\n",
    "\n",
    "(a == b).sum()/len(a)"
   ]
  },
  {
   "cell_type": "code",
   "execution_count": 7,
   "id": "3ad2d205",
   "metadata": {},
   "outputs": [],
   "source": [
    "mul_train_user_itemset = train_user_itemset@train_user_itemset.T\n",
    "norm = np.sqrt(np.diag(mul_train_user_itemset))[:,None]@(np.sqrt(np.diag(mul_train_user_itemset))[:,None]).T\n",
    "train_user_sim = np.divide(mul_train_user_itemset, norm)\n",
    "train_user_sim = train_user_sim*(1-np.eye(train_user_sim.shape[0],train_user_sim.shape[0]))"
   ]
  },
  {
   "cell_type": "code",
   "execution_count": 8,
   "id": "9b037886",
   "metadata": {},
   "outputs": [
    {
     "name": "stderr",
     "output_type": "stream",
     "text": [
      "100%|██████████| 335940/335940 [01:52<00:00, 2991.39it/s] \n"
     ]
    },
    {
     "data": {
      "text/plain": [
       "0.60904328153837"
      ]
     },
     "execution_count": 8,
     "metadata": {},
     "output_type": "execute_result"
    }
   ],
   "source": [
    "results = []\n",
    "for i in tqdm(range(len(valid_df['user_id'].tolist()))):\n",
    "\n",
    "    res = np.dot(train_itemset_user[valid_df['itemset_id'][i]], train_user_sim[valid_df['user_id'][i]])\n",
    "    results.append(res)\n",
    "\n",
    "results = np.array(results)\n",
    "results[results>0] = 1\n",
    "a = results\n",
    "b = np.array(valid_ans['answer'])\n",
    "\n",
    "(a == b).sum()/len(a)"
   ]
  },
  {
   "cell_type": "code",
   "execution_count": null,
   "id": "9abf886c",
   "metadata": {},
   "outputs": [],
   "source": []
  }
 ],
 "metadata": {
  "kernelspec": {
   "display_name": "ncsn",
   "language": "python",
   "name": "python3"
  },
  "language_info": {
   "codemirror_mode": {
    "name": "ipython",
    "version": 3
   },
   "file_extension": ".py",
   "mimetype": "text/x-python",
   "name": "python",
   "nbconvert_exporter": "python",
   "pygments_lexer": "ipython3",
   "version": "3.9.13"
  }
 },
 "nbformat": 4,
 "nbformat_minor": 5
}
