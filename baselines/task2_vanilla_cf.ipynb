{
 "cells": [
  {
   "cell_type": "code",
   "execution_count": 1,
   "id": "8920e773",
   "metadata": {},
   "outputs": [],
   "source": [
    "import numpy as np\n",
    "from numpy import dot\n",
    "from numpy.linalg import norm\n",
    "import pandas as pd\n",
    "from tqdm import tqdm\n",
    "from itertools import product"
   ]
  },
  {
   "cell_type": "code",
   "execution_count": 2,
   "id": "1615e8f9",
   "metadata": {},
   "outputs": [],
   "source": [
    "NUM_USERS = 53897\n",
    "NUM_ITEMSETS = 27694\n",
    "NUM_ITEMS = 42653"
   ]
  },
  {
   "cell_type": "code",
   "execution_count": 3,
   "id": "26ee2f3a",
   "metadata": {},
   "outputs": [],
   "source": [
    "train_df = pd.read_csv('/home/nas3_userL/sohyunjeong/work_dir/etc/23spring/hw2/dataset/itemset_item_training.csv', names=['itemset_id', 'item_id'])\n",
    "valid_df = pd.read_csv('/home/nas3_userL/sohyunjeong/work_dir/etc/23spring/hw2/dataset/itemset_item_valid_query.csv', names=['itemset_id', 'item_id'])\n",
    "valid_ans = pd.read_csv('/home/nas3_userL/sohyunjeong/work_dir/etc/23spring/hw2/dataset/itemset_item_valid_answer.csv', names=['itemset_id', 'answer'])\n",
    "test_df = pd.read_csv('/home/nas3_userL/sohyunjeong/work_dir/etc/23spring/hw2/dataset/itemset_item_test_query.csv', names=['itemset_id', 'item_id'])"
   ]
  },
  {
   "cell_type": "code",
   "execution_count": 4,
   "id": "ce95b49a",
   "metadata": {},
   "outputs": [
    {
     "name": "stderr",
     "output_type": "stream",
     "text": [
      "100%|██████████| 22156/22156 [00:04<00:00, 5229.70it/s]\n"
     ]
    }
   ],
   "source": [
    "train_itemsets = list(set(train_df['itemset_id'].tolist()))\n",
    "train_dict = dict()\n",
    "for train_itemset in tqdm(train_itemsets):\n",
    "    items = train_df[train_df['itemset_id']==train_itemset]['item_id'].tolist()\n",
    "    train_dict.update({train_itemset:items})\n",
    "    \n",
    "train_itemset_item = np.zeros((len(train_dict.keys()), NUM_ITEMS+1))\n",
    "for i, (k, v) in enumerate(train_dict.items()) :\n",
    "    train_itemset_item[i,NUM_ITEMS] = k\n",
    "    train_itemset_item[i,v] = 1"
   ]
  },
  {
   "cell_type": "code",
   "execution_count": 5,
   "id": "2f2be2c0-a4ab-47b3-8899-54ff8dd34415",
   "metadata": {},
   "outputs": [
    {
     "data": {
      "text/plain": [
       "(22156, 42654)"
      ]
     },
     "execution_count": 5,
     "metadata": {},
     "output_type": "execute_result"
    }
   ],
   "source": [
    "train_itemset_item.shape"
   ]
  },
  {
   "cell_type": "code",
   "execution_count": 6,
   "id": "09b671b9",
   "metadata": {},
   "outputs": [
    {
     "name": "stderr",
     "output_type": "stream",
     "text": [
      "100%|██████████| 2769/2769 [00:00<00:00, 5665.36it/s]\n"
     ]
    }
   ],
   "source": [
    "valid_itemsets = list(set(valid_df['itemset_id'].tolist()))\n",
    "valid_dict = dict()\n",
    "for valid_itemset in tqdm(valid_itemsets):\n",
    "    items = valid_df[valid_df['itemset_id']==valid_itemset]['item_id'].tolist()\n",
    "    valid_dict.update({valid_itemset:items})\n",
    "\n",
    "valid_itemset_item = np.zeros((len(valid_dict.keys()), NUM_ITEMS+1))\n",
    "for i, (k, v) in enumerate(valid_dict.items()) :\n",
    "    valid_itemset_item[i,NUM_ITEMS] = k\n",
    "    valid_itemset_item[i,v] = 1"
   ]
  },
  {
   "cell_type": "code",
   "execution_count": 7,
   "id": "52e707f4",
   "metadata": {},
   "outputs": [
    {
     "name": "stderr",
     "output_type": "stream",
     "text": [
      "100%|██████████| 2769/2769 [00:00<00:00, 5983.95it/s]\n"
     ]
    }
   ],
   "source": [
    "test_itemsets = list(set(test_df['itemset_id'].tolist()))\n",
    "test_dict = dict()\n",
    "for test_itemset in tqdm(test_itemsets):\n",
    "    items = test_df[test_df['itemset_id']==test_itemset]['item_id'].tolist()\n",
    "    test_dict.update({test_itemset:items})\n",
    "    \n",
    "test_itemset_item = np.zeros((len(test_dict.keys()), NUM_ITEMS+1))\n",
    "for i, (k, v) in enumerate(test_dict.items()) :\n",
    "    test_itemset_item[i,NUM_ITEMS] = k\n",
    "    test_itemset_item[i,v] = 1"
   ]
  },
  {
   "cell_type": "code",
   "execution_count": 8,
   "id": "e70a6f91",
   "metadata": {},
   "outputs": [],
   "source": [
    "itemset_item = np.concatenate((train_itemset_item, valid_itemset_item, test_itemset_item), axis=0)\n",
    "mul_itemset_item = itemset_item[:,:-1]@itemset_item[:,:-1].T\n",
    "norm = np.sqrt(np.diag(mul_itemset_item))[:,None]@(np.sqrt(np.diag(mul_itemset_item))[:,None]).T\n",
    "itemset_sim = np.divide(mul_itemset_item, norm)\n",
    "itemset_sim = itemset_sim*(1-np.eye(itemset_sim.shape[0],itemset_sim.shape[0]))"
   ]
  },
  {
   "cell_type": "code",
   "execution_count": 9,
   "id": "b33d8e4b",
   "metadata": {},
   "outputs": [],
   "source": [
    "results = np.dot(itemset_sim, itemset_item[:,:-1])[22156:22156+2769]\n",
    "ranking = np.argsort(results, 1)[::-1][:,:100]"
   ]
  },
  {
   "cell_type": "code",
   "execution_count": 10,
   "id": "ab93123c",
   "metadata": {},
   "outputs": [
    {
     "name": "stderr",
     "output_type": "stream",
     "text": [
      "100%|██████████| 2769/2769 [00:00<00:00, 5534.91it/s]\n"
     ]
    }
   ],
   "source": [
    "acc = []\n",
    "rank = []\n",
    "\n",
    "for i , itemset_id in enumerate(tqdm(valid_itemset_item[:,-1])):\n",
    "    ans = valid_ans[valid_ans['itemset_id']==itemset_id]['answer'].tolist()[0]\n",
    "    if ans in ranking[i]:\n",
    "        acc.append(1)\n",
    "        rank.append(np.where(ranking[i]==ans)[0][0])\n",
    "    else:\n",
    "        acc.append(0)\n",
    "        rank.append(101)"
   ]
  },
  {
   "cell_type": "code",
   "execution_count": 11,
   "id": "56d4d32c",
   "metadata": {},
   "outputs": [
    {
     "name": "stdout",
     "output_type": "stream",
     "text": [
      "0.0021668472372697724\n",
      "100.89888046226075\n"
     ]
    }
   ],
   "source": [
    "print(np.array(acc).sum()/len(acc))\n",
    "print(np.array(rank).sum()/len(acc))"
   ]
  }
 ],
 "metadata": {
  "kernelspec": {
   "display_name": "Python 3 (ipykernel)",
   "language": "python",
   "name": "python3"
  },
  "language_info": {
   "codemirror_mode": {
    "name": "ipython",
    "version": 3
   },
   "file_extension": ".py",
   "mimetype": "text/x-python",
   "name": "python",
   "nbconvert_exporter": "python",
   "pygments_lexer": "ipython3",
   "version": "3.9.13"
  }
 },
 "nbformat": 4,
 "nbformat_minor": 5
}
