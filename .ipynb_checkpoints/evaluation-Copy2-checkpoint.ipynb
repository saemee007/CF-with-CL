{
 "cells": [
  {
   "cell_type": "markdown",
   "id": "007fe89e-744b-4292-91ec-be0a0df79e0a",
   "metadata": {},
   "source": [
    "## Task 1"
   ]
  },
  {
   "cell_type": "code",
   "execution_count": 22,
   "id": "c12be32f-5b9b-45c0-af23-0a8d4f2c022f",
   "metadata": {},
   "outputs": [],
   "source": [
    "import numpy as np\n",
    "import pandas as pd\n",
    "from tqdm import tqdm\n",
    "import torch\n",
    "from data.cf_loader import Task1Loader, Task2Loader"
   ]
  },
  {
   "cell_type": "code",
   "execution_count": 2,
   "id": "ce5d5b1f-505f-4e44-bf59-5d9a9554506b",
   "metadata": {},
   "outputs": [],
   "source": [
    "import os\n",
    "os.environ[\"CUDA_VISIBLE_DEVICES\"]= \"3\""
   ]
  },
  {
   "cell_type": "code",
   "execution_count": 3,
   "id": "3303a614-705d-430a-822a-d3a938a3f33f",
   "metadata": {},
   "outputs": [
    {
     "data": {
      "text/plain": [
       "True"
      ]
     },
     "execution_count": 3,
     "metadata": {},
     "output_type": "execute_result"
    }
   ],
   "source": [
    "torch.cuda.is_available()"
   ]
  },
  {
   "cell_type": "code",
   "execution_count": 4,
   "id": "7529e498-0540-465f-b574-5614d74af6b5",
   "metadata": {},
   "outputs": [
    {
     "name": "stderr",
     "output_type": "stream",
     "text": [
      "100%|████████████████████████████████████████████████████████████████████████████████████████████████████████████████████████████████████████████████████████████████████████████████████████| 53897/53897 [00:30<00:00, 1791.30it/s]\n",
      "100%|████████████████████████████████████████████████████████████████████████████████████████████████████████████████████████████████████████████████████████████████████████████████████████| 53897/53897 [00:29<00:00, 1815.99it/s]\n"
     ]
    },
    {
     "name": "stdout",
     "output_type": "stream",
     "text": [
      "Loading data is done.\n"
     ]
    }
   ],
   "source": [
    "task1_dataset = Task1Loader('/home/nas3_userL/sohyunjeong/work_dir/etc/23spring/hw2/dataset/user_itemset_training.csv').data_preprocess()\n",
    "valid_df = pd.read_csv('/home/nas3_userL/sohyunjeong/work_dir/etc/23spring/hw2/dataset/user_itemset_valid_query.csv', names=['user_id', 'itemset_id'])\n",
    "valid_ans = pd.read_csv('/home/nas3_userL/sohyunjeong/work_dir/etc/23spring/hw2/dataset/user_itemset_valid_answer.csv', names=['answer'])\n",
    "print(\"Loading data is done.\")"
   ]
  },
  {
   "cell_type": "code",
   "execution_count": 5,
   "id": "919b495a-fe00-42b2-bee5-c5f5ec379d8c",
   "metadata": {},
   "outputs": [],
   "source": [
    "NUM_USERS = 53897\n",
    "NUM_ITEMSETS = 27694\n",
    "latent_dim = 4096"
   ]
  },
  {
   "cell_type": "code",
   "execution_count": 6,
   "id": "cc4a6d05-4160-4ec3-8545-7cd2a333dd48",
   "metadata": {},
   "outputs": [
    {
     "name": "stderr",
     "output_type": "stream",
     "text": [
      "100%|█████████████████████████████████████████████████████████████████████████████████████████████████████████████████████████████████████████████████████████████████████████████████████████| 53897/53897 [01:38<00:00, 548.17it/s]\n"
     ]
    }
   ],
   "source": [
    "user_rep = torch.zeros((NUM_USERS, latent_dim))\n",
    "\n",
    "for user in tqdm(range(NUM_USERS)):\n",
    "    checkpoint_path = f'/home/nas4_user/saemeechoi/course/DataMining/WCL/data/dataset/features_task1/{user}.pt'\n",
    "    checkpoint = torch.load(checkpoint_path, map_location='cpu')\n",
    "    user_rep[user] = checkpoint"
   ]
  },
  {
   "cell_type": "code",
   "execution_count": 7,
   "id": "7284a231-2246-4768-8d4d-0fbcfa194098",
   "metadata": {},
   "outputs": [],
   "source": [
    "mul_user_rep = torch.mm(user_rep, user_rep.t())\n",
    "\n",
    "norm = torch.sqrt(torch.diag(mul_user_rep)).unsqueeze(1)\n",
    "user_sim = torch.div(mul_user_rep, norm)\n",
    "user_sim = torch.div(user_sim, norm.t())\n",
    "user_sim[torch.eye(user_sim.size(0)).bool()] = 0"
   ]
  },
  {
   "cell_type": "code",
   "execution_count": 8,
   "id": "4a8c6202-a48d-4d5e-a12a-6e6a0fc36170",
   "metadata": {},
   "outputs": [
    {
     "name": "stderr",
     "output_type": "stream",
     "text": [
      "  0%|                                                                                                                                                                                                     | 0/335940 [00:00<?, ?it/s]/tmp/ipykernel_768161/445178270.py:11: SettingWithCopyWarning: \n",
      "A value is trying to be set on a copy of a slice from a DataFrame\n",
      "\n",
      "See the caveats in the documentation: https://pandas.pydata.org/pandas-docs/stable/user_guide/indexing.html#returning-a-view-versus-a-copy\n",
      "  valid_df['score'][i] = numer.item() / denom.item()\n",
      "100%|███████████████████████████████████████████████████████████████████████████████████████████████████████████████████████████████████████████████████████████████████████████████████████| 335940/335940 [09:08<00:00, 612.80it/s]\n"
     ]
    }
   ],
   "source": [
    "task1_dataset_tensor = torch.tensor(task1_dataset).float()\n",
    "valid_df['score'] = torch.zeros(len(valid_df))\n",
    "\n",
    "for i in tqdm(range(len(valid_df))):\n",
    "    user_id = valid_df['user_id'][i]\n",
    "    itemset_id = valid_df['itemset_id'][i]\n",
    "\n",
    "    numer = torch.matmul(user_sim[user_id].unsqueeze(0), task1_dataset_tensor[:, itemset_id].unsqueeze(1))\n",
    "    denom = torch.sum(user_sim[user_id])\n",
    "\n",
    "    valid_df['score'][i] = numer.item() / denom.item()"
   ]
  },
  {
   "cell_type": "code",
   "execution_count": null,
   "id": "620cb0ec-9799-4301-82c2-5bb88d8c5c9c",
   "metadata": {},
   "outputs": [],
   "source": [
    "valid_df.to_csv('/home/nas4_user/hawonjeong/courses/ai506/DM_termproj/results/task1_result_sub.csv', index=False)"
   ]
  },
  {
   "cell_type": "code",
   "execution_count": null,
   "id": "a3b962fe-9c26-4d19-98f3-655eebbb2bae",
   "metadata": {},
   "outputs": [],
   "source": []
  },
  {
   "cell_type": "markdown",
   "id": "e0b4e034-3b1e-42f8-8e9d-4bd9cbd9ce53",
   "metadata": {},
   "source": [
    "## Task 2"
   ]
  },
  {
   "cell_type": "code",
   "execution_count": 24,
   "id": "fd35c64c-e5c8-4da5-adea-93ef74007bba",
   "metadata": {},
   "outputs": [],
   "source": [
    "import numpy as np\n",
    "import pandas as pd\n",
    "from tqdm import tqdm\n",
    "import torch\n",
    "from data.cf_loader import Task1Loader, Task2Loader"
   ]
  },
  {
   "cell_type": "code",
   "execution_count": 25,
   "id": "28368f48-9f63-4a1e-9de4-d23c31510e21",
   "metadata": {},
   "outputs": [
    {
     "data": {
      "text/plain": [
       "True"
      ]
     },
     "execution_count": 25,
     "metadata": {},
     "output_type": "execute_result"
    }
   ],
   "source": [
    "import os\n",
    "os.environ[\"CUDA_VISIBLE_DEVICES\"]= \"0\"\n",
    "torch.cuda.is_available()"
   ]
  },
  {
   "cell_type": "code",
   "execution_count": 88,
   "id": "b1ce3c0a-4688-41df-836e-e391d15a9a49",
   "metadata": {},
   "outputs": [
    {
     "name": "stderr",
     "output_type": "stream",
     "text": [
      "100%|████████████████████████████████████████████████████████████████████████████████████████████████████████████████████████████████████████████████████████████████████████████████████████| 22156/22156 [00:04<00:00, 4899.44it/s]\n",
      "100%|████████████████████████████████████████████████████████████████████████████████████████████████████████████████████████████████████████████████████████████████████████████████████████| 22156/22156 [00:04<00:00, 4834.48it/s]\n",
      "100%|██████████████████████████████████████████████████████████████████████████████████████████████████████████████████████████████████████████████████████████████████████████████████████████| 2769/2769 [00:00<00:00, 5521.25it/s]\n",
      "100%|██████████████████████████████████████████████████████████████████████████████████████████████████████████████████████████████████████████████████████████████████████████████████████████| 2769/2769 [00:00<00:00, 5521.03it/s]\n"
     ]
    }
   ],
   "source": [
    "task2_dataset = Task2Loader('/home/nas3_userL/sohyunjeong/work_dir/etc/23spring/hw2/dataset/itemset_item_training.csv').data_preprocess()\n",
    "task2_valid_dataset = Task2Loader('/home/nas3_userL/sohyunjeong/work_dir/etc/23spring/hw2/dataset/itemset_item_valid_query.csv').data_preprocess()\n",
    "valid_df = pd.read_csv('/home/nas3_userL/sohyunjeong/work_dir/etc/23spring/hw2/dataset/itemset_item_valid_query.csv', names=['itemset_id', 'item_id'])\n",
    "valid_ans = pd.read_csv('/home/nas3_userL/sohyunjeong/work_dir/etc/23spring/hw2/dataset/itemset_item_valid_answer.csv', names=['itemset_id', 'item_id'])"
   ]
  },
  {
   "cell_type": "code",
   "execution_count": 89,
   "id": "68f01d1f-36e8-4ee1-b880-0bf8ddfd5874",
   "metadata": {},
   "outputs": [
    {
     "name": "stdout",
     "output_type": "stream",
     "text": [
      "(22156, 42654)\n",
      "(2769, 42654)\n"
     ]
    }
   ],
   "source": [
    "print(task2_dataset.shape)\n",
    "print(task2_valid_dataset.shape)"
   ]
  },
  {
   "cell_type": "code",
   "execution_count": 90,
   "id": "9d4654bd-ca00-40de-8a80-3d4d66c6b51c",
   "metadata": {},
   "outputs": [],
   "source": [
    "NUM_USERS = 53897\n",
    "NUM_ITEMSETS = 27694\n",
    "latent_dim = 4096\n",
    "NUM_ITEMS = 42653"
   ]
  },
  {
   "cell_type": "code",
   "execution_count": null,
   "id": "9c191bb8-f3fd-4b45-b7e1-4d8b5c3026ef",
   "metadata": {},
   "outputs": [],
   "source": []
  },
  {
   "cell_type": "code",
   "execution_count": 91,
   "id": "1d30f038-7fae-4f2d-9bad-204160f6a28a",
   "metadata": {},
   "outputs": [
    {
     "name": "stderr",
     "output_type": "stream",
     "text": [
      "100%|█████████████████████████████████████████████████████████████████████████████████████████████████████████████████████████████████████████████████████████████████████████████████████████| 27694/27694 [01:09<00:00, 399.47it/s]"
     ]
    },
    {
     "name": "stdout",
     "output_type": "stream",
     "text": [
      "Checkpoints are loaded.\n"
     ]
    },
    {
     "name": "stderr",
     "output_type": "stream",
     "text": [
      "\n"
     ]
    }
   ],
   "source": [
    "wcl_rep = torch.zeros((NUM_ITEMSETS, latent_dim))\n",
    "\n",
    "for itemset in tqdm(range(NUM_ITEMSETS)):\n",
    "    checkpoint_path = f'/home/nas4_user/saemeechoi/course/DataMining/WCL/data/dataset/features_task2_2/{itemset}.pt'\n",
    "    checkpoint = torch.load(checkpoint_path, map_location='cpu')\n",
    "    wcl_rep[itemset] = checkpoint\n",
    "print(\"Checkpoints are loaded.\")"
   ]
  },
  {
   "cell_type": "code",
   "execution_count": 92,
   "id": "654ec3b7-fd16-4e41-9821-221b83463923",
   "metadata": {},
   "outputs": [
    {
     "data": {
      "text/plain": [
       "torch.Size([27694, 4096])"
      ]
     },
     "execution_count": 92,
     "metadata": {},
     "output_type": "execute_result"
    }
   ],
   "source": [
    "wcl_rep.shape"
   ]
  },
  {
   "cell_type": "code",
   "execution_count": 93,
   "id": "b886bb1d-f4a0-42f4-a57c-7ec2cb3fac60",
   "metadata": {},
   "outputs": [],
   "source": [
    "mul_wcl_rep = torch.mm(wcl_rep, wcl_rep.t())\n",
    "norm = torch.sqrt(torch.diag(mul_wcl_rep)).unsqueeze(1)\n",
    "sim = torch.div(mul_wcl_rep, norm)\n",
    "sim = torch.div(sim, norm.t())\n",
    "sim[torch.eye(sim.size(0)).bool()] = 0"
   ]
  },
  {
   "cell_type": "code",
   "execution_count": 94,
   "id": "43df7e47-7ad9-4e14-af62-54150a8462a2",
   "metadata": {},
   "outputs": [
    {
     "data": {
      "text/plain": [
       "torch.Size([27694, 27694])"
      ]
     },
     "execution_count": 94,
     "metadata": {},
     "output_type": "execute_result"
    }
   ],
   "source": [
    "# check\n",
    "# (24925, 24925) <- trainging + valid itemsets\n",
    "sim.shape"
   ]
  },
  {
   "cell_type": "code",
   "execution_count": null,
   "id": "c66fecf1-e423-4b30-9bb1-4f5445cac7c1",
   "metadata": {},
   "outputs": [],
   "source": []
  },
  {
   "cell_type": "code",
   "execution_count": 95,
   "id": "5d80f787-bab0-44be-aa66-ab12053927ab",
   "metadata": {},
   "outputs": [
    {
     "name": "stderr",
     "output_type": "stream",
     "text": [
      "100%|████████████████████████████████████████████████████████████████████████████████████████████████████████████████████████████████████████████████████████████████████████████████████████| 22156/22156 [00:04<00:00, 4967.88it/s]\n",
      "100%|████████████████████████████████████████████████████████████████████████████████████████████████████████████████████████████████████████████████████████████████████████████████████████| 22156/22156 [00:04<00:00, 4795.82it/s]\n",
      "100%|██████████████████████████████████████████████████████████████████████████████████████████████████████████████████████████████████████████████████████████████████████████████████████████| 2769/2769 [00:00<00:00, 5605.59it/s]\n"
     ]
    },
    {
     "name": "stdout",
     "output_type": "stream",
     "text": [
      "[[0. 0. 0. ... 0. 0. 0.]\n",
      " [0. 0. 0. ... 0. 0. 0.]\n",
      " [0. 0. 0. ... 0. 0. 0.]\n",
      " ...\n",
      " [0. 0. 0. ... 0. 0. 0.]\n",
      " [0. 0. 0. ... 0. 0. 0.]\n",
      " [0. 0. 0. ... 0. 0. 0.]]\n"
     ]
    }
   ],
   "source": [
    "# To get multi-hot representation of all itmes\n",
    "# task2_dataset에 update\n",
    "\n",
    "# 1. Training set\n",
    "df = pd.read_csv('/home/nas3_userL/sohyunjeong/work_dir/etc/23spring/hw2/dataset/itemset_item_training.csv', names=['itemset_id', 'item_id'])\n",
    "itemsets = list(set(df['itemset_id'].tolist()))\n",
    "\n",
    "data_dict = dict()\n",
    "for itemset in tqdm(itemsets):\n",
    "    items = df[df['itemset_id']==itemset]['item_id'].tolist()\n",
    "    data_dict.update({itemset:items})\n",
    "    \n",
    "itemset_item = np.zeros((NUM_ITEMSETS, NUM_ITEMS))    \n",
    "for i, (k, v) in enumerate(data_dict.items()) :\n",
    "    itemset_item[k, v] = 1\n",
    "\n",
    "# 2. Valid set\n",
    "# valid_df\n",
    "itemsets = list(set(df['itemset_id'].tolist()))\n",
    "\n",
    "data_dict = dict()\n",
    "for itemset in tqdm(itemsets):\n",
    "    items = df[df['itemset_id']==itemset]['item_id'].tolist()\n",
    "    data_dict.update({itemset:items})\n",
    "\n",
    "for i, (k, v) in enumerate(data_dict.items()) :\n",
    "    itemset_item[k,v] = 1\n",
    "\n",
    "# 3. Test set\n",
    "df = pd.read_csv('/home/nas3_userL/sohyunjeong/work_dir/etc/23spring/hw2/dataset/itemset_item_test_query.csv', names=['itemset_id', 'item_id'])\n",
    "itemsets = list(set(df['itemset_id'].tolist()))\n",
    "\n",
    "data_dict = dict()\n",
    "for itemset in tqdm(itemsets):\n",
    "    items = df[df['itemset_id']==itemset]['item_id'].tolist()\n",
    "    data_dict.update({itemset:items})\n",
    "\n",
    "for i, (k, v) in enumerate(data_dict.items()) :\n",
    "    itemset_item[k,v] = 1\n",
    "\n",
    "print(itemset_item) # (27694, 42653)"
   ]
  },
  {
   "cell_type": "code",
   "execution_count": 96,
   "id": "a3f8505f-069d-434a-91fd-9bd135cc99bb",
   "metadata": {},
   "outputs": [
    {
     "data": {
      "text/plain": [
       "1.0"
      ]
     },
     "execution_count": 96,
     "metadata": {},
     "output_type": "execute_result"
    }
   ],
   "source": [
    "itemset_item[8571][32627]"
   ]
  },
  {
   "cell_type": "code",
   "execution_count": 97,
   "id": "000162d1-c938-448c-a117-ae84b9311fbf",
   "metadata": {},
   "outputs": [],
   "source": [
    "itemset_item_tensor = torch.tensor(itemset_item).float()"
   ]
  },
  {
   "cell_type": "code",
   "execution_count": null,
   "id": "bb56f478-4a38-4a7d-a421-10183fe51338",
   "metadata": {},
   "outputs": [],
   "source": []
  },
  {
   "cell_type": "code",
   "execution_count": 98,
   "id": "48b3420d-727c-48bf-87c5-4669415637f9",
   "metadata": {},
   "outputs": [
    {
     "data": {
      "text/plain": [
       "True"
      ]
     },
     "execution_count": 98,
     "metadata": {},
     "output_type": "execute_result"
    }
   ],
   "source": [
    "import os\n",
    "os.environ[\"CUDA_VISIBLE_DEVICES\"]= \"3\"\n",
    "torch.cuda.is_available()"
   ]
  },
  {
   "cell_type": "code",
   "execution_count": 99,
   "id": "949f9704-dbe0-44e8-b1d3-57a1446f8364",
   "metadata": {},
   "outputs": [
    {
     "name": "stderr",
     "output_type": "stream",
     "text": [
      "  0%|                                                                                                                                                                                                       | 0/2769 [00:00<?, ?it/s]/tmp/ipykernel_2195381/2099983369.py:17: SettingWithCopyWarning: \n",
      "A value is trying to be set on a copy of a slice from a DataFrame\n",
      "\n",
      "See the caveats in the documentation: https://pandas.pydata.org/pandas-docs/stable/user_guide/indexing.html#returning-a-view-versus-a-copy\n",
      "  valid_ans['candidate_items'][i] = top_100_items.cpu().numpy()\n",
      "100%|████████████████████████████████████████████████████████████████████████████████████████████████████████████████████████████████████████████████████████████████████████████████████████████| 2769/2769 [00:44<00:00, 62.08it/s]\n"
     ]
    }
   ],
   "source": [
    "sim = sim.to('cuda')\n",
    "itemset_item_tensor = itemset_item_tensor.to('cuda')\n",
    "\n",
    "# valid_ans['candidate_items'][i] = [item1_score, item2_score, ..., item100_score]\n",
    "valid_ans['candidate_items'] = None\n",
    "\n",
    "for i in tqdm(range(len(valid_ans))):\n",
    "    itemset_id = valid_ans[valid_ans.columns[0]][i]\n",
    "    # item_valid_id = valid_ans[valid_ans.columns[1]][i]\n",
    "    \n",
    "    # get scores of all items\n",
    "    numer = torch.matmul(sim[itemset_id].unsqueeze(0), itemset_item_tensor)\n",
    "    denom = torch.sum(sim[itemset_id])\n",
    "    item_scores = numer.squeeze() / denom.item()\n",
    "    \n",
    "    top_100_items = torch.argsort(item_scores, descending=True)[:100]\n",
    "    valid_ans['candidate_items'][i] = top_100_items.cpu().numpy()"
   ]
  },
  {
   "cell_type": "code",
   "execution_count": 100,
   "id": "211d2194-0943-42b7-9669-e4479994881c",
   "metadata": {},
   "outputs": [
    {
     "data": {
      "text/html": [
       "<div>\n",
       "<style scoped>\n",
       "    .dataframe tbody tr th:only-of-type {\n",
       "        vertical-align: middle;\n",
       "    }\n",
       "\n",
       "    .dataframe tbody tr th {\n",
       "        vertical-align: top;\n",
       "    }\n",
       "\n",
       "    .dataframe thead th {\n",
       "        text-align: right;\n",
       "    }\n",
       "</style>\n",
       "<table border=\"1\" class=\"dataframe\">\n",
       "  <thead>\n",
       "    <tr style=\"text-align: right;\">\n",
       "      <th></th>\n",
       "      <th>itemset_id</th>\n",
       "      <th>item_id</th>\n",
       "      <th>candidate_items</th>\n",
       "    </tr>\n",
       "  </thead>\n",
       "  <tbody>\n",
       "    <tr>\n",
       "      <th>0</th>\n",
       "      <td>6998</td>\n",
       "      <td>14100</td>\n",
       "      <td>[31432, 34338, 25194, 13979, 19204, 27447, 737...</td>\n",
       "    </tr>\n",
       "    <tr>\n",
       "      <th>1</th>\n",
       "      <td>8941</td>\n",
       "      <td>37713</td>\n",
       "      <td>[31432, 34338, 25194, 19204, 13979, 27447, 129...</td>\n",
       "    </tr>\n",
       "    <tr>\n",
       "      <th>2</th>\n",
       "      <td>11717</td>\n",
       "      <td>29703</td>\n",
       "      <td>[31432, 27447, 13979, 25194, 34338, 19204, 364...</td>\n",
       "    </tr>\n",
       "    <tr>\n",
       "      <th>3</th>\n",
       "      <td>18595</td>\n",
       "      <td>37718</td>\n",
       "      <td>[31432, 34338, 25194, 13979, 19204, 27447, 129...</td>\n",
       "    </tr>\n",
       "    <tr>\n",
       "      <th>4</th>\n",
       "      <td>23064</td>\n",
       "      <td>42559</td>\n",
       "      <td>[34338, 31432, 25194, 19204, 13979, 16926, 346...</td>\n",
       "    </tr>\n",
       "    <tr>\n",
       "      <th>...</th>\n",
       "      <td>...</td>\n",
       "      <td>...</td>\n",
       "      <td>...</td>\n",
       "    </tr>\n",
       "    <tr>\n",
       "      <th>2764</th>\n",
       "      <td>396</td>\n",
       "      <td>11105</td>\n",
       "      <td>[25194, 19204, 13979, 16926, 27447, 31432, 364...</td>\n",
       "    </tr>\n",
       "    <tr>\n",
       "      <th>2765</th>\n",
       "      <td>7525</td>\n",
       "      <td>35558</td>\n",
       "      <td>[34338, 31432, 25194, 19204, 13979, 4191, 2744...</td>\n",
       "    </tr>\n",
       "    <tr>\n",
       "      <th>2766</th>\n",
       "      <td>14719</td>\n",
       "      <td>24249</td>\n",
       "      <td>[31432, 34338, 25194, 13979, 19204, 27447, 169...</td>\n",
       "    </tr>\n",
       "    <tr>\n",
       "      <th>2767</th>\n",
       "      <td>23768</td>\n",
       "      <td>10764</td>\n",
       "      <td>[31432, 34338, 25194, 13979, 19204, 27447, 737...</td>\n",
       "    </tr>\n",
       "    <tr>\n",
       "      <th>2768</th>\n",
       "      <td>6019</td>\n",
       "      <td>32235</td>\n",
       "      <td>[34338, 19204, 25194, 31432, 16926, 13979, 274...</td>\n",
       "    </tr>\n",
       "  </tbody>\n",
       "</table>\n",
       "<p>2769 rows × 3 columns</p>\n",
       "</div>"
      ],
      "text/plain": [
       "      itemset_id  item_id                                    candidate_items\n",
       "0           6998    14100  [31432, 34338, 25194, 13979, 19204, 27447, 737...\n",
       "1           8941    37713  [31432, 34338, 25194, 19204, 13979, 27447, 129...\n",
       "2          11717    29703  [31432, 27447, 13979, 25194, 34338, 19204, 364...\n",
       "3          18595    37718  [31432, 34338, 25194, 13979, 19204, 27447, 129...\n",
       "4          23064    42559  [34338, 31432, 25194, 19204, 13979, 16926, 346...\n",
       "...          ...      ...                                                ...\n",
       "2764         396    11105  [25194, 19204, 13979, 16926, 27447, 31432, 364...\n",
       "2765        7525    35558  [34338, 31432, 25194, 19204, 13979, 4191, 2744...\n",
       "2766       14719    24249  [31432, 34338, 25194, 13979, 19204, 27447, 169...\n",
       "2767       23768    10764  [31432, 34338, 25194, 13979, 19204, 27447, 737...\n",
       "2768        6019    32235  [34338, 19204, 25194, 31432, 16926, 13979, 274...\n",
       "\n",
       "[2769 rows x 3 columns]"
      ]
     },
     "execution_count": 100,
     "metadata": {},
     "output_type": "execute_result"
    }
   ],
   "source": [
    "valid_ans"
   ]
  },
  {
   "cell_type": "code",
   "execution_count": null,
   "id": "43ae146a-8d87-47d0-806f-4ead8b275c60",
   "metadata": {},
   "outputs": [],
   "source": []
  },
  {
   "cell_type": "code",
   "execution_count": 82,
   "id": "8a917095-b581-499f-bac7-ca649fe668f8",
   "metadata": {},
   "outputs": [],
   "source": [
    "valid_sub = valid_ans.copy()\n",
    "valid_sub.drop(\"item_id\", axis = 1)\n",
    "\n",
    "print(valid_ans)\n",
    "valid_ans.to_csv('/home/nas4_user/hawonjeong/courses/ai506/DM_termproj/results/itemset_item_test_prediction.csv', index=False)"
   ]
  },
  {
   "cell_type": "code",
   "execution_count": null,
   "id": "e28609e0-ca18-4b11-bbde-f7be4c923b97",
   "metadata": {},
   "outputs": [],
   "source": []
  },
  {
   "cell_type": "code",
   "execution_count": null,
   "id": "165c05c7-70d8-4d22-9166-ded4b45036a3",
   "metadata": {},
   "outputs": [],
   "source": [
    "for idx in range(len(valid_ans['itemset_id'])):\n",
    "    item_id = valid_ans['item_id'][idx]\n",
    "    candidate_items = valid_ans['candidate_items'][idx]\n",
    "\n",
    "    if np.isin(item_id, candidate_items):\n",
    "        pred_idx = np.where(candidate_items == item_id)[0]\n",
    "        y_pred[idx] = pred_idx.item() "
   ]
  },
  {
   "cell_type": "code",
   "execution_count": 106,
   "id": "932f13f1-ee5b-4479-9679-991e5a3277c3",
   "metadata": {},
   "outputs": [],
   "source": [
    "# task 2 accuracy\n",
    "from sklearn.metrics import accuracy_score\n",
    "\n",
    "y_pred = [0 for i in range(len(valid_ans))]\n",
    "y_pred_rank = [101 for i in range(len(valid_ans))]\n",
    "\n",
    "for idx in range(len(valid_ans['itemset_id'])):\n",
    "    \n",
    "    item_id = valid_ans['item_id'][idx]\n",
    "    candidate_items = valid_ans['candidate_items'][idx]\n",
    "    \n",
    "    if np.isin(item_id, candidate_items):\n",
    "        y_pred_rank[idx] = np.where(candidate_items == item_id)[0].item()\n",
    "        y_pred[idx] = 1\n",
    "        \n",
    "        \n",
    "# accuracy\n",
    "# y_true = list(valid_ans['item_id'])\n",
    "accuracy = sum(y_pred) / len(valid_ans)\n",
    "average_rank = np.mean(y_pred_rank)\n",
    "\n",
    "# correct_count = sum(1 for p, l in zip(y_pred, y_true) if p == l)\n",
    "# total_count = len(y_true)\n",
    "# accuracy = correct_count / total_count"
   ]
  },
  {
   "cell_type": "code",
   "execution_count": 107,
   "id": "e1598091-3e64-4bcb-910e-ef863f85b2bc",
   "metadata": {},
   "outputs": [
    {
     "data": {
      "text/plain": [
       "0.11917659804983749"
      ]
     },
     "execution_count": 107,
     "metadata": {},
     "output_type": "execute_result"
    }
   ],
   "source": [
    "accuracy"
   ]
  },
  {
   "cell_type": "code",
   "execution_count": 108,
   "id": "9720a767-0842-4fba-97e5-a469a77316ba",
   "metadata": {},
   "outputs": [
    {
     "data": {
      "text/plain": [
       "93.21162874684002"
      ]
     },
     "execution_count": 108,
     "metadata": {},
     "output_type": "execute_result"
    }
   ],
   "source": [
    "average_rank"
   ]
  },
  {
   "cell_type": "code",
   "execution_count": null,
   "id": "7550330b-ff51-4c05-8288-ed7618fa7df8",
   "metadata": {},
   "outputs": [],
   "source": []
  },
  {
   "cell_type": "markdown",
   "id": "52292112-ed4c-4d25-9251-cc09aa78b682",
   "metadata": {},
   "source": [
    "## metric  \n",
    "\n",
    "#### 1. Accuracy"
   ]
  },
  {
   "cell_type": "code",
   "execution_count": null,
   "id": "fd031f10-e2e0-4717-9c8a-d60a01fc2bb9",
   "metadata": {},
   "outputs": [],
   "source": [
    "y_score = np.array(valid_df['score'])\n",
    "y_true = np.array(valid_ans['answer'])\n",
    "\n",
    "thresholds = np.linspace(0, 0.01, num=100)\n",
    "\n",
    "accuracy_values = []\n",
    "precision_values = []\n",
    "recall_values = []\n",
    "f1_values = []\n",
    "roc_auc_values = []\n",
    "\n",
    "for threshold in thresholds:\n",
    "    # Convert scores to binary labels based on threshold\n",
    "    y_pred = [1 if score >= threshold else 0 for score in y_score]\n",
    "    \n",
    "    # Calculate evaluation metrics\n",
    "    accuracy = accuracy_score(y_true, y_pred)\n",
    "    precision = precision_score(y_true, y_pred)\n",
    "    recall = recall_score(y_true, y_pred)\n",
    "    f1 = f1_score(y_true, y_pred)\n",
    "    roc_auc = roc_auc_score(y_true, y_pred)\n",
    "    \n",
    "    # Append metric values to lists\n",
    "    accuracy_values.append(accuracy)\n",
    "    precision_values.append(precision)\n",
    "    recall_values.append(recall)\n",
    "    f1_values.append(f1)\n",
    "    roc_auc_values.append(roc_auc)"
   ]
  },
  {
   "cell_type": "code",
   "execution_count": null,
   "id": "00360cb6-54ae-4841-a9e4-f3164494c0f4",
   "metadata": {},
   "outputs": [],
   "source": [
    "import matplotlib.pyplot as plt\n",
    "\n",
    "plt.plot(thresholds, accuracy_values, label='Accuracy')\n",
    "plt.plot(thresholds, precision_values, label='Precision')\n",
    "plt.plot(thresholds, recall_values, label='Recall')\n",
    "plt.plot(thresholds, f1_values, label='F1 Score')\n",
    "# plt.plot(thresholds, roc_auc_values, label='ROC AUC')\n",
    "plt.xlabel('Threshold')\n",
    "plt.ylabel('Metric Value')\n",
    "plt.title('Metrics vs Threshold')\n",
    "plt.legend()\n",
    "plt.grid(True)\n",
    "plt.show()"
   ]
  },
  {
   "cell_type": "code",
   "execution_count": null,
   "id": "0d61f2ff-d1f1-4270-b265-a041d2dc8a00",
   "metadata": {},
   "outputs": [],
   "source": []
  },
  {
   "cell_type": "markdown",
   "id": "32766a86-7af2-4e20-a200-148ff957081f",
   "metadata": {},
   "source": [
    "#### 2. Top 100"
   ]
  },
  {
   "cell_type": "code",
   "execution_count": null,
   "id": "326169e7-5a4b-4495-aa10-77cd96b70ce3",
   "metadata": {},
   "outputs": [],
   "source": []
  },
  {
   "cell_type": "code",
   "execution_count": null,
   "id": "ac134be5-d6b2-4257-925a-41b6ab61bb91",
   "metadata": {},
   "outputs": [],
   "source": []
  },
  {
   "cell_type": "code",
   "execution_count": null,
   "id": "3a4a4b98-0e29-4860-ac88-54f6de3557c6",
   "metadata": {},
   "outputs": [],
   "source": []
  },
  {
   "cell_type": "code",
   "execution_count": null,
   "id": "c7d72408-2563-4d99-8243-a966441b0325",
   "metadata": {},
   "outputs": [],
   "source": []
  },
  {
   "cell_type": "code",
   "execution_count": null,
   "id": "c5ccfb21-7ad3-4006-a641-a0798ce18f89",
   "metadata": {},
   "outputs": [],
   "source": []
  },
  {
   "cell_type": "markdown",
   "id": "9e2b2d44-62e4-4dbf-8e33-3fda9a722271",
   "metadata": {},
   "source": [
    "## 이제 정할 시간"
   ]
  },
  {
   "cell_type": "code",
   "execution_count": 41,
   "id": "e1d9083c-cc9e-4a18-bcb1-3b4a9715107b",
   "metadata": {},
   "outputs": [],
   "source": [
    "from sklearn.metrics import accuracy_score, precision_score, recall_score, f1_score, roc_auc_score\n",
    "\n",
    "def get_evaluation(y_true, y_score, threshold):\n",
    "    \n",
    "    y_pred = np.zeros(len(valid_df))\n",
    "    \n",
    "    for idx, score in enumerate(tqdm(y_score)):\n",
    "        if score >= threshold:\n",
    "            y_pred[idx] = 1\n",
    "    \n",
    "    # accuracy\n",
    "    accuracy = accuracy_score(y_true, y_pred)\n",
    "    \n",
    "    # precision\n",
    "    precision = precision_score(y_true, y_pred)\n",
    "    \n",
    "    # recall\n",
    "    recall = recall_score(y_true, y_pred)\n",
    "    \n",
    "    # f1\n",
    "    f1 = f1_score(y_true, y_pred)\n",
    "    \n",
    "    # roc_auc\n",
    "    roc_auc = roc_auc_score(y_true, y_pred)\n",
    "\n",
    "    return y_pred, accuracy, precision, recall, f1, roc_auc"
   ]
  },
  {
   "cell_type": "code",
   "execution_count": null,
   "id": "d91be448-6cdd-47c8-8e0a-61b90b040b75",
   "metadata": {},
   "outputs": [],
   "source": [
    "y_pred, accuracy, precision, recall, f1, roc_auc = get_evaluation(y_true, y_score, 0.0)\n",
    "print(\"Accuracy: \", accuracy)\n",
    "print(\"Precision: \", precision)\n",
    "print(\"Recall: \", recall)\n",
    "print(\"F1 score: \", f1)\n",
    "print(\"ROC AUC score: \", roc_auc)"
   ]
  },
  {
   "cell_type": "code",
   "execution_count": null,
   "id": "d7c0f9a2-327c-4e58-883b-8a344b399b4d",
   "metadata": {},
   "outputs": [],
   "source": []
  },
  {
   "cell_type": "code",
   "execution_count": null,
   "id": "bf5ddd9a-36a0-400c-9951-ed391c81239a",
   "metadata": {},
   "outputs": [],
   "source": []
  },
  {
   "cell_type": "code",
   "execution_count": null,
   "id": "3d3a9e11-c1d3-41e9-b5d7-df3ab28ab6d9",
   "metadata": {},
   "outputs": [],
   "source": []
  },
  {
   "cell_type": "code",
   "execution_count": 45,
   "id": "35b9311d-7687-4f2d-bb4c-e3b862b0e5b9",
   "metadata": {},
   "outputs": [
    {
     "name": "stderr",
     "output_type": "stream",
     "text": [
      "100%|███████████████████████████████████████████████████████████████████████████████████████████████████████████████████████████████████████████████████████████████████████████████████| 335940/335940 [00:00<00:00, 3063338.21it/s]\n"
     ]
    },
    {
     "name": "stdout",
     "output_type": "stream",
     "text": [
      "Accuracy:  0.5129546942906471\n",
      "Precision:  0.509733404902487\n",
      "Recall:  0.6784306721438352\n",
      "F1 score:  0.5821060965954078\n",
      "ROC AUC score:  0.5129546942906472\n"
     ]
    }
   ],
   "source": [
    "y_pred, accuracy, precision, recall, f1, roc_auc = get_evaluation(y_true, y_score, 0.0)\n",
    "print(\"Accuracy: \", accuracy)\n",
    "print(\"Precision: \", precision)\n",
    "print(\"Recall: \", recall)\n",
    "print(\"F1 score: \", f1)\n",
    "print(\"ROC AUC score: \", roc_auc)"
   ]
  },
  {
   "cell_type": "code",
   "execution_count": 61,
   "id": "758c8a07-732d-48e8-9e49-c7ce9bcc88ae",
   "metadata": {},
   "outputs": [
    {
     "name": "stderr",
     "output_type": "stream",
     "text": [
      "100%|███████████████████████████████████████████████████████████████████████████████████████████████████████████████████████████████████████████████████████████████████████████████████| 335940/335940 [00:00<00:00, 3157450.72it/s]\n"
     ]
    },
    {
     "name": "stdout",
     "output_type": "stream",
     "text": [
      "Accuracy:  0.6053759599928559\n",
      "Precision:  0.6905233471830531\n",
      "Recall:  0.38191939036732747\n",
      "F1 score:  0.49181974301573184\n",
      "ROC AUC score:  0.6053759599928559\n"
     ]
    }
   ],
   "source": [
    "y_pred, accuracy, precision, recall, f1, roc_auc = get_evaluation(y_true, y_score,  0.0025)\n",
    "print(\"Accuracy: \", accuracy)\n",
    "print(\"Precision: \", precision)\n",
    "print(\"Recall: \", recall)\n",
    "print(\"F1 score: \", f1)\n",
    "print(\"ROC AUC score: \", roc_auc)"
   ]
  },
  {
   "cell_type": "code",
   "execution_count": null,
   "id": "1fac6aec-f6a8-4fc4-ba2f-7156008650b9",
   "metadata": {},
   "outputs": [],
   "source": []
  },
  {
   "cell_type": "code",
   "execution_count": null,
   "id": "450dcfd6-f434-4d73-ae33-d197e93ed292",
   "metadata": {},
   "outputs": [],
   "source": []
  },
  {
   "cell_type": "code",
   "execution_count": null,
   "id": "f459ec2a-f0ab-442e-a2be-144f60db8cf0",
   "metadata": {},
   "outputs": [],
   "source": []
  },
  {
   "cell_type": "code",
   "execution_count": null,
   "id": "2ad1aa34-a5b6-4330-aa9d-310a448c7987",
   "metadata": {},
   "outputs": [],
   "source": []
  },
  {
   "cell_type": "code",
   "execution_count": 65,
   "id": "e6031272-53bb-40d1-9349-65a21cc78bf7",
   "metadata": {},
   "outputs": [],
   "source": [
    "y_score = np.array(valid_df['score'])\n",
    "y_true = np.array(valid_ans['answer'])\n",
    "\n",
    "thresholds = np.linspace(0, 0.01, num=100)\n",
    "\n",
    "accuracy_values = []\n",
    "precision_values = []\n",
    "recall_values = []\n",
    "f1_values = []\n",
    "roc_auc_values = []\n",
    "\n",
    "for threshold in thresholds:\n",
    "    # Convert scores to binary labels based on threshold\n",
    "    y_pred = [1 if score >= threshold else 0 for score in y_score]\n",
    "    \n",
    "    # Calculate evaluation metrics\n",
    "    accuracy = accuracy_score(y_true, y_pred)\n",
    "    precision = precision_score(y_true, y_pred)\n",
    "    recall = recall_score(y_true, y_pred)\n",
    "    f1 = f1_score(y_true, y_pred)\n",
    "    roc_auc = roc_auc_score(y_true, y_pred)\n",
    "    \n",
    "    # Append metric values to lists\n",
    "    accuracy_values.append(accuracy)\n",
    "    precision_values.append(precision)\n",
    "    recall_values.append(recall)\n",
    "    f1_values.append(f1)\n",
    "    roc_auc_values.append(roc_auc)"
   ]
  },
  {
   "cell_type": "code",
   "execution_count": 66,
   "id": "43f0bddc-d54a-4623-ac21-9c577bc246a0",
   "metadata": {},
   "outputs": [
    {
     "data": {
      "image/png": "[encoded data removed]",
      "text/plain": [
       "<Figure size 640x480 with 1 Axes>"
      ]
     },
     "metadata": {},
     "output_type": "display_data"
    }
   ],
   "source": [
    "import matplotlib.pyplot as plt\n",
    "\n",
    "plt.plot(thresholds, accuracy_values, label='Accuracy')\n",
    "plt.plot(thresholds, precision_values, label='Precision')\n",
    "plt.plot(thresholds, recall_values, label='Recall')\n",
    "plt.plot(thresholds, f1_values, label='F1 Score')\n",
    "# plt.plot(thresholds, roc_auc_values, label='ROC AUC')\n",
    "plt.xlabel('Threshold')\n",
    "plt.ylabel('Metric Value')\n",
    "plt.title('Metrics vs Threshold')\n",
    "plt.legend()\n",
    "plt.grid(True)\n",
    "plt.show()"
   ]
  },
  {
   "cell_type": "code",
   "execution_count": null,
   "id": "f210f12d-623e-46af-bf65-407048e4e2df",
   "metadata": {},
   "outputs": [],
   "source": []
  },
  {
   "cell_type": "code",
   "execution_count": null,
   "id": "02a12b35-69a8-441b-84e1-7e5cde6e87ed",
   "metadata": {},
   "outputs": [],
   "source": []
  },
  {
   "cell_type": "code",
   "execution_count": null,
   "id": "4fa7ab48-5e2d-4b1f-871d-983bae03f98d",
   "metadata": {},
   "outputs": [],
   "source": []
  },
  {
   "cell_type": "code",
   "execution_count": 56,
   "id": "7f2be842-4e56-4e33-b4e0-fcd44ac42341",
   "metadata": {
    "tags": []
   },
   "outputs": [
    {
     "data": {
      "image/png": "[encoded data removed]",
      "text/plain": [
       "<Figure size 640x480 with 1 Axes>"
      ]
     },
     "metadata": {},
     "output_type": "display_data"
    }
   ],
   "source": [
    "plt.plot(thresholds, accuracy_values, label='Accuracy')\n",
    "plt.grid(True)\n",
    "plt.show()"
   ]
  },
  {
   "cell_type": "code",
   "execution_count": 29,
   "id": "115f7145-5a06-43b1-9ce8-1f81d7aaa1ab",
   "metadata": {},
   "outputs": [
    {
     "name": "stdout",
     "output_type": "stream",
     "text": [
      "1551.186878004091\n",
      "-463.14273305332694\n",
      "0.009988372045922098\n",
      "0.0005640284501435536\n"
     ]
    }
   ],
   "source": [
    "print(valid_df['score'].max())\n",
    "print(valid_df['score'].min())\n",
    "print(valid_df['score'].mean())\n",
    "print(valid_df['score'].median())"
   ]
  },
  {
   "cell_type": "code",
   "execution_count": 32,
   "id": "b7f42a93-83d8-431e-9384-e4bc60ec19dd",
   "metadata": {},
   "outputs": [
    {
     "data": {
      "image/png": "[encoded data removed]",
      "text/plain": [
       "<Figure size 640x480 with 1 Axes>"
      ]
     },
     "metadata": {},
     "output_type": "display_data"
    }
   ],
   "source": [
    "import matplotlib.pyplot as plt\n",
    "plt.hist(valid_df['score'], bins=200000)\n",
    "plt.xlim([-0.5,0.5])\n",
    "plt.show()"
   ]
  },
  {
   "cell_type": "code",
   "execution_count": 35,
   "id": "4a3419fe-660b-4705-8f60-aab2a1baf5af",
   "metadata": {},
   "outputs": [
    {
     "data": {
      "image/png": "[encoded data removed]",
      "text/plain": [
       "<Figure size 640x480 with 1 Axes>"
      ]
     },
     "metadata": {},
     "output_type": "display_data"
    }
   ],
   "source": [
    "plt.hist(valid_df['score'], bins=200000)\n",
    "plt.xlim([-0.25,0.25])\n",
    "plt.show()"
   ]
  },
  {
   "cell_type": "code",
   "execution_count": 34,
   "id": "acddedfa-e700-48b1-8765-cc0910f74270",
   "metadata": {},
   "outputs": [
    {
     "data": {
      "text/plain": [
       "0"
      ]
     },
     "execution_count": 34,
     "metadata": {},
     "output_type": "execute_result"
    }
   ],
   "source": [
    "a = np.array(valid_df['score'])\n",
    "(a == 0).sum()"
   ]
  },
  {
   "cell_type": "code",
   "execution_count": 60,
   "id": "aede43d6-a78f-4703-9f2f-f3f3583fb5ad",
   "metadata": {},
   "outputs": [
    {
     "data": {
      "text/plain": [
       "[0.4891498481871763,\n",
       " 0.48312496279097455,\n",
       " 0.47614752634399,\n",
       " 0.4676460082157528,\n",
       " 0.4632047389414776,\n",
       " 0.462770137524558,\n",
       " 0.4677204262665952,\n",
       " 0.5129546942906471,\n",
       " 0.5993361909864857,\n",
       " 0.6053759599928559,\n",
       " 0.5895636125498601,\n",
       " 0.5129546942906471,\n",
       " 0.566368994463297,\n",
       " 0.5391081740787045,\n",
       " 0.5238703339882121,\n",
       " 0.5141543132702269]"
      ]
     },
     "execution_count": 60,
     "metadata": {},
     "output_type": "execute_result"
    }
   ],
   "source": [
    "accuracy_values"
   ]
  },
  {
   "cell_type": "code",
   "execution_count": null,
   "id": "5d0d44ae-e678-4c47-84ab-c22a3f608c43",
   "metadata": {},
   "outputs": [],
   "source": []
  },
  {
   "cell_type": "code",
   "execution_count": null,
   "id": "c3bf91db-b532-4c38-b55c-b86ff82dccbd",
   "metadata": {},
   "outputs": [],
   "source": []
  },
  {
   "cell_type": "code",
   "execution_count": null,
   "id": "4abc68cf-aa05-4b63-97d3-42fcad6eb5d7",
   "metadata": {},
   "outputs": [],
   "source": []
  },
  {
   "cell_type": "code",
   "execution_count": 18,
   "id": "06dd2133-a4ea-4b42-bde8-d5e02be4bc15",
   "metadata": {},
   "outputs": [
    {
     "data": {
      "text/plain": [
       "0.0"
      ]
     },
     "execution_count": 18,
     "metadata": {},
     "output_type": "execute_result"
    }
   ],
   "source": [
    "# Accuracy\n",
    "a = np.array(valid_df['score'])\n",
    "b = np.array(valid_ans['answer'])\n",
    "\n",
    "(a == b).sum()/len(a)"
   ]
  },
  {
   "cell_type": "code",
   "execution_count": null,
   "id": "f8cf8cf1-a9f9-4ed3-a7f6-ed63828d81db",
   "metadata": {},
   "outputs": [],
   "source": [
    "valid_df.to_csv('/home/nas4_user/hawonjeong/course/ai506/results/task1_valid_result', index=False)"
   ]
  },
  {
   "cell_type": "code",
   "execution_count": null,
   "id": "ea62cdeb-2cf6-4224-a4ac-d06fca115ca4",
   "metadata": {},
   "outputs": [],
   "source": []
  },
  {
   "cell_type": "code",
   "execution_count": null,
   "id": "75735a04-6445-4617-aa41-2912eb517754",
   "metadata": {},
   "outputs": [],
   "source": []
  },
  {
   "cell_type": "code",
   "execution_count": null,
   "id": "d44b8ba8-e3a9-493d-8c1d-639d92018431",
   "metadata": {},
   "outputs": [],
   "source": []
  },
  {
   "cell_type": "code",
   "execution_count": null,
   "id": "edf10021-12c6-411d-9417-64370d9218f2",
   "metadata": {},
   "outputs": [],
   "source": []
  },
  {
   "cell_type": "code",
   "execution_count": null,
   "id": "64d571bd-aa6a-40fd-a29c-8f60e65a4095",
   "metadata": {},
   "outputs": [],
   "source": []
  },
  {
   "cell_type": "code",
   "execution_count": null,
   "id": "bb0cd5aa-5964-4ded-ba9c-b3dd53fe3d2c",
   "metadata": {},
   "outputs": [],
   "source": []
  },
  {
   "cell_type": "code",
   "execution_count": null,
   "id": "f91d6d84-3975-45d9-9515-07ec1ad865a7",
   "metadata": {},
   "outputs": [],
   "source": []
  },
  {
   "cell_type": "code",
   "execution_count": null,
   "id": "b325bd25-0b95-4e3c-987d-473556a95836",
   "metadata": {},
   "outputs": [
    {
     "ename": "RuntimeError",
     "evalue": "The size of tensor a (53897) must match the size of tensor b (335940) at non-singleton dimension 2",
     "output_type": "error",
     "traceback": [
      "\u001b[0;31m---------------------------------------------------------------------------\u001b[0m",
      "\u001b[0;31mRuntimeError\u001b[0m                              Traceback (most recent call last)",
      "Cell \u001b[0;32mIn[7], line 6\u001b[0m\n\u001b[1;32m      2\u001b[0m itemset_ids \u001b[38;5;241m=\u001b[39m torch\u001b[38;5;241m.\u001b[39mfrom_numpy(valid_df[\u001b[38;5;124m'\u001b[39m\u001b[38;5;124mitemset_id\u001b[39m\u001b[38;5;124m'\u001b[39m]\u001b[38;5;241m.\u001b[39mvalues)\n\u001b[1;32m      4\u001b[0m task1_dataset_tensor \u001b[38;5;241m=\u001b[39m torch\u001b[38;5;241m.\u001b[39mfrom_numpy(task1_dataset)\n\u001b[0;32m----> 6\u001b[0m numer \u001b[38;5;241m=\u001b[39m torch\u001b[38;5;241m.\u001b[39msum(\u001b[43muser_sim\u001b[49m\u001b[43m[\u001b[49m\u001b[43muser_ids\u001b[49m\u001b[38;5;241;43m.\u001b[39;49m\u001b[43munsqueeze\u001b[49m\u001b[43m(\u001b[49m\u001b[38;5;241;43m1\u001b[39;49m\u001b[43m)\u001b[49m\u001b[43m,\u001b[49m\u001b[43m \u001b[49m\u001b[43m:\u001b[49m\u001b[43m]\u001b[49m\u001b[43m \u001b[49m\u001b[38;5;241;43m*\u001b[39;49m\u001b[43m \u001b[49m\u001b[43mtask1_dataset_tensor\u001b[49m\u001b[43m[\u001b[49m\u001b[43m:\u001b[49m\u001b[43m,\u001b[49m\u001b[43m \u001b[49m\u001b[43mitemset_ids\u001b[49m\u001b[43m]\u001b[49m, dim\u001b[38;5;241m=\u001b[39m\u001b[38;5;241m0\u001b[39m)\n\u001b[1;32m      7\u001b[0m denom \u001b[38;5;241m=\u001b[39m torch\u001b[38;5;241m.\u001b[39msum(user_sim[user_ids\u001b[38;5;241m.\u001b[39munsqueeze(\u001b[38;5;241m1\u001b[39m), :], dim\u001b[38;5;241m=\u001b[39m\u001b[38;5;241m0\u001b[39m)\n\u001b[1;32m      9\u001b[0m valid_df[\u001b[38;5;124m'\u001b[39m\u001b[38;5;124mscore\u001b[39m\u001b[38;5;124m'\u001b[39m] \u001b[38;5;241m=\u001b[39m denom \u001b[38;5;241m/\u001b[39m numer\n",
      "\u001b[0;31mRuntimeError\u001b[0m: The size of tensor a (53897) must match the size of tensor b (335940) at non-singleton dimension 2"
     ]
    }
   ],
   "source": [
    "user_ids = torch.from_numpy(valid_df['user_id'].values)\n",
    "itemset_ids = torch.from_numpy(valid_df['itemset_id'].values)\n",
    "\n",
    "task1_dataset_tensor = torch.from_numpy(task1_dataset)\n",
    "\n",
    "numer = torch.sum(user_sim[user_ids.unsqueeze(1), :] * task1_dataset_tensor[:, itemset_ids], dim=0)\n",
    "denom = torch.sum(user_sim[user_ids.unsqueeze(1), :], dim=0)\n",
    "\n",
    "valid_df['score'] = denom / numer"
   ]
  },
  {
   "cell_type": "code",
   "execution_count": null,
   "id": "4a8b1901-31ca-489a-a8b0-372872fce9dd",
   "metadata": {},
   "outputs": [],
   "source": [
    "user_ids = valid_df['user_id'].values\n",
    "itemset_ids = valid_df['itemset_id'].values\n",
    "\n",
    "numer = np.sum(user_sim[user_ids[:, np.newaxis], :] * task1_dataset[:, itemset_ids], axis=0)\n",
    "denom = np.sum(user_sim[user_ids[:, np.newaxis], :], axis=0)\n",
    "\n",
    "valid_df['score'] = denom / numer"
   ]
  },
  {
   "cell_type": "code",
   "execution_count": null,
   "id": "9a6db883-d3c3-4e26-8c8a-fee74920bc6a",
   "metadata": {},
   "outputs": [],
   "source": []
  },
  {
   "cell_type": "code",
   "execution_count": null,
   "id": "e6e7fd03-f3cb-4b10-9fb9-63e76814b38a",
   "metadata": {},
   "outputs": [],
   "source": [
    "# with tensor computation\n",
    "user_ids = torch.from_numpy(valid_df['user_id'].values)\n",
    "itemset_ids = torch.from_numpy(valid_df['itemset_id'].values)\n",
    "\n",
    "task1_dataset_tensor = torch.from_numpy(task1_dataset).float()\n",
    "\n",
    "numer = torch.sum(user_sim[user_ids.unsqueeze(1), :] * task1_dataset_tensor[:, itemset_ids], dim=0)\n",
    "denom = torch.sum(user_sim[user_ids.unsqueeze(1), :], dim=0)\n",
    "\n",
    "valid_df['score'] = denom / numer"
   ]
  },
  {
   "cell_type": "code",
   "execution_count": null,
   "id": "595bbfe0-ffc9-45d0-bdbe-b86d37bbbd0c",
   "metadata": {},
   "outputs": [],
   "source": []
  },
  {
   "cell_type": "code",
   "execution_count": 11,
   "id": "0cae683c-3b5e-49db-bc37-2b77fb14c449",
   "metadata": {},
   "outputs": [],
   "source": [
    "user_ids = torch.from_numpy(valid_df['user_id'].values)\n",
    "itemset_ids = torch.from_numpy(valid_df['itemset_id'].values)"
   ]
  },
  {
   "cell_type": "code",
   "execution_count": 14,
   "id": "d32d6f8b-2798-436c-8313-0aae5e888d86",
   "metadata": {},
   "outputs": [
    {
     "data": {
      "text/plain": [
       "torch.Size([335940, 1, 53897])"
      ]
     },
     "execution_count": 14,
     "metadata": {},
     "output_type": "execute_result"
    }
   ],
   "source": [
    "user_sim[user_ids.unsqueeze(1), :].shape"
   ]
  },
  {
   "cell_type": "code",
   "execution_count": 15,
   "id": "1267c0c9-9f35-4e09-8547-657a8bbbb229",
   "metadata": {},
   "outputs": [
    {
     "data": {
      "text/plain": [
       "torch.Size([53897, 335940])"
      ]
     },
     "execution_count": 15,
     "metadata": {},
     "output_type": "execute_result"
    }
   ],
   "source": [
    "task1_dataset_tensor[:, itemset_ids].shape"
   ]
  },
  {
   "cell_type": "code",
   "execution_count": null,
   "id": "c550d5bb-a2b4-4747-9d07-ff0ee93504a6",
   "metadata": {},
   "outputs": [],
   "source": []
  },
  {
   "cell_type": "code",
   "execution_count": null,
   "id": "d62791ee-5acf-4967-bbba-412c76fed53a",
   "metadata": {},
   "outputs": [],
   "source": [
    "nn = torch.mm(user_sim[user_ids, :], task1_dataset_tensor[:, itemset_ids])"
   ]
  },
  {
   "cell_type": "code",
   "execution_count": null,
   "id": "da738b19-a8fb-4b1b-9577-7846a74401b1",
   "metadata": {},
   "outputs": [],
   "source": []
  },
  {
   "cell_type": "code",
   "execution_count": 18,
   "id": "31606034-9a38-4785-b57f-27bf8c43fb22",
   "metadata": {},
   "outputs": [
    {
     "data": {
      "text/plain": [
       "torch.Size([335940, 53897])"
      ]
     },
     "execution_count": 18,
     "metadata": {},
     "output_type": "execute_result"
    }
   ],
   "source": [
    "user_sim[user_ids, :].shape"
   ]
  },
  {
   "cell_type": "code",
   "execution_count": null,
   "id": "eca4249a-0243-4d61-948d-7ec880723f9d",
   "metadata": {},
   "outputs": [],
   "source": []
  },
  {
   "cell_type": "code",
   "execution_count": null,
   "id": "b3d60239-9820-49f5-8599-366b41c5e962",
   "metadata": {},
   "outputs": [],
   "source": []
  },
  {
   "cell_type": "code",
   "execution_count": 5,
   "id": "8b824fd2-3db7-4c41-bc68-1625342170c4",
   "metadata": {},
   "outputs": [],
   "source": [
    "# similarity function\n",
    "def sim(A, B):\n",
    "    return torch.dot(A, B) / (torch.norm(A) * torch.norm(B))"
   ]
  },
  {
   "cell_type": "code",
   "execution_count": null,
   "id": "fdcbd1cf-8a10-4d20-9b73-1d134a94a3cb",
   "metadata": {},
   "outputs": [],
   "source": [
    "valid_df['score'] = 0\n",
    "\n",
    "# Precompute the similarity tensor\n",
    "similarity_tensor = torch.stack([sim(x[user_id], x[j]).item() for j in range(NUM_USERS)])"
   ]
  },
  {
   "cell_type": "code",
   "execution_count": null,
   "id": "bc1ca5ed-2ba2-4b15-9ed6-65ea1ab78068",
   "metadata": {},
   "outputs": [],
   "source": [
    "for i in tqdm(range(len(valid_df))):\n",
    "    user_id = valid_df['user_id'][i]\n",
    "    itemset_id = valid_df['itemset_id'][i]\n",
    "\n",
    "    similarity_vector = similarity_tensor[user_id]\n",
    "    numer = torch.sum(similarity_vector * task1_dataset[:, itemset_id])\n",
    "    denom = torch.sum(similarity_vector)\n",
    "\n",
    "    valid_df.loc[i, 'score'] = denom / numer"
   ]
  },
  {
   "cell_type": "code",
   "execution_count": null,
   "id": "3ba64f44-4f19-4b44-8d06-1bfeb199ce2e",
   "metadata": {},
   "outputs": [],
   "source": []
  },
  {
   "cell_type": "code",
   "execution_count": null,
   "id": "174fae9b-7de1-43b2-8aa4-0c40de9ac6b3",
   "metadata": {},
   "outputs": [],
   "source": []
  },
  {
   "cell_type": "code",
   "execution_count": null,
   "id": "a5178c03-b13f-47e5-ad52-ac5b39319a46",
   "metadata": {},
   "outputs": [],
   "source": []
  },
  {
   "cell_type": "code",
   "execution_count": null,
   "id": "3b627c43-c8e9-41c5-80ae-8a647ce90ea6",
   "metadata": {},
   "outputs": [],
   "source": []
  },
  {
   "cell_type": "code",
   "execution_count": null,
   "id": "c42571e0-f8ff-45b8-8b2b-28d082592f4d",
   "metadata": {},
   "outputs": [],
   "source": []
  },
  {
   "cell_type": "code",
   "execution_count": null,
   "id": "5189029b-a355-46b1-b253-c63e6ff5f3ce",
   "metadata": {},
   "outputs": [
    {
     "name": "stderr",
     "output_type": "stream",
     "text": [
      "  0%|▎                                                                                                                                                                                      | 466/335940 [10:37<124:18:38,  1.33s/it]"
     ]
    }
   ],
   "source": [
    "valid_df['score'] = 0\n",
    "for i in tqdm(range(len(valid_df))):\n",
    "    \n",
    "    user_id = valid_df['user_id'][i]\n",
    "    itemset_id = valid_df['itemset_id'][i]\n",
    "    \n",
    "    numer = 0\n",
    "    denom = 0\n",
    "    \n",
    "    for j in range(NUM_USERS):\n",
    "        similarity = sim(x[user_id], x[j]).item()\n",
    "        denom += similarity\n",
    "        numer += similarity * task1_dataset[j][itemset_id]\n",
    "\n",
    "    valid_df['score'][i] = denom / numer"
   ]
  },
  {
   "cell_type": "code",
   "execution_count": null,
   "id": "882571e0-3197-45de-a1fd-0fbbda3b62c7",
   "metadata": {},
   "outputs": [],
   "source": []
  },
  {
   "cell_type": "code",
   "execution_count": null,
   "id": "02e766a4-f2db-488d-a2df-59fb304cbb1e",
   "metadata": {},
   "outputs": [],
   "source": []
  },
  {
   "cell_type": "code",
   "execution_count": null,
   "id": "e66a38ed-c858-4d79-8800-7166926a13a3",
   "metadata": {},
   "outputs": [],
   "source": []
  },
  {
   "cell_type": "code",
   "execution_count": null,
   "id": "cf12abc2-41c8-4bb2-aa0a-302d8f36064a",
   "metadata": {},
   "outputs": [],
   "source": []
  },
  {
   "cell_type": "code",
   "execution_count": 72,
   "id": "5bec7913-4216-4c8e-beeb-119785e8f3f2",
   "metadata": {},
   "outputs": [
    {
     "data": {
      "text/plain": [
       "tensor(1.8034, grad_fn=<StdBackward0>)"
      ]
     },
     "execution_count": 72,
     "metadata": {},
     "output_type": "execute_result"
    }
   ],
   "source": [
    "torch.std(user_rep)"
   ]
  },
  {
   "cell_type": "code",
   "execution_count": null,
   "id": "30eb734c-cf10-4f0d-9003-f8792a203176",
   "metadata": {},
   "outputs": [],
   "source": []
  }
 ],
 "metadata": {
  "kernelspec": {
   "display_name": "Python 3 (ipykernel)",
   "language": "python",
   "name": "python3"
  },
  "language_info": {
   "codemirror_mode": {
    "name": "ipython",
    "version": 3
   },
   "file_extension": ".py",
   "mimetype": "text/x-python",
   "name": "python",
   "nbconvert_exporter": "python",
   "pygments_lexer": "ipython3",
   "version": "3.10.4"
  }
 },
 "nbformat": 4,
 "nbformat_minor": 5
}
