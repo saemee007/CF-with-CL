{
 "cells": [
  {
   "cell_type": "markdown",
   "id": "007fe89e-744b-4292-91ec-be0a0df79e0a",
   "metadata": {},
   "source": [
    "## Task 1"
   ]
  },
  {
   "cell_type": "code",
   "execution_count": 1,
   "id": "c12be32f-5b9b-45c0-af23-0a8d4f2c022f",
   "metadata": {},
   "outputs": [
    {
     "name": "stderr",
     "output_type": "stream",
     "text": [
      "/home/nas4_user/hawonjeong/anaconda3/envs/won/lib/python3.10/site-packages/tqdm/auto.py:21: TqdmWarning: IProgress not found. Please update jupyter and ipywidgets. See https://ipywidgets.readthedocs.io/en/stable/user_install.html\n",
      "  from .autonotebook import tqdm as notebook_tqdm\n"
     ]
    }
   ],
   "source": [
    "import numpy as np\n",
    "import pandas as pd\n",
    "from tqdm import tqdm\n",
    "import torch\n",
    "from data.cf_loader import Task1Loader, Task2Loader"
   ]
  },
  {
   "cell_type": "code",
   "execution_count": 2,
   "id": "ce5d5b1f-505f-4e44-bf59-5d9a9554506b",
   "metadata": {},
   "outputs": [
    {
     "data": {
      "text/plain": [
       "True"
      ]
     },
     "execution_count": 2,
     "metadata": {},
     "output_type": "execute_result"
    }
   ],
   "source": [
    "import os\n",
    "os.environ[\"CUDA_VISIBLE_DEVICES\"]= \"3\"\n",
    "torch.cuda.is_available()"
   ]
  },
  {
   "cell_type": "code",
   "execution_count": 48,
   "id": "7529e498-0540-465f-b574-5614d74af6b5",
   "metadata": {},
   "outputs": [
    {
     "name": "stderr",
     "output_type": "stream",
     "text": [
      "100%|████████████████████████████████████████████████████████████████████████████████████████████████████████████████████████████████████████████████████████████████████████████████████████| 53897/53897 [00:32<00:00, 1661.58it/s]\n",
      "100%|████████████████████████████████████████████████████████████████████████████████████████████████████████████████████████████████████████████████████████████████████████████████████████| 53897/53897 [00:32<00:00, 1645.72it/s]\n"
     ]
    },
    {
     "name": "stdout",
     "output_type": "stream",
     "text": [
      "Loading data is done.\n"
     ]
    }
   ],
   "source": [
    "task1_dataset = Task1Loader('/home/nas3_userL/sohyunjeong/work_dir/etc/23spring/hw2/dataset/user_itemset_training.csv').data_preprocess()\n",
    "valid_df = pd.read_csv('/home/nas3_userL/sohyunjeong/work_dir/etc/23spring/hw2/dataset/user_itemset_valid_query.csv', names=['user_id', 'itemset_id'])\n",
    "valid_ans = pd.read_csv('/home/nas3_userL/sohyunjeong/work_dir/etc/23spring/hw2/dataset/user_itemset_valid_answer.csv', names=['answer'])\n",
    "print(\"Loading data is done.\")"
   ]
  },
  {
   "cell_type": "code",
   "execution_count": 49,
   "id": "919b495a-fe00-42b2-bee5-c5f5ec379d8c",
   "metadata": {},
   "outputs": [],
   "source": [
    "NUM_USERS = 53897\n",
    "NUM_ITEMSETS = 27694\n",
    "latent_dim = 4096"
   ]
  },
  {
   "cell_type": "code",
   "execution_count": 50,
   "id": "cc4a6d05-4160-4ec3-8545-7cd2a333dd48",
   "metadata": {},
   "outputs": [
    {
     "name": "stderr",
     "output_type": "stream",
     "text": [
      "100%|█████████████████████████████████████████████████████████████████████████████████████████████████████████████████████████████████████████████████████████████████████████████████████████| 53897/53897 [03:27<00:00, 259.50it/s]\n"
     ]
    }
   ],
   "source": [
    "user_rep = torch.zeros((NUM_USERS, latent_dim))\n",
    "\n",
    "for user in tqdm(range(NUM_USERS)):\n",
    "    checkpoint_path = f'/home/nas4_user/saemeechoi/course/DataMining/WCL/data/dataset/features_task1/{user}.pt'\n",
    "    checkpoint = torch.load(checkpoint_path, map_location='cpu')\n",
    "    user_rep[user] = checkpoint"
   ]
  },
  {
   "cell_type": "code",
   "execution_count": 51,
   "id": "7284a231-2246-4768-8d4d-0fbcfa194098",
   "metadata": {},
   "outputs": [],
   "source": [
    "mul_user_rep = torch.mm(user_rep, user_rep.t())\n",
    "\n",
    "norm = torch.sqrt(torch.diag(mul_user_rep)).unsqueeze(1)\n",
    "user_sim = torch.div(mul_user_rep, norm)\n",
    "user_sim = torch.div(user_sim, norm.t())\n",
    "user_sim[torch.eye(user_sim.size(0)).bool()] = 0"
   ]
  },
  {
   "cell_type": "code",
   "execution_count": 59,
   "id": "4a8c6202-a48d-4d5e-a12a-6e6a0fc36170",
   "metadata": {},
   "outputs": [
    {
     "name": "stderr",
     "output_type": "stream",
     "text": [
      "  0%|                                                                                                                                                                                                     | 0/335940 [00:00<?, ?it/s]/tmp/ipykernel_2418547/2927134531.py:15: SettingWithCopyWarning: \n",
      "A value is trying to be set on a copy of a slice from a DataFrame\n",
      "\n",
      "See the caveats in the documentation: https://pandas.pydata.org/pandas-docs/stable/user_guide/indexing.html#returning-a-view-versus-a-copy\n",
      "  valid_df['score'][i] = numer.item() / denom.item() * 100.0\n",
      "100%|███████████████████████████████████████████████████████████████████████████████████████████████████████████████████████████████████████████████████████████████████████████████████████| 335940/335940 [14:59<00:00, 373.67it/s]\n"
     ]
    }
   ],
   "source": [
    "task1_dataset_tensor = torch.tensor(task1_dataset).float()\n",
    "valid_df['score'] = torch.zeros(len(valid_df))\n",
    "\n",
    "# if torch.cuda.is_available():\n",
    "#     user_sim = user_sim.to('cuda')\n",
    "#     task1_dataset_tensor = task1_dataset_tensor.to('cuda')\n",
    "\n",
    "for i in tqdm(range(len(valid_df))):\n",
    "    user_id = valid_df['user_id'][i]\n",
    "    itemset_id = valid_df['itemset_id'][i]\n",
    "\n",
    "    numer = torch.matmul(user_sim[user_id].unsqueeze(0), task1_dataset_tensor[:, itemset_id].unsqueeze(1))\n",
    "    denom = torch.sum(user_sim[user_id])\n",
    "\n",
    "    valid_df['score'][i] = numer.item() / denom.item()"
   ]
  },
  {
   "cell_type": "code",
   "execution_count": null,
   "id": "32275c92-6601-4f3d-93ef-378eadcdf1b8",
   "metadata": {},
   "outputs": [],
   "source": []
  },
  {
   "cell_type": "code",
   "execution_count": null,
   "id": "e30f933b-9b73-4ddd-b8d7-99e3a62d3215",
   "metadata": {},
   "outputs": [],
   "source": []
  },
  {
   "cell_type": "code",
   "execution_count": null,
   "id": "f65f76d8-cb2d-46ba-a6b2-b71968d5ff03",
   "metadata": {},
   "outputs": [],
   "source": []
  },
  {
   "cell_type": "markdown",
   "id": "09726492-09ab-454b-985e-c21e2e86d1a5",
   "metadata": {},
   "source": [
    "#### ▼▼▼ Evaluation on validation set"
   ]
  },
  {
   "cell_type": "code",
   "execution_count": 11,
   "id": "a9a60ed5-3a74-4618-aa8d-63054446c295",
   "metadata": {},
   "outputs": [],
   "source": [
    "from sklearn.metrics import accuracy_score\n",
    "\n",
    "y_score = np.array(valid_df['score'])\n",
    "y_true = np.array(valid_ans['answer'])\n",
    "\n",
    "thresholds = np.linspace(0, 0.005, num=100)\n",
    "\n",
    "accuracy_values = []\n",
    "max_acc = 0\n",
    "max_threshold = 0\n",
    "\n",
    "for threshold in thresholds:\n",
    "    # Convert scores to binary labels based on threshold\n",
    "    y_pred = [1 if score >= threshold else 0 for score in y_score]\n",
    "    \n",
    "    # Calculate evaluation metrics\n",
    "    accuracy = accuracy_score(y_true, y_pred)\n",
    "    \n",
    "    if accuracy > max_acc:\n",
    "        max_acc = accuracy\n",
    "        max_threshold = threshold\n",
    "\n",
    "    # Append metric values to lists\n",
    "    accuracy_values.append(accuracy)"
   ]
  },
  {
   "cell_type": "code",
   "execution_count": 12,
   "id": "766dca12-1b04-41db-92d3-07469e7d3bd4",
   "metadata": {},
   "outputs": [
    {
     "data": {
      "image/png": "[encoded data removed]",
      "text/plain": [
       "<Figure size 640x480 with 1 Axes>"
      ]
     },
     "metadata": {},
     "output_type": "display_data"
    }
   ],
   "source": [
    "import matplotlib.pyplot as plt\n",
    "\n",
    "plt.plot(thresholds, accuracy_values, label='Accuracy')\n",
    "plt.xlabel('Threshold')\n",
    "plt.ylabel('Accuracy')\n",
    "plt.title('accuracy vs Threshold')\n",
    "plt.legend()\n",
    "plt.grid(True)\n",
    "plt.show()"
   ]
  },
  {
   "cell_type": "code",
   "execution_count": 13,
   "id": "82d19b07-67ee-4f1a-8e5d-64ea32860dd6",
   "metadata": {},
   "outputs": [
    {
     "name": "stdout",
     "output_type": "stream",
     "text": [
      "0.6078525927248913\n",
      "0.0017676767676767678\n"
     ]
    }
   ],
   "source": [
    "# task 1\n",
    "print(max_acc)\n",
    "print(max_threshold)"
   ]
  },
  {
   "cell_type": "code",
   "execution_count": null,
   "id": "43c5e0b0-148c-476d-a09d-dca65a3bc8ca",
   "metadata": {},
   "outputs": [],
   "source": []
  },
  {
   "cell_type": "markdown",
   "id": "db1c5355-71e8-4928-b4f4-8864d608e63c",
   "metadata": {},
   "source": [
    "#### ▼▼▼ Run code on test set"
   ]
  },
  {
   "cell_type": "code",
   "execution_count": 74,
   "id": "4b9774ff-3e8a-4758-ba5b-b95d237f27b7",
   "metadata": {},
   "outputs": [],
   "source": [
    "test_df = pd.read_csv('/home/nas3_userL/sohyunjeong/work_dir/etc/23spring/hw2/dataset/user_itemset_test_query.csv', names=['user_id', 'itemset_id'])\n",
    "test_df['score'] = torch.zeros(len(test_df))"
   ]
  },
  {
   "cell_type": "code",
   "execution_count": 75,
   "id": "087930d8-2604-4006-a60a-a1465602516d",
   "metadata": {},
   "outputs": [
    {
     "name": "stderr",
     "output_type": "stream",
     "text": [
      "  0%|                                                                                                                                                                                                     | 0/335940 [00:00<?, ?it/s]/tmp/ipykernel_2418547/415710219.py:8: SettingWithCopyWarning: \n",
      "A value is trying to be set on a copy of a slice from a DataFrame\n",
      "\n",
      "See the caveats in the documentation: https://pandas.pydata.org/pandas-docs/stable/user_guide/indexing.html#returning-a-view-versus-a-copy\n",
      "  test_df['score'][i] = numer.item() / denom.item()\n",
      "100%|███████████████████████████████████████████████████████████████████████████████████████████████████████████████████████████████████████████████████████████████████████████████████████| 335940/335940 [09:35<00:00, 583.54it/s]\n"
     ]
    }
   ],
   "source": [
    "for i in tqdm(range(len(test_df))):\n",
    "    wcl_id = test_df[test_df.columns[0]][i]\n",
    "    weight_id = test_df[test_df.columns[1]][i]\n",
    "\n",
    "    numer = torch.matmul(user_sim[wcl_id].unsqueeze(0), task1_dataset_tensor[:, weight_id].unsqueeze(1))\n",
    "    denom = torch.sum(user_sim[wcl_id])\n",
    "\n",
    "    test_df['score'][i] = numer.item() / denom.item()"
   ]
  },
  {
   "cell_type": "code",
   "execution_count": 85,
   "id": "0ecfc2d6-8b80-4a29-8c13-9fb6e37f4dd4",
   "metadata": {},
   "outputs": [
    {
     "name": "stderr",
     "output_type": "stream",
     "text": [
      "  0%|                                                                                                                                                                                                     | 0/335940 [00:00<?, ?it/s]/tmp/ipykernel_2418547/2015786856.py:3: SettingWithCopyWarning: \n",
      "A value is trying to be set on a copy of a slice from a DataFrame\n",
      "\n",
      "See the caveats in the documentation: https://pandas.pydata.org/pandas-docs/stable/user_guide/indexing.html#returning-a-view-versus-a-copy\n",
      "  test_df['prediction'][i] = 1 if test_df['score'][i] >= threshold else 0\n",
      "100%|██████████████████████████████████████████████████████████████████████████████████████████████████████████████████████████████████████████████████████████████████████████████████████| 335940/335940 [00:53<00:00, 6256.00it/s]\n"
     ]
    }
   ],
   "source": [
    "test_df['prediction'] = 0\n",
    "for i in tqdm(range(len(test_df))):\n",
    "    test_df['prediction'][i] = 1 if test_df['score'][i] >= threshold else 0"
   ]
  },
  {
   "cell_type": "code",
   "execution_count": 87,
   "id": "3e0dd316-ae00-4453-b0cc-2f29319809dc",
   "metadata": {},
   "outputs": [],
   "source": [
    "test_df = test_df.drop(['user_id', 'itemset_id', 'score'], axis=1)"
   ]
  },
  {
   "cell_type": "code",
   "execution_count": 92,
   "id": "a3b962fe-9c26-4d19-98f3-655eebbb2bae",
   "metadata": {},
   "outputs": [],
   "source": [
    "test_df.to_csv('/home/nas4_user/hawonjeong/courses/ai506/DM_termproj/results/user_itemset_test_prediction.csv', index=False)"
   ]
  },
  {
   "cell_type": "code",
   "execution_count": null,
   "id": "5dcbe4de-601b-4de3-90b3-438d96c49cc9",
   "metadata": {},
   "outputs": [],
   "source": []
  },
  {
   "cell_type": "markdown",
   "id": "e0b4e034-3b1e-42f8-8e9d-4bd9cbd9ce53",
   "metadata": {},
   "source": [
    "## Task 2"
   ]
  },
  {
   "cell_type": "code",
   "execution_count": 19,
   "id": "fd35c64c-e5c8-4da5-adea-93ef74007bba",
   "metadata": {},
   "outputs": [],
   "source": [
    "import numpy as np\n",
    "import pandas as pd\n",
    "from tqdm import tqdm\n",
    "import torch\n",
    "from data.cf_loader import Task1Loader, Task2Loader"
   ]
  },
  {
   "cell_type": "code",
   "execution_count": 20,
   "id": "28368f48-9f63-4a1e-9de4-d23c31510e21",
   "metadata": {},
   "outputs": [
    {
     "data": {
      "text/plain": [
       "True"
      ]
     },
     "execution_count": 20,
     "metadata": {},
     "output_type": "execute_result"
    }
   ],
   "source": [
    "os.environ[\"CUDA_VISIBLE_DEVICES\"]= \"3\"\n",
    "torch.cuda.is_available()"
   ]
  },
  {
   "cell_type": "code",
   "execution_count": 21,
   "id": "b1ce3c0a-4688-41df-836e-e391d15a9a49",
   "metadata": {},
   "outputs": [
    {
     "name": "stderr",
     "output_type": "stream",
     "text": [
      "100%|████████████████████████████████████████████████████████████████████████████████████████████████████████████████████████████████████████████████████████████████████████████████████████| 22156/22156 [00:04<00:00, 4847.43it/s]\n",
      "100%|████████████████████████████████████████████████████████████████████████████████████████████████████████████████████████████████████████████████████████████████████████████████████████| 22156/22156 [00:04<00:00, 5012.22it/s]\n",
      "100%|██████████████████████████████████████████████████████████████████████████████████████████████████████████████████████████████████████████████████████████████████████████████████████████| 2769/2769 [00:00<00:00, 5852.00it/s]\n",
      "100%|██████████████████████████████████████████████████████████████████████████████████████████████████████████████████████████████████████████████████████████████████████████████████████████| 2769/2769 [00:00<00:00, 5970.70it/s]\n"
     ]
    }
   ],
   "source": [
    "task2_dataset = Task2Loader('/home/nas3_userL/sohyunjeong/work_dir/etc/23spring/hw2/dataset/itemset_item_training.csv').data_preprocess()\n",
    "task2_valid_dataset = Task2Loader('/home/nas3_userL/sohyunjeong/work_dir/etc/23spring/hw2/dataset/itemset_item_valid_query.csv').data_preprocess()\n",
    "valid_df = pd.read_csv('/home/nas3_userL/sohyunjeong/work_dir/etc/23spring/hw2/dataset/itemset_item_valid_query.csv', names=['itemset_id', 'item_id'])\n",
    "valid_ans = pd.read_csv('/home/nas3_userL/sohyunjeong/work_dir/etc/23spring/hw2/dataset/itemset_item_valid_answer.csv', names=['itemset_id', 'item_id'])"
   ]
  },
  {
   "cell_type": "code",
   "execution_count": 22,
   "id": "9d4654bd-ca00-40de-8a80-3d4d66c6b51c",
   "metadata": {},
   "outputs": [],
   "source": [
    "NUM_USERS = 53897\n",
    "NUM_ITEMSETS = 27694\n",
    "latent_dim = 4096\n",
    "NUM_ITEMS = 42653"
   ]
  },
  {
   "cell_type": "code",
   "execution_count": 23,
   "id": "1d30f038-7fae-4f2d-9bad-204160f6a28a",
   "metadata": {},
   "outputs": [
    {
     "name": "stderr",
     "output_type": "stream",
     "text": [
      "100%|██████████████████████████████████████████████████████████████████████████████████████████████████████████████████████████████████████████████████████████████████████████████████████████| 27694/27694 [05:07<00:00, 90.10it/s]"
     ]
    },
    {
     "name": "stdout",
     "output_type": "stream",
     "text": [
      "Checkpoints are loaded.\n"
     ]
    },
    {
     "name": "stderr",
     "output_type": "stream",
     "text": [
      "\n"
     ]
    }
   ],
   "source": [
    "wcl_rep = torch.zeros((NUM_ITEMSETS, latent_dim))\n",
    "\n",
    "for itemset in tqdm(range(NUM_ITEMSETS)):\n",
    "    checkpoint_path = f'/home/nas4_user/saemeechoi/course/DataMining/WCL/data/dataset/features_task2_2/{itemset}.pt'\n",
    "    checkpoint = torch.load(checkpoint_path, map_location='cpu')\n",
    "    wcl_rep[itemset] = checkpoint\n",
    "print(\"Checkpoints are loaded.\")"
   ]
  },
  {
   "cell_type": "code",
   "execution_count": 24,
   "id": "b886bb1d-f4a0-42f4-a57c-7ec2cb3fac60",
   "metadata": {},
   "outputs": [],
   "source": [
    "# Get similarity matrix\n",
    "mul_wcl_rep = torch.mm(wcl_rep, wcl_rep.t())\n",
    "norm = torch.sqrt(torch.diag(mul_wcl_rep)).unsqueeze(1)\n",
    "sim = torch.div(mul_wcl_rep, norm)\n",
    "sim = torch.div(sim, norm.t())\n",
    "sim[torch.eye(sim.size(0)).bool()] = 0"
   ]
  },
  {
   "cell_type": "code",
   "execution_count": 25,
   "id": "5d80f787-bab0-44be-aa66-ab12053927ab",
   "metadata": {},
   "outputs": [
    {
     "name": "stderr",
     "output_type": "stream",
     "text": [
      "100%|████████████████████████████████████████████████████████████████████████████████████████████████████████████████████████████████████████████████████████████████████████████████████████| 22156/22156 [00:04<00:00, 5026.07it/s]\n",
      "100%|██████████████████████████████████████████████████████████████████████████████████████████████████████████████████████████████████████████████████████████████████████████████████████████| 2769/2769 [00:00<00:00, 5781.24it/s]\n",
      "100%|██████████████████████████████████████████████████████████████████████████████████████████████████████████████████████████████████████████████████████████████████████████████████████████| 2769/2769 [00:00<00:00, 5826.92it/s]"
     ]
    },
    {
     "name": "stdout",
     "output_type": "stream",
     "text": [
      "(27694, 42653)\n"
     ]
    },
    {
     "name": "stderr",
     "output_type": "stream",
     "text": [
      "\n"
     ]
    }
   ],
   "source": [
    "# >>>>> To get multi-hot representation of all items\n",
    "# 1. Training set\n",
    "df = pd.read_csv('/home/nas3_userL/sohyunjeong/work_dir/etc/23spring/hw2/dataset/itemset_item_training.csv', names=['itemset_id', 'item_id'])\n",
    "itemsets = list(set(df['itemset_id'].tolist()))\n",
    "\n",
    "data_dict = dict()\n",
    "for itemset in tqdm(itemsets):\n",
    "    items = df[df['itemset_id']==itemset]['item_id'].tolist()\n",
    "    data_dict.update({itemset:items})\n",
    "\n",
    "itemset_item = np.zeros((NUM_ITEMSETS, NUM_ITEMS))    \n",
    "for i, (k, v) in enumerate(data_dict.items()) :\n",
    "    itemset_item[k, v] = 1\n",
    "\n",
    "# 2. Valid set\n",
    "df = pd.read_csv('/home/nas3_userL/sohyunjeong/work_dir/etc/23spring/hw2/dataset/itemset_item_valid_query.csv', names=['itemset_id', 'item_id'])\n",
    "itemsets = list(set(df['itemset_id'].tolist()))\n",
    "\n",
    "data_dict = dict()\n",
    "for itemset in tqdm(itemsets):\n",
    "    items = df[df['itemset_id']==itemset]['item_id'].tolist()\n",
    "    data_dict.update({itemset:items})\n",
    "\n",
    "for i, (k, v) in enumerate(data_dict.items()) :\n",
    "    itemset_item[k,v] = 1\n",
    "\n",
    "# 3. Test set\n",
    "df = pd.read_csv('/home/nas3_userL/sohyunjeong/work_dir/etc/23spring/hw2/dataset/itemset_item_test_query.csv', names=['itemset_id', 'item_id'])\n",
    "itemsets = list(set(df['itemset_id'].tolist()))\n",
    "\n",
    "data_dict = dict()\n",
    "for itemset in tqdm(itemsets):\n",
    "    items = df[df['itemset_id']==itemset]['item_id'].tolist()\n",
    "    data_dict.update({itemset:items})\n",
    "\n",
    "for i, (k, v) in enumerate(data_dict.items()) :\n",
    "    itemset_item[k,v] = 1\n",
    "\n",
    "9# <<<<< End of getting multi-hot representation of all items\n",
    "print(itemset_item.shape)"
   ]
  },
  {
   "cell_type": "code",
   "execution_count": null,
   "id": "d7ee5d40-bf81-4f29-a697-3f431d5f0cc0",
   "metadata": {},
   "outputs": [],
   "source": []
  },
  {
   "cell_type": "code",
   "execution_count": 38,
   "id": "5b7795cd-f007-45ca-b74d-02bb59777c56",
   "metadata": {},
   "outputs": [],
   "source": [
    "itemset_item_tensor = torch.tensor(itemset_item).float()"
   ]
  },
  {
   "cell_type": "code",
   "execution_count": 39,
   "id": "949f9704-dbe0-44e8-b1d3-57a1446f8364",
   "metadata": {},
   "outputs": [
    {
     "name": "stderr",
     "output_type": "stream",
     "text": [
      "  0%|                                                                                                                                                                                                       | 0/2769 [00:00<?, ?it/s]/tmp/ipykernel_2418547/1561788337.py:13: SettingWithCopyWarning: \n",
      "A value is trying to be set on a copy of a slice from a DataFrame\n",
      "\n",
      "See the caveats in the documentation: https://pandas.pydata.org/pandas-docs/stable/user_guide/indexing.html#returning-a-view-versus-a-copy\n",
      "  valid_ans['candidate_items'][i] = top_100_items.cpu().numpy()\n",
      "100%|████████████████████████████████████████████████████████████████████████████████████████████████████████████████████████████████████████████████████████████████████████████████████████████| 2769/2769 [08:11<00:00,  5.64it/s]\n"
     ]
    }
   ],
   "source": [
    "# valid_ans['candidate_items'][i] = [item1_score, item2_score, ..., item100_score]\n",
    "valid_ans['candidate_items'] = None\n",
    "\n",
    "for i in tqdm(range(len(valid_ans))):\n",
    "    itemset_id = valid_ans[valid_ans.columns[0]][i]\n",
    "    \n",
    "    # get scores of all items\n",
    "    numer = torch.matmul(sim[itemset_id].unsqueeze(0), itemset_item_tensor)\n",
    "    denom = torch.sum(sim[itemset_id])\n",
    "    item_scores = numer.squeeze() / denom.item()\n",
    "    \n",
    "    top_100_items = torch.argsort(item_scores, descending=True)[:100]\n",
    "    valid_ans['candidate_items'][i] = top_100_items.cpu().numpy()"
   ]
  },
  {
   "cell_type": "code",
   "execution_count": 40,
   "id": "211d2194-0943-42b7-9669-e4479994881c",
   "metadata": {},
   "outputs": [
    {
     "data": {
      "text/html": [
       "<div>\n",
       "<style scoped>\n",
       "    .dataframe tbody tr th:only-of-type {\n",
       "        vertical-align: middle;\n",
       "    }\n",
       "\n",
       "    .dataframe tbody tr th {\n",
       "        vertical-align: top;\n",
       "    }\n",
       "\n",
       "    .dataframe thead th {\n",
       "        text-align: right;\n",
       "    }\n",
       "</style>\n",
       "<table border=\"1\" class=\"dataframe\">\n",
       "  <thead>\n",
       "    <tr style=\"text-align: right;\">\n",
       "      <th></th>\n",
       "      <th>itemset_id</th>\n",
       "      <th>item_id</th>\n",
       "      <th>candidate_items</th>\n",
       "    </tr>\n",
       "  </thead>\n",
       "  <tbody>\n",
       "    <tr>\n",
       "      <th>0</th>\n",
       "      <td>6998</td>\n",
       "      <td>14100</td>\n",
       "      <td>[31432, 34338, 25194, 13979, 19204, 27447, 737...</td>\n",
       "    </tr>\n",
       "    <tr>\n",
       "      <th>1</th>\n",
       "      <td>8941</td>\n",
       "      <td>37713</td>\n",
       "      <td>[31432, 34338, 25194, 19204, 13979, 27447, 129...</td>\n",
       "    </tr>\n",
       "    <tr>\n",
       "      <th>2</th>\n",
       "      <td>11717</td>\n",
       "      <td>29703</td>\n",
       "      <td>[31432, 27447, 13979, 25194, 34338, 19204, 364...</td>\n",
       "    </tr>\n",
       "    <tr>\n",
       "      <th>3</th>\n",
       "      <td>18595</td>\n",
       "      <td>37718</td>\n",
       "      <td>[31432, 34338, 25194, 13979, 27447, 19204, 129...</td>\n",
       "    </tr>\n",
       "    <tr>\n",
       "      <th>4</th>\n",
       "      <td>23064</td>\n",
       "      <td>42559</td>\n",
       "      <td>[34338, 31432, 25194, 19204, 13979, 16926, 274...</td>\n",
       "    </tr>\n",
       "    <tr>\n",
       "      <th>...</th>\n",
       "      <td>...</td>\n",
       "      <td>...</td>\n",
       "      <td>...</td>\n",
       "    </tr>\n",
       "    <tr>\n",
       "      <th>2764</th>\n",
       "      <td>396</td>\n",
       "      <td>11105</td>\n",
       "      <td>[25194, 19204, 16926, 13979, 27447, 31432, 364...</td>\n",
       "    </tr>\n",
       "    <tr>\n",
       "      <th>2765</th>\n",
       "      <td>7525</td>\n",
       "      <td>35558</td>\n",
       "      <td>[34338, 31432, 25194, 19204, 13979, 4191, 2895...</td>\n",
       "    </tr>\n",
       "    <tr>\n",
       "      <th>2766</th>\n",
       "      <td>14719</td>\n",
       "      <td>24249</td>\n",
       "      <td>[31432, 34338, 25194, 13979, 19204, 27447, 169...</td>\n",
       "    </tr>\n",
       "    <tr>\n",
       "      <th>2767</th>\n",
       "      <td>23768</td>\n",
       "      <td>10764</td>\n",
       "      <td>[31432, 34338, 25194, 13979, 19204, 27447, 737...</td>\n",
       "    </tr>\n",
       "    <tr>\n",
       "      <th>2768</th>\n",
       "      <td>6019</td>\n",
       "      <td>32235</td>\n",
       "      <td>[34338, 19204, 25194, 31432, 16926, 13979, 274...</td>\n",
       "    </tr>\n",
       "  </tbody>\n",
       "</table>\n",
       "<p>2769 rows × 3 columns</p>\n",
       "</div>"
      ],
      "text/plain": [
       "      itemset_id  item_id                                    candidate_items\n",
       "0           6998    14100  [31432, 34338, 25194, 13979, 19204, 27447, 737...\n",
       "1           8941    37713  [31432, 34338, 25194, 19204, 13979, 27447, 129...\n",
       "2          11717    29703  [31432, 27447, 13979, 25194, 34338, 19204, 364...\n",
       "3          18595    37718  [31432, 34338, 25194, 13979, 27447, 19204, 129...\n",
       "4          23064    42559  [34338, 31432, 25194, 19204, 13979, 16926, 274...\n",
       "...          ...      ...                                                ...\n",
       "2764         396    11105  [25194, 19204, 16926, 13979, 27447, 31432, 364...\n",
       "2765        7525    35558  [34338, 31432, 25194, 19204, 13979, 4191, 2895...\n",
       "2766       14719    24249  [31432, 34338, 25194, 13979, 19204, 27447, 169...\n",
       "2767       23768    10764  [31432, 34338, 25194, 13979, 19204, 27447, 737...\n",
       "2768        6019    32235  [34338, 19204, 25194, 31432, 16926, 13979, 274...\n",
       "\n",
       "[2769 rows x 3 columns]"
      ]
     },
     "execution_count": 40,
     "metadata": {},
     "output_type": "execute_result"
    }
   ],
   "source": [
    "valid_ans"
   ]
  },
  {
   "cell_type": "code",
   "execution_count": null,
   "id": "41020eaa-446b-4964-890d-2eb0fa31ceb2",
   "metadata": {},
   "outputs": [],
   "source": []
  },
  {
   "cell_type": "markdown",
   "id": "a8bc60c4-c767-437a-beef-921060bf80da",
   "metadata": {},
   "source": [
    "#### ▼▼▼ Evaluation on validation set"
   ]
  },
  {
   "cell_type": "code",
   "execution_count": 41,
   "id": "090d8167-b7fd-4afe-a814-747dad733973",
   "metadata": {},
   "outputs": [],
   "source": [
    "# task 2 accuracy\n",
    "from sklearn.metrics import accuracy_score\n",
    "\n",
    "y_pred = [0 for i in range(len(valid_ans))]\n",
    "y_pred_rank = [101 for i in range(len(valid_ans))]\n",
    "\n",
    "for idx in range(len(valid_ans['itemset_id'])):\n",
    "    \n",
    "    item_id = valid_ans['item_id'][idx]\n",
    "    candidate_items = valid_ans['candidate_items'][idx]\n",
    "    \n",
    "    if np.isin(item_id, candidate_items):\n",
    "        y_pred_rank[idx] = np.where(candidate_items == item_id)[0].item()\n",
    "        y_pred[idx] = 1\n",
    "        \n",
    "# accuracy\n",
    "# y_true = list(valid_ans['item_id'])\n",
    "accuracy = sum(y_pred) / len(valid_ans)\n",
    "average_rank = np.mean(y_pred_rank)"
   ]
  },
  {
   "cell_type": "code",
   "execution_count": 42,
   "id": "8057f0b1-d019-401d-8328-6572465c2ab3",
   "metadata": {},
   "outputs": [
    {
     "name": "stdout",
     "output_type": "stream",
     "text": [
      "Accuracy:  0.12026002166847237\n",
      "Average rank:  93.18237630913687\n"
     ]
    }
   ],
   "source": [
    "print(\"Accuracy: \", accuracy)20\n",
    "print(\"Average rank: \", average_rank)"
   ]
  },
  {
   "cell_type": "code",
   "execution_count": null,
   "id": "59445105-5355-4db3-b7b7-c649adfa6740",
   "metadata": {},
   "outputs": [],
   "source": []
  },
  {
   "cell_type": "markdown",
   "id": "2047bc23-12b3-4fef-8803-4cac686ba4fd",
   "metadata": {},
   "source": [
    "#### ▼▼▼ Run code on test set"
   ]
  },
  {
   "cell_type": "code",
   "execution_count": 93,
   "id": "351ce3ca-03e3-4b9b-ba29-8d96ec094ac0",
   "metadata": {},
   "outputs": [],
   "source": [
    "test_df = pd.read_csv('/home/nas3_userL/sohyunjeong/work_dir/etc/23spring/hw2/dataset/itemset_item_test_query.csv', names=['itemset_id', 'item_id'])"
   ]
  },
  {
   "cell_type": "code",
   "execution_count": 94,
   "id": "0ffbf8c6-16da-4d8f-9b65-73fb6f788582",
   "metadata": {},
   "outputs": [],
   "source": [
    "# itemset_item: caculated at validation\n",
    "itemset_item_tensor = torch.tensor(itemset_item).float()\n",
    "\n",
    "# if torch.cuda.is_available():\n",
    "#     sim = sim.to('cuda')\n",
    "#     itemset_item_tensor = itemset_item_tensor.to('cuda')"
   ]
  },
  {
   "cell_type": "code",
   "execution_count": 95,
   "id": "8a066bb6-6d4e-4b6f-b4a1-06170763a103",
   "metadata": {},
   "outputs": [
    {
     "name": "stderr",
     "output_type": "stream",
     "text": [
      "  0%|                                                                                                                                                                                                       | 0/7759 [00:00<?, ?it/s]/tmp/ipykernel_2418547/1037155184.py:12: SettingWithCopyWarning: \n",
      "A value is trying to be set on a copy of a slice from a DataFrame\n",
      "\n",
      "See the caveats in the documentation: https://pandas.pydata.org/pandas-docs/stable/user_guide/indexing.html#returning-a-view-versus-a-copy\n",
      "  test_df['candidate_items'][i] = top_100_items.cpu().numpy()\n",
      "100%|████████████████████████████████████████████████████████████████████████████████████████████████████████████████████████████████████████████████████████████████████████████████████████████| 7759/7759 [25:02<00:00,  5.16it/s]\n"
     ]
    }
   ],
   "source": [
    "test_df['candidate_items'] = None\n",
    "\n",
    "for i in tqdm(range(len(test_df))):\n",
    "    itemset_id = test_df[test_df.columns[0]][i]\n",
    "\n",
    "    # get scores of all items\n",
    "    numer = torch.matmul(sim[itemset_id].unsqueeze(0), itemset_item_tensor)\n",
    "    denom = torch.sum(sim[itemset_id])\n",
    "    item_scores = numer.squeeze() / denom.item()\n",
    "\n",
    "    top_100_items = torch.argsort(item_scores, descending=True)[:100]\n",
    "    test_df['candidate_items'][i] = top_100_items.cpu().numpy()"
   ]
  },
  {
   "cell_type": "code",
   "execution_count": 98,
   "id": "430950d4-7777-4bb5-9fd7-c196224e89d2",
   "metadata": {},
   "outputs": [
    {
     "name": "stdout",
     "output_type": "stream",
     "text": [
      "      itemset_id                                    candidate_items\n",
      "0          22934  [31432, 34338, 25194, 19204, 13979, 7377, 2744...\n",
      "1          22934  [31432, 34338, 25194, 19204, 13979, 7377, 2744...\n",
      "2          22934  [31432, 34338, 25194, 19204, 13979, 7377, 2744...\n",
      "3          26086  [31432, 34338, 25194, 13979, 27447, 12942, 192...\n",
      "4          26086  [31432, 34338, 25194, 13979, 27447, 12942, 192...\n",
      "...          ...                                                ...\n",
      "7754       19505  [34338, 31432, 25194, 19204, 13979, 27447, 737...\n",
      "7755       20370  [34338, 31432, 25194, 7377, 19204, 12942, 1397...\n",
      "7756       20370  [34338, 31432, 25194, 7377, 19204, 12942, 1397...\n",
      "7757        7148  [34338, 31432, 19204, 25194, 13979, 27447, 737...\n",
      "7758        7148  [34338, 31432, 19204, 25194, 13979, 27447, 737...\n",
      "\n",
      "[7759 rows x 2 columns]\n"
     ]
    }
   ],
   "source": [
    "# For submission\n",
    "test_sub = test_df.copy()\n",
    "test_sub = test_sub.drop(\"item_id\", axis = 1)\n",
    "\n",
    "print(test_sub)"
   ]
  },
  {
   "cell_type": "code",
   "execution_count": 101,
   "id": "86d76f6b-4fb2-4d33-85fa-f217eff35284",
   "metadata": {},
   "outputs": [],
   "source": [
    "columns = ['itemset_id'] + ['item{}'.format(i) for i in range(1, 101)]\n",
    "\n",
    "data = {}\n",
    "\n",
    "data['itemset_id'] = test_sub['itemset_id']\n",
    "\n",
    "for i, item_col in enumerate(test_sub['candidate_items'].apply(pd.Series).columns, start=1):\n",
    "    data['item{}'.format(i)] = test_sub['candidate_items'].apply(pd.Series)[item_col]\n",
    "\n",
    "new_df = pd.DataFrame(data, columns=columns)"
   ]
  },
  {
   "cell_type": "code",
   "execution_count": 102,
   "id": "39ac7a70-41e9-438c-9916-54a40e87450d",
   "metadata": {},
   "outputs": [
    {
     "data": {
      "text/html": [
       "<div>\n",
       "<style scoped>\n",
       "    .dataframe tbody tr th:only-of-type {\n",
       "        vertical-align: middle;\n",
       "    }\n",
       "\n",
       "    .dataframe tbody tr th {\n",
       "        vertical-align: top;\n",
       "    }\n",
       "\n",
       "    .dataframe thead th {\n",
       "        text-align: right;\n",
       "    }\n",
       "</style>\n",
       "<table border=\"1\" class=\"dataframe\">\n",
       "  <thead>\n",
       "    <tr style=\"text-align: right;\">\n",
       "      <th></th>\n",
       "      <th>itemset_id</th>\n",
       "      <th>item1</th>\n",
       "      <th>item2</th>\n",
       "      <th>item3</th>\n",
       "      <th>item4</th>\n",
       "      <th>item5</th>\n",
       "      <th>item6</th>\n",
       "      <th>item7</th>\n",
       "      <th>item8</th>\n",
       "      <th>item9</th>\n",
       "      <th>...</th>\n",
       "      <th>item91</th>\n",
       "      <th>item92</th>\n",
       "      <th>item93</th>\n",
       "      <th>item94</th>\n",
       "      <th>item95</th>\n",
       "      <th>item96</th>\n",
       "      <th>item97</th>\n",
       "      <th>item98</th>\n",
       "      <th>item99</th>\n",
       "      <th>item100</th>\n",
       "    </tr>\n",
       "  </thead>\n",
       "  <tbody>\n",
       "    <tr>\n",
       "      <th>0</th>\n",
       "      <td>22934</td>\n",
       "      <td>31432</td>\n",
       "      <td>34338</td>\n",
       "      <td>25194</td>\n",
       "      <td>19204</td>\n",
       "      <td>13979</td>\n",
       "      <td>7377</td>\n",
       "      <td>27447</td>\n",
       "      <td>12942</td>\n",
       "      <td>34643</td>\n",
       "      <td>...</td>\n",
       "      <td>27761</td>\n",
       "      <td>40884</td>\n",
       "      <td>33008</td>\n",
       "      <td>35072</td>\n",
       "      <td>2568</td>\n",
       "      <td>23968</td>\n",
       "      <td>33642</td>\n",
       "      <td>35358</td>\n",
       "      <td>19802</td>\n",
       "      <td>16039</td>\n",
       "    </tr>\n",
       "    <tr>\n",
       "      <th>1</th>\n",
       "      <td>22934</td>\n",
       "      <td>31432</td>\n",
       "      <td>34338</td>\n",
       "      <td>25194</td>\n",
       "      <td>19204</td>\n",
       "      <td>13979</td>\n",
       "      <td>7377</td>\n",
       "      <td>27447</td>\n",
       "      <td>12942</td>\n",
       "      <td>34643</td>\n",
       "      <td>...</td>\n",
       "      <td>27761</td>\n",
       "      <td>40884</td>\n",
       "      <td>33008</td>\n",
       "      <td>35072</td>\n",
       "      <td>2568</td>\n",
       "      <td>23968</td>\n",
       "      <td>33642</td>\n",
       "      <td>35358</td>\n",
       "      <td>19802</td>\n",
       "      <td>16039</td>\n",
       "    </tr>\n",
       "    <tr>\n",
       "      <th>2</th>\n",
       "      <td>22934</td>\n",
       "      <td>31432</td>\n",
       "      <td>34338</td>\n",
       "      <td>25194</td>\n",
       "      <td>19204</td>\n",
       "      <td>13979</td>\n",
       "      <td>7377</td>\n",
       "      <td>27447</td>\n",
       "      <td>12942</td>\n",
       "      <td>34643</td>\n",
       "      <td>...</td>\n",
       "      <td>27761</td>\n",
       "      <td>40884</td>\n",
       "      <td>33008</td>\n",
       "      <td>35072</td>\n",
       "      <td>2568</td>\n",
       "      <td>23968</td>\n",
       "      <td>33642</td>\n",
       "      <td>35358</td>\n",
       "      <td>19802</td>\n",
       "      <td>16039</td>\n",
       "    </tr>\n",
       "    <tr>\n",
       "      <th>3</th>\n",
       "      <td>26086</td>\n",
       "      <td>31432</td>\n",
       "      <td>34338</td>\n",
       "      <td>25194</td>\n",
       "      <td>13979</td>\n",
       "      <td>27447</td>\n",
       "      <td>12942</td>\n",
       "      <td>19204</td>\n",
       "      <td>28955</td>\n",
       "      <td>7377</td>\n",
       "      <td>...</td>\n",
       "      <td>34759</td>\n",
       "      <td>25186</td>\n",
       "      <td>39609</td>\n",
       "      <td>27761</td>\n",
       "      <td>37209</td>\n",
       "      <td>41526</td>\n",
       "      <td>8007</td>\n",
       "      <td>21114</td>\n",
       "      <td>2592</td>\n",
       "      <td>4986</td>\n",
       "    </tr>\n",
       "    <tr>\n",
       "      <th>4</th>\n",
       "      <td>26086</td>\n",
       "      <td>31432</td>\n",
       "      <td>34338</td>\n",
       "      <td>25194</td>\n",
       "      <td>13979</td>\n",
       "      <td>27447</td>\n",
       "      <td>12942</td>\n",
       "      <td>19204</td>\n",
       "      <td>28955</td>\n",
       "      <td>7377</td>\n",
       "      <td>...</td>\n",
       "      <td>34759</td>\n",
       "      <td>25186</td>\n",
       "      <td>39609</td>\n",
       "      <td>27761</td>\n",
       "      <td>37209</td>\n",
       "      <td>41526</td>\n",
       "      <td>8007</td>\n",
       "      <td>21114</td>\n",
       "      <td>2592</td>\n",
       "      <td>4986</td>\n",
       "    </tr>\n",
       "    <tr>\n",
       "      <th>...</th>\n",
       "      <td>...</td>\n",
       "      <td>...</td>\n",
       "      <td>...</td>\n",
       "      <td>...</td>\n",
       "      <td>...</td>\n",
       "      <td>...</td>\n",
       "      <td>...</td>\n",
       "      <td>...</td>\n",
       "      <td>...</td>\n",
       "      <td>...</td>\n",
       "      <td>...</td>\n",
       "      <td>...</td>\n",
       "      <td>...</td>\n",
       "      <td>...</td>\n",
       "      <td>...</td>\n",
       "      <td>...</td>\n",
       "      <td>...</td>\n",
       "      <td>...</td>\n",
       "      <td>...</td>\n",
       "      <td>...</td>\n",
       "      <td>...</td>\n",
       "    </tr>\n",
       "    <tr>\n",
       "      <th>7754</th>\n",
       "      <td>19505</td>\n",
       "      <td>34338</td>\n",
       "      <td>31432</td>\n",
       "      <td>25194</td>\n",
       "      <td>19204</td>\n",
       "      <td>13979</td>\n",
       "      <td>27447</td>\n",
       "      <td>7377</td>\n",
       "      <td>4191</td>\n",
       "      <td>28955</td>\n",
       "      <td>...</td>\n",
       "      <td>39475</td>\n",
       "      <td>23867</td>\n",
       "      <td>41526</td>\n",
       "      <td>21000</td>\n",
       "      <td>32842</td>\n",
       "      <td>37752</td>\n",
       "      <td>35006</td>\n",
       "      <td>31128</td>\n",
       "      <td>24947</td>\n",
       "      <td>16039</td>\n",
       "    </tr>\n",
       "    <tr>\n",
       "      <th>7755</th>\n",
       "      <td>20370</td>\n",
       "      <td>34338</td>\n",
       "      <td>31432</td>\n",
       "      <td>25194</td>\n",
       "      <td>7377</td>\n",
       "      <td>19204</td>\n",
       "      <td>12942</td>\n",
       "      <td>13979</td>\n",
       "      <td>27447</td>\n",
       "      <td>706</td>\n",
       "      <td>...</td>\n",
       "      <td>12819</td>\n",
       "      <td>14084</td>\n",
       "      <td>17807</td>\n",
       "      <td>16039</td>\n",
       "      <td>37718</td>\n",
       "      <td>36413</td>\n",
       "      <td>26324</td>\n",
       "      <td>1363</td>\n",
       "      <td>7977</td>\n",
       "      <td>38939</td>\n",
       "    </tr>\n",
       "    <tr>\n",
       "      <th>7756</th>\n",
       "      <td>20370</td>\n",
       "      <td>34338</td>\n",
       "      <td>31432</td>\n",
       "      <td>25194</td>\n",
       "      <td>7377</td>\n",
       "      <td>19204</td>\n",
       "      <td>12942</td>\n",
       "      <td>13979</td>\n",
       "      <td>27447</td>\n",
       "      <td>706</td>\n",
       "      <td>...</td>\n",
       "      <td>12819</td>\n",
       "      <td>14084</td>\n",
       "      <td>17807</td>\n",
       "      <td>16039</td>\n",
       "      <td>37718</td>\n",
       "      <td>36413</td>\n",
       "      <td>26324</td>\n",
       "      <td>1363</td>\n",
       "      <td>7977</td>\n",
       "      <td>38939</td>\n",
       "    </tr>\n",
       "    <tr>\n",
       "      <th>7757</th>\n",
       "      <td>7148</td>\n",
       "      <td>34338</td>\n",
       "      <td>31432</td>\n",
       "      <td>19204</td>\n",
       "      <td>25194</td>\n",
       "      <td>13979</td>\n",
       "      <td>27447</td>\n",
       "      <td>7377</td>\n",
       "      <td>16926</td>\n",
       "      <td>12942</td>\n",
       "      <td>...</td>\n",
       "      <td>24332</td>\n",
       "      <td>33642</td>\n",
       "      <td>17807</td>\n",
       "      <td>33299</td>\n",
       "      <td>15430</td>\n",
       "      <td>2278</td>\n",
       "      <td>29197</td>\n",
       "      <td>21506</td>\n",
       "      <td>33837</td>\n",
       "      <td>15774</td>\n",
       "    </tr>\n",
       "    <tr>\n",
       "      <th>7758</th>\n",
       "      <td>7148</td>\n",
       "      <td>34338</td>\n",
       "      <td>31432</td>\n",
       "      <td>19204</td>\n",
       "      <td>25194</td>\n",
       "      <td>13979</td>\n",
       "      <td>27447</td>\n",
       "      <td>7377</td>\n",
       "      <td>16926</td>\n",
       "      <td>12942</td>\n",
       "      <td>...</td>\n",
       "      <td>24332</td>\n",
       "      <td>33642</td>\n",
       "      <td>17807</td>\n",
       "      <td>33299</td>\n",
       "      <td>15430</td>\n",
       "      <td>2278</td>\n",
       "      <td>29197</td>\n",
       "      <td>21506</td>\n",
       "      <td>33837</td>\n",
       "      <td>15774</td>\n",
       "    </tr>\n",
       "  </tbody>\n",
       "</table>\n",
       "<p>7759 rows × 101 columns</p>\n",
       "</div>"
      ],
      "text/plain": [
       "      itemset_id  item1  item2  item3  item4  item5  item6  item7  item8  \\\n",
       "0          22934  31432  34338  25194  19204  13979   7377  27447  12942   \n",
       "1          22934  31432  34338  25194  19204  13979   7377  27447  12942   \n",
       "2          22934  31432  34338  25194  19204  13979   7377  27447  12942   \n",
       "3          26086  31432  34338  25194  13979  27447  12942  19204  28955   \n",
       "4          26086  31432  34338  25194  13979  27447  12942  19204  28955   \n",
       "...          ...    ...    ...    ...    ...    ...    ...    ...    ...   \n",
       "7754       19505  34338  31432  25194  19204  13979  27447   7377   4191   \n",
       "7755       20370  34338  31432  25194   7377  19204  12942  13979  27447   \n",
       "7756       20370  34338  31432  25194   7377  19204  12942  13979  27447   \n",
       "7757        7148  34338  31432  19204  25194  13979  27447   7377  16926   \n",
       "7758        7148  34338  31432  19204  25194  13979  27447   7377  16926   \n",
       "\n",
       "      item9  ...  item91  item92  item93  item94  item95  item96  item97  \\\n",
       "0     34643  ...   27761   40884   33008   35072    2568   23968   33642   \n",
       "1     34643  ...   27761   40884   33008   35072    2568   23968   33642   \n",
       "2     34643  ...   27761   40884   33008   35072    2568   23968   33642   \n",
       "3      7377  ...   34759   25186   39609   27761   37209   41526    8007   \n",
       "4      7377  ...   34759   25186   39609   27761   37209   41526    8007   \n",
       "...     ...  ...     ...     ...     ...     ...     ...     ...     ...   \n",
       "7754  28955  ...   39475   23867   41526   21000   32842   37752   35006   \n",
       "7755    706  ...   12819   14084   17807   16039   37718   36413   26324   \n",
       "7756    706  ...   12819   14084   17807   16039   37718   36413   26324   \n",
       "7757  12942  ...   24332   33642   17807   33299   15430    2278   29197   \n",
       "7758  12942  ...   24332   33642   17807   33299   15430    2278   29197   \n",
       "\n",
       "      item98  item99  item100  \n",
       "0      35358   19802    16039  \n",
       "1      35358   19802    16039  \n",
       "2      35358   19802    16039  \n",
       "3      21114    2592     4986  \n",
       "4      21114    2592     4986  \n",
       "...      ...     ...      ...  \n",
       "7754   31128   24947    16039  \n",
       "7755    1363    7977    38939  \n",
       "7756    1363    7977    38939  \n",
       "7757   21506   33837    15774  \n",
       "7758   21506   33837    15774  \n",
       "\n",
       "[7759 rows x 101 columns]"
      ]
     },
     "execution_count": 102,
     "metadata": {},
     "output_type": "execute_result"
    }
   ],
   "source": [
    "new_df"
   ]
  },
  {
   "cell_type": "code",
   "execution_count": 103,
   "id": "8853f3bf-e17c-4af7-a52a-0b85aae5ee88",
   "metadata": {},
   "outputs": [],
   "source": [
    "new_df.to_csv('/home/nas4_user/hawonjeong/courses/ai506/DM_termproj/results/itemset_item_test_prediction.csv', index=False)"
   ]
  },
  {
   "cell_type": "code",
   "execution_count": null,
   "id": "be8280ac-c890-4b17-a573-65d3375557b9",
   "metadata": {},
   "outputs": [],
   "source": []
  }
 ],
 "metadata": {
  "kernelspec": {
   "display_name": "Python 3 (ipykernel)",
   "language": "python",
   "name": "python3"
  },
  "language_info": {
   "codemirror_mode": {
    "name": "ipython",
    "version": 3
   },
   "file_extension": ".py",
   "mimetype": "text/x-python",
   "name": "python",
   "nbconvert_exporter": "python",
   "pygments_lexer": "ipython3",
   "version": "3.10.4"
  }
 },
 "nbformat": 4,
 "nbformat_minor": 5
}
